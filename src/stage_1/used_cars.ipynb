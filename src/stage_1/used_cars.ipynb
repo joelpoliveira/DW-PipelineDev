{
 "cells": [
  {
   "cell_type": "code",
   "execution_count": 1,
   "id": "331d64b4-0a9a-48d1-b6cb-f39aa4273deb",
   "metadata": {
    "tags": []
   },
   "outputs": [],
   "source": [
    "import pandas as pd\n",
    "import numpy as np\n",
    "import os\n",
    "import seaborn as sns\n",
    "import matplotlib.pyplot as plt\n",
    "#need to install this package\n",
    "from pyzipcode import ZipCodeDatabase\n",
    "from util.vehiclesModeler import *\n",
    "from util.location import *"
   ]
  },
  {
   "cell_type": "code",
   "execution_count": 2,
   "id": "60b30fa9-d4a1-42ef-b592-df9d9bbce993",
   "metadata": {
    "tags": []
   },
   "outputs": [],
   "source": [
    "OLD_PATH = \"./data/oldData/\"\n",
    "PROC_PATH = \"./data/processedData/\""
   ]
  },
  {
   "attachments": {},
   "cell_type": "markdown",
   "id": "14ce0f26-40f9-41ce-9675-c3cc4ed88bf0",
   "metadata": {
    "tags": []
   },
   "source": [
    "## Processing *used_car_sales.csv*"
   ]
  },
  {
   "cell_type": "code",
   "execution_count": 3,
   "id": "3dce88ec-b234-4e99-b8b2-0c9034617b1f",
   "metadata": {
    "tags": []
   },
   "outputs": [],
   "source": [
    "months = range(1,12+1)\n",
    "days = { \n",
    "    1: range(1, 31+1),\n",
    "    2:range(1, 28+1),\n",
    "    3:range(1, 31+1),\n",
    "    4:range(1, 30+1),\n",
    "    5:range(1, 31+1),\n",
    "    6:range(1, 30+1),\n",
    "    7:range(1, 31+1),\n",
    "    8:range(1, 31+1),\n",
    "    9:range(1, 30+1),\n",
    "    10:range(1, 31+1),\n",
    "    11:range(1, 30+1),\n",
    "    12:range(1, 31+1)\n",
    "}"
   ]
  },
  {
   "cell_type": "code",
   "execution_count": 4,
   "id": "d80dd4fd-c8ba-4966-9cf0-fdbc5cee71d0",
   "metadata": {
    "tags": []
   },
   "outputs": [],
   "source": [
    "from random import seed, choice\n",
    "seed(1)"
   ]
  },
  {
   "cell_type": "code",
   "execution_count": 5,
   "id": "cf3e8905-7f10-4f2c-8b65-b7efd1d448d6",
   "metadata": {
    "tags": []
   },
   "outputs": [],
   "source": [
    "def get_date(df_year):\n",
    "    month = choice(months)\n",
    "    day = choice( days[month] )\n",
    "    \n",
    "    return pd.to_datetime(f\"{day}-{month}-{df_year}\", format=\"%d-%m-%Y\")"
   ]
  },
  {
   "cell_type": "code",
   "execution_count": 6,
   "id": "b23d8c9f-611f-4dff-b090-06b080f11f79",
   "metadata": {
    "tags": []
   },
   "outputs": [
    {
     "data": {
      "text/html": [
       "<div>\n",
       "<style scoped>\n",
       "    .dataframe tbody tr th:only-of-type {\n",
       "        vertical-align: middle;\n",
       "    }\n",
       "\n",
       "    .dataframe tbody tr th {\n",
       "        vertical-align: top;\n",
       "    }\n",
       "\n",
       "    .dataframe thead th {\n",
       "        text-align: right;\n",
       "    }\n",
       "</style>\n",
       "<table border=\"1\" class=\"dataframe\">\n",
       "  <thead>\n",
       "    <tr style=\"text-align: right;\">\n",
       "      <th></th>\n",
       "      <th>ID</th>\n",
       "      <th>pricesold</th>\n",
       "      <th>yearsold</th>\n",
       "      <th>zipcode</th>\n",
       "      <th>Mileage</th>\n",
       "      <th>Make</th>\n",
       "      <th>Model</th>\n",
       "      <th>Year</th>\n",
       "      <th>Trim</th>\n",
       "      <th>Engine</th>\n",
       "      <th>BodyType</th>\n",
       "      <th>NumCylinders</th>\n",
       "      <th>DriveType</th>\n",
       "      <th>datesold</th>\n",
       "    </tr>\n",
       "  </thead>\n",
       "  <tbody>\n",
       "    <tr>\n",
       "      <th>0</th>\n",
       "      <td>137178</td>\n",
       "      <td>7500</td>\n",
       "      <td>2020</td>\n",
       "      <td>786**</td>\n",
       "      <td>84430</td>\n",
       "      <td>Ford</td>\n",
       "      <td>Mustang</td>\n",
       "      <td>1988</td>\n",
       "      <td>LX</td>\n",
       "      <td>5.0L Gas V8</td>\n",
       "      <td>Sedan</td>\n",
       "      <td>0</td>\n",
       "      <td>RWD</td>\n",
       "      <td>2020-11-23</td>\n",
       "    </tr>\n",
       "    <tr>\n",
       "      <th>1</th>\n",
       "      <td>96705</td>\n",
       "      <td>15000</td>\n",
       "      <td>2019</td>\n",
       "      <td>81006</td>\n",
       "      <td>0</td>\n",
       "      <td>Replica/Kit Makes</td>\n",
       "      <td>Jaguar Beck Lister</td>\n",
       "      <td>1958</td>\n",
       "      <td>NaN</td>\n",
       "      <td>383 Fuel injected</td>\n",
       "      <td>Convertible</td>\n",
       "      <td>8</td>\n",
       "      <td>RWD</td>\n",
       "      <td>2019-09-30</td>\n",
       "    </tr>\n",
       "    <tr>\n",
       "      <th>2</th>\n",
       "      <td>119660</td>\n",
       "      <td>8750</td>\n",
       "      <td>2020</td>\n",
       "      <td>33449</td>\n",
       "      <td>55000</td>\n",
       "      <td>Jaguar</td>\n",
       "      <td>XJS</td>\n",
       "      <td>1995</td>\n",
       "      <td>2+2 Cabriolet</td>\n",
       "      <td>4.0L In-Line 6 Cylinder</td>\n",
       "      <td>Convertible</td>\n",
       "      <td>6</td>\n",
       "      <td>RWD</td>\n",
       "      <td>2020-12-23</td>\n",
       "    </tr>\n",
       "    <tr>\n",
       "      <th>3</th>\n",
       "      <td>80773</td>\n",
       "      <td>11600</td>\n",
       "      <td>2019</td>\n",
       "      <td>07852</td>\n",
       "      <td>97200</td>\n",
       "      <td>Ford</td>\n",
       "      <td>Mustang</td>\n",
       "      <td>1968</td>\n",
       "      <td>Stock</td>\n",
       "      <td>289 cu. in. V8</td>\n",
       "      <td>Coupe</td>\n",
       "      <td>8</td>\n",
       "      <td>RWD</td>\n",
       "      <td>2019-06-30</td>\n",
       "    </tr>\n",
       "    <tr>\n",
       "      <th>4</th>\n",
       "      <td>64287</td>\n",
       "      <td>44000</td>\n",
       "      <td>2019</td>\n",
       "      <td>07728</td>\n",
       "      <td>40703</td>\n",
       "      <td>Porsche</td>\n",
       "      <td>911</td>\n",
       "      <td>2002</td>\n",
       "      <td>Turbo X-50</td>\n",
       "      <td>3.6L</td>\n",
       "      <td>Coupe</td>\n",
       "      <td>6</td>\n",
       "      <td>AWD</td>\n",
       "      <td>2019-09-25</td>\n",
       "    </tr>\n",
       "  </tbody>\n",
       "</table>\n",
       "</div>"
      ],
      "text/plain": [
       "       ID  pricesold  yearsold zipcode  Mileage               Make  \\\n",
       "0  137178       7500      2020   786**    84430               Ford   \n",
       "1   96705      15000      2019   81006        0  Replica/Kit Makes   \n",
       "2  119660       8750      2020   33449    55000             Jaguar   \n",
       "3   80773      11600      2019   07852    97200               Ford   \n",
       "4   64287      44000      2019   07728    40703            Porsche   \n",
       "\n",
       "                Model  Year           Trim                   Engine  \\\n",
       "0             Mustang  1988             LX              5.0L Gas V8   \n",
       "1  Jaguar Beck Lister  1958            NaN        383 Fuel injected   \n",
       "2                 XJS  1995  2+2 Cabriolet  4.0L In-Line 6 Cylinder   \n",
       "3             Mustang  1968          Stock           289 cu. in. V8   \n",
       "4                 911  2002     Turbo X-50                     3.6L   \n",
       "\n",
       "      BodyType  NumCylinders DriveType    datesold  \n",
       "0        Sedan             0       RWD  2020-11-23  \n",
       "1  Convertible             8       RWD  2019-09-30  \n",
       "2  Convertible             6       RWD  2020-12-23  \n",
       "3        Coupe             8       RWD  2019-06-30  \n",
       "4        Coupe             6       AWD  2019-09-25  "
      ]
     },
     "execution_count": 6,
     "metadata": {},
     "output_type": "execute_result"
    }
   ],
   "source": [
    "df_used_cars = pd.read_csv(f\"{OLD_PATH}/used_car_sales.csv\")\n",
    "df_used_cars.head()"
   ]
  },
  {
   "cell_type": "code",
   "execution_count": 7,
   "id": "760e85ef-80cb-464b-b3ac-1c31a98dffa6",
   "metadata": {
    "tags": []
   },
   "outputs": [
    {
     "data": {
      "text/plain": [
       "0   2020-03-19\n",
       "1   2019-02-09\n",
       "2   2020-02-16\n",
       "3   2019-08-16\n",
       "4   2019-11-13\n",
       "Name: datesold, dtype: datetime64[ns]"
      ]
     },
     "execution_count": 7,
     "metadata": {},
     "output_type": "execute_result"
    }
   ],
   "source": [
    "df_used_cars[\"datesold\"] = df_used_cars.yearsold.apply(get_date)\n",
    "df_used_cars[\"datesold\"].head()"
   ]
  },
  {
   "cell_type": "code",
   "execution_count": 9,
   "id": "913ab9e9",
   "metadata": {},
   "outputs": [],
   "source": [
    "df_used_cars = df_used_cars[df_used_cars[\"Year\"]>1900]"
   ]
  },
  {
   "cell_type": "code",
   "execution_count": 12,
   "id": "cf4cd3e1",
   "metadata": {},
   "outputs": [],
   "source": [
    "df_used_cars = df_used_cars[df_used_cars[\"pricesold\"]>0]"
   ]
  },
  {
   "cell_type": "code",
   "execution_count": 8,
   "id": "2aeae0d9-1070-4561-be58-dfe00f2111de",
   "metadata": {
    "tags": []
   },
   "outputs": [
    {
     "data": {
      "text/html": [
       "<div>\n",
       "<style scoped>\n",
       "    .dataframe tbody tr th:only-of-type {\n",
       "        vertical-align: middle;\n",
       "    }\n",
       "\n",
       "    .dataframe tbody tr th {\n",
       "        vertical-align: top;\n",
       "    }\n",
       "\n",
       "    .dataframe thead th {\n",
       "        text-align: right;\n",
       "    }\n",
       "</style>\n",
       "<table border=\"1\" class=\"dataframe\">\n",
       "  <thead>\n",
       "    <tr style=\"text-align: right;\">\n",
       "      <th></th>\n",
       "      <th>ID</th>\n",
       "      <th>pricesold</th>\n",
       "      <th>yearsold</th>\n",
       "      <th>zipcode</th>\n",
       "      <th>Mileage</th>\n",
       "      <th>Make</th>\n",
       "      <th>Model</th>\n",
       "      <th>Year</th>\n",
       "      <th>Trim</th>\n",
       "      <th>Engine</th>\n",
       "      <th>BodyType</th>\n",
       "      <th>NumCylinders</th>\n",
       "      <th>DriveType</th>\n",
       "      <th>datesold</th>\n",
       "    </tr>\n",
       "  </thead>\n",
       "  <tbody>\n",
       "    <tr>\n",
       "      <th>count</th>\n",
       "      <td>122144.000000</td>\n",
       "      <td>122144.000000</td>\n",
       "      <td>122144.000000</td>\n",
       "      <td>121235</td>\n",
       "      <td>1.221440e+05</td>\n",
       "      <td>122144</td>\n",
       "      <td>121571</td>\n",
       "      <td>1.221440e+05</td>\n",
       "      <td>73220</td>\n",
       "      <td>95046</td>\n",
       "      <td>101358</td>\n",
       "      <td>1.221440e+05</td>\n",
       "      <td>97293</td>\n",
       "      <td>122144</td>\n",
       "    </tr>\n",
       "    <tr>\n",
       "      <th>unique</th>\n",
       "      <td>NaN</td>\n",
       "      <td>NaN</td>\n",
       "      <td>NaN</td>\n",
       "      <td>15482</td>\n",
       "      <td>NaN</td>\n",
       "      <td>464</td>\n",
       "      <td>4289</td>\n",
       "      <td>NaN</td>\n",
       "      <td>24981</td>\n",
       "      <td>22399</td>\n",
       "      <td>2329</td>\n",
       "      <td>NaN</td>\n",
       "      <td>2814</td>\n",
       "      <td>NaN</td>\n",
       "    </tr>\n",
       "    <tr>\n",
       "      <th>top</th>\n",
       "      <td>NaN</td>\n",
       "      <td>NaN</td>\n",
       "      <td>NaN</td>\n",
       "      <td>92868</td>\n",
       "      <td>NaN</td>\n",
       "      <td>Ford</td>\n",
       "      <td>Mustang</td>\n",
       "      <td>NaN</td>\n",
       "      <td>XLT</td>\n",
       "      <td>350</td>\n",
       "      <td>Sedan</td>\n",
       "      <td>NaN</td>\n",
       "      <td>RWD</td>\n",
       "      <td>NaN</td>\n",
       "    </tr>\n",
       "    <tr>\n",
       "      <th>freq</th>\n",
       "      <td>NaN</td>\n",
       "      <td>NaN</td>\n",
       "      <td>NaN</td>\n",
       "      <td>3663</td>\n",
       "      <td>NaN</td>\n",
       "      <td>22027</td>\n",
       "      <td>4478</td>\n",
       "      <td>NaN</td>\n",
       "      <td>1477</td>\n",
       "      <td>2085</td>\n",
       "      <td>18216</td>\n",
       "      <td>NaN</td>\n",
       "      <td>42207</td>\n",
       "      <td>NaN</td>\n",
       "    </tr>\n",
       "    <tr>\n",
       "      <th>mean</th>\n",
       "      <td>85094.212397</td>\n",
       "      <td>10808.560715</td>\n",
       "      <td>2019.375467</td>\n",
       "      <td>NaN</td>\n",
       "      <td>1.404291e+06</td>\n",
       "      <td>NaN</td>\n",
       "      <td>NaN</td>\n",
       "      <td>3.959362e+03</td>\n",
       "      <td>NaN</td>\n",
       "      <td>NaN</td>\n",
       "      <td>NaN</td>\n",
       "      <td>1.758655e+04</td>\n",
       "      <td>NaN</td>\n",
       "      <td>2019-11-15 08:51:10.186009856</td>\n",
       "    </tr>\n",
       "    <tr>\n",
       "      <th>min</th>\n",
       "      <td>1.000000</td>\n",
       "      <td>0.000000</td>\n",
       "      <td>2018.000000</td>\n",
       "      <td>NaN</td>\n",
       "      <td>0.000000e+00</td>\n",
       "      <td>NaN</td>\n",
       "      <td>NaN</td>\n",
       "      <td>0.000000e+00</td>\n",
       "      <td>NaN</td>\n",
       "      <td>NaN</td>\n",
       "      <td>NaN</td>\n",
       "      <td>0.000000e+00</td>\n",
       "      <td>NaN</td>\n",
       "      <td>2018-01-01 00:00:00</td>\n",
       "    </tr>\n",
       "    <tr>\n",
       "      <th>25%</th>\n",
       "      <td>44547.250000</td>\n",
       "      <td>2950.000000</td>\n",
       "      <td>2019.000000</td>\n",
       "      <td>NaN</td>\n",
       "      <td>4.479225e+04</td>\n",
       "      <td>NaN</td>\n",
       "      <td>NaN</td>\n",
       "      <td>1.977000e+03</td>\n",
       "      <td>NaN</td>\n",
       "      <td>NaN</td>\n",
       "      <td>NaN</td>\n",
       "      <td>4.000000e+00</td>\n",
       "      <td>NaN</td>\n",
       "      <td>2019-05-25 00:00:00</td>\n",
       "    </tr>\n",
       "    <tr>\n",
       "      <th>50%</th>\n",
       "      <td>85555.500000</td>\n",
       "      <td>6500.000000</td>\n",
       "      <td>2019.000000</td>\n",
       "      <td>NaN</td>\n",
       "      <td>9.000000e+04</td>\n",
       "      <td>NaN</td>\n",
       "      <td>NaN</td>\n",
       "      <td>2.000000e+03</td>\n",
       "      <td>NaN</td>\n",
       "      <td>NaN</td>\n",
       "      <td>NaN</td>\n",
       "      <td>6.000000e+00</td>\n",
       "      <td>NaN</td>\n",
       "      <td>2019-10-23 00:00:00</td>\n",
       "    </tr>\n",
       "    <tr>\n",
       "      <th>75%</th>\n",
       "      <td>127078.500000</td>\n",
       "      <td>13800.000000</td>\n",
       "      <td>2020.000000</td>\n",
       "      <td>NaN</td>\n",
       "      <td>1.402000e+05</td>\n",
       "      <td>NaN</td>\n",
       "      <td>NaN</td>\n",
       "      <td>2.008000e+03</td>\n",
       "      <td>NaN</td>\n",
       "      <td>NaN</td>\n",
       "      <td>NaN</td>\n",
       "      <td>8.000000e+00</td>\n",
       "      <td>NaN</td>\n",
       "      <td>2020-05-05 00:00:00</td>\n",
       "    </tr>\n",
       "    <tr>\n",
       "      <th>max</th>\n",
       "      <td>165801.000000</td>\n",
       "      <td>404990.000000</td>\n",
       "      <td>2020.000000</td>\n",
       "      <td>NaN</td>\n",
       "      <td>1.235669e+09</td>\n",
       "      <td>NaN</td>\n",
       "      <td>NaN</td>\n",
       "      <td>2.014000e+07</td>\n",
       "      <td>NaN</td>\n",
       "      <td>NaN</td>\n",
       "      <td>NaN</td>\n",
       "      <td>2.147484e+09</td>\n",
       "      <td>NaN</td>\n",
       "      <td>2020-12-31 00:00:00</td>\n",
       "    </tr>\n",
       "    <tr>\n",
       "      <th>std</th>\n",
       "      <td>47786.970812</td>\n",
       "      <td>13987.295760</td>\n",
       "      <td>0.503671</td>\n",
       "      <td>NaN</td>\n",
       "      <td>3.335593e+07</td>\n",
       "      <td>NaN</td>\n",
       "      <td>NaN</td>\n",
       "      <td>1.984514e+05</td>\n",
       "      <td>NaN</td>\n",
       "      <td>NaN</td>\n",
       "      <td>NaN</td>\n",
       "      <td>6.144603e+06</td>\n",
       "      <td>NaN</td>\n",
       "      <td>NaN</td>\n",
       "    </tr>\n",
       "  </tbody>\n",
       "</table>\n",
       "</div>"
      ],
      "text/plain": [
       "                   ID      pricesold       yearsold zipcode       Mileage  \\\n",
       "count   122144.000000  122144.000000  122144.000000  121235  1.221440e+05   \n",
       "unique            NaN            NaN            NaN   15482           NaN   \n",
       "top               NaN            NaN            NaN   92868           NaN   \n",
       "freq              NaN            NaN            NaN    3663           NaN   \n",
       "mean     85094.212397   10808.560715    2019.375467     NaN  1.404291e+06   \n",
       "min          1.000000       0.000000    2018.000000     NaN  0.000000e+00   \n",
       "25%      44547.250000    2950.000000    2019.000000     NaN  4.479225e+04   \n",
       "50%      85555.500000    6500.000000    2019.000000     NaN  9.000000e+04   \n",
       "75%     127078.500000   13800.000000    2020.000000     NaN  1.402000e+05   \n",
       "max     165801.000000  404990.000000    2020.000000     NaN  1.235669e+09   \n",
       "std      47786.970812   13987.295760       0.503671     NaN  3.335593e+07   \n",
       "\n",
       "          Make    Model          Year   Trim Engine BodyType  NumCylinders  \\\n",
       "count   122144   121571  1.221440e+05  73220  95046   101358  1.221440e+05   \n",
       "unique     464     4289           NaN  24981  22399     2329           NaN   \n",
       "top       Ford  Mustang           NaN    XLT    350    Sedan           NaN   \n",
       "freq     22027     4478           NaN   1477   2085    18216           NaN   \n",
       "mean       NaN      NaN  3.959362e+03    NaN    NaN      NaN  1.758655e+04   \n",
       "min        NaN      NaN  0.000000e+00    NaN    NaN      NaN  0.000000e+00   \n",
       "25%        NaN      NaN  1.977000e+03    NaN    NaN      NaN  4.000000e+00   \n",
       "50%        NaN      NaN  2.000000e+03    NaN    NaN      NaN  6.000000e+00   \n",
       "75%        NaN      NaN  2.008000e+03    NaN    NaN      NaN  8.000000e+00   \n",
       "max        NaN      NaN  2.014000e+07    NaN    NaN      NaN  2.147484e+09   \n",
       "std        NaN      NaN  1.984514e+05    NaN    NaN      NaN  6.144603e+06   \n",
       "\n",
       "       DriveType                       datesold  \n",
       "count      97293                         122144  \n",
       "unique      2814                            NaN  \n",
       "top          RWD                            NaN  \n",
       "freq       42207                            NaN  \n",
       "mean         NaN  2019-11-15 08:51:10.186009856  \n",
       "min          NaN            2018-01-01 00:00:00  \n",
       "25%          NaN            2019-05-25 00:00:00  \n",
       "50%          NaN            2019-10-23 00:00:00  \n",
       "75%          NaN            2020-05-05 00:00:00  \n",
       "max          NaN            2020-12-31 00:00:00  \n",
       "std          NaN                            NaN  "
      ]
     },
     "execution_count": 8,
     "metadata": {},
     "output_type": "execute_result"
    }
   ],
   "source": [
    "df_used_cars.describe(include=\"all\", datetime_is_numeric=True)"
   ]
  },
  {
   "cell_type": "code",
   "execution_count": 9,
   "id": "f7854acb-35af-45c7-98d0-37a207c36f2f",
   "metadata": {
    "tags": []
   },
   "outputs": [
    {
     "data": {
      "text/plain": [
       "zipcode        909\n",
       "Model          573\n",
       "Trim         48924\n",
       "Engine       27098\n",
       "BodyType     20786\n",
       "DriveType    24851\n",
       "dtype: int64"
      ]
     },
     "execution_count": 9,
     "metadata": {},
     "output_type": "execute_result"
    }
   ],
   "source": [
    "df_used_cars.isna().sum()[df_used_cars.isna().sum()>0]"
   ]
  },
  {
   "cell_type": "code",
   "execution_count": 13,
   "id": "d1333d46-d171-4154-86f3-382c1cb96c19",
   "metadata": {
    "tags": []
   },
   "outputs": [
    {
     "data": {
      "text/plain": [
       "zipcode      0.007439\n",
       "Model        0.004637\n",
       "Trim         0.400364\n",
       "Engine       0.221689\n",
       "BodyType     0.169958\n",
       "DriveType    0.203287\n",
       "dtype: float64"
      ]
     },
     "execution_count": 13,
     "metadata": {},
     "output_type": "execute_result"
    }
   ],
   "source": [
    "df_used_cars.isna().sum()[df_used_cars.isna().sum()>0]/df_used_cars.shape[0]"
   ]
  },
  {
   "attachments": {},
   "cell_type": "markdown",
   "id": "086b9942-f3bb-4eb6-9013-49c337441cf3",
   "metadata": {},
   "source": [
    "Most of the columns with missing data are *Trim*, *Engine* and *BodyType* <br>\n",
    "*Trim* has a high percentage of null values"
   ]
  },
  {
   "cell_type": "code",
   "execution_count": 14,
   "id": "31d59e0c-6d34-48cc-bf40-eb447150e81a",
   "metadata": {
    "tags": []
   },
   "outputs": [
    {
     "data": {
      "text/plain": [
       "48821.600000000006"
      ]
     },
     "execution_count": 14,
     "metadata": {},
     "output_type": "execute_result"
    }
   ],
   "source": [
    "len(df_used_cars) * 0.4"
   ]
  },
  {
   "cell_type": "code",
   "execution_count": 15,
   "id": "35c99e19-883f-45a8-be55-22f905a101e6",
   "metadata": {
    "tags": []
   },
   "outputs": [
    {
     "data": {
      "text/plain": [
       "122054"
      ]
     },
     "execution_count": 15,
     "metadata": {},
     "output_type": "execute_result"
    }
   ],
   "source": [
    "len(df_used_cars)"
   ]
  },
  {
   "cell_type": "code",
   "execution_count": 16,
   "id": "f4e79058-a25f-43a7-8b15-641d1e10b029",
   "metadata": {
    "tags": []
   },
   "outputs": [
    {
     "data": {
      "text/html": [
       "<div>\n",
       "<style scoped>\n",
       "    .dataframe tbody tr th:only-of-type {\n",
       "        vertical-align: middle;\n",
       "    }\n",
       "\n",
       "    .dataframe tbody tr th {\n",
       "        vertical-align: top;\n",
       "    }\n",
       "\n",
       "    .dataframe thead th {\n",
       "        text-align: right;\n",
       "    }\n",
       "</style>\n",
       "<table border=\"1\" class=\"dataframe\">\n",
       "  <thead>\n",
       "    <tr style=\"text-align: right;\">\n",
       "      <th></th>\n",
       "      <th>ID</th>\n",
       "      <th>pricesold</th>\n",
       "      <th>yearsold</th>\n",
       "      <th>zipcode</th>\n",
       "      <th>Mileage</th>\n",
       "      <th>Make</th>\n",
       "      <th>Model</th>\n",
       "      <th>Year</th>\n",
       "      <th>Trim</th>\n",
       "      <th>Engine</th>\n",
       "      <th>BodyType</th>\n",
       "      <th>NumCylinders</th>\n",
       "      <th>DriveType</th>\n",
       "      <th>datesold</th>\n",
       "    </tr>\n",
       "  </thead>\n",
       "  <tbody>\n",
       "  </tbody>\n",
       "</table>\n",
       "</div>"
      ],
      "text/plain": [
       "Empty DataFrame\n",
       "Columns: [ID, pricesold, yearsold, zipcode, Mileage, Make, Model, Year, Trim, Engine, BodyType, NumCylinders, DriveType, datesold]\n",
       "Index: []"
      ]
     },
     "execution_count": 16,
     "metadata": {},
     "output_type": "execute_result"
    }
   ],
   "source": [
    "df_used_cars[df_used_cars.duplicated()]"
   ]
  },
  {
   "attachments": {},
   "cell_type": "markdown",
   "id": "b8bf566f-2174-4d2c-9f2d-0d8d06a954ab",
   "metadata": {},
   "source": [
    "There are no duplicated rows"
   ]
  },
  {
   "cell_type": "code",
   "execution_count": 14,
   "id": "b6ab63c4-8f4f-467a-97d3-4b73c5fc8246",
   "metadata": {
    "tags": []
   },
   "outputs": [
    {
     "name": "stdout",
     "output_type": "stream",
     "text": [
      "<class 'pandas.core.frame.DataFrame'>\n",
      "RangeIndex: 122144 entries, 0 to 122143\n",
      "Data columns (total 14 columns):\n",
      " #   Column        Non-Null Count   Dtype         \n",
      "---  ------        --------------   -----         \n",
      " 0   ID            122144 non-null  int64         \n",
      " 1   pricesold     122144 non-null  int64         \n",
      " 2   yearsold      122144 non-null  int64         \n",
      " 3   zipcode       121235 non-null  object        \n",
      " 4   Mileage       122144 non-null  int64         \n",
      " 5   Make          122144 non-null  object        \n",
      " 6   Model         121571 non-null  object        \n",
      " 7   Year          122144 non-null  int64         \n",
      " 8   Trim          73220 non-null   object        \n",
      " 9   Engine        95046 non-null   object        \n",
      " 10  BodyType      101358 non-null  object        \n",
      " 11  NumCylinders  122144 non-null  int64         \n",
      " 12  DriveType     97293 non-null   object        \n",
      " 13  datesold      122144 non-null  datetime64[ns]\n",
      "dtypes: datetime64[ns](1), int64(6), object(7)\n",
      "memory usage: 13.0+ MB\n"
     ]
    }
   ],
   "source": [
    "df_used_cars.info()"
   ]
  },
  {
   "cell_type": "code",
   "execution_count": 15,
   "id": "b0837161-230e-4de8-9974-cb0aae92e2b1",
   "metadata": {
    "tags": []
   },
   "outputs": [
    {
     "data": {
      "image/png": "[encoded data removed]",
      "text/plain": [
       "<Figure size 1500x1200 with 9 Axes>"
      ]
     },
     "metadata": {},
     "output_type": "display_data"
    }
   ],
   "source": [
    "df_used_cars.hist(figsize=(15,12));"
   ]
  },
  {
   "cell_type": "code",
   "execution_count": 9,
   "id": "38946e74-fcfd-40c9-bf49-2b52c5fbe678",
   "metadata": {
    "tags": []
   },
   "outputs": [
    {
     "data": {
      "text/plain": [
       "<Axes: xlabel='Model Year', ylabel='Number of Ocurrences'>"
      ]
     },
     "execution_count": 9,
     "metadata": {},
     "output_type": "execute_result"
    },
    {
     "data": {
      "image/png": "[encoded data removed]",
      "text/plain": [
       "<Figure size 640x480 with 1 Axes>"
      ]
     },
     "metadata": {},
     "output_type": "display_data"
    }
   ],
   "source": [
    "f = plt.figure()\n",
    "df_used_cars.Year.value_counts().nlargest(40).plot(kind=\"bar\", figure=f, xlabel=\"Model Year\", ylabel=\"Number of Ocurrences\")"
   ]
  },
  {
   "cell_type": "code",
   "execution_count": 10,
   "id": "20368bc7-4f76-49c5-b36c-016b4305fa6a",
   "metadata": {
    "tags": []
   },
   "outputs": [],
   "source": [
    "f.savefig(\"year-bar.png\")"
   ]
  },
  {
   "attachments": {},
   "cell_type": "markdown",
   "id": "412f194f-0737-4502-bf47-4e33e151a81f",
   "metadata": {},
   "source": [
    "In this dataset of used cars, the cars that were most sold are not the most recent, nor the most old. <br>\n",
    "Probably the ones that are cheapest and have some economic features."
   ]
  },
  {
   "cell_type": "code",
   "execution_count": 17,
   "id": "1532626f-c69d-4e81-bfbc-eec7e3272c28",
   "metadata": {
    "tags": []
   },
   "outputs": [
    {
     "data": {
      "image/png": "[encoded data removed]",
      "text/plain": [
       "<Figure size 1600x400 with 1 Axes>"
      ]
     },
     "metadata": {},
     "output_type": "display_data"
    }
   ],
   "source": [
    "f, ax = plt.subplots(1,1,figsize=(16,4))\n",
    "sns.boxplot(df_used_cars, x=\"Year\", y=\"Mileage\", ax=ax)\n",
    "ax.set_xticklabels(ax.get_xticklabels(), rotation=60);\n",
    "f.tight_layout()"
   ]
  },
  {
   "cell_type": "code",
   "execution_count": 17,
   "id": "973e6f62-fd36-42ce-a8ff-6b4968ee0e48",
   "metadata": {
    "tags": []
   },
   "outputs": [
    {
     "data": {
      "text/plain": [
       "10121     20130000\n",
       "10122     20140000\n",
       "19485     20140000\n",
       "45307     19720000\n",
       "80343     19940000\n",
       "80793     19950000\n",
       "80794     20120000\n",
       "91326     20060000\n",
       "91327     20120000\n",
       "91691     19930000\n",
       "117571    20050000\n",
       "121621    19990000\n",
       "Name: Year, dtype: int64"
      ]
     },
     "execution_count": 17,
     "metadata": {},
     "output_type": "execute_result"
    }
   ],
   "source": [
    "df_used_cars.Year[df_used_cars.Year>9999]"
   ]
  },
  {
   "attachments": {},
   "cell_type": "markdown",
   "id": "d6bc55e2-1d33-4e3a-93aa-60dad9e3cde0",
   "metadata": {},
   "source": [
    "There are car years that are wrongly with 4 padded 0's that need to be removed"
   ]
  },
  {
   "cell_type": "code",
   "execution_count": 18,
   "id": "504dad43-5e3a-421a-b9cb-a2679980b3f3",
   "metadata": {
    "tags": []
   },
   "outputs": [],
   "source": [
    "df_used_cars.Year = df_used_cars.Year.apply(lambda x: x if x < 9999 else x/10000)"
   ]
  },
  {
   "cell_type": "code",
   "execution_count": 19,
   "id": "c08aecd0-7e6e-4a40-bd31-5eb65aa2ff3e",
   "metadata": {
    "tags": []
   },
   "outputs": [
    {
     "data": {
      "text/plain": [
       "Series([], Name: Year, dtype: float64)"
      ]
     },
     "execution_count": 19,
     "metadata": {},
     "output_type": "execute_result"
    }
   ],
   "source": [
    "df_used_cars.Year[df_used_cars.Year>9999]"
   ]
  },
  {
   "attachments": {},
   "cell_type": "markdown",
   "id": "9bf27296-fe1d-4960-a7b2-e84348de2377",
   "metadata": {},
   "source": [
    "There is a car that is from the year '2914'"
   ]
  },
  {
   "cell_type": "code",
   "execution_count": 20,
   "id": "1434c1a7-8356-461d-8450-18d66d27dee5",
   "metadata": {
    "tags": []
   },
   "outputs": [
    {
     "data": {
      "text/html": [
       "<div>\n",
       "<style scoped>\n",
       "    .dataframe tbody tr th:only-of-type {\n",
       "        vertical-align: middle;\n",
       "    }\n",
       "\n",
       "    .dataframe tbody tr th {\n",
       "        vertical-align: top;\n",
       "    }\n",
       "\n",
       "    .dataframe thead th {\n",
       "        text-align: right;\n",
       "    }\n",
       "</style>\n",
       "<table border=\"1\" class=\"dataframe\">\n",
       "  <thead>\n",
       "    <tr style=\"text-align: right;\">\n",
       "      <th></th>\n",
       "      <th>ID</th>\n",
       "      <th>pricesold</th>\n",
       "      <th>yearsold</th>\n",
       "      <th>zipcode</th>\n",
       "      <th>Mileage</th>\n",
       "      <th>Make</th>\n",
       "      <th>Model</th>\n",
       "      <th>Year</th>\n",
       "      <th>Trim</th>\n",
       "      <th>Engine</th>\n",
       "      <th>BodyType</th>\n",
       "      <th>NumCylinders</th>\n",
       "      <th>DriveType</th>\n",
       "      <th>datesold</th>\n",
       "    </tr>\n",
       "  </thead>\n",
       "  <tbody>\n",
       "    <tr>\n",
       "      <th>101047</th>\n",
       "      <td>83251</td>\n",
       "      <td>12600</td>\n",
       "      <td>2019</td>\n",
       "      <td>11715</td>\n",
       "      <td>110307</td>\n",
       "      <td>Jeep</td>\n",
       "      <td>Grand Cherokee</td>\n",
       "      <td>2914.0</td>\n",
       "      <td>NaN</td>\n",
       "      <td>3.0 Eco Diesel</td>\n",
       "      <td>SUV</td>\n",
       "      <td>6</td>\n",
       "      <td>4WD</td>\n",
       "      <td>2019-01-18</td>\n",
       "    </tr>\n",
       "  </tbody>\n",
       "</table>\n",
       "</div>"
      ],
      "text/plain": [
       "           ID  pricesold  yearsold zipcode  Mileage  Make           Model  \\\n",
       "101047  83251      12600      2019   11715   110307  Jeep  Grand Cherokee   \n",
       "\n",
       "          Year Trim          Engine BodyType  NumCylinders DriveType  \\\n",
       "101047  2914.0  NaN  3.0 Eco Diesel      SUV             6       4WD   \n",
       "\n",
       "         datesold  \n",
       "101047 2019-01-18  "
      ]
     },
     "execution_count": 20,
     "metadata": {},
     "output_type": "execute_result"
    }
   ],
   "source": [
    "df_used_cars[df_used_cars.Year==2914]"
   ]
  },
  {
   "attachments": {},
   "cell_type": "markdown",
   "id": "5191d6eb-46f7-4c7d-a012-caf19addab6f",
   "metadata": {},
   "source": [
    "this element will be removed"
   ]
  },
  {
   "cell_type": "code",
   "execution_count": 21,
   "id": "7f8a5439-1993-42f7-8f65-48a75652959b",
   "metadata": {
    "tags": []
   },
   "outputs": [],
   "source": [
    "df_used_cars.drop(index=[101047], inplace=True)"
   ]
  },
  {
   "cell_type": "code",
   "execution_count": 22,
   "id": "dee26cc2-f867-40cc-b665-12d77cd684c8",
   "metadata": {
    "tags": []
   },
   "outputs": [
    {
     "data": {
      "image/png": "[encoded data removed]",
      "text/plain": [
       "<Figure size 1600x400 with 1 Axes>"
      ]
     },
     "metadata": {},
     "output_type": "display_data"
    }
   ],
   "source": [
    "f, ax = plt.subplots(1,1,figsize=(16,4))\n",
    "sns.boxplot(df_used_cars, x=\"Year\", y=\"Mileage\", ax=ax)\n",
    "ax.set_xticklabels(ax.get_xticklabels(), rotation=60);\n",
    "f.tight_layout()"
   ]
  },
  {
   "cell_type": "code",
   "execution_count": 24,
   "id": "7e357746-a982-4f8f-bda1-9a480cf0221d",
   "metadata": {
    "tags": []
   },
   "outputs": [
    {
     "data": {
      "text/plain": [
       "350                                                       2085\n",
       "V8                                                        1894\n",
       "V6                                                         929\n",
       "5.0                                                        612\n",
       "5.7                                                        590\n",
       "                                                          ... \n",
       "4.7 Liter Magnum V8                                          1\n",
       "1.6 L/6 Valves                                               1\n",
       "5.9 liter 360 V8                                             1\n",
       "1.8L 1798CC 110Cu. In. l4 GAS DOHC Naturally Aspirated       1\n",
       "M52TU 2.8L                                                   1\n",
       "Name: Engine, Length: 22398, dtype: int64"
      ]
     },
     "execution_count": 24,
     "metadata": {},
     "output_type": "execute_result"
    }
   ],
   "source": [
    "df_used_cars.Engine.value_counts()"
   ]
  },
  {
   "cell_type": "code",
   "execution_count": 25,
   "id": "80bcb5eb-6944-49bb-95a0-f1d91cd5fa8d",
   "metadata": {
    "tags": []
   },
   "outputs": [
    {
     "data": {
      "text/plain": [
       "Sedan                                  18216\n",
       "Coupe                                  18046\n",
       "SUV                                    15352\n",
       "Convertible                            12327\n",
       "Standard Cab Pickup                     4289\n",
       "                                       ...  \n",
       "Tractor Truck - Medium Conventional        1\n",
       "Sub                                        1\n",
       "SPORTS VAN                                 1\n",
       "CONVENTIONAL CAB                           1\n",
       "Travelall                                  1\n",
       "Name: BodyType, Length: 2329, dtype: int64"
      ]
     },
     "execution_count": 25,
     "metadata": {},
     "output_type": "execute_result"
    }
   ],
   "source": [
    "df_used_cars.BodyType.value_counts()"
   ]
  },
  {
   "cell_type": "code",
   "execution_count": 26,
   "id": "29cb0dbf-a283-4e03-95a3-b77cb1299269",
   "metadata": {
    "tags": []
   },
   "outputs": [
    {
     "data": {
      "text/plain": [
       "8             43530\n",
       "0             29981\n",
       "6             27426\n",
       "4             18643\n",
       "5              1005\n",
       "10              604\n",
       "12              592\n",
       "3               181\n",
       "2               148\n",
       "1                23\n",
       "9                 3\n",
       "350               2\n",
       "16                1\n",
       "118               1\n",
       "2147483647        1\n",
       "440               1\n",
       "123               1\n",
       "Name: NumCylinders, dtype: int64"
      ]
     },
     "execution_count": 26,
     "metadata": {},
     "output_type": "execute_result"
    }
   ],
   "source": [
    "df_used_cars.NumCylinders.value_counts()"
   ]
  },
  {
   "cell_type": "code",
   "execution_count": 27,
   "id": "044bed3e-5ef1-4761-9bbe-2bb79e1d39af",
   "metadata": {
    "tags": []
   },
   "outputs": [
    {
     "data": {
      "image/png": "[encoded data removed]",
      "text/plain": [
       "<Figure size 1000x400 with 1 Axes>"
      ]
     },
     "metadata": {},
     "output_type": "display_data"
    }
   ],
   "source": [
    "f, ax = plt.subplots(1,1,figsize=(10,4))\n",
    "sns.boxplot(df_used_cars, x=\"NumCylinders\", y=\"pricesold\", ax=ax)\n",
    "ax.set_xticklabels(ax.get_xticklabels(), rotation=45);"
   ]
  },
  {
   "attachments": {},
   "cell_type": "markdown",
   "id": "ec4ef25b-d041-4dcc-8900-46b90bb329e0",
   "metadata": {},
   "source": [
    "We can see that there are rows whith an invalid number of cylinders, specially the one with 21474.., which is likely some overflow"
   ]
  },
  {
   "cell_type": "code",
   "execution_count": 23,
   "id": "d79b05fc-8c0c-4b53-9713-9a3353f91f17",
   "metadata": {
    "tags": []
   },
   "outputs": [
    {
     "data": {
      "text/html": [
       "<div>\n",
       "<style scoped>\n",
       "    .dataframe tbody tr th:only-of-type {\n",
       "        vertical-align: middle;\n",
       "    }\n",
       "\n",
       "    .dataframe tbody tr th {\n",
       "        vertical-align: top;\n",
       "    }\n",
       "\n",
       "    .dataframe thead th {\n",
       "        text-align: right;\n",
       "    }\n",
       "</style>\n",
       "<table border=\"1\" class=\"dataframe\">\n",
       "  <thead>\n",
       "    <tr style=\"text-align: right;\">\n",
       "      <th></th>\n",
       "      <th>ID</th>\n",
       "      <th>pricesold</th>\n",
       "      <th>yearsold</th>\n",
       "      <th>zipcode</th>\n",
       "      <th>Mileage</th>\n",
       "      <th>Make</th>\n",
       "      <th>Model</th>\n",
       "      <th>Year</th>\n",
       "      <th>Trim</th>\n",
       "      <th>Engine</th>\n",
       "      <th>BodyType</th>\n",
       "      <th>NumCylinders</th>\n",
       "      <th>DriveType</th>\n",
       "      <th>datesold</th>\n",
       "    </tr>\n",
       "  </thead>\n",
       "  <tbody>\n",
       "    <tr>\n",
       "      <th>54295</th>\n",
       "      <td>113727</td>\n",
       "      <td>4200</td>\n",
       "      <td>2020</td>\n",
       "      <td>850**</td>\n",
       "      <td>78900</td>\n",
       "      <td>Ford</td>\n",
       "      <td>E-Series Van</td>\n",
       "      <td>1985.0</td>\n",
       "      <td>custom A-Team</td>\n",
       "      <td>302</td>\n",
       "      <td>Van Camper</td>\n",
       "      <td>2147483647</td>\n",
       "      <td>RWD</td>\n",
       "      <td>2020-06-10</td>\n",
       "    </tr>\n",
       "  </tbody>\n",
       "</table>\n",
       "</div>"
      ],
      "text/plain": [
       "           ID  pricesold  yearsold zipcode  Mileage  Make         Model  \\\n",
       "54295  113727       4200      2020   850**    78900  Ford  E-Series Van   \n",
       "\n",
       "         Year           Trim Engine    BodyType  NumCylinders DriveType  \\\n",
       "54295  1985.0  custom A-Team    302  Van Camper    2147483647       RWD   \n",
       "\n",
       "        datesold  \n",
       "54295 2020-06-10  "
      ]
     },
     "execution_count": 23,
     "metadata": {},
     "output_type": "execute_result"
    }
   ],
   "source": [
    "df_used_cars[df_used_cars.NumCylinders==2147483647]"
   ]
  },
  {
   "cell_type": "code",
   "execution_count": 24,
   "id": "6a710947-2686-4025-abaa-ff475ba7784b",
   "metadata": {
    "tags": []
   },
   "outputs": [
    {
     "data": {
      "text/html": [
       "<div>\n",
       "<style scoped>\n",
       "    .dataframe tbody tr th:only-of-type {\n",
       "        vertical-align: middle;\n",
       "    }\n",
       "\n",
       "    .dataframe tbody tr th {\n",
       "        vertical-align: top;\n",
       "    }\n",
       "\n",
       "    .dataframe thead th {\n",
       "        text-align: right;\n",
       "    }\n",
       "</style>\n",
       "<table border=\"1\" class=\"dataframe\">\n",
       "  <thead>\n",
       "    <tr style=\"text-align: right;\">\n",
       "      <th></th>\n",
       "      <th>ID</th>\n",
       "      <th>pricesold</th>\n",
       "      <th>yearsold</th>\n",
       "      <th>zipcode</th>\n",
       "      <th>Mileage</th>\n",
       "      <th>Make</th>\n",
       "      <th>Model</th>\n",
       "      <th>Year</th>\n",
       "      <th>Trim</th>\n",
       "      <th>Engine</th>\n",
       "      <th>BodyType</th>\n",
       "      <th>NumCylinders</th>\n",
       "      <th>DriveType</th>\n",
       "      <th>datesold</th>\n",
       "    </tr>\n",
       "  </thead>\n",
       "  <tbody>\n",
       "    <tr>\n",
       "      <th>31071</th>\n",
       "      <td>27220</td>\n",
       "      <td>2840</td>\n",
       "      <td>2019</td>\n",
       "      <td>99205</td>\n",
       "      <td>69000</td>\n",
       "      <td>Ford</td>\n",
       "      <td>E-Series Van</td>\n",
       "      <td>1973.0</td>\n",
       "      <td>NaN</td>\n",
       "      <td>302</td>\n",
       "      <td>NaN</td>\n",
       "      <td>8</td>\n",
       "      <td>4WD</td>\n",
       "      <td>2019-05-21</td>\n",
       "    </tr>\n",
       "    <tr>\n",
       "      <th>40400</th>\n",
       "      <td>98260</td>\n",
       "      <td>650</td>\n",
       "      <td>2019</td>\n",
       "      <td>97429</td>\n",
       "      <td>186464</td>\n",
       "      <td>Ford</td>\n",
       "      <td>E-Series Van</td>\n",
       "      <td>1986.0</td>\n",
       "      <td>BASIC</td>\n",
       "      <td>302</td>\n",
       "      <td>Standard Passenger Van</td>\n",
       "      <td>8</td>\n",
       "      <td>RWD</td>\n",
       "      <td>2019-01-18</td>\n",
       "    </tr>\n",
       "    <tr>\n",
       "      <th>50026</th>\n",
       "      <td>71848</td>\n",
       "      <td>10000</td>\n",
       "      <td>2020</td>\n",
       "      <td>34698</td>\n",
       "      <td>2000</td>\n",
       "      <td>Ford</td>\n",
       "      <td>E-Series Van</td>\n",
       "      <td>1970.0</td>\n",
       "      <td>E-100</td>\n",
       "      <td>302</td>\n",
       "      <td>Van</td>\n",
       "      <td>8</td>\n",
       "      <td>RWD</td>\n",
       "      <td>2020-05-31</td>\n",
       "    </tr>\n",
       "    <tr>\n",
       "      <th>52749</th>\n",
       "      <td>82216</td>\n",
       "      <td>8300</td>\n",
       "      <td>2019</td>\n",
       "      <td>08065</td>\n",
       "      <td>104022</td>\n",
       "      <td>Ford</td>\n",
       "      <td>E-Series Van</td>\n",
       "      <td>1987.0</td>\n",
       "      <td>NaN</td>\n",
       "      <td>302</td>\n",
       "      <td>NaN</td>\n",
       "      <td>8</td>\n",
       "      <td>RWD</td>\n",
       "      <td>2019-11-14</td>\n",
       "    </tr>\n",
       "    <tr>\n",
       "      <th>54295</th>\n",
       "      <td>113727</td>\n",
       "      <td>4200</td>\n",
       "      <td>2020</td>\n",
       "      <td>850**</td>\n",
       "      <td>78900</td>\n",
       "      <td>Ford</td>\n",
       "      <td>E-Series Van</td>\n",
       "      <td>1985.0</td>\n",
       "      <td>custom A-Team</td>\n",
       "      <td>302</td>\n",
       "      <td>Van Camper</td>\n",
       "      <td>2147483647</td>\n",
       "      <td>RWD</td>\n",
       "      <td>2020-06-10</td>\n",
       "    </tr>\n",
       "    <tr>\n",
       "      <th>64841</th>\n",
       "      <td>85204</td>\n",
       "      <td>3000</td>\n",
       "      <td>2019</td>\n",
       "      <td>57501</td>\n",
       "      <td>79867</td>\n",
       "      <td>Ford</td>\n",
       "      <td>E-Series Van</td>\n",
       "      <td>1989.0</td>\n",
       "      <td>Convertion</td>\n",
       "      <td>302</td>\n",
       "      <td>NaN</td>\n",
       "      <td>8</td>\n",
       "      <td>RWD</td>\n",
       "      <td>2019-09-18</td>\n",
       "    </tr>\n",
       "  </tbody>\n",
       "</table>\n",
       "</div>"
      ],
      "text/plain": [
       "           ID  pricesold  yearsold zipcode  Mileage  Make         Model  \\\n",
       "31071   27220       2840      2019   99205    69000  Ford  E-Series Van   \n",
       "40400   98260        650      2019   97429   186464  Ford  E-Series Van   \n",
       "50026   71848      10000      2020   34698     2000  Ford  E-Series Van   \n",
       "52749   82216       8300      2019   08065   104022  Ford  E-Series Van   \n",
       "54295  113727       4200      2020   850**    78900  Ford  E-Series Van   \n",
       "64841   85204       3000      2019   57501    79867  Ford  E-Series Van   \n",
       "\n",
       "         Year           Trim Engine                BodyType  NumCylinders  \\\n",
       "31071  1973.0            NaN    302                     NaN             8   \n",
       "40400  1986.0          BASIC    302  Standard Passenger Van             8   \n",
       "50026  1970.0          E-100    302                     Van             8   \n",
       "52749  1987.0            NaN    302                     NaN             8   \n",
       "54295  1985.0  custom A-Team    302              Van Camper    2147483647   \n",
       "64841  1989.0     Convertion    302                     NaN             8   \n",
       "\n",
       "      DriveType   datesold  \n",
       "31071       4WD 2019-05-21  \n",
       "40400       RWD 2019-01-18  \n",
       "50026       RWD 2020-05-31  \n",
       "52749       RWD 2019-11-14  \n",
       "54295       RWD 2020-06-10  \n",
       "64841       RWD 2019-09-18  "
      ]
     },
     "execution_count": 24,
     "metadata": {},
     "output_type": "execute_result"
    }
   ],
   "source": [
    "df_used_cars[ (df_used_cars.Model==\"E-Series Van\") & (df_used_cars.Engine==\"302\")]"
   ]
  },
  {
   "attachments": {},
   "cell_type": "markdown",
   "id": "bead38e0-1ff0-4fb5-b273-05b62bc38064",
   "metadata": {},
   "source": [
    "We can see that the models with the same engine have 8 cyllinders. We will replace the value to 8\n"
   ]
  },
  {
   "cell_type": "code",
   "execution_count": 25,
   "id": "485c9ae6-c53c-4434-aeb4-5bd63bf1ea0b",
   "metadata": {
    "tags": []
   },
   "outputs": [],
   "source": [
    "df_used_cars.loc[54295, \"NumCylinders\"] = 8"
   ]
  },
  {
   "attachments": {},
   "cell_type": "markdown",
   "id": "ba1cab2a-821a-465a-b3b6-a2f79c54f61c",
   "metadata": {},
   "source": [
    "we will do the same procedure for the rows with $NumCylinders >100$. <br>\n",
    "If we cannot infer the correct value, we will drop the samples as we cannot measure it correctly."
   ]
  },
  {
   "attachments": {},
   "cell_type": "markdown",
   "id": "8e1b3d95-0de9-4878-b846-ac071afc2b5b",
   "metadata": {},
   "source": [
    "- 440 cylinders"
   ]
  },
  {
   "cell_type": "code",
   "execution_count": 26,
   "id": "c135abf1-052f-4713-9484-99279bff4053",
   "metadata": {
    "tags": []
   },
   "outputs": [
    {
     "data": {
      "text/html": [
       "<div>\n",
       "<style scoped>\n",
       "    .dataframe tbody tr th:only-of-type {\n",
       "        vertical-align: middle;\n",
       "    }\n",
       "\n",
       "    .dataframe tbody tr th {\n",
       "        vertical-align: top;\n",
       "    }\n",
       "\n",
       "    .dataframe thead th {\n",
       "        text-align: right;\n",
       "    }\n",
       "</style>\n",
       "<table border=\"1\" class=\"dataframe\">\n",
       "  <thead>\n",
       "    <tr style=\"text-align: right;\">\n",
       "      <th></th>\n",
       "      <th>ID</th>\n",
       "      <th>pricesold</th>\n",
       "      <th>yearsold</th>\n",
       "      <th>zipcode</th>\n",
       "      <th>Mileage</th>\n",
       "      <th>Make</th>\n",
       "      <th>Model</th>\n",
       "      <th>Year</th>\n",
       "      <th>Trim</th>\n",
       "      <th>Engine</th>\n",
       "      <th>BodyType</th>\n",
       "      <th>NumCylinders</th>\n",
       "      <th>DriveType</th>\n",
       "      <th>datesold</th>\n",
       "    </tr>\n",
       "  </thead>\n",
       "  <tbody>\n",
       "    <tr>\n",
       "      <th>54563</th>\n",
       "      <td>26567</td>\n",
       "      <td>2520</td>\n",
       "      <td>2019</td>\n",
       "      <td>60110</td>\n",
       "      <td>66000</td>\n",
       "      <td>Dodge</td>\n",
       "      <td>Other Pickups</td>\n",
       "      <td>1974.0</td>\n",
       "      <td>van</td>\n",
       "      <td>none</td>\n",
       "      <td>van</td>\n",
       "      <td>440</td>\n",
       "      <td>RWD</td>\n",
       "      <td>2019-02-09</td>\n",
       "    </tr>\n",
       "  </tbody>\n",
       "</table>\n",
       "</div>"
      ],
      "text/plain": [
       "          ID  pricesold  yearsold zipcode  Mileage   Make          Model  \\\n",
       "54563  26567       2520      2019   60110    66000  Dodge  Other Pickups   \n",
       "\n",
       "         Year Trim Engine BodyType  NumCylinders DriveType   datesold  \n",
       "54563  1974.0  van   none      van           440       RWD 2019-02-09  "
      ]
     },
     "execution_count": 26,
     "metadata": {},
     "output_type": "execute_result"
    }
   ],
   "source": [
    "df_used_cars[df_used_cars.NumCylinders==440]"
   ]
  },
  {
   "cell_type": "code",
   "execution_count": 27,
   "id": "1714db46-c9ea-4dc8-90d8-c659b3a60552",
   "metadata": {
    "tags": []
   },
   "outputs": [
    {
     "data": {
      "text/html": [
       "<div>\n",
       "<style scoped>\n",
       "    .dataframe tbody tr th:only-of-type {\n",
       "        vertical-align: middle;\n",
       "    }\n",
       "\n",
       "    .dataframe tbody tr th {\n",
       "        vertical-align: top;\n",
       "    }\n",
       "\n",
       "    .dataframe thead th {\n",
       "        text-align: right;\n",
       "    }\n",
       "</style>\n",
       "<table border=\"1\" class=\"dataframe\">\n",
       "  <thead>\n",
       "    <tr style=\"text-align: right;\">\n",
       "      <th></th>\n",
       "      <th>ID</th>\n",
       "      <th>pricesold</th>\n",
       "      <th>yearsold</th>\n",
       "      <th>zipcode</th>\n",
       "      <th>Mileage</th>\n",
       "      <th>Make</th>\n",
       "      <th>Model</th>\n",
       "      <th>Year</th>\n",
       "      <th>Trim</th>\n",
       "      <th>Engine</th>\n",
       "      <th>BodyType</th>\n",
       "      <th>NumCylinders</th>\n",
       "      <th>DriveType</th>\n",
       "      <th>datesold</th>\n",
       "    </tr>\n",
       "  </thead>\n",
       "  <tbody>\n",
       "    <tr>\n",
       "      <th>714</th>\n",
       "      <td>72869</td>\n",
       "      <td>7400</td>\n",
       "      <td>2019</td>\n",
       "      <td>11758</td>\n",
       "      <td>104090</td>\n",
       "      <td>Dodge</td>\n",
       "      <td>A100</td>\n",
       "      <td>1965.0</td>\n",
       "      <td>sportsman</td>\n",
       "      <td>273</td>\n",
       "      <td>van</td>\n",
       "      <td>8</td>\n",
       "      <td>RWD</td>\n",
       "      <td>2019-08-24</td>\n",
       "    </tr>\n",
       "    <tr>\n",
       "      <th>9424</th>\n",
       "      <td>36121</td>\n",
       "      <td>9100</td>\n",
       "      <td>2019</td>\n",
       "      <td>19116</td>\n",
       "      <td>206000</td>\n",
       "      <td>Dodge</td>\n",
       "      <td>Sprinter</td>\n",
       "      <td>2006.0</td>\n",
       "      <td>2500 Super High Ceiling 140-in. WB</td>\n",
       "      <td>2.7L L5 DOHC 20V TURBO DIESEL</td>\n",
       "      <td>van</td>\n",
       "      <td>5</td>\n",
       "      <td>RWD</td>\n",
       "      <td>2019-07-18</td>\n",
       "    </tr>\n",
       "    <tr>\n",
       "      <th>39262</th>\n",
       "      <td>38929</td>\n",
       "      <td>18400</td>\n",
       "      <td>2019</td>\n",
       "      <td>22406</td>\n",
       "      <td>30998</td>\n",
       "      <td>Dodge</td>\n",
       "      <td>Sprinter</td>\n",
       "      <td>2006.0</td>\n",
       "      <td>NaN</td>\n",
       "      <td>2.7</td>\n",
       "      <td>van</td>\n",
       "      <td>0</td>\n",
       "      <td>NaN</td>\n",
       "      <td>2019-02-13</td>\n",
       "    </tr>\n",
       "    <tr>\n",
       "      <th>43871</th>\n",
       "      <td>100189</td>\n",
       "      <td>1200</td>\n",
       "      <td>2019</td>\n",
       "      <td>11704</td>\n",
       "      <td>300000</td>\n",
       "      <td>Dodge</td>\n",
       "      <td>Sprinter</td>\n",
       "      <td>2007.0</td>\n",
       "      <td>NaN</td>\n",
       "      <td>NaN</td>\n",
       "      <td>van</td>\n",
       "      <td>6</td>\n",
       "      <td>RWD</td>\n",
       "      <td>2019-10-14</td>\n",
       "    </tr>\n",
       "    <tr>\n",
       "      <th>54563</th>\n",
       "      <td>26567</td>\n",
       "      <td>2520</td>\n",
       "      <td>2019</td>\n",
       "      <td>60110</td>\n",
       "      <td>66000</td>\n",
       "      <td>Dodge</td>\n",
       "      <td>Other Pickups</td>\n",
       "      <td>1974.0</td>\n",
       "      <td>van</td>\n",
       "      <td>none</td>\n",
       "      <td>van</td>\n",
       "      <td>440</td>\n",
       "      <td>RWD</td>\n",
       "      <td>2019-02-09</td>\n",
       "    </tr>\n",
       "    <tr>\n",
       "      <th>104798</th>\n",
       "      <td>55832</td>\n",
       "      <td>10600</td>\n",
       "      <td>2019</td>\n",
       "      <td>06708</td>\n",
       "      <td>147958</td>\n",
       "      <td>Dodge</td>\n",
       "      <td>Sprinter</td>\n",
       "      <td>2013.0</td>\n",
       "      <td>Sprinter</td>\n",
       "      <td>3.0</td>\n",
       "      <td>van</td>\n",
       "      <td>6</td>\n",
       "      <td>RWD</td>\n",
       "      <td>2019-08-09</td>\n",
       "    </tr>\n",
       "  </tbody>\n",
       "</table>\n",
       "</div>"
      ],
      "text/plain": [
       "            ID  pricesold  yearsold zipcode  Mileage   Make          Model  \\\n",
       "714      72869       7400      2019   11758   104090  Dodge           A100   \n",
       "9424     36121       9100      2019   19116   206000  Dodge       Sprinter   \n",
       "39262    38929      18400      2019   22406    30998  Dodge       Sprinter   \n",
       "43871   100189       1200      2019   11704   300000  Dodge       Sprinter   \n",
       "54563    26567       2520      2019   60110    66000  Dodge  Other Pickups   \n",
       "104798   55832      10600      2019   06708   147958  Dodge       Sprinter   \n",
       "\n",
       "          Year                                Trim  \\\n",
       "714     1965.0                           sportsman   \n",
       "9424    2006.0  2500 Super High Ceiling 140-in. WB   \n",
       "39262   2006.0                                 NaN   \n",
       "43871   2007.0                                 NaN   \n",
       "54563   1974.0                                 van   \n",
       "104798  2013.0                            Sprinter   \n",
       "\n",
       "                               Engine BodyType  NumCylinders DriveType  \\\n",
       "714                               273      van             8       RWD   \n",
       "9424    2.7L L5 DOHC 20V TURBO DIESEL      van             5       RWD   \n",
       "39262                             2.7      van             0       NaN   \n",
       "43871                             NaN      van             6       RWD   \n",
       "54563                            none      van           440       RWD   \n",
       "104798                            3.0      van             6       RWD   \n",
       "\n",
       "         datesold  \n",
       "714    2019-08-24  \n",
       "9424   2019-07-18  \n",
       "39262  2019-02-13  \n",
       "43871  2019-10-14  \n",
       "54563  2019-02-09  \n",
       "104798 2019-08-09  "
      ]
     },
     "execution_count": 27,
     "metadata": {},
     "output_type": "execute_result"
    }
   ],
   "source": [
    "df_used_cars[ (df_used_cars.Make==\"Dodge\")  & (df_used_cars.BodyType==\"van\") ]"
   ]
  },
  {
   "attachments": {},
   "cell_type": "markdown",
   "id": "3b6a4835-d797-432c-9f8d-33cebc2e5c02",
   "metadata": {},
   "source": [
    "We will drop this row"
   ]
  },
  {
   "cell_type": "code",
   "execution_count": 28,
   "id": "38858ad4-94a9-40eb-8361-2610d661858f",
   "metadata": {
    "tags": []
   },
   "outputs": [],
   "source": [
    "df_used_cars.drop(index=54563, inplace=True)"
   ]
  },
  {
   "attachments": {},
   "cell_type": "markdown",
   "id": "88c2855f-6988-4742-8b8c-f3b49cab73b6",
   "metadata": {},
   "source": [
    "- 350 cylinders"
   ]
  },
  {
   "cell_type": "code",
   "execution_count": 29,
   "id": "a83a0a21-bdfc-4d8b-bfde-47430e46768a",
   "metadata": {
    "tags": []
   },
   "outputs": [
    {
     "data": {
      "text/html": [
       "<div>\n",
       "<style scoped>\n",
       "    .dataframe tbody tr th:only-of-type {\n",
       "        vertical-align: middle;\n",
       "    }\n",
       "\n",
       "    .dataframe tbody tr th {\n",
       "        vertical-align: top;\n",
       "    }\n",
       "\n",
       "    .dataframe thead th {\n",
       "        text-align: right;\n",
       "    }\n",
       "</style>\n",
       "<table border=\"1\" class=\"dataframe\">\n",
       "  <thead>\n",
       "    <tr style=\"text-align: right;\">\n",
       "      <th></th>\n",
       "      <th>ID</th>\n",
       "      <th>pricesold</th>\n",
       "      <th>yearsold</th>\n",
       "      <th>zipcode</th>\n",
       "      <th>Mileage</th>\n",
       "      <th>Make</th>\n",
       "      <th>Model</th>\n",
       "      <th>Year</th>\n",
       "      <th>Trim</th>\n",
       "      <th>Engine</th>\n",
       "      <th>BodyType</th>\n",
       "      <th>NumCylinders</th>\n",
       "      <th>DriveType</th>\n",
       "      <th>datesold</th>\n",
       "    </tr>\n",
       "  </thead>\n",
       "  <tbody>\n",
       "    <tr>\n",
       "      <th>50416</th>\n",
       "      <td>51234</td>\n",
       "      <td>6500</td>\n",
       "      <td>2019</td>\n",
       "      <td>24112</td>\n",
       "      <td>60703</td>\n",
       "      <td>Chevrolet</td>\n",
       "      <td>Caprice</td>\n",
       "      <td>1976.0</td>\n",
       "      <td>NaN</td>\n",
       "      <td>V8</td>\n",
       "      <td>Coupe</td>\n",
       "      <td>350</td>\n",
       "      <td>RWD</td>\n",
       "      <td>2019-06-16</td>\n",
       "    </tr>\n",
       "    <tr>\n",
       "      <th>116096</th>\n",
       "      <td>90491</td>\n",
       "      <td>7700</td>\n",
       "      <td>2019</td>\n",
       "      <td>29697</td>\n",
       "      <td>999999</td>\n",
       "      <td>Chevrolet</td>\n",
       "      <td>Bel Air/150/210</td>\n",
       "      <td>1957.0</td>\n",
       "      <td>NaN</td>\n",
       "      <td>NaN</td>\n",
       "      <td>Coupe</td>\n",
       "      <td>350</td>\n",
       "      <td>NaN</td>\n",
       "      <td>2019-11-06</td>\n",
       "    </tr>\n",
       "  </tbody>\n",
       "</table>\n",
       "</div>"
      ],
      "text/plain": [
       "           ID  pricesold  yearsold zipcode  Mileage       Make  \\\n",
       "50416   51234       6500      2019   24112    60703  Chevrolet   \n",
       "116096  90491       7700      2019   29697   999999  Chevrolet   \n",
       "\n",
       "                  Model    Year Trim Engine BodyType  NumCylinders DriveType  \\\n",
       "50416           Caprice  1976.0  NaN     V8    Coupe           350       RWD   \n",
       "116096  Bel Air/150/210  1957.0  NaN    NaN    Coupe           350       NaN   \n",
       "\n",
       "         datesold  \n",
       "50416  2019-06-16  \n",
       "116096 2019-11-06  "
      ]
     },
     "execution_count": 29,
     "metadata": {},
     "output_type": "execute_result"
    }
   ],
   "source": [
    "df_used_cars[df_used_cars.NumCylinders==350]"
   ]
  },
  {
   "attachments": {},
   "cell_type": "markdown",
   "id": "2616c74e-e40a-4c66-94cf-bc607f5882da",
   "metadata": {},
   "source": [
    "Since the motor of the first case is a V8, we can assume that it has 8 cylinders"
   ]
  },
  {
   "cell_type": "code",
   "execution_count": 30,
   "id": "a5cd84f9-1916-4f46-810d-4a25ddb11dd8",
   "metadata": {
    "tags": []
   },
   "outputs": [
    {
     "data": {
      "text/plain": [
       "8      144\n",
       "0       34\n",
       "6       18\n",
       "350      1\n",
       "Name: NumCylinders, dtype: int64"
      ]
     },
     "execution_count": 30,
     "metadata": {},
     "output_type": "execute_result"
    }
   ],
   "source": [
    "df_used_cars[(df_used_cars.Make==\"Chevrolet\") & (df_used_cars.Model==\"Bel Air/150/210\") & (df_used_cars.BodyType==\"Coupe\")].NumCylinders.value_counts().nlargest(5)"
   ]
  },
  {
   "attachments": {},
   "cell_type": "markdown",
   "id": "ea3e539a-f3cf-403f-b89e-b7099b6c1ce2",
   "metadata": {},
   "source": [
    "We can see that most vhicles with the same features of the car *116096* have 8 cylinders.\n",
    "\n",
    "The ones with 0 seem to be cars without the engine."
   ]
  },
  {
   "cell_type": "code",
   "execution_count": 31,
   "id": "66331e5c-be37-4302-b92b-828671912078",
   "metadata": {
    "tags": []
   },
   "outputs": [],
   "source": [
    "df_used_cars.loc[[50416, 116096], \"NumCylinders\"] = 8"
   ]
  },
  {
   "attachments": {},
   "cell_type": "markdown",
   "id": "2839fe10-ceef-4036-8843-81bf7b869b23",
   "metadata": {},
   "source": [
    "- 123 cylinders"
   ]
  },
  {
   "cell_type": "code",
   "execution_count": 32,
   "id": "5f498853-672c-4fca-8e4d-20a88eb40742",
   "metadata": {
    "tags": []
   },
   "outputs": [
    {
     "data": {
      "text/html": [
       "<div>\n",
       "<style scoped>\n",
       "    .dataframe tbody tr th:only-of-type {\n",
       "        vertical-align: middle;\n",
       "    }\n",
       "\n",
       "    .dataframe tbody tr th {\n",
       "        vertical-align: top;\n",
       "    }\n",
       "\n",
       "    .dataframe thead th {\n",
       "        text-align: right;\n",
       "    }\n",
       "</style>\n",
       "<table border=\"1\" class=\"dataframe\">\n",
       "  <thead>\n",
       "    <tr style=\"text-align: right;\">\n",
       "      <th></th>\n",
       "      <th>ID</th>\n",
       "      <th>pricesold</th>\n",
       "      <th>yearsold</th>\n",
       "      <th>zipcode</th>\n",
       "      <th>Mileage</th>\n",
       "      <th>Make</th>\n",
       "      <th>Model</th>\n",
       "      <th>Year</th>\n",
       "      <th>Trim</th>\n",
       "      <th>Engine</th>\n",
       "      <th>BodyType</th>\n",
       "      <th>NumCylinders</th>\n",
       "      <th>DriveType</th>\n",
       "      <th>datesold</th>\n",
       "    </tr>\n",
       "  </thead>\n",
       "  <tbody>\n",
       "    <tr>\n",
       "      <th>57809</th>\n",
       "      <td>28786</td>\n",
       "      <td>1200</td>\n",
       "      <td>2019</td>\n",
       "      <td>56554</td>\n",
       "      <td>90343</td>\n",
       "      <td>Chevrolet</td>\n",
       "      <td>Other Pickups</td>\n",
       "      <td>1954.0</td>\n",
       "      <td>NaN</td>\n",
       "      <td>NaN</td>\n",
       "      <td>NaN</td>\n",
       "      <td>123</td>\n",
       "      <td>RWD</td>\n",
       "      <td>2019-10-30</td>\n",
       "    </tr>\n",
       "  </tbody>\n",
       "</table>\n",
       "</div>"
      ],
      "text/plain": [
       "          ID  pricesold  yearsold zipcode  Mileage       Make          Model  \\\n",
       "57809  28786       1200      2019   56554    90343  Chevrolet  Other Pickups   \n",
       "\n",
       "         Year Trim Engine BodyType  NumCylinders DriveType   datesold  \n",
       "57809  1954.0  NaN    NaN      NaN           123       RWD 2019-10-30  "
      ]
     },
     "execution_count": 32,
     "metadata": {},
     "output_type": "execute_result"
    }
   ],
   "source": [
    "df_used_cars[df_used_cars.NumCylinders==123]"
   ]
  },
  {
   "cell_type": "code",
   "execution_count": 33,
   "id": "5c367936-6d88-466f-9393-f0ebc642a896",
   "metadata": {
    "tags": []
   },
   "outputs": [
    {
     "data": {
      "text/html": [
       "<div>\n",
       "<style scoped>\n",
       "    .dataframe tbody tr th:only-of-type {\n",
       "        vertical-align: middle;\n",
       "    }\n",
       "\n",
       "    .dataframe tbody tr th {\n",
       "        vertical-align: top;\n",
       "    }\n",
       "\n",
       "    .dataframe thead th {\n",
       "        text-align: right;\n",
       "    }\n",
       "</style>\n",
       "<table border=\"1\" class=\"dataframe\">\n",
       "  <thead>\n",
       "    <tr style=\"text-align: right;\">\n",
       "      <th></th>\n",
       "      <th>ID</th>\n",
       "      <th>pricesold</th>\n",
       "      <th>yearsold</th>\n",
       "      <th>zipcode</th>\n",
       "      <th>Mileage</th>\n",
       "      <th>Make</th>\n",
       "      <th>Model</th>\n",
       "      <th>Year</th>\n",
       "      <th>Trim</th>\n",
       "      <th>Engine</th>\n",
       "      <th>BodyType</th>\n",
       "      <th>NumCylinders</th>\n",
       "      <th>DriveType</th>\n",
       "      <th>datesold</th>\n",
       "    </tr>\n",
       "  </thead>\n",
       "  <tbody>\n",
       "    <tr>\n",
       "      <th>501</th>\n",
       "      <td>86975</td>\n",
       "      <td>22000</td>\n",
       "      <td>2019</td>\n",
       "      <td>27893</td>\n",
       "      <td>64048</td>\n",
       "      <td>Chevrolet</td>\n",
       "      <td>Other Pickups</td>\n",
       "      <td>1954.0</td>\n",
       "      <td>NaN</td>\n",
       "      <td>NaN</td>\n",
       "      <td>Standard Cab Pickup</td>\n",
       "      <td>6</td>\n",
       "      <td>RWD</td>\n",
       "      <td>2019-07-06</td>\n",
       "    </tr>\n",
       "    <tr>\n",
       "      <th>45227</th>\n",
       "      <td>77031</td>\n",
       "      <td>12500</td>\n",
       "      <td>2019</td>\n",
       "      <td>63012</td>\n",
       "      <td>0</td>\n",
       "      <td>Chevrolet</td>\n",
       "      <td>Other Pickups</td>\n",
       "      <td>1954.0</td>\n",
       "      <td>NaN</td>\n",
       "      <td>NaN</td>\n",
       "      <td>Standard Cab Pickup</td>\n",
       "      <td>6</td>\n",
       "      <td>RWD</td>\n",
       "      <td>2019-05-05</td>\n",
       "    </tr>\n",
       "    <tr>\n",
       "      <th>48036</th>\n",
       "      <td>140600</td>\n",
       "      <td>11500</td>\n",
       "      <td>2020</td>\n",
       "      <td>851**</td>\n",
       "      <td>68521</td>\n",
       "      <td>Chevrolet</td>\n",
       "      <td>Other Pickups</td>\n",
       "      <td>1954.0</td>\n",
       "      <td>NaN</td>\n",
       "      <td>NaN</td>\n",
       "      <td>NaN</td>\n",
       "      <td>6</td>\n",
       "      <td>RWD</td>\n",
       "      <td>2020-07-04</td>\n",
       "    </tr>\n",
       "    <tr>\n",
       "      <th>49568</th>\n",
       "      <td>70288</td>\n",
       "      <td>14200</td>\n",
       "      <td>2020</td>\n",
       "      <td>27406</td>\n",
       "      <td>111111</td>\n",
       "      <td>Chevrolet</td>\n",
       "      <td>Other Pickups</td>\n",
       "      <td>1954.0</td>\n",
       "      <td>NaN</td>\n",
       "      <td>NaN</td>\n",
       "      <td>NaN</td>\n",
       "      <td>0</td>\n",
       "      <td>RWD</td>\n",
       "      <td>2020-06-30</td>\n",
       "    </tr>\n",
       "    <tr>\n",
       "      <th>57671</th>\n",
       "      <td>56114</td>\n",
       "      <td>17000</td>\n",
       "      <td>2019</td>\n",
       "      <td>56554</td>\n",
       "      <td>68000</td>\n",
       "      <td>Chevrolet</td>\n",
       "      <td>Other Pickups</td>\n",
       "      <td>1954.0</td>\n",
       "      <td>NaN</td>\n",
       "      <td>NaN</td>\n",
       "      <td>NaN</td>\n",
       "      <td>6</td>\n",
       "      <td>RWD</td>\n",
       "      <td>2019-02-09</td>\n",
       "    </tr>\n",
       "    <tr>\n",
       "      <th>57808</th>\n",
       "      <td>57305</td>\n",
       "      <td>2500</td>\n",
       "      <td>2019</td>\n",
       "      <td>56554</td>\n",
       "      <td>65625</td>\n",
       "      <td>Chevrolet</td>\n",
       "      <td>Other Pickups</td>\n",
       "      <td>1954.0</td>\n",
       "      <td>NaN</td>\n",
       "      <td>NaN</td>\n",
       "      <td>NaN</td>\n",
       "      <td>6</td>\n",
       "      <td>RWD</td>\n",
       "      <td>2019-11-01</td>\n",
       "    </tr>\n",
       "    <tr>\n",
       "      <th>57809</th>\n",
       "      <td>28786</td>\n",
       "      <td>1200</td>\n",
       "      <td>2019</td>\n",
       "      <td>56554</td>\n",
       "      <td>90343</td>\n",
       "      <td>Chevrolet</td>\n",
       "      <td>Other Pickups</td>\n",
       "      <td>1954.0</td>\n",
       "      <td>NaN</td>\n",
       "      <td>NaN</td>\n",
       "      <td>NaN</td>\n",
       "      <td>123</td>\n",
       "      <td>RWD</td>\n",
       "      <td>2019-10-30</td>\n",
       "    </tr>\n",
       "    <tr>\n",
       "      <th>71100</th>\n",
       "      <td>128648</td>\n",
       "      <td>3550</td>\n",
       "      <td>2020</td>\n",
       "      <td>34601</td>\n",
       "      <td>3100</td>\n",
       "      <td>Chevrolet</td>\n",
       "      <td>Other Pickups</td>\n",
       "      <td>1954.0</td>\n",
       "      <td>3100</td>\n",
       "      <td>NaN</td>\n",
       "      <td>Standard Cab Pickup</td>\n",
       "      <td>0</td>\n",
       "      <td>RWD</td>\n",
       "      <td>2020-09-15</td>\n",
       "    </tr>\n",
       "    <tr>\n",
       "      <th>86054</th>\n",
       "      <td>146413</td>\n",
       "      <td>10300</td>\n",
       "      <td>2020</td>\n",
       "      <td>146**</td>\n",
       "      <td>93473</td>\n",
       "      <td>Chevrolet</td>\n",
       "      <td>Other Pickups</td>\n",
       "      <td>1954.0</td>\n",
       "      <td>NaN</td>\n",
       "      <td>NaN</td>\n",
       "      <td>NaN</td>\n",
       "      <td>6</td>\n",
       "      <td>RWD</td>\n",
       "      <td>2020-10-14</td>\n",
       "    </tr>\n",
       "    <tr>\n",
       "      <th>86646</th>\n",
       "      <td>142629</td>\n",
       "      <td>400</td>\n",
       "      <td>2020</td>\n",
       "      <td>553**</td>\n",
       "      <td>15257</td>\n",
       "      <td>Chevrolet</td>\n",
       "      <td>Other Pickups</td>\n",
       "      <td>1954.0</td>\n",
       "      <td>NaN</td>\n",
       "      <td>NaN</td>\n",
       "      <td>NaN</td>\n",
       "      <td>6</td>\n",
       "      <td>RWD</td>\n",
       "      <td>2020-09-19</td>\n",
       "    </tr>\n",
       "    <tr>\n",
       "      <th>93329</th>\n",
       "      <td>70821</td>\n",
       "      <td>3500</td>\n",
       "      <td>2019</td>\n",
       "      <td>56523</td>\n",
       "      <td>81162</td>\n",
       "      <td>Chevrolet</td>\n",
       "      <td>Other Pickups</td>\n",
       "      <td>1954.0</td>\n",
       "      <td>NaN</td>\n",
       "      <td>NaN</td>\n",
       "      <td>Cab &amp; Chassis</td>\n",
       "      <td>6</td>\n",
       "      <td>RWD</td>\n",
       "      <td>2019-11-25</td>\n",
       "    </tr>\n",
       "    <tr>\n",
       "      <th>94784</th>\n",
       "      <td>114859</td>\n",
       "      <td>12000</td>\n",
       "      <td>2020</td>\n",
       "      <td>347**</td>\n",
       "      <td>3100</td>\n",
       "      <td>Chevrolet</td>\n",
       "      <td>Other Pickups</td>\n",
       "      <td>1954.0</td>\n",
       "      <td>3100</td>\n",
       "      <td>NaN</td>\n",
       "      <td>Standard Cab Pickup</td>\n",
       "      <td>0</td>\n",
       "      <td>RWD</td>\n",
       "      <td>2020-04-23</td>\n",
       "    </tr>\n",
       "  </tbody>\n",
       "</table>\n",
       "</div>"
      ],
      "text/plain": [
       "           ID  pricesold  yearsold zipcode  Mileage       Make          Model  \\\n",
       "501     86975      22000      2019   27893    64048  Chevrolet  Other Pickups   \n",
       "45227   77031      12500      2019   63012        0  Chevrolet  Other Pickups   \n",
       "48036  140600      11500      2020   851**    68521  Chevrolet  Other Pickups   \n",
       "49568   70288      14200      2020   27406   111111  Chevrolet  Other Pickups   \n",
       "57671   56114      17000      2019   56554    68000  Chevrolet  Other Pickups   \n",
       "57808   57305       2500      2019   56554    65625  Chevrolet  Other Pickups   \n",
       "57809   28786       1200      2019   56554    90343  Chevrolet  Other Pickups   \n",
       "71100  128648       3550      2020   34601     3100  Chevrolet  Other Pickups   \n",
       "86054  146413      10300      2020   146**    93473  Chevrolet  Other Pickups   \n",
       "86646  142629        400      2020   553**    15257  Chevrolet  Other Pickups   \n",
       "93329   70821       3500      2019   56523    81162  Chevrolet  Other Pickups   \n",
       "94784  114859      12000      2020   347**     3100  Chevrolet  Other Pickups   \n",
       "\n",
       "         Year  Trim Engine             BodyType  NumCylinders DriveType  \\\n",
       "501    1954.0   NaN    NaN  Standard Cab Pickup             6       RWD   \n",
       "45227  1954.0   NaN    NaN  Standard Cab Pickup             6       RWD   \n",
       "48036  1954.0   NaN    NaN                  NaN             6       RWD   \n",
       "49568  1954.0   NaN    NaN                  NaN             0       RWD   \n",
       "57671  1954.0   NaN    NaN                  NaN             6       RWD   \n",
       "57808  1954.0   NaN    NaN                  NaN             6       RWD   \n",
       "57809  1954.0   NaN    NaN                  NaN           123       RWD   \n",
       "71100  1954.0  3100    NaN  Standard Cab Pickup             0       RWD   \n",
       "86054  1954.0   NaN    NaN                  NaN             6       RWD   \n",
       "86646  1954.0   NaN    NaN                  NaN             6       RWD   \n",
       "93329  1954.0   NaN    NaN        Cab & Chassis             6       RWD   \n",
       "94784  1954.0  3100    NaN  Standard Cab Pickup             0       RWD   \n",
       "\n",
       "        datesold  \n",
       "501   2019-07-06  \n",
       "45227 2019-05-05  \n",
       "48036 2020-07-04  \n",
       "49568 2020-06-30  \n",
       "57671 2019-02-09  \n",
       "57808 2019-11-01  \n",
       "57809 2019-10-30  \n",
       "71100 2020-09-15  \n",
       "86054 2020-10-14  \n",
       "86646 2020-09-19  \n",
       "93329 2019-11-25  \n",
       "94784 2020-04-23  "
      ]
     },
     "execution_count": 33,
     "metadata": {},
     "output_type": "execute_result"
    }
   ],
   "source": [
    "df_used_cars[(df_used_cars.Make==\"Chevrolet\") & \\\n",
    "             (df_used_cars.Model==\"Other Pickups\") & \\\n",
    "             (df_used_cars.DriveType==\"RWD\") & \\\n",
    "             (df_used_cars.Year==1954) & \\\n",
    "            (df_used_cars.Engine.isna())]#.NumCylinders.value_counts().nlargest(5)"
   ]
  },
  {
   "attachments": {},
   "cell_type": "markdown",
   "id": "b82654ec-9fa1-45f3-8778-b69a36d18986",
   "metadata": {},
   "source": [
    "Since we don't know for sure which model this vehicle is, we will drop it"
   ]
  },
  {
   "cell_type": "code",
   "execution_count": 34,
   "id": "deb6fcab-ce4f-432c-ade9-264e6ddd33b7",
   "metadata": {
    "tags": []
   },
   "outputs": [],
   "source": [
    "df_used_cars.drop(index=57809, inplace=True)"
   ]
  },
  {
   "attachments": {},
   "cell_type": "markdown",
   "id": "be14dd64-b53c-4be3-9310-ae96287954c6",
   "metadata": {},
   "source": [
    "- 118 cylinders"
   ]
  },
  {
   "cell_type": "code",
   "execution_count": 35,
   "id": "dc5ff8d8-7aad-4f7b-ae64-30b54e6e7ee1",
   "metadata": {
    "tags": []
   },
   "outputs": [
    {
     "data": {
      "text/html": [
       "<div>\n",
       "<style scoped>\n",
       "    .dataframe tbody tr th:only-of-type {\n",
       "        vertical-align: middle;\n",
       "    }\n",
       "\n",
       "    .dataframe tbody tr th {\n",
       "        vertical-align: top;\n",
       "    }\n",
       "\n",
       "    .dataframe thead th {\n",
       "        text-align: right;\n",
       "    }\n",
       "</style>\n",
       "<table border=\"1\" class=\"dataframe\">\n",
       "  <thead>\n",
       "    <tr style=\"text-align: right;\">\n",
       "      <th></th>\n",
       "      <th>ID</th>\n",
       "      <th>pricesold</th>\n",
       "      <th>yearsold</th>\n",
       "      <th>zipcode</th>\n",
       "      <th>Mileage</th>\n",
       "      <th>Make</th>\n",
       "      <th>Model</th>\n",
       "      <th>Year</th>\n",
       "      <th>Trim</th>\n",
       "      <th>Engine</th>\n",
       "      <th>BodyType</th>\n",
       "      <th>NumCylinders</th>\n",
       "      <th>DriveType</th>\n",
       "      <th>datesold</th>\n",
       "    </tr>\n",
       "  </thead>\n",
       "  <tbody>\n",
       "    <tr>\n",
       "      <th>42151</th>\n",
       "      <td>150183</td>\n",
       "      <td>2400</td>\n",
       "      <td>2020</td>\n",
       "      <td>W3***</td>\n",
       "      <td>125000</td>\n",
       "      <td>BMW</td>\n",
       "      <td>1-Series</td>\n",
       "      <td>2007.0</td>\n",
       "      <td>NaN</td>\n",
       "      <td>2.0</td>\n",
       "      <td>Hatchback</td>\n",
       "      <td>118</td>\n",
       "      <td>NaN</td>\n",
       "      <td>2020-02-24</td>\n",
       "    </tr>\n",
       "  </tbody>\n",
       "</table>\n",
       "</div>"
      ],
      "text/plain": [
       "           ID  pricesold  yearsold zipcode  Mileage Make     Model    Year  \\\n",
       "42151  150183       2400      2020   W3***   125000  BMW  1-Series  2007.0   \n",
       "\n",
       "      Trim Engine   BodyType  NumCylinders DriveType   datesold  \n",
       "42151  NaN    2.0  Hatchback           118       NaN 2020-02-24  "
      ]
     },
     "execution_count": 35,
     "metadata": {},
     "output_type": "execute_result"
    }
   ],
   "source": [
    "df_used_cars[df_used_cars.NumCylinders==118]"
   ]
  },
  {
   "cell_type": "code",
   "execution_count": 36,
   "id": "08582ace-676c-4573-9bc0-7ef89fa6e6b8",
   "metadata": {
    "tags": []
   },
   "outputs": [
    {
     "data": {
      "text/html": [
       "<div>\n",
       "<style scoped>\n",
       "    .dataframe tbody tr th:only-of-type {\n",
       "        vertical-align: middle;\n",
       "    }\n",
       "\n",
       "    .dataframe tbody tr th {\n",
       "        vertical-align: top;\n",
       "    }\n",
       "\n",
       "    .dataframe thead th {\n",
       "        text-align: right;\n",
       "    }\n",
       "</style>\n",
       "<table border=\"1\" class=\"dataframe\">\n",
       "  <thead>\n",
       "    <tr style=\"text-align: right;\">\n",
       "      <th></th>\n",
       "      <th>ID</th>\n",
       "      <th>pricesold</th>\n",
       "      <th>yearsold</th>\n",
       "      <th>zipcode</th>\n",
       "      <th>Mileage</th>\n",
       "      <th>Make</th>\n",
       "      <th>Model</th>\n",
       "      <th>Year</th>\n",
       "      <th>Trim</th>\n",
       "      <th>Engine</th>\n",
       "      <th>BodyType</th>\n",
       "      <th>NumCylinders</th>\n",
       "      <th>DriveType</th>\n",
       "      <th>datesold</th>\n",
       "    </tr>\n",
       "  </thead>\n",
       "  <tbody>\n",
       "    <tr>\n",
       "      <th>42151</th>\n",
       "      <td>150183</td>\n",
       "      <td>2400</td>\n",
       "      <td>2020</td>\n",
       "      <td>W3***</td>\n",
       "      <td>125000</td>\n",
       "      <td>BMW</td>\n",
       "      <td>1-Series</td>\n",
       "      <td>2007.0</td>\n",
       "      <td>NaN</td>\n",
       "      <td>2.0</td>\n",
       "      <td>Hatchback</td>\n",
       "      <td>118</td>\n",
       "      <td>NaN</td>\n",
       "      <td>2020-02-24</td>\n",
       "    </tr>\n",
       "  </tbody>\n",
       "</table>\n",
       "</div>"
      ],
      "text/plain": [
       "           ID  pricesold  yearsold zipcode  Mileage Make     Model    Year  \\\n",
       "42151  150183       2400      2020   W3***   125000  BMW  1-Series  2007.0   \n",
       "\n",
       "      Trim Engine   BodyType  NumCylinders DriveType   datesold  \n",
       "42151  NaN    2.0  Hatchback           118       NaN 2020-02-24  "
      ]
     },
     "execution_count": 36,
     "metadata": {},
     "output_type": "execute_result"
    }
   ],
   "source": [
    "df_used_cars[ (df_used_cars.Make==\"BMW\") & (df_used_cars.Model==\"1-Series\") & (df_used_cars.BodyType==\"Hatchback\")]"
   ]
  },
  {
   "attachments": {},
   "cell_type": "markdown",
   "id": "9059bb8a-9094-4040-a039-fc11a542b26e",
   "metadata": {},
   "source": [
    "Although there are no informations in the dataset, from this [website](https://www.parkers.co.uk/bmw/1-series/review/engines/) we could check that this car has 4 cylinders"
   ]
  },
  {
   "cell_type": "code",
   "execution_count": 37,
   "id": "de7174b6-19e3-409d-96df-4e7823d7e2ad",
   "metadata": {
    "tags": []
   },
   "outputs": [],
   "source": [
    "df_used_cars.loc[42151, \"NumCylinders\"] = 4"
   ]
  },
  {
   "attachments": {},
   "cell_type": "markdown",
   "id": "1a4af0b6-d128-4270-aee4-b0238894e28c",
   "metadata": {},
   "source": [
    ">123 cylinders"
   ]
  },
  {
   "cell_type": "code",
   "execution_count": 38,
   "id": "e53f2fb3-0acf-4f7e-ac18-decfd1399fb5",
   "metadata": {
    "tags": []
   },
   "outputs": [
    {
     "data": {
      "text/plain": [
       "4dr Sdn Man ES-Sport      1\n",
       "4dr Quad Cab 155 WB HD    1\n",
       "4dr Sdn EcoChic           1\n",
       "ROADSTER                  1\n",
       "chain to 2 back wheels    1\n",
       "2WD Crew Cab 172          1\n",
       "4dr Sdn Auto LS           1\n",
       "automatic c4              1\n",
       "4WD 4dr EX-L w/RES        1\n",
       "4dr Auto EX w/Navi        1\n",
       "Name: DriveType, dtype: int64"
      ]
     },
     "execution_count": 38,
     "metadata": {},
     "output_type": "execute_result"
    }
   ],
   "source": [
    "df_used_cars.DriveType.value_counts().nsmallest(10)"
   ]
  },
  {
   "cell_type": "code",
   "execution_count": 39,
   "id": "bfc6f5a8-d1fb-4560-a243-c319dc1c16b1",
   "metadata": {
    "tags": []
   },
   "outputs": [
    {
     "data": {
      "text/html": [
       "<div>\n",
       "<style scoped>\n",
       "    .dataframe tbody tr th:only-of-type {\n",
       "        vertical-align: middle;\n",
       "    }\n",
       "\n",
       "    .dataframe tbody tr th {\n",
       "        vertical-align: top;\n",
       "    }\n",
       "\n",
       "    .dataframe thead th {\n",
       "        text-align: right;\n",
       "    }\n",
       "</style>\n",
       "<table border=\"1\" class=\"dataframe\">\n",
       "  <thead>\n",
       "    <tr style=\"text-align: right;\">\n",
       "      <th></th>\n",
       "      <th>ID</th>\n",
       "      <th>pricesold</th>\n",
       "      <th>yearsold</th>\n",
       "      <th>zipcode</th>\n",
       "      <th>Mileage</th>\n",
       "      <th>Make</th>\n",
       "      <th>Model</th>\n",
       "      <th>Year</th>\n",
       "      <th>Trim</th>\n",
       "      <th>Engine</th>\n",
       "      <th>BodyType</th>\n",
       "      <th>NumCylinders</th>\n",
       "      <th>DriveType</th>\n",
       "      <th>datesold</th>\n",
       "    </tr>\n",
       "  </thead>\n",
       "  <tbody>\n",
       "    <tr>\n",
       "      <th>0</th>\n",
       "      <td>137178</td>\n",
       "      <td>7500</td>\n",
       "      <td>2020</td>\n",
       "      <td>786**</td>\n",
       "      <td>84430</td>\n",
       "      <td>Ford</td>\n",
       "      <td>Mustang</td>\n",
       "      <td>1988.0</td>\n",
       "      <td>LX</td>\n",
       "      <td>5.0L Gas V8</td>\n",
       "      <td>Sedan</td>\n",
       "      <td>0</td>\n",
       "      <td>RWD</td>\n",
       "      <td>2020-03-19</td>\n",
       "    </tr>\n",
       "    <tr>\n",
       "      <th>1</th>\n",
       "      <td>96705</td>\n",
       "      <td>15000</td>\n",
       "      <td>2019</td>\n",
       "      <td>81006</td>\n",
       "      <td>0</td>\n",
       "      <td>Replica/Kit Makes</td>\n",
       "      <td>Jaguar Beck Lister</td>\n",
       "      <td>1958.0</td>\n",
       "      <td>NaN</td>\n",
       "      <td>383 Fuel injected</td>\n",
       "      <td>Convertible</td>\n",
       "      <td>8</td>\n",
       "      <td>RWD</td>\n",
       "      <td>2019-02-09</td>\n",
       "    </tr>\n",
       "    <tr>\n",
       "      <th>2</th>\n",
       "      <td>119660</td>\n",
       "      <td>8750</td>\n",
       "      <td>2020</td>\n",
       "      <td>33449</td>\n",
       "      <td>55000</td>\n",
       "      <td>Jaguar</td>\n",
       "      <td>XJS</td>\n",
       "      <td>1995.0</td>\n",
       "      <td>2+2 Cabriolet</td>\n",
       "      <td>4.0L In-Line 6 Cylinder</td>\n",
       "      <td>Convertible</td>\n",
       "      <td>6</td>\n",
       "      <td>RWD</td>\n",
       "      <td>2020-02-16</td>\n",
       "    </tr>\n",
       "    <tr>\n",
       "      <th>3</th>\n",
       "      <td>80773</td>\n",
       "      <td>11600</td>\n",
       "      <td>2019</td>\n",
       "      <td>07852</td>\n",
       "      <td>97200</td>\n",
       "      <td>Ford</td>\n",
       "      <td>Mustang</td>\n",
       "      <td>1968.0</td>\n",
       "      <td>Stock</td>\n",
       "      <td>289 cu. in. V8</td>\n",
       "      <td>Coupe</td>\n",
       "      <td>8</td>\n",
       "      <td>RWD</td>\n",
       "      <td>2019-08-16</td>\n",
       "    </tr>\n",
       "    <tr>\n",
       "      <th>4</th>\n",
       "      <td>64287</td>\n",
       "      <td>44000</td>\n",
       "      <td>2019</td>\n",
       "      <td>07728</td>\n",
       "      <td>40703</td>\n",
       "      <td>Porsche</td>\n",
       "      <td>911</td>\n",
       "      <td>2002.0</td>\n",
       "      <td>Turbo X-50</td>\n",
       "      <td>3.6L</td>\n",
       "      <td>Coupe</td>\n",
       "      <td>6</td>\n",
       "      <td>AWD</td>\n",
       "      <td>2019-11-13</td>\n",
       "    </tr>\n",
       "    <tr>\n",
       "      <th>...</th>\n",
       "      <td>...</td>\n",
       "      <td>...</td>\n",
       "      <td>...</td>\n",
       "      <td>...</td>\n",
       "      <td>...</td>\n",
       "      <td>...</td>\n",
       "      <td>...</td>\n",
       "      <td>...</td>\n",
       "      <td>...</td>\n",
       "      <td>...</td>\n",
       "      <td>...</td>\n",
       "      <td>...</td>\n",
       "      <td>...</td>\n",
       "      <td>...</td>\n",
       "    </tr>\n",
       "    <tr>\n",
       "      <th>122139</th>\n",
       "      <td>14948</td>\n",
       "      <td>4200</td>\n",
       "      <td>2019</td>\n",
       "      <td>80233</td>\n",
       "      <td>102700</td>\n",
       "      <td>Ford</td>\n",
       "      <td>Mustang</td>\n",
       "      <td>1977.0</td>\n",
       "      <td>NaN</td>\n",
       "      <td>302</td>\n",
       "      <td>Fastback</td>\n",
       "      <td>8</td>\n",
       "      <td>NaN</td>\n",
       "      <td>2019-08-31</td>\n",
       "    </tr>\n",
       "    <tr>\n",
       "      <th>122140</th>\n",
       "      <td>58814</td>\n",
       "      <td>6500</td>\n",
       "      <td>2019</td>\n",
       "      <td>53132</td>\n",
       "      <td>128000</td>\n",
       "      <td>Ford</td>\n",
       "      <td>E-Series Van</td>\n",
       "      <td>2012.0</td>\n",
       "      <td>NaN</td>\n",
       "      <td>E-150</td>\n",
       "      <td>NaN</td>\n",
       "      <td>0</td>\n",
       "      <td>NaN</td>\n",
       "      <td>2019-03-31</td>\n",
       "    </tr>\n",
       "    <tr>\n",
       "      <th>122141</th>\n",
       "      <td>2156</td>\n",
       "      <td>2000</td>\n",
       "      <td>2019</td>\n",
       "      <td>77536</td>\n",
       "      <td>50000</td>\n",
       "      <td>Ford</td>\n",
       "      <td>Bronco</td>\n",
       "      <td>1978.0</td>\n",
       "      <td>NaN</td>\n",
       "      <td>351m</td>\n",
       "      <td>NaN</td>\n",
       "      <td>8</td>\n",
       "      <td>4WD</td>\n",
       "      <td>2019-05-19</td>\n",
       "    </tr>\n",
       "    <tr>\n",
       "      <th>122142</th>\n",
       "      <td>29096</td>\n",
       "      <td>2280</td>\n",
       "      <td>2019</td>\n",
       "      <td>92131</td>\n",
       "      <td>164337</td>\n",
       "      <td>BMW</td>\n",
       "      <td>3-Series</td>\n",
       "      <td>2000.0</td>\n",
       "      <td>328ci</td>\n",
       "      <td>M52TU 2.8L</td>\n",
       "      <td>Coupe</td>\n",
       "      <td>6</td>\n",
       "      <td>RWD</td>\n",
       "      <td>2019-05-17</td>\n",
       "    </tr>\n",
       "    <tr>\n",
       "      <th>122143</th>\n",
       "      <td>52391</td>\n",
       "      <td>5000</td>\n",
       "      <td>2019</td>\n",
       "      <td>18951</td>\n",
       "      <td>163111</td>\n",
       "      <td>Nissan</td>\n",
       "      <td>300ZX</td>\n",
       "      <td>1990.0</td>\n",
       "      <td>Twin Turbo</td>\n",
       "      <td>VG30DETT</td>\n",
       "      <td>Coupe</td>\n",
       "      <td>6</td>\n",
       "      <td>RWD</td>\n",
       "      <td>2019-02-09</td>\n",
       "    </tr>\n",
       "  </tbody>\n",
       "</table>\n",
       "<p>122051 rows × 14 columns</p>\n",
       "</div>"
      ],
      "text/plain": [
       "            ID  pricesold  yearsold zipcode  Mileage               Make  \\\n",
       "0       137178       7500      2020   786**    84430               Ford   \n",
       "1        96705      15000      2019   81006        0  Replica/Kit Makes   \n",
       "2       119660       8750      2020   33449    55000             Jaguar   \n",
       "3        80773      11600      2019   07852    97200               Ford   \n",
       "4        64287      44000      2019   07728    40703            Porsche   \n",
       "...        ...        ...       ...     ...      ...                ...   \n",
       "122139   14948       4200      2019   80233   102700               Ford   \n",
       "122140   58814       6500      2019   53132   128000               Ford   \n",
       "122141    2156       2000      2019   77536    50000               Ford   \n",
       "122142   29096       2280      2019   92131   164337                BMW   \n",
       "122143   52391       5000      2019   18951   163111             Nissan   \n",
       "\n",
       "                     Model    Year           Trim                   Engine  \\\n",
       "0                  Mustang  1988.0             LX              5.0L Gas V8   \n",
       "1       Jaguar Beck Lister  1958.0            NaN        383 Fuel injected   \n",
       "2                      XJS  1995.0  2+2 Cabriolet  4.0L In-Line 6 Cylinder   \n",
       "3                  Mustang  1968.0          Stock           289 cu. in. V8   \n",
       "4                      911  2002.0     Turbo X-50                     3.6L   \n",
       "...                    ...     ...            ...                      ...   \n",
       "122139             Mustang  1977.0            NaN                      302   \n",
       "122140        E-Series Van  2012.0            NaN                    E-150   \n",
       "122141              Bronco  1978.0            NaN                     351m   \n",
       "122142            3-Series  2000.0          328ci               M52TU 2.8L   \n",
       "122143               300ZX  1990.0     Twin Turbo                 VG30DETT   \n",
       "\n",
       "           BodyType  NumCylinders DriveType   datesold  \n",
       "0             Sedan             0       RWD 2020-03-19  \n",
       "1       Convertible             8       RWD 2019-02-09  \n",
       "2       Convertible             6       RWD 2020-02-16  \n",
       "3             Coupe             8       RWD 2019-08-16  \n",
       "4             Coupe             6       AWD 2019-11-13  \n",
       "...             ...           ...       ...        ...  \n",
       "122139     Fastback             8       NaN 2019-08-31  \n",
       "122140          NaN             0       NaN 2019-03-31  \n",
       "122141          NaN             8       4WD 2019-05-19  \n",
       "122142        Coupe             6       RWD 2019-05-17  \n",
       "122143        Coupe             6       RWD 2019-02-09  \n",
       "\n",
       "[122051 rows x 14 columns]"
      ]
     },
     "execution_count": 39,
     "metadata": {},
     "output_type": "execute_result"
    }
   ],
   "source": [
    "df_used_cars"
   ]
  },
  {
   "attachments": {},
   "cell_type": "markdown",
   "id": "d52540a0-ce88-48bb-ae4c-47a2ed2606aa",
   "metadata": {
    "tags": []
   },
   "source": [
    "### Clean 'Make' of *used_cars_sales.csv*"
   ]
  },
  {
   "attachments": {},
   "cell_type": "markdown",
   "id": "f662be56-809c-4424-9894-19504c2dcfcd",
   "metadata": {},
   "source": [
    "- **Many cars with model in the 'Make' Tag** <br>\n",
    "This problem needs to be addressed element by element"
   ]
  },
  {
   "cell_type": "code",
   "execution_count": 40,
   "id": "44513a21-8a35-4d23-80ca-484efa2fc16f",
   "metadata": {
    "tags": []
   },
   "outputs": [],
   "source": [
    "df_used_cars.Make = df_used_cars.Make.apply(str.lower)"
   ]
  },
  {
   "cell_type": "code",
   "execution_count": 41,
   "id": "47d47262-77ca-4a4a-b3f3-3df851186b59",
   "metadata": {
    "tags": []
   },
   "outputs": [],
   "source": [
    "df_used_cars.Model= df_used_cars.Model.apply(lambda el: str(el).lower())"
   ]
  },
  {
   "attachments": {},
   "cell_type": "markdown",
   "id": "ed3be3ae-bfb2-4cdc-a811-ef4d761c9546",
   "metadata": {
    "tags": []
   },
   "source": [
    "##### Internation Harvester manufacturer"
   ]
  },
  {
   "cell_type": "code",
   "execution_count": 42,
   "id": "51ac93d0-a36a-4a2d-9e0f-87090a499054",
   "metadata": {
    "tags": []
   },
   "outputs": [
    {
     "data": {
      "text/plain": [
       "['1964 international', 'international', 'international harvester']"
      ]
     },
     "execution_count": 42,
     "metadata": {},
     "output_type": "execute_result"
    }
   ],
   "source": [
    "sorted(filter(lambda x: \"international\" in x, df_used_cars.Make.apply(str.lower).unique()))"
   ]
  },
  {
   "cell_type": "code",
   "execution_count": 43,
   "id": "6f38a3eb-028a-46b6-a88d-d45023991eb8",
   "metadata": {
    "tags": []
   },
   "outputs": [],
   "source": [
    "def filter_(df_string, cond_string, return_string):\n",
    "    if cond_string in df_string:\n",
    "        return return_string\n",
    "    return df_string\n",
    "\n",
    "df_used_cars.Make = df_used_cars.Make.apply(lambda el: filter_(el, \"international\", \"international harvester\"))"
   ]
  },
  {
   "attachments": {},
   "cell_type": "markdown",
   "id": "a6614986-2d56-4638-a935-2c60bee35c70",
   "metadata": {
    "tags": []
   },
   "source": [
    "##### '2101'"
   ]
  },
  {
   "cell_type": "code",
   "execution_count": 44,
   "id": "1394a132-430d-449d-88a9-e301ce7c9903",
   "metadata": {
    "tags": []
   },
   "outputs": [
    {
     "data": {
      "text/html": [
       "<div>\n",
       "<style scoped>\n",
       "    .dataframe tbody tr th:only-of-type {\n",
       "        vertical-align: middle;\n",
       "    }\n",
       "\n",
       "    .dataframe tbody tr th {\n",
       "        vertical-align: top;\n",
       "    }\n",
       "\n",
       "    .dataframe thead th {\n",
       "        text-align: right;\n",
       "    }\n",
       "</style>\n",
       "<table border=\"1\" class=\"dataframe\">\n",
       "  <thead>\n",
       "    <tr style=\"text-align: right;\">\n",
       "      <th></th>\n",
       "      <th>ID</th>\n",
       "      <th>pricesold</th>\n",
       "      <th>yearsold</th>\n",
       "      <th>zipcode</th>\n",
       "      <th>Mileage</th>\n",
       "      <th>Make</th>\n",
       "      <th>Model</th>\n",
       "      <th>Year</th>\n",
       "      <th>Trim</th>\n",
       "      <th>Engine</th>\n",
       "      <th>BodyType</th>\n",
       "      <th>NumCylinders</th>\n",
       "      <th>DriveType</th>\n",
       "      <th>datesold</th>\n",
       "    </tr>\n",
       "  </thead>\n",
       "  <tbody>\n",
       "    <tr>\n",
       "      <th>91077</th>\n",
       "      <td>45848</td>\n",
       "      <td>6200</td>\n",
       "      <td>2019</td>\n",
       "      <td>11727</td>\n",
       "      <td>46292</td>\n",
       "      <td>2101</td>\n",
       "      <td>nan</td>\n",
       "      <td>1977.0</td>\n",
       "      <td>NaN</td>\n",
       "      <td>NaN</td>\n",
       "      <td>Sedan</td>\n",
       "      <td>4</td>\n",
       "      <td>RWD</td>\n",
       "      <td>2019-07-29</td>\n",
       "    </tr>\n",
       "  </tbody>\n",
       "</table>\n",
       "</div>"
      ],
      "text/plain": [
       "          ID  pricesold  yearsold zipcode  Mileage  Make Model    Year Trim  \\\n",
       "91077  45848       6200      2019   11727    46292  2101   nan  1977.0  NaN   \n",
       "\n",
       "      Engine BodyType  NumCylinders DriveType   datesold  \n",
       "91077    NaN    Sedan             4       RWD 2019-07-29  "
      ]
     },
     "execution_count": 44,
     "metadata": {},
     "output_type": "execute_result"
    }
   ],
   "source": [
    "df_used_cars[df_used_cars.Make==\"2101\"]"
   ]
  },
  {
   "attachments": {},
   "cell_type": "markdown",
   "id": "09e2978d-5238-4e7d-a7b8-cdba22ab2cce",
   "metadata": {},
   "source": [
    "Could not find information about this, we will drop this sample"
   ]
  },
  {
   "cell_type": "code",
   "execution_count": 45,
   "id": "8f792c3a-73fb-42bc-a5cf-f9558ace7242",
   "metadata": {
    "tags": []
   },
   "outputs": [],
   "source": [
    "df_used_cars.drop(index=91077, inplace=True)"
   ]
  },
  {
   "attachments": {},
   "cell_type": "markdown",
   "id": "c1652bee-1563-4402-b202-622e9e003bb0",
   "metadata": {
    "tags": []
   },
   "source": [
    "##### '300'"
   ]
  },
  {
   "cell_type": "code",
   "execution_count": 46,
   "id": "8f3c011e-a181-4b91-9a4d-ccc8156ecd21",
   "metadata": {
    "tags": []
   },
   "outputs": [
    {
     "data": {
      "text/html": [
       "<div>\n",
       "<style scoped>\n",
       "    .dataframe tbody tr th:only-of-type {\n",
       "        vertical-align: middle;\n",
       "    }\n",
       "\n",
       "    .dataframe tbody tr th {\n",
       "        vertical-align: top;\n",
       "    }\n",
       "\n",
       "    .dataframe thead th {\n",
       "        text-align: right;\n",
       "    }\n",
       "</style>\n",
       "<table border=\"1\" class=\"dataframe\">\n",
       "  <thead>\n",
       "    <tr style=\"text-align: right;\">\n",
       "      <th></th>\n",
       "      <th>ID</th>\n",
       "      <th>pricesold</th>\n",
       "      <th>yearsold</th>\n",
       "      <th>zipcode</th>\n",
       "      <th>Mileage</th>\n",
       "      <th>Make</th>\n",
       "      <th>Model</th>\n",
       "      <th>Year</th>\n",
       "      <th>Trim</th>\n",
       "      <th>Engine</th>\n",
       "      <th>BodyType</th>\n",
       "      <th>NumCylinders</th>\n",
       "      <th>DriveType</th>\n",
       "      <th>datesold</th>\n",
       "    </tr>\n",
       "  </thead>\n",
       "  <tbody>\n",
       "    <tr>\n",
       "      <th>11621</th>\n",
       "      <td>18489</td>\n",
       "      <td>2200</td>\n",
       "      <td>2019</td>\n",
       "      <td>32804</td>\n",
       "      <td>120583</td>\n",
       "      <td>300</td>\n",
       "      <td>chrysler</td>\n",
       "      <td>2006.0</td>\n",
       "      <td>LIMITED</td>\n",
       "      <td>V-6</td>\n",
       "      <td>SEDAN</td>\n",
       "      <td>6</td>\n",
       "      <td>RWD</td>\n",
       "      <td>2019-11-07</td>\n",
       "    </tr>\n",
       "  </tbody>\n",
       "</table>\n",
       "</div>"
      ],
      "text/plain": [
       "          ID  pricesold  yearsold zipcode  Mileage Make     Model    Year  \\\n",
       "11621  18489       2200      2019   32804   120583  300  chrysler  2006.0   \n",
       "\n",
       "          Trim Engine BodyType  NumCylinders DriveType   datesold  \n",
       "11621  LIMITED    V-6    SEDAN             6       RWD 2019-11-07  "
      ]
     },
     "execution_count": 46,
     "metadata": {},
     "output_type": "execute_result"
    }
   ],
   "source": [
    "df_used_cars[df_used_cars.Make==\"300\"]"
   ]
  },
  {
   "attachments": {},
   "cell_type": "markdown",
   "id": "0db3a3d9-d179-4669-8c14-47fed27bbd93",
   "metadata": {},
   "source": [
    "For this case, the model and make are swaped"
   ]
  },
  {
   "cell_type": "code",
   "execution_count": 47,
   "id": "6847e552-c05c-4de0-be24-a2d4a39bbea5",
   "metadata": {
    "tags": []
   },
   "outputs": [],
   "source": [
    "make = df_used_cars.loc[11621, \"Model\"]\n",
    "model = df_used_cars.loc[11621, \"Make\"]\n",
    "\n",
    "df_used_cars.loc[11621, \"Model\"] = model\n",
    "df_used_cars.loc[11621, \"Make\"] = make"
   ]
  },
  {
   "attachments": {},
   "cell_type": "markdown",
   "id": "5373439c-6a95-4f3a-8a03-7d115bafc6d3",
   "metadata": {
    "tags": []
   },
   "source": [
    "##### ac"
   ]
  },
  {
   "cell_type": "code",
   "execution_count": 48,
   "id": "53be4300-ac94-4ac1-a619-6f0e99ad8cd5",
   "metadata": {
    "tags": []
   },
   "outputs": [
    {
     "data": {
      "text/html": [
       "<div>\n",
       "<style scoped>\n",
       "    .dataframe tbody tr th:only-of-type {\n",
       "        vertical-align: middle;\n",
       "    }\n",
       "\n",
       "    .dataframe tbody tr th {\n",
       "        vertical-align: top;\n",
       "    }\n",
       "\n",
       "    .dataframe thead th {\n",
       "        text-align: right;\n",
       "    }\n",
       "</style>\n",
       "<table border=\"1\" class=\"dataframe\">\n",
       "  <thead>\n",
       "    <tr style=\"text-align: right;\">\n",
       "      <th></th>\n",
       "      <th>ID</th>\n",
       "      <th>pricesold</th>\n",
       "      <th>yearsold</th>\n",
       "      <th>zipcode</th>\n",
       "      <th>Mileage</th>\n",
       "      <th>Make</th>\n",
       "      <th>Model</th>\n",
       "      <th>Year</th>\n",
       "      <th>Trim</th>\n",
       "      <th>Engine</th>\n",
       "      <th>BodyType</th>\n",
       "      <th>NumCylinders</th>\n",
       "      <th>DriveType</th>\n",
       "      <th>datesold</th>\n",
       "    </tr>\n",
       "  </thead>\n",
       "  <tbody>\n",
       "    <tr>\n",
       "      <th>101440</th>\n",
       "      <td>3285</td>\n",
       "      <td>7900</td>\n",
       "      <td>2019</td>\n",
       "      <td>35565</td>\n",
       "      <td>100</td>\n",
       "      <td>ac cobra</td>\n",
       "      <td>nan</td>\n",
       "      <td>1965.0</td>\n",
       "      <td>NaN</td>\n",
       "      <td>V8</td>\n",
       "      <td>NaN</td>\n",
       "      <td>0</td>\n",
       "      <td>NaN</td>\n",
       "      <td>2019-06-06</td>\n",
       "    </tr>\n",
       "  </tbody>\n",
       "</table>\n",
       "</div>"
      ],
      "text/plain": [
       "          ID  pricesold  yearsold zipcode  Mileage      Make Model    Year  \\\n",
       "101440  3285       7900      2019   35565      100  ac cobra   nan  1965.0   \n",
       "\n",
       "       Trim Engine BodyType  NumCylinders DriveType   datesold  \n",
       "101440  NaN     V8      NaN             0       NaN 2019-06-06  "
      ]
     },
     "execution_count": 48,
     "metadata": {},
     "output_type": "execute_result"
    }
   ],
   "source": [
    "df_used_cars[df_used_cars.Make==\"ac cobra\"]"
   ]
  },
  {
   "cell_type": "code",
   "execution_count": 49,
   "id": "63d8388d-71dd-4740-a231-865276dc7898",
   "metadata": {
    "tags": []
   },
   "outputs": [],
   "source": [
    "df_used_cars.loc[101440, \"Make\"] = \"ac\"\n",
    "df_used_cars.loc[101440, \"Model\"] = \"cobra\""
   ]
  },
  {
   "attachments": {},
   "cell_type": "markdown",
   "id": "2937b435-b659-4f1a-a576-755fe21f2ed8",
   "metadata": {
    "tags": []
   },
   "source": [
    "##### amc"
   ]
  },
  {
   "cell_type": "code",
   "execution_count": 50,
   "id": "2cc1b3a3-5299-4dce-8be3-6f44349543dd",
   "metadata": {
    "tags": []
   },
   "outputs": [
    {
     "data": {
      "text/html": [
       "<div>\n",
       "<style scoped>\n",
       "    .dataframe tbody tr th:only-of-type {\n",
       "        vertical-align: middle;\n",
       "    }\n",
       "\n",
       "    .dataframe tbody tr th {\n",
       "        vertical-align: top;\n",
       "    }\n",
       "\n",
       "    .dataframe thead th {\n",
       "        text-align: right;\n",
       "    }\n",
       "</style>\n",
       "<table border=\"1\" class=\"dataframe\">\n",
       "  <thead>\n",
       "    <tr style=\"text-align: right;\">\n",
       "      <th></th>\n",
       "      <th>ID</th>\n",
       "      <th>pricesold</th>\n",
       "      <th>yearsold</th>\n",
       "      <th>zipcode</th>\n",
       "      <th>Mileage</th>\n",
       "      <th>Make</th>\n",
       "      <th>Model</th>\n",
       "      <th>Year</th>\n",
       "      <th>Trim</th>\n",
       "      <th>Engine</th>\n",
       "      <th>BodyType</th>\n",
       "      <th>NumCylinders</th>\n",
       "      <th>DriveType</th>\n",
       "      <th>datesold</th>\n",
       "    </tr>\n",
       "  </thead>\n",
       "  <tbody>\n",
       "    <tr>\n",
       "      <th>27484</th>\n",
       "      <td>116452</td>\n",
       "      <td>10000</td>\n",
       "      <td>2020</td>\n",
       "      <td>977**</td>\n",
       "      <td>113055</td>\n",
       "      <td>amc / rambler</td>\n",
       "      <td>rebel</td>\n",
       "      <td>1967.0</td>\n",
       "      <td>SST Convertible</td>\n",
       "      <td>V8 5.6L</td>\n",
       "      <td>Convertible</td>\n",
       "      <td>0</td>\n",
       "      <td>--</td>\n",
       "      <td>2020-04-14</td>\n",
       "    </tr>\n",
       "  </tbody>\n",
       "</table>\n",
       "</div>"
      ],
      "text/plain": [
       "           ID  pricesold  yearsold zipcode  Mileage           Make  Model  \\\n",
       "27484  116452      10000      2020   977**   113055  amc / rambler  rebel   \n",
       "\n",
       "         Year             Trim   Engine     BodyType  NumCylinders DriveType  \\\n",
       "27484  1967.0  SST Convertible  V8 5.6L  Convertible             0        --   \n",
       "\n",
       "        datesold  \n",
       "27484 2020-04-14  "
      ]
     },
     "execution_count": 50,
     "metadata": {},
     "output_type": "execute_result"
    }
   ],
   "source": [
    "df_used_cars[df_used_cars.Make==\"amc / rambler\"]"
   ]
  },
  {
   "cell_type": "code",
   "execution_count": 51,
   "id": "1cd823e3-d966-4b9c-bc58-8f55338b5fe6",
   "metadata": {
    "tags": []
   },
   "outputs": [],
   "source": [
    "df_used_cars.loc[27484, \"Make\"] = \"amc\"\n",
    "df_used_cars.loc[27484, \"Model\"] = \"rambler rebel\""
   ]
  },
  {
   "attachments": {},
   "cell_type": "markdown",
   "id": "f2b69621-f626-453e-86d8-1ae4c892ed93",
   "metadata": {
    "tags": []
   },
   "source": [
    "##### american motors"
   ]
  },
  {
   "cell_type": "code",
   "execution_count": 52,
   "id": "a54325b0-75b7-49d0-a6f5-9329e6524f3f",
   "metadata": {
    "tags": []
   },
   "outputs": [
    {
     "data": {
      "text/html": [
       "<div>\n",
       "<style scoped>\n",
       "    .dataframe tbody tr th:only-of-type {\n",
       "        vertical-align: middle;\n",
       "    }\n",
       "\n",
       "    .dataframe tbody tr th {\n",
       "        vertical-align: top;\n",
       "    }\n",
       "\n",
       "    .dataframe thead th {\n",
       "        text-align: right;\n",
       "    }\n",
       "</style>\n",
       "<table border=\"1\" class=\"dataframe\">\n",
       "  <thead>\n",
       "    <tr style=\"text-align: right;\">\n",
       "      <th></th>\n",
       "      <th>ID</th>\n",
       "      <th>pricesold</th>\n",
       "      <th>yearsold</th>\n",
       "      <th>zipcode</th>\n",
       "      <th>Mileage</th>\n",
       "      <th>Make</th>\n",
       "      <th>Model</th>\n",
       "      <th>Year</th>\n",
       "      <th>Trim</th>\n",
       "      <th>Engine</th>\n",
       "      <th>BodyType</th>\n",
       "      <th>NumCylinders</th>\n",
       "      <th>DriveType</th>\n",
       "      <th>datesold</th>\n",
       "    </tr>\n",
       "  </thead>\n",
       "  <tbody>\n",
       "    <tr>\n",
       "      <th>51245</th>\n",
       "      <td>18132</td>\n",
       "      <td>610</td>\n",
       "      <td>2019</td>\n",
       "      <td>77532</td>\n",
       "      <td>100000</td>\n",
       "      <td>amercan</td>\n",
       "      <td>rambler</td>\n",
       "      <td>1969.0</td>\n",
       "      <td>NaN</td>\n",
       "      <td>NaN</td>\n",
       "      <td>Sedan</td>\n",
       "      <td>0</td>\n",
       "      <td>NaN</td>\n",
       "      <td>2019-06-26</td>\n",
       "    </tr>\n",
       "  </tbody>\n",
       "</table>\n",
       "</div>"
      ],
      "text/plain": [
       "          ID  pricesold  yearsold zipcode  Mileage     Make    Model    Year  \\\n",
       "51245  18132        610      2019   77532   100000  amercan  rambler  1969.0   \n",
       "\n",
       "      Trim Engine BodyType  NumCylinders DriveType   datesold  \n",
       "51245  NaN    NaN    Sedan             0       NaN 2019-06-26  "
      ]
     },
     "execution_count": 52,
     "metadata": {},
     "output_type": "execute_result"
    }
   ],
   "source": [
    "df_used_cars[df_used_cars.Make==\"amercan\"]"
   ]
  },
  {
   "cell_type": "code",
   "execution_count": 53,
   "id": "805b4a86-7fcc-49c7-9b26-2085b7cdb47c",
   "metadata": {
    "tags": []
   },
   "outputs": [],
   "source": [
    "df_used_cars.loc[51245, \"Make\"] = \"american motors\""
   ]
  },
  {
   "attachments": {},
   "cell_type": "markdown",
   "id": "efc68173-6fc8-426e-8e84-09a32ba030e3",
   "metadata": {
    "tags": []
   },
   "source": [
    "##### austin / austin princess"
   ]
  },
  {
   "cell_type": "code",
   "execution_count": 54,
   "id": "8bb6cd1e-ebbc-414c-8804-d014710e112f",
   "metadata": {
    "tags": []
   },
   "outputs": [
    {
     "data": {
      "text/html": [
       "<div>\n",
       "<style scoped>\n",
       "    .dataframe tbody tr th:only-of-type {\n",
       "        vertical-align: middle;\n",
       "    }\n",
       "\n",
       "    .dataframe tbody tr th {\n",
       "        vertical-align: top;\n",
       "    }\n",
       "\n",
       "    .dataframe thead th {\n",
       "        text-align: right;\n",
       "    }\n",
       "</style>\n",
       "<table border=\"1\" class=\"dataframe\">\n",
       "  <thead>\n",
       "    <tr style=\"text-align: right;\">\n",
       "      <th></th>\n",
       "      <th>ID</th>\n",
       "      <th>pricesold</th>\n",
       "      <th>yearsold</th>\n",
       "      <th>zipcode</th>\n",
       "      <th>Mileage</th>\n",
       "      <th>Make</th>\n",
       "      <th>Model</th>\n",
       "      <th>Year</th>\n",
       "      <th>Trim</th>\n",
       "      <th>Engine</th>\n",
       "      <th>BodyType</th>\n",
       "      <th>NumCylinders</th>\n",
       "      <th>DriveType</th>\n",
       "      <th>datesold</th>\n",
       "    </tr>\n",
       "  </thead>\n",
       "  <tbody>\n",
       "    <tr>\n",
       "      <th>18958</th>\n",
       "      <td>138091</td>\n",
       "      <td>5000</td>\n",
       "      <td>2020</td>\n",
       "      <td>439**</td>\n",
       "      <td>34000</td>\n",
       "      <td>austin princess</td>\n",
       "      <td>nan</td>\n",
       "      <td>1960.0</td>\n",
       "      <td>NaN</td>\n",
       "      <td>NaN</td>\n",
       "      <td>Limousine</td>\n",
       "      <td>6</td>\n",
       "      <td>NaN</td>\n",
       "      <td>2020-02-02</td>\n",
       "    </tr>\n",
       "  </tbody>\n",
       "</table>\n",
       "</div>"
      ],
      "text/plain": [
       "           ID  pricesold  yearsold zipcode  Mileage             Make Model  \\\n",
       "18958  138091       5000      2020   439**    34000  austin princess   nan   \n",
       "\n",
       "         Year Trim Engine   BodyType  NumCylinders DriveType   datesold  \n",
       "18958  1960.0  NaN    NaN  Limousine             6       NaN 2020-02-02  "
      ]
     },
     "execution_count": 54,
     "metadata": {},
     "output_type": "execute_result"
    }
   ],
   "source": [
    "df_used_cars[df_used_cars.Make==\"austin princess\"]"
   ]
  },
  {
   "cell_type": "code",
   "execution_count": 55,
   "id": "e9def8b4-ce82-4b0a-bd2b-17b94af116c7",
   "metadata": {
    "tags": []
   },
   "outputs": [],
   "source": [
    "df_used_cars.loc[18958, \"Make\"] = \"austin\"\n",
    "df_used_cars.loc[18958, \"Model\"] = \"princess\""
   ]
  },
  {
   "attachments": {},
   "cell_type": "markdown",
   "id": "6f7f6d76-882d-46ee-a590-0480b00cad66",
   "metadata": {
    "tags": []
   },
   "source": [
    "##### austin-healey"
   ]
  },
  {
   "cell_type": "code",
   "execution_count": 56,
   "id": "f40d06ef-20ca-482c-9af9-94880baafea1",
   "metadata": {
    "tags": []
   },
   "outputs": [
    {
     "data": {
      "text/html": [
       "<div>\n",
       "<style scoped>\n",
       "    .dataframe tbody tr th:only-of-type {\n",
       "        vertical-align: middle;\n",
       "    }\n",
       "\n",
       "    .dataframe tbody tr th {\n",
       "        vertical-align: top;\n",
       "    }\n",
       "\n",
       "    .dataframe thead th {\n",
       "        text-align: right;\n",
       "    }\n",
       "</style>\n",
       "<table border=\"1\" class=\"dataframe\">\n",
       "  <thead>\n",
       "    <tr style=\"text-align: right;\">\n",
       "      <th></th>\n",
       "      <th>ID</th>\n",
       "      <th>pricesold</th>\n",
       "      <th>yearsold</th>\n",
       "      <th>zipcode</th>\n",
       "      <th>Mileage</th>\n",
       "      <th>Make</th>\n",
       "      <th>Model</th>\n",
       "      <th>Year</th>\n",
       "      <th>Trim</th>\n",
       "      <th>Engine</th>\n",
       "      <th>BodyType</th>\n",
       "      <th>NumCylinders</th>\n",
       "      <th>DriveType</th>\n",
       "      <th>datesold</th>\n",
       "    </tr>\n",
       "  </thead>\n",
       "  <tbody>\n",
       "    <tr>\n",
       "      <th>13592</th>\n",
       "      <td>146046</td>\n",
       "      <td>10700</td>\n",
       "      <td>2020</td>\n",
       "      <td>600**</td>\n",
       "      <td>19323</td>\n",
       "      <td>austin-healey</td>\n",
       "      <td>100-4</td>\n",
       "      <td>1956.0</td>\n",
       "      <td>NaN</td>\n",
       "      <td>1B220126M</td>\n",
       "      <td>Convertible</td>\n",
       "      <td>0</td>\n",
       "      <td>RWD</td>\n",
       "      <td>2020-09-18</td>\n",
       "    </tr>\n",
       "    <tr>\n",
       "      <th>16344</th>\n",
       "      <td>133958</td>\n",
       "      <td>5000</td>\n",
       "      <td>2020</td>\n",
       "      <td>211**</td>\n",
       "      <td>58738</td>\n",
       "      <td>austin-healey</td>\n",
       "      <td>sprite mk iv</td>\n",
       "      <td>1967.0</td>\n",
       "      <td>NaN</td>\n",
       "      <td>4 Cyl</td>\n",
       "      <td>Convertible</td>\n",
       "      <td>0</td>\n",
       "      <td>RWD</td>\n",
       "      <td>2020-04-21</td>\n",
       "    </tr>\n",
       "    <tr>\n",
       "      <th>54007</th>\n",
       "      <td>149146</td>\n",
       "      <td>4050</td>\n",
       "      <td>2020</td>\n",
       "      <td>465**</td>\n",
       "      <td>35140</td>\n",
       "      <td>austin-healey</td>\n",
       "      <td>sprite mk iv</td>\n",
       "      <td>1968.0</td>\n",
       "      <td>NaN</td>\n",
       "      <td>1275</td>\n",
       "      <td>Convertible</td>\n",
       "      <td>0</td>\n",
       "      <td>RWD</td>\n",
       "      <td>2020-09-15</td>\n",
       "    </tr>\n",
       "    <tr>\n",
       "      <th>54965</th>\n",
       "      <td>133942</td>\n",
       "      <td>2820</td>\n",
       "      <td>2020</td>\n",
       "      <td>472**</td>\n",
       "      <td>56000</td>\n",
       "      <td>austin-healey</td>\n",
       "      <td>sprite</td>\n",
       "      <td>1959.0</td>\n",
       "      <td>NaN</td>\n",
       "      <td>948 cc</td>\n",
       "      <td>Convertible</td>\n",
       "      <td>0</td>\n",
       "      <td>RWD</td>\n",
       "      <td>2020-07-27</td>\n",
       "    </tr>\n",
       "    <tr>\n",
       "      <th>82225</th>\n",
       "      <td>160054</td>\n",
       "      <td>7000</td>\n",
       "      <td>2020</td>\n",
       "      <td>726**</td>\n",
       "      <td>50000</td>\n",
       "      <td>austin-healey</td>\n",
       "      <td>austin healey bugeye sprite</td>\n",
       "      <td>1958.0</td>\n",
       "      <td>NaN</td>\n",
       "      <td>1200&amp;1500cc</td>\n",
       "      <td>Convertible</td>\n",
       "      <td>0</td>\n",
       "      <td>RWD</td>\n",
       "      <td>2020-09-20</td>\n",
       "    </tr>\n",
       "    <tr>\n",
       "      <th>86971</th>\n",
       "      <td>162368</td>\n",
       "      <td>8100</td>\n",
       "      <td>2020</td>\n",
       "      <td>221**</td>\n",
       "      <td>101631</td>\n",
       "      <td>austin-healey</td>\n",
       "      <td>3000</td>\n",
       "      <td>1967.0</td>\n",
       "      <td>MKlll BJ8</td>\n",
       "      <td>2.9L 6 cylinder</td>\n",
       "      <td>Sports car</td>\n",
       "      <td>6</td>\n",
       "      <td>RWD</td>\n",
       "      <td>2020-05-30</td>\n",
       "    </tr>\n",
       "  </tbody>\n",
       "</table>\n",
       "</div>"
      ],
      "text/plain": [
       "           ID  pricesold  yearsold zipcode  Mileage           Make  \\\n",
       "13592  146046      10700      2020   600**    19323  austin-healey   \n",
       "16344  133958       5000      2020   211**    58738  austin-healey   \n",
       "54007  149146       4050      2020   465**    35140  austin-healey   \n",
       "54965  133942       2820      2020   472**    56000  austin-healey   \n",
       "82225  160054       7000      2020   726**    50000  austin-healey   \n",
       "86971  162368       8100      2020   221**   101631  austin-healey   \n",
       "\n",
       "                             Model    Year       Trim           Engine  \\\n",
       "13592                        100-4  1956.0        NaN        1B220126M   \n",
       "16344                 sprite mk iv  1967.0        NaN            4 Cyl   \n",
       "54007                 sprite mk iv  1968.0        NaN             1275   \n",
       "54965                       sprite  1959.0        NaN           948 cc   \n",
       "82225  austin healey bugeye sprite  1958.0        NaN      1200&1500cc   \n",
       "86971                         3000  1967.0  MKlll BJ8  2.9L 6 cylinder   \n",
       "\n",
       "          BodyType  NumCylinders DriveType   datesold  \n",
       "13592  Convertible             0       RWD 2020-09-18  \n",
       "16344  Convertible             0       RWD 2020-04-21  \n",
       "54007  Convertible             0       RWD 2020-09-15  \n",
       "54965  Convertible             0       RWD 2020-07-27  \n",
       "82225  Convertible             0       RWD 2020-09-20  \n",
       "86971   Sports car             6       RWD 2020-05-30  "
      ]
     },
     "execution_count": 56,
     "metadata": {},
     "output_type": "execute_result"
    }
   ],
   "source": [
    "df_used_cars[df_used_cars.Make==\"austin-healey\"]"
   ]
  },
  {
   "cell_type": "code",
   "execution_count": 57,
   "id": "4d731ced-15f4-424c-ae97-c5ad991c6ebe",
   "metadata": {
    "tags": []
   },
   "outputs": [],
   "source": [
    "df_used_cars.Make = df_used_cars.Make.apply(lambda el: filter_(el, \"austin-healey\", \"austin healey\"))"
   ]
  },
  {
   "attachments": {},
   "cell_type": "markdown",
   "id": "3e57fe30-3bd3-45aa-8268-84b739b1d24f",
   "metadata": {
    "tags": []
   },
   "source": [
    "##### bmw "
   ]
  },
  {
   "cell_type": "code",
   "execution_count": 58,
   "id": "14d0d67f-4872-42e9-9749-02b6e99a2e8b",
   "metadata": {
    "tags": []
   },
   "outputs": [
    {
     "data": {
      "text/html": [
       "<div>\n",
       "<style scoped>\n",
       "    .dataframe tbody tr th:only-of-type {\n",
       "        vertical-align: middle;\n",
       "    }\n",
       "\n",
       "    .dataframe tbody tr th {\n",
       "        vertical-align: top;\n",
       "    }\n",
       "\n",
       "    .dataframe thead th {\n",
       "        text-align: right;\n",
       "    }\n",
       "</style>\n",
       "<table border=\"1\" class=\"dataframe\">\n",
       "  <thead>\n",
       "    <tr style=\"text-align: right;\">\n",
       "      <th></th>\n",
       "      <th>ID</th>\n",
       "      <th>pricesold</th>\n",
       "      <th>yearsold</th>\n",
       "      <th>zipcode</th>\n",
       "      <th>Mileage</th>\n",
       "      <th>Make</th>\n",
       "      <th>Model</th>\n",
       "      <th>Year</th>\n",
       "      <th>Trim</th>\n",
       "      <th>Engine</th>\n",
       "      <th>BodyType</th>\n",
       "      <th>NumCylinders</th>\n",
       "      <th>DriveType</th>\n",
       "      <th>datesold</th>\n",
       "    </tr>\n",
       "  </thead>\n",
       "  <tbody>\n",
       "    <tr>\n",
       "      <th>65</th>\n",
       "      <td>44820</td>\n",
       "      <td>16000</td>\n",
       "      <td>2019</td>\n",
       "      <td>40222</td>\n",
       "      <td>24800</td>\n",
       "      <td>bmw</td>\n",
       "      <td>7-series</td>\n",
       "      <td>1998.0</td>\n",
       "      <td>NaN</td>\n",
       "      <td>V8</td>\n",
       "      <td>Sedan</td>\n",
       "      <td>0</td>\n",
       "      <td>NaN</td>\n",
       "      <td>2019-04-18</td>\n",
       "    </tr>\n",
       "    <tr>\n",
       "      <th>69</th>\n",
       "      <td>150216</td>\n",
       "      <td>5000</td>\n",
       "      <td>2020</td>\n",
       "      <td>800**</td>\n",
       "      <td>170285</td>\n",
       "      <td>bmw</td>\n",
       "      <td>3-series</td>\n",
       "      <td>1989.0</td>\n",
       "      <td>I AUTOMATIC</td>\n",
       "      <td>2.5L Gas I6</td>\n",
       "      <td>Convertible</td>\n",
       "      <td>6</td>\n",
       "      <td>RWD</td>\n",
       "      <td>2020-10-12</td>\n",
       "    </tr>\n",
       "    <tr>\n",
       "      <th>89</th>\n",
       "      <td>161768</td>\n",
       "      <td>3700</td>\n",
       "      <td>2020</td>\n",
       "      <td>708**</td>\n",
       "      <td>51939</td>\n",
       "      <td>bmw</td>\n",
       "      <td>x1</td>\n",
       "      <td>2014.0</td>\n",
       "      <td>NaN</td>\n",
       "      <td>NaN</td>\n",
       "      <td>NaN</td>\n",
       "      <td>4</td>\n",
       "      <td>AWD</td>\n",
       "      <td>2020-08-20</td>\n",
       "    </tr>\n",
       "    <tr>\n",
       "      <th>113</th>\n",
       "      <td>71334</td>\n",
       "      <td>2000</td>\n",
       "      <td>2019</td>\n",
       "      <td>32223</td>\n",
       "      <td>153451</td>\n",
       "      <td>bmw</td>\n",
       "      <td>3-series</td>\n",
       "      <td>2006.0</td>\n",
       "      <td>325i</td>\n",
       "      <td>3.0 I6</td>\n",
       "      <td>Sedan</td>\n",
       "      <td>6</td>\n",
       "      <td>RWD</td>\n",
       "      <td>2019-02-01</td>\n",
       "    </tr>\n",
       "    <tr>\n",
       "      <th>181</th>\n",
       "      <td>75758</td>\n",
       "      <td>7000</td>\n",
       "      <td>2019</td>\n",
       "      <td>92108</td>\n",
       "      <td>102700</td>\n",
       "      <td>bmw</td>\n",
       "      <td>m3</td>\n",
       "      <td>2005.0</td>\n",
       "      <td>Automatic</td>\n",
       "      <td>3.2</td>\n",
       "      <td>Convertible</td>\n",
       "      <td>6</td>\n",
       "      <td>RWD</td>\n",
       "      <td>2019-03-06</td>\n",
       "    </tr>\n",
       "  </tbody>\n",
       "</table>\n",
       "</div>"
      ],
      "text/plain": [
       "         ID  pricesold  yearsold zipcode  Mileage Make     Model    Year  \\\n",
       "65    44820      16000      2019   40222    24800  bmw  7-series  1998.0   \n",
       "69   150216       5000      2020   800**   170285  bmw  3-series  1989.0   \n",
       "89   161768       3700      2020   708**    51939  bmw        x1  2014.0   \n",
       "113   71334       2000      2019   32223   153451  bmw  3-series  2006.0   \n",
       "181   75758       7000      2019   92108   102700  bmw        m3  2005.0   \n",
       "\n",
       "            Trim       Engine     BodyType  NumCylinders DriveType   datesold  \n",
       "65           NaN           V8        Sedan             0       NaN 2019-04-18  \n",
       "69   I AUTOMATIC  2.5L Gas I6  Convertible             6       RWD 2020-10-12  \n",
       "89           NaN          NaN          NaN             4       AWD 2020-08-20  \n",
       "113         325i       3.0 I6        Sedan             6       RWD 2019-02-01  \n",
       "181    Automatic          3.2  Convertible             6       RWD 2019-03-06  "
      ]
     },
     "execution_count": 58,
     "metadata": {},
     "output_type": "execute_result"
    }
   ],
   "source": [
    "df_used_cars[df_used_cars.Make==\"bmw\"].head()"
   ]
  },
  {
   "cell_type": "code",
   "execution_count": 59,
   "id": "7ee0c334-bb70-48ee-8261-213398fdf735",
   "metadata": {
    "tags": []
   },
   "outputs": [
    {
     "data": {
      "text/html": [
       "<div>\n",
       "<style scoped>\n",
       "    .dataframe tbody tr th:only-of-type {\n",
       "        vertical-align: middle;\n",
       "    }\n",
       "\n",
       "    .dataframe tbody tr th {\n",
       "        vertical-align: top;\n",
       "    }\n",
       "\n",
       "    .dataframe thead th {\n",
       "        text-align: right;\n",
       "    }\n",
       "</style>\n",
       "<table border=\"1\" class=\"dataframe\">\n",
       "  <thead>\n",
       "    <tr style=\"text-align: right;\">\n",
       "      <th></th>\n",
       "      <th>ID</th>\n",
       "      <th>pricesold</th>\n",
       "      <th>yearsold</th>\n",
       "      <th>zipcode</th>\n",
       "      <th>Mileage</th>\n",
       "      <th>Make</th>\n",
       "      <th>Model</th>\n",
       "      <th>Year</th>\n",
       "      <th>Trim</th>\n",
       "      <th>Engine</th>\n",
       "      <th>BodyType</th>\n",
       "      <th>NumCylinders</th>\n",
       "      <th>DriveType</th>\n",
       "      <th>datesold</th>\n",
       "    </tr>\n",
       "  </thead>\n",
       "  <tbody>\n",
       "    <tr>\n",
       "      <th>78485</th>\n",
       "      <td>11740</td>\n",
       "      <td>3380</td>\n",
       "      <td>2019</td>\n",
       "      <td>19116</td>\n",
       "      <td>136356</td>\n",
       "      <td>bmw 3 series</td>\n",
       "      <td>328i wagon</td>\n",
       "      <td>2007.0</td>\n",
       "      <td>328i</td>\n",
       "      <td>Straight 6 Cylinder Engine 3.0L/183</td>\n",
       "      <td>Station Wagon</td>\n",
       "      <td>0</td>\n",
       "      <td>4dr Sports Wgn 328i RWD</td>\n",
       "      <td>2019-07-17</td>\n",
       "    </tr>\n",
       "  </tbody>\n",
       "</table>\n",
       "</div>"
      ],
      "text/plain": [
       "          ID  pricesold  yearsold zipcode  Mileage          Make       Model  \\\n",
       "78485  11740       3380      2019   19116   136356  bmw 3 series  328i wagon   \n",
       "\n",
       "         Year  Trim                               Engine       BodyType  \\\n",
       "78485  2007.0  328i  Straight 6 Cylinder Engine 3.0L/183  Station Wagon   \n",
       "\n",
       "       NumCylinders                DriveType   datesold  \n",
       "78485             0  4dr Sports Wgn 328i RWD 2019-07-17  "
      ]
     },
     "execution_count": 59,
     "metadata": {},
     "output_type": "execute_result"
    }
   ],
   "source": [
    "df_used_cars[df_used_cars.Make==\"bmw 3 series\"]"
   ]
  },
  {
   "cell_type": "code",
   "execution_count": 60,
   "id": "f0cef8df-8a99-4f48-97da-4b123ff6b096",
   "metadata": {
    "tags": []
   },
   "outputs": [],
   "source": [
    "df_used_cars.loc[78485, \"Make\"] = \"bmw\""
   ]
  },
  {
   "cell_type": "code",
   "execution_count": 61,
   "id": "a2d59d5e-88d2-4ef5-9f8f-f70ba08e2504",
   "metadata": {
    "tags": []
   },
   "outputs": [
    {
     "data": {
      "text/html": [
       "<div>\n",
       "<style scoped>\n",
       "    .dataframe tbody tr th:only-of-type {\n",
       "        vertical-align: middle;\n",
       "    }\n",
       "\n",
       "    .dataframe tbody tr th {\n",
       "        vertical-align: top;\n",
       "    }\n",
       "\n",
       "    .dataframe thead th {\n",
       "        text-align: right;\n",
       "    }\n",
       "</style>\n",
       "<table border=\"1\" class=\"dataframe\">\n",
       "  <thead>\n",
       "    <tr style=\"text-align: right;\">\n",
       "      <th></th>\n",
       "      <th>ID</th>\n",
       "      <th>pricesold</th>\n",
       "      <th>yearsold</th>\n",
       "      <th>zipcode</th>\n",
       "      <th>Mileage</th>\n",
       "      <th>Make</th>\n",
       "      <th>Model</th>\n",
       "      <th>Year</th>\n",
       "      <th>Trim</th>\n",
       "      <th>Engine</th>\n",
       "      <th>BodyType</th>\n",
       "      <th>NumCylinders</th>\n",
       "      <th>DriveType</th>\n",
       "      <th>datesold</th>\n",
       "    </tr>\n",
       "  </thead>\n",
       "  <tbody>\n",
       "    <tr>\n",
       "      <th>78484</th>\n",
       "      <td>11452</td>\n",
       "      <td>6400</td>\n",
       "      <td>2018</td>\n",
       "      <td>19116</td>\n",
       "      <td>115227</td>\n",
       "      <td>bmw 335i</td>\n",
       "      <td>carfax accident free</td>\n",
       "      <td>2011.0</td>\n",
       "      <td>335i</td>\n",
       "      <td>Straight 6 Cylinder Engine 3.0L/183</td>\n",
       "      <td>4dr Car</td>\n",
       "      <td>0</td>\n",
       "      <td>4dr Sdn 335i RWD</td>\n",
       "      <td>2018-08-26</td>\n",
       "    </tr>\n",
       "  </tbody>\n",
       "</table>\n",
       "</div>"
      ],
      "text/plain": [
       "          ID  pricesold  yearsold zipcode  Mileage      Make  \\\n",
       "78484  11452       6400      2018   19116   115227  bmw 335i   \n",
       "\n",
       "                      Model    Year  Trim  \\\n",
       "78484  carfax accident free  2011.0  335i   \n",
       "\n",
       "                                    Engine BodyType  NumCylinders  \\\n",
       "78484  Straight 6 Cylinder Engine 3.0L/183  4dr Car             0   \n",
       "\n",
       "              DriveType   datesold  \n",
       "78484  4dr Sdn 335i RWD 2018-08-26  "
      ]
     },
     "execution_count": 61,
     "metadata": {},
     "output_type": "execute_result"
    }
   ],
   "source": [
    "df_used_cars[df_used_cars.Make==\"bmw 335i\"]"
   ]
  },
  {
   "cell_type": "code",
   "execution_count": 62,
   "id": "bd62fdaf-4de1-44de-b3c8-c3aa66a89e93",
   "metadata": {
    "tags": []
   },
   "outputs": [],
   "source": [
    "df_used_cars.loc[78484, \"Make\"] = \"bmw\"\n",
    "df_used_cars.loc[78484, \"Model\"] = \"335i\""
   ]
  },
  {
   "cell_type": "code",
   "execution_count": 63,
   "id": "4110d9ea-9918-4585-b52e-6958362a179f",
   "metadata": {
    "tags": []
   },
   "outputs": [
    {
     "data": {
      "text/html": [
       "<div>\n",
       "<style scoped>\n",
       "    .dataframe tbody tr th:only-of-type {\n",
       "        vertical-align: middle;\n",
       "    }\n",
       "\n",
       "    .dataframe tbody tr th {\n",
       "        vertical-align: top;\n",
       "    }\n",
       "\n",
       "    .dataframe thead th {\n",
       "        text-align: right;\n",
       "    }\n",
       "</style>\n",
       "<table border=\"1\" class=\"dataframe\">\n",
       "  <thead>\n",
       "    <tr style=\"text-align: right;\">\n",
       "      <th></th>\n",
       "      <th>ID</th>\n",
       "      <th>pricesold</th>\n",
       "      <th>yearsold</th>\n",
       "      <th>zipcode</th>\n",
       "      <th>Mileage</th>\n",
       "      <th>Make</th>\n",
       "      <th>Model</th>\n",
       "      <th>Year</th>\n",
       "      <th>Trim</th>\n",
       "      <th>Engine</th>\n",
       "      <th>BodyType</th>\n",
       "      <th>NumCylinders</th>\n",
       "      <th>DriveType</th>\n",
       "      <th>datesold</th>\n",
       "    </tr>\n",
       "  </thead>\n",
       "  <tbody>\n",
       "    <tr>\n",
       "      <th>78481</th>\n",
       "      <td>12560</td>\n",
       "      <td>4450</td>\n",
       "      <td>2019</td>\n",
       "      <td>19116</td>\n",
       "      <td>65811</td>\n",
       "      <td>bmw 530 sport pkg</td>\n",
       "      <td>5 series one owner</td>\n",
       "      <td>2002.0</td>\n",
       "      <td>530iA</td>\n",
       "      <td>Straight 6 Cylinder Engine 3.0L/183</td>\n",
       "      <td>4dr Car</td>\n",
       "      <td>0</td>\n",
       "      <td>530iA 4dr Sdn 5-Spd Auto</td>\n",
       "      <td>2019-06-29</td>\n",
       "    </tr>\n",
       "  </tbody>\n",
       "</table>\n",
       "</div>"
      ],
      "text/plain": [
       "          ID  pricesold  yearsold zipcode  Mileage               Make  \\\n",
       "78481  12560       4450      2019   19116    65811  bmw 530 sport pkg   \n",
       "\n",
       "                    Model    Year   Trim                               Engine  \\\n",
       "78481  5 series one owner  2002.0  530iA  Straight 6 Cylinder Engine 3.0L/183   \n",
       "\n",
       "      BodyType  NumCylinders                 DriveType   datesold  \n",
       "78481  4dr Car             0  530iA 4dr Sdn 5-Spd Auto 2019-06-29  "
      ]
     },
     "execution_count": 63,
     "metadata": {},
     "output_type": "execute_result"
    }
   ],
   "source": [
    "df_used_cars[df_used_cars.Make==\"bmw 530 sport pkg\"]"
   ]
  },
  {
   "cell_type": "code",
   "execution_count": 64,
   "id": "e92d83f0-fc8d-42f1-a730-5c336d28f603",
   "metadata": {
    "tags": []
   },
   "outputs": [],
   "source": [
    "df_used_cars.loc[78481, \"Make\"] = \"bmw\"\n",
    "df_used_cars.loc[78481, \"Model\"] = \"530 sport\""
   ]
  },
  {
   "cell_type": "code",
   "execution_count": 65,
   "id": "3e220004-4e67-4c05-9ba1-d17b87e1f761",
   "metadata": {
    "tags": []
   },
   "outputs": [
    {
     "data": {
      "text/html": [
       "<div>\n",
       "<style scoped>\n",
       "    .dataframe tbody tr th:only-of-type {\n",
       "        vertical-align: middle;\n",
       "    }\n",
       "\n",
       "    .dataframe tbody tr th {\n",
       "        vertical-align: top;\n",
       "    }\n",
       "\n",
       "    .dataframe thead th {\n",
       "        text-align: right;\n",
       "    }\n",
       "</style>\n",
       "<table border=\"1\" class=\"dataframe\">\n",
       "  <thead>\n",
       "    <tr style=\"text-align: right;\">\n",
       "      <th></th>\n",
       "      <th>ID</th>\n",
       "      <th>pricesold</th>\n",
       "      <th>yearsold</th>\n",
       "      <th>zipcode</th>\n",
       "      <th>Mileage</th>\n",
       "      <th>Make</th>\n",
       "      <th>Model</th>\n",
       "      <th>Year</th>\n",
       "      <th>Trim</th>\n",
       "      <th>Engine</th>\n",
       "      <th>BodyType</th>\n",
       "      <th>NumCylinders</th>\n",
       "      <th>DriveType</th>\n",
       "      <th>datesold</th>\n",
       "    </tr>\n",
       "  </thead>\n",
       "  <tbody>\n",
       "    <tr>\n",
       "      <th>78482</th>\n",
       "      <td>12299</td>\n",
       "      <td>9700</td>\n",
       "      <td>2019</td>\n",
       "      <td>19116</td>\n",
       "      <td>96000</td>\n",
       "      <td>bmw 535i xdrive awd</td>\n",
       "      <td>carfax one owner</td>\n",
       "      <td>2011.0</td>\n",
       "      <td>NAV ONLY 96k TWIN TURBO</td>\n",
       "      <td>Straight 6 Cylinder Engine 3.0L/182</td>\n",
       "      <td>4dr Car</td>\n",
       "      <td>0</td>\n",
       "      <td>AWD</td>\n",
       "      <td>2019-10-19</td>\n",
       "    </tr>\n",
       "  </tbody>\n",
       "</table>\n",
       "</div>"
      ],
      "text/plain": [
       "          ID  pricesold  yearsold zipcode  Mileage                 Make  \\\n",
       "78482  12299       9700      2019   19116    96000  bmw 535i xdrive awd   \n",
       "\n",
       "                  Model    Year                     Trim  \\\n",
       "78482  carfax one owner  2011.0  NAV ONLY 96k TWIN TURBO   \n",
       "\n",
       "                                    Engine BodyType  NumCylinders DriveType  \\\n",
       "78482  Straight 6 Cylinder Engine 3.0L/182  4dr Car             0       AWD   \n",
       "\n",
       "        datesold  \n",
       "78482 2019-10-19  "
      ]
     },
     "execution_count": 65,
     "metadata": {},
     "output_type": "execute_result"
    }
   ],
   "source": [
    "df_used_cars[df_used_cars.Make==\"bmw 535i xdrive awd\"]"
   ]
  },
  {
   "cell_type": "code",
   "execution_count": 66,
   "id": "e48c18f6-4314-42d9-b2c6-cf797e42fc02",
   "metadata": {
    "tags": []
   },
   "outputs": [],
   "source": [
    "df_used_cars.loc[78482, \"Make\"] = \"bmw\"\n",
    "df_used_cars.loc[78482, \"Model\"] = \"535i xdrive\""
   ]
  },
  {
   "cell_type": "code",
   "execution_count": 67,
   "id": "b6865069-dfa4-4ca3-abb2-294d474aeb70",
   "metadata": {
    "tags": []
   },
   "outputs": [
    {
     "data": {
      "text/html": [
       "<div>\n",
       "<style scoped>\n",
       "    .dataframe tbody tr th:only-of-type {\n",
       "        vertical-align: middle;\n",
       "    }\n",
       "\n",
       "    .dataframe tbody tr th {\n",
       "        vertical-align: top;\n",
       "    }\n",
       "\n",
       "    .dataframe thead th {\n",
       "        text-align: right;\n",
       "    }\n",
       "</style>\n",
       "<table border=\"1\" class=\"dataframe\">\n",
       "  <thead>\n",
       "    <tr style=\"text-align: right;\">\n",
       "      <th></th>\n",
       "      <th>ID</th>\n",
       "      <th>pricesold</th>\n",
       "      <th>yearsold</th>\n",
       "      <th>zipcode</th>\n",
       "      <th>Mileage</th>\n",
       "      <th>Make</th>\n",
       "      <th>Model</th>\n",
       "      <th>Year</th>\n",
       "      <th>Trim</th>\n",
       "      <th>Engine</th>\n",
       "      <th>BodyType</th>\n",
       "      <th>NumCylinders</th>\n",
       "      <th>DriveType</th>\n",
       "      <th>datesold</th>\n",
       "    </tr>\n",
       "  </thead>\n",
       "  <tbody>\n",
       "    <tr>\n",
       "      <th>78487</th>\n",
       "      <td>28085</td>\n",
       "      <td>23200</td>\n",
       "      <td>2019</td>\n",
       "      <td>19116</td>\n",
       "      <td>16500</td>\n",
       "      <td>bmw 750li xdrive</td>\n",
       "      <td>m-sport only 16k</td>\n",
       "      <td>2015.0</td>\n",
       "      <td>Fully Loaded</td>\n",
       "      <td>8 Cylinder Engine 4.4L</td>\n",
       "      <td>4dr Car</td>\n",
       "      <td>0</td>\n",
       "      <td>AWD</td>\n",
       "      <td>2019-09-13</td>\n",
       "    </tr>\n",
       "  </tbody>\n",
       "</table>\n",
       "</div>"
      ],
      "text/plain": [
       "          ID  pricesold  yearsold zipcode  Mileage              Make  \\\n",
       "78487  28085      23200      2019   19116    16500  bmw 750li xdrive   \n",
       "\n",
       "                  Model    Year          Trim                  Engine  \\\n",
       "78487  m-sport only 16k  2015.0  Fully Loaded  8 Cylinder Engine 4.4L   \n",
       "\n",
       "      BodyType  NumCylinders DriveType   datesold  \n",
       "78487  4dr Car             0       AWD 2019-09-13  "
      ]
     },
     "execution_count": 67,
     "metadata": {},
     "output_type": "execute_result"
    }
   ],
   "source": [
    "df_used_cars[df_used_cars.Make==\"bmw 750li xdrive\"]"
   ]
  },
  {
   "cell_type": "code",
   "execution_count": 68,
   "id": "7263602f-9324-4e5d-81df-50d35150230a",
   "metadata": {
    "tags": []
   },
   "outputs": [],
   "source": [
    "df_used_cars.loc[78487, \"Make\"] = \"bmw\"\n",
    "df_used_cars.loc[78487, \"Model\"] = \"750li\""
   ]
  },
  {
   "attachments": {},
   "cell_type": "markdown",
   "id": "feb64c68-c341-42e3-bb68-4280ff50458c",
   "metadata": {
    "tags": []
   },
   "source": [
    "##### buick"
   ]
  },
  {
   "cell_type": "code",
   "execution_count": 69,
   "id": "c277d9bc-6cbf-4b60-99e6-6a15bc1d158a",
   "metadata": {
    "tags": []
   },
   "outputs": [
    {
     "data": {
      "text/html": [
       "<div>\n",
       "<style scoped>\n",
       "    .dataframe tbody tr th:only-of-type {\n",
       "        vertical-align: middle;\n",
       "    }\n",
       "\n",
       "    .dataframe tbody tr th {\n",
       "        vertical-align: top;\n",
       "    }\n",
       "\n",
       "    .dataframe thead th {\n",
       "        text-align: right;\n",
       "    }\n",
       "</style>\n",
       "<table border=\"1\" class=\"dataframe\">\n",
       "  <thead>\n",
       "    <tr style=\"text-align: right;\">\n",
       "      <th></th>\n",
       "      <th>ID</th>\n",
       "      <th>pricesold</th>\n",
       "      <th>yearsold</th>\n",
       "      <th>zipcode</th>\n",
       "      <th>Mileage</th>\n",
       "      <th>Make</th>\n",
       "      <th>Model</th>\n",
       "      <th>Year</th>\n",
       "      <th>Trim</th>\n",
       "      <th>Engine</th>\n",
       "      <th>BodyType</th>\n",
       "      <th>NumCylinders</th>\n",
       "      <th>DriveType</th>\n",
       "      <th>datesold</th>\n",
       "    </tr>\n",
       "  </thead>\n",
       "  <tbody>\n",
       "    <tr>\n",
       "      <th>16</th>\n",
       "      <td>144540</td>\n",
       "      <td>3330</td>\n",
       "      <td>2020</td>\n",
       "      <td>856**</td>\n",
       "      <td>47692</td>\n",
       "      <td>buick</td>\n",
       "      <td>lesabre</td>\n",
       "      <td>2004.0</td>\n",
       "      <td>CUSTOM</td>\n",
       "      <td>3.8L Gas V6</td>\n",
       "      <td>Sedan</td>\n",
       "      <td>6</td>\n",
       "      <td>FWD</td>\n",
       "      <td>2020-09-01</td>\n",
       "    </tr>\n",
       "    <tr>\n",
       "      <th>52</th>\n",
       "      <td>64048</td>\n",
       "      <td>500</td>\n",
       "      <td>2019</td>\n",
       "      <td>90028</td>\n",
       "      <td>40000</td>\n",
       "      <td>buick</td>\n",
       "      <td>riviera</td>\n",
       "      <td>1977.0</td>\n",
       "      <td>NaN</td>\n",
       "      <td>NaN</td>\n",
       "      <td>NaN</td>\n",
       "      <td>0</td>\n",
       "      <td>NaN</td>\n",
       "      <td>2019-08-22</td>\n",
       "    </tr>\n",
       "    <tr>\n",
       "      <th>211</th>\n",
       "      <td>153904</td>\n",
       "      <td>10000</td>\n",
       "      <td>2020</td>\n",
       "      <td>927**</td>\n",
       "      <td>70653</td>\n",
       "      <td>buick</td>\n",
       "      <td>riviera</td>\n",
       "      <td>1965.0</td>\n",
       "      <td>NaN</td>\n",
       "      <td>NaN</td>\n",
       "      <td>Sedan</td>\n",
       "      <td>8</td>\n",
       "      <td>NaN</td>\n",
       "      <td>2020-01-27</td>\n",
       "    </tr>\n",
       "    <tr>\n",
       "      <th>274</th>\n",
       "      <td>80139</td>\n",
       "      <td>2500</td>\n",
       "      <td>2019</td>\n",
       "      <td>48509</td>\n",
       "      <td>102000</td>\n",
       "      <td>buick</td>\n",
       "      <td>grand national</td>\n",
       "      <td>1985.0</td>\n",
       "      <td>T-type</td>\n",
       "      <td>NaN</td>\n",
       "      <td>Coupe</td>\n",
       "      <td>6</td>\n",
       "      <td>RWD</td>\n",
       "      <td>2019-08-28</td>\n",
       "    </tr>\n",
       "    <tr>\n",
       "      <th>515</th>\n",
       "      <td>114145</td>\n",
       "      <td>12750</td>\n",
       "      <td>2020</td>\n",
       "      <td>19350</td>\n",
       "      <td>114000</td>\n",
       "      <td>buick</td>\n",
       "      <td>grand national</td>\n",
       "      <td>1987.0</td>\n",
       "      <td>NaN</td>\n",
       "      <td>NaN</td>\n",
       "      <td>NaN</td>\n",
       "      <td>6</td>\n",
       "      <td>V-6</td>\n",
       "      <td>2020-02-21</td>\n",
       "    </tr>\n",
       "  </tbody>\n",
       "</table>\n",
       "</div>"
      ],
      "text/plain": [
       "         ID  pricesold  yearsold zipcode  Mileage   Make           Model  \\\n",
       "16   144540       3330      2020   856**    47692  buick         lesabre   \n",
       "52    64048        500      2019   90028    40000  buick         riviera   \n",
       "211  153904      10000      2020   927**    70653  buick         riviera   \n",
       "274   80139       2500      2019   48509   102000  buick  grand national   \n",
       "515  114145      12750      2020   19350   114000  buick  grand national   \n",
       "\n",
       "       Year    Trim       Engine BodyType  NumCylinders DriveType   datesold  \n",
       "16   2004.0  CUSTOM  3.8L Gas V6    Sedan             6       FWD 2020-09-01  \n",
       "52   1977.0     NaN          NaN      NaN             0       NaN 2019-08-22  \n",
       "211  1965.0     NaN          NaN    Sedan             8       NaN 2020-01-27  \n",
       "274  1985.0  T-type          NaN    Coupe             6       RWD 2019-08-28  \n",
       "515  1987.0     NaN          NaN      NaN             6       V-6 2020-02-21  "
      ]
     },
     "execution_count": 69,
     "metadata": {},
     "output_type": "execute_result"
    }
   ],
   "source": [
    "df_used_cars[df_used_cars.Make==\"buick\"].head()"
   ]
  },
  {
   "cell_type": "code",
   "execution_count": 70,
   "id": "83d600bd-82d9-4c2f-a027-0ca0fcd7f8ac",
   "metadata": {
    "tags": []
   },
   "outputs": [
    {
     "data": {
      "text/html": [
       "<div>\n",
       "<style scoped>\n",
       "    .dataframe tbody tr th:only-of-type {\n",
       "        vertical-align: middle;\n",
       "    }\n",
       "\n",
       "    .dataframe tbody tr th {\n",
       "        vertical-align: top;\n",
       "    }\n",
       "\n",
       "    .dataframe thead th {\n",
       "        text-align: right;\n",
       "    }\n",
       "</style>\n",
       "<table border=\"1\" class=\"dataframe\">\n",
       "  <thead>\n",
       "    <tr style=\"text-align: right;\">\n",
       "      <th></th>\n",
       "      <th>ID</th>\n",
       "      <th>pricesold</th>\n",
       "      <th>yearsold</th>\n",
       "      <th>zipcode</th>\n",
       "      <th>Mileage</th>\n",
       "      <th>Make</th>\n",
       "      <th>Model</th>\n",
       "      <th>Year</th>\n",
       "      <th>Trim</th>\n",
       "      <th>Engine</th>\n",
       "      <th>BodyType</th>\n",
       "      <th>NumCylinders</th>\n",
       "      <th>DriveType</th>\n",
       "      <th>datesold</th>\n",
       "    </tr>\n",
       "  </thead>\n",
       "  <tbody>\n",
       "    <tr>\n",
       "      <th>78337</th>\n",
       "      <td>90395</td>\n",
       "      <td>3250</td>\n",
       "      <td>2019</td>\n",
       "      <td>19116</td>\n",
       "      <td>68421</td>\n",
       "      <td>buick lesabre</td>\n",
       "      <td>carfax accident free</td>\n",
       "      <td>2005.0</td>\n",
       "      <td>Custom Only 68k</td>\n",
       "      <td>V6 Cylinder Engine 3.8L/231</td>\n",
       "      <td>4dr Car</td>\n",
       "      <td>0</td>\n",
       "      <td>FWD</td>\n",
       "      <td>2019-02-17</td>\n",
       "    </tr>\n",
       "  </tbody>\n",
       "</table>\n",
       "</div>"
      ],
      "text/plain": [
       "          ID  pricesold  yearsold zipcode  Mileage           Make  \\\n",
       "78337  90395       3250      2019   19116    68421  buick lesabre   \n",
       "\n",
       "                      Model    Year             Trim  \\\n",
       "78337  carfax accident free  2005.0  Custom Only 68k   \n",
       "\n",
       "                            Engine BodyType  NumCylinders DriveType   datesold  \n",
       "78337  V6 Cylinder Engine 3.8L/231  4dr Car             0       FWD 2019-02-17  "
      ]
     },
     "execution_count": 70,
     "metadata": {},
     "output_type": "execute_result"
    }
   ],
   "source": [
    "df_used_cars[df_used_cars.Make==\"buick lesabre\"].head()"
   ]
  },
  {
   "cell_type": "code",
   "execution_count": 71,
   "id": "5693c728-90ad-427a-893d-01483dfcedd9",
   "metadata": {
    "tags": []
   },
   "outputs": [],
   "source": [
    "df_used_cars.loc[78337, \"Make\"] = \"buick\"\n",
    "df_used_cars.loc[78337, \"Model\"] = \"lesabre\""
   ]
  },
  {
   "cell_type": "code",
   "execution_count": 72,
   "id": "35facb56-b758-4a33-8f8f-219b22ea2a6c",
   "metadata": {
    "tags": []
   },
   "outputs": [
    {
     "data": {
      "text/html": [
       "<div>\n",
       "<style scoped>\n",
       "    .dataframe tbody tr th:only-of-type {\n",
       "        vertical-align: middle;\n",
       "    }\n",
       "\n",
       "    .dataframe tbody tr th {\n",
       "        vertical-align: top;\n",
       "    }\n",
       "\n",
       "    .dataframe thead th {\n",
       "        text-align: right;\n",
       "    }\n",
       "</style>\n",
       "<table border=\"1\" class=\"dataframe\">\n",
       "  <thead>\n",
       "    <tr style=\"text-align: right;\">\n",
       "      <th></th>\n",
       "      <th>ID</th>\n",
       "      <th>pricesold</th>\n",
       "      <th>yearsold</th>\n",
       "      <th>zipcode</th>\n",
       "      <th>Mileage</th>\n",
       "      <th>Make</th>\n",
       "      <th>Model</th>\n",
       "      <th>Year</th>\n",
       "      <th>Trim</th>\n",
       "      <th>Engine</th>\n",
       "      <th>BodyType</th>\n",
       "      <th>NumCylinders</th>\n",
       "      <th>DriveType</th>\n",
       "      <th>datesold</th>\n",
       "    </tr>\n",
       "  </thead>\n",
       "  <tbody>\n",
       "    <tr>\n",
       "      <th>78336</th>\n",
       "      <td>147515</td>\n",
       "      <td>3440</td>\n",
       "      <td>2020</td>\n",
       "      <td>191**</td>\n",
       "      <td>88152</td>\n",
       "      <td>buick only 88k 5.7l</td>\n",
       "      <td>roadmaster wagon</td>\n",
       "      <td>1993.0</td>\n",
       "      <td>Estate</td>\n",
       "      <td>8 Cylinder Engine 5.7L/350</td>\n",
       "      <td>--</td>\n",
       "      <td>0</td>\n",
       "      <td>4dr Wagon Estate</td>\n",
       "      <td>2020-12-19</td>\n",
       "    </tr>\n",
       "  </tbody>\n",
       "</table>\n",
       "</div>"
      ],
      "text/plain": [
       "           ID  pricesold  yearsold zipcode  Mileage                 Make  \\\n",
       "78336  147515       3440      2020   191**    88152  buick only 88k 5.7l   \n",
       "\n",
       "                  Model    Year    Trim                      Engine BodyType  \\\n",
       "78336  roadmaster wagon  1993.0  Estate  8 Cylinder Engine 5.7L/350       --   \n",
       "\n",
       "       NumCylinders         DriveType   datesold  \n",
       "78336             0  4dr Wagon Estate 2020-12-19  "
      ]
     },
     "execution_count": 72,
     "metadata": {},
     "output_type": "execute_result"
    }
   ],
   "source": [
    "df_used_cars[df_used_cars.Make==\"buick only 88k 5.7l\"].head()"
   ]
  },
  {
   "cell_type": "code",
   "execution_count": 73,
   "id": "3bdcf7c0-6f04-4643-9b21-f65d864d41ab",
   "metadata": {
    "tags": []
   },
   "outputs": [],
   "source": [
    "df_used_cars.loc[78336, \"Make\"] = \"buick\""
   ]
  },
  {
   "attachments": {},
   "cell_type": "markdown",
   "id": "7a1a0457-1647-4393-8a77-cb1cb586d9c7",
   "metadata": {
    "tags": []
   },
   "source": [
    "##### cadillac"
   ]
  },
  {
   "cell_type": "code",
   "execution_count": 74,
   "id": "a50fbb6d-b3c7-4bd5-8a06-1e4e8f204227",
   "metadata": {
    "tags": []
   },
   "outputs": [
    {
     "data": {
      "text/html": [
       "<div>\n",
       "<style scoped>\n",
       "    .dataframe tbody tr th:only-of-type {\n",
       "        vertical-align: middle;\n",
       "    }\n",
       "\n",
       "    .dataframe tbody tr th {\n",
       "        vertical-align: top;\n",
       "    }\n",
       "\n",
       "    .dataframe thead th {\n",
       "        text-align: right;\n",
       "    }\n",
       "</style>\n",
       "<table border=\"1\" class=\"dataframe\">\n",
       "  <thead>\n",
       "    <tr style=\"text-align: right;\">\n",
       "      <th></th>\n",
       "      <th>ID</th>\n",
       "      <th>pricesold</th>\n",
       "      <th>yearsold</th>\n",
       "      <th>zipcode</th>\n",
       "      <th>Mileage</th>\n",
       "      <th>Make</th>\n",
       "      <th>Model</th>\n",
       "      <th>Year</th>\n",
       "      <th>Trim</th>\n",
       "      <th>Engine</th>\n",
       "      <th>BodyType</th>\n",
       "      <th>NumCylinders</th>\n",
       "      <th>DriveType</th>\n",
       "      <th>datesold</th>\n",
       "    </tr>\n",
       "  </thead>\n",
       "  <tbody>\n",
       "    <tr>\n",
       "      <th>50</th>\n",
       "      <td>102288</td>\n",
       "      <td>5600</td>\n",
       "      <td>2019</td>\n",
       "      <td>60491</td>\n",
       "      <td>143250</td>\n",
       "      <td>cadillac</td>\n",
       "      <td>cts</td>\n",
       "      <td>2010.0</td>\n",
       "      <td>Performance</td>\n",
       "      <td>3.6</td>\n",
       "      <td>Wagon</td>\n",
       "      <td>6</td>\n",
       "      <td>AWD</td>\n",
       "      <td>2019-11-24</td>\n",
       "    </tr>\n",
       "    <tr>\n",
       "      <th>51</th>\n",
       "      <td>88979</td>\n",
       "      <td>6500</td>\n",
       "      <td>2019</td>\n",
       "      <td>06268</td>\n",
       "      <td>89000</td>\n",
       "      <td>cadillac</td>\n",
       "      <td>allante</td>\n",
       "      <td>1988.0</td>\n",
       "      <td>NaN</td>\n",
       "      <td>4.1 Liter V-8</td>\n",
       "      <td>2-seater convertible</td>\n",
       "      <td>8</td>\n",
       "      <td>FWD</td>\n",
       "      <td>2019-06-03</td>\n",
       "    </tr>\n",
       "    <tr>\n",
       "      <th>63</th>\n",
       "      <td>131515</td>\n",
       "      <td>9600</td>\n",
       "      <td>2020</td>\n",
       "      <td>402**</td>\n",
       "      <td>18100</td>\n",
       "      <td>cadillac</td>\n",
       "      <td>fleetwood</td>\n",
       "      <td>1984.0</td>\n",
       "      <td>Brougham d’Elegance</td>\n",
       "      <td>4.1L V8 OHV 16V</td>\n",
       "      <td>Sedan</td>\n",
       "      <td>8</td>\n",
       "      <td>RWD</td>\n",
       "      <td>2020-03-17</td>\n",
       "    </tr>\n",
       "    <tr>\n",
       "      <th>67</th>\n",
       "      <td>149334</td>\n",
       "      <td>10000</td>\n",
       "      <td>2020</td>\n",
       "      <td>800**</td>\n",
       "      <td>101862</td>\n",
       "      <td>cadillac</td>\n",
       "      <td>deville sedan</td>\n",
       "      <td>1966.0</td>\n",
       "      <td>NaN</td>\n",
       "      <td>7.0l</td>\n",
       "      <td>Sedan</td>\n",
       "      <td>0</td>\n",
       "      <td>RWD</td>\n",
       "      <td>2020-07-17</td>\n",
       "    </tr>\n",
       "    <tr>\n",
       "      <th>124</th>\n",
       "      <td>91901</td>\n",
       "      <td>8200</td>\n",
       "      <td>2019</td>\n",
       "      <td>04284</td>\n",
       "      <td>50000</td>\n",
       "      <td>cadillac</td>\n",
       "      <td>other</td>\n",
       "      <td>1937.0</td>\n",
       "      <td>LIMOUSINE</td>\n",
       "      <td>346 cubic inches</td>\n",
       "      <td>Limousine</td>\n",
       "      <td>8</td>\n",
       "      <td>RWD</td>\n",
       "      <td>2019-12-31</td>\n",
       "    </tr>\n",
       "  </tbody>\n",
       "</table>\n",
       "</div>"
      ],
      "text/plain": [
       "         ID  pricesold  yearsold zipcode  Mileage      Make          Model  \\\n",
       "50   102288       5600      2019   60491   143250  cadillac            cts   \n",
       "51    88979       6500      2019   06268    89000  cadillac        allante   \n",
       "63   131515       9600      2020   402**    18100  cadillac      fleetwood   \n",
       "67   149334      10000      2020   800**   101862  cadillac  deville sedan   \n",
       "124   91901       8200      2019   04284    50000  cadillac          other   \n",
       "\n",
       "       Year                 Trim            Engine              BodyType  \\\n",
       "50   2010.0          Performance               3.6                 Wagon   \n",
       "51   1988.0                  NaN     4.1 Liter V-8  2-seater convertible   \n",
       "63   1984.0  Brougham d’Elegance   4.1L V8 OHV 16V                 Sedan   \n",
       "67   1966.0                  NaN              7.0l                 Sedan   \n",
       "124  1937.0            LIMOUSINE  346 cubic inches             Limousine   \n",
       "\n",
       "     NumCylinders DriveType   datesold  \n",
       "50              6       AWD 2019-11-24  \n",
       "51              8       FWD 2019-06-03  \n",
       "63              8       RWD 2020-03-17  \n",
       "67              0       RWD 2020-07-17  \n",
       "124             8       RWD 2019-12-31  "
      ]
     },
     "execution_count": 74,
     "metadata": {},
     "output_type": "execute_result"
    }
   ],
   "source": [
    "df_used_cars[df_used_cars.Make==\"cadillac\"].head()"
   ]
  },
  {
   "cell_type": "code",
   "execution_count": 75,
   "id": "cc324341-bfad-4632-8d82-de12f3290268",
   "metadata": {
    "tags": []
   },
   "outputs": [
    {
     "data": {
      "text/html": [
       "<div>\n",
       "<style scoped>\n",
       "    .dataframe tbody tr th:only-of-type {\n",
       "        vertical-align: middle;\n",
       "    }\n",
       "\n",
       "    .dataframe tbody tr th {\n",
       "        vertical-align: top;\n",
       "    }\n",
       "\n",
       "    .dataframe thead th {\n",
       "        text-align: right;\n",
       "    }\n",
       "</style>\n",
       "<table border=\"1\" class=\"dataframe\">\n",
       "  <thead>\n",
       "    <tr style=\"text-align: right;\">\n",
       "      <th></th>\n",
       "      <th>ID</th>\n",
       "      <th>pricesold</th>\n",
       "      <th>yearsold</th>\n",
       "      <th>zipcode</th>\n",
       "      <th>Mileage</th>\n",
       "      <th>Make</th>\n",
       "      <th>Model</th>\n",
       "      <th>Year</th>\n",
       "      <th>Trim</th>\n",
       "      <th>Engine</th>\n",
       "      <th>BodyType</th>\n",
       "      <th>NumCylinders</th>\n",
       "      <th>DriveType</th>\n",
       "      <th>datesold</th>\n",
       "    </tr>\n",
       "  </thead>\n",
       "  <tbody>\n",
       "    <tr>\n",
       "      <th>78343</th>\n",
       "      <td>12009</td>\n",
       "      <td>5100</td>\n",
       "      <td>2019</td>\n",
       "      <td>19116</td>\n",
       "      <td>44466</td>\n",
       "      <td>cadillac deville</td>\n",
       "      <td>only 44k no reserve</td>\n",
       "      <td>2002.0</td>\n",
       "      <td>2 OWN</td>\n",
       "      <td>8 Cylinder Engine 4.6L/279</td>\n",
       "      <td>4dr Car</td>\n",
       "      <td>0</td>\n",
       "      <td>FWD</td>\n",
       "      <td>2019-07-22</td>\n",
       "    </tr>\n",
       "  </tbody>\n",
       "</table>\n",
       "</div>"
      ],
      "text/plain": [
       "          ID  pricesold  yearsold zipcode  Mileage              Make  \\\n",
       "78343  12009       5100      2019   19116    44466  cadillac deville   \n",
       "\n",
       "                     Model    Year   Trim                      Engine  \\\n",
       "78343  only 44k no reserve  2002.0  2 OWN  8 Cylinder Engine 4.6L/279   \n",
       "\n",
       "      BodyType  NumCylinders DriveType   datesold  \n",
       "78343  4dr Car             0       FWD 2019-07-22  "
      ]
     },
     "execution_count": 75,
     "metadata": {},
     "output_type": "execute_result"
    }
   ],
   "source": [
    "df_used_cars[df_used_cars.Make==\"cadillac deville\"].head()"
   ]
  },
  {
   "cell_type": "code",
   "execution_count": 76,
   "id": "6e34418f-07db-4d44-a97f-9a45b7a46d25",
   "metadata": {
    "tags": []
   },
   "outputs": [],
   "source": [
    "df_used_cars.loc[78343, \"Make\"] = \"cadillac\"\n",
    "df_used_cars.loc[78343, \"Model\"] = \"deville\""
   ]
  },
  {
   "cell_type": "code",
   "execution_count": 77,
   "id": "c0da73f4-b645-4475-aecc-4f1a2581347f",
   "metadata": {
    "tags": []
   },
   "outputs": [
    {
     "data": {
      "text/html": [
       "<div>\n",
       "<style scoped>\n",
       "    .dataframe tbody tr th:only-of-type {\n",
       "        vertical-align: middle;\n",
       "    }\n",
       "\n",
       "    .dataframe tbody tr th {\n",
       "        vertical-align: top;\n",
       "    }\n",
       "\n",
       "    .dataframe thead th {\n",
       "        text-align: right;\n",
       "    }\n",
       "</style>\n",
       "<table border=\"1\" class=\"dataframe\">\n",
       "  <thead>\n",
       "    <tr style=\"text-align: right;\">\n",
       "      <th></th>\n",
       "      <th>ID</th>\n",
       "      <th>pricesold</th>\n",
       "      <th>yearsold</th>\n",
       "      <th>zipcode</th>\n",
       "      <th>Mileage</th>\n",
       "      <th>Make</th>\n",
       "      <th>Model</th>\n",
       "      <th>Year</th>\n",
       "      <th>Trim</th>\n",
       "      <th>Engine</th>\n",
       "      <th>BodyType</th>\n",
       "      <th>NumCylinders</th>\n",
       "      <th>DriveType</th>\n",
       "      <th>datesold</th>\n",
       "    </tr>\n",
       "  </thead>\n",
       "  <tbody>\n",
       "    <tr>\n",
       "      <th>78348</th>\n",
       "      <td>120086</td>\n",
       "      <td>2850</td>\n",
       "      <td>2020</td>\n",
       "      <td>191**</td>\n",
       "      <td>86971</td>\n",
       "      <td>cadillac one owner</td>\n",
       "      <td>seville sls only 86k</td>\n",
       "      <td>2002.0</td>\n",
       "      <td>Luxury SLS</td>\n",
       "      <td>8 Cylinder Engine 4.6L/279</td>\n",
       "      <td>4dr Car</td>\n",
       "      <td>0</td>\n",
       "      <td>FWD</td>\n",
       "      <td>2020-10-24</td>\n",
       "    </tr>\n",
       "  </tbody>\n",
       "</table>\n",
       "</div>"
      ],
      "text/plain": [
       "           ID  pricesold  yearsold zipcode  Mileage                Make  \\\n",
       "78348  120086       2850      2020   191**    86971  cadillac one owner   \n",
       "\n",
       "                      Model    Year        Trim                      Engine  \\\n",
       "78348  seville sls only 86k  2002.0  Luxury SLS  8 Cylinder Engine 4.6L/279   \n",
       "\n",
       "      BodyType  NumCylinders DriveType   datesold  \n",
       "78348  4dr Car             0       FWD 2020-10-24  "
      ]
     },
     "execution_count": 77,
     "metadata": {},
     "output_type": "execute_result"
    }
   ],
   "source": [
    "df_used_cars[df_used_cars.Make==\"cadillac one owner\"].head()"
   ]
  },
  {
   "cell_type": "code",
   "execution_count": 78,
   "id": "118f99f7-bbae-48a3-a4d5-47b72afdcda2",
   "metadata": {
    "tags": []
   },
   "outputs": [],
   "source": [
    "df_used_cars.loc[78348, \"Make\"] = \"cadillac\"\n",
    "df_used_cars.loc[78348, \"Model\"] = \"seville sls\""
   ]
  },
  {
   "cell_type": "code",
   "execution_count": 79,
   "id": "d70a94e5-e356-40bc-829f-4ca9122b02a3",
   "metadata": {
    "tags": []
   },
   "outputs": [
    {
     "data": {
      "text/html": [
       "<div>\n",
       "<style scoped>\n",
       "    .dataframe tbody tr th:only-of-type {\n",
       "        vertical-align: middle;\n",
       "    }\n",
       "\n",
       "    .dataframe tbody tr th {\n",
       "        vertical-align: top;\n",
       "    }\n",
       "\n",
       "    .dataframe thead th {\n",
       "        text-align: right;\n",
       "    }\n",
       "</style>\n",
       "<table border=\"1\" class=\"dataframe\">\n",
       "  <thead>\n",
       "    <tr style=\"text-align: right;\">\n",
       "      <th></th>\n",
       "      <th>ID</th>\n",
       "      <th>pricesold</th>\n",
       "      <th>yearsold</th>\n",
       "      <th>zipcode</th>\n",
       "      <th>Mileage</th>\n",
       "      <th>Make</th>\n",
       "      <th>Model</th>\n",
       "      <th>Year</th>\n",
       "      <th>Trim</th>\n",
       "      <th>Engine</th>\n",
       "      <th>BodyType</th>\n",
       "      <th>NumCylinders</th>\n",
       "      <th>DriveType</th>\n",
       "      <th>datesold</th>\n",
       "    </tr>\n",
       "  </thead>\n",
       "  <tbody>\n",
       "    <tr>\n",
       "      <th>78345</th>\n",
       "      <td>147640</td>\n",
       "      <td>4450</td>\n",
       "      <td>2020</td>\n",
       "      <td>191**</td>\n",
       "      <td>59797</td>\n",
       "      <td>cadillac only 59k</td>\n",
       "      <td>deville dhs</td>\n",
       "      <td>2002.0</td>\n",
       "      <td>DHS</td>\n",
       "      <td>8 Cylinder Engine 4.6L/279</td>\n",
       "      <td>4dr Car</td>\n",
       "      <td>0</td>\n",
       "      <td>FWD</td>\n",
       "      <td>2020-01-24</td>\n",
       "    </tr>\n",
       "  </tbody>\n",
       "</table>\n",
       "</div>"
      ],
      "text/plain": [
       "           ID  pricesold  yearsold zipcode  Mileage               Make  \\\n",
       "78345  147640       4450      2020   191**    59797  cadillac only 59k   \n",
       "\n",
       "             Model    Year Trim                      Engine BodyType  \\\n",
       "78345  deville dhs  2002.0  DHS  8 Cylinder Engine 4.6L/279  4dr Car   \n",
       "\n",
       "       NumCylinders DriveType   datesold  \n",
       "78345             0       FWD 2020-01-24  "
      ]
     },
     "execution_count": 79,
     "metadata": {},
     "output_type": "execute_result"
    }
   ],
   "source": [
    "df_used_cars[df_used_cars.Make==\"cadillac only 59k\"].head()"
   ]
  },
  {
   "cell_type": "code",
   "execution_count": 80,
   "id": "84a244cc-6232-4382-86ac-1ebeebebb148",
   "metadata": {
    "tags": []
   },
   "outputs": [
    {
     "data": {
      "text/html": [
       "<div>\n",
       "<style scoped>\n",
       "    .dataframe tbody tr th:only-of-type {\n",
       "        vertical-align: middle;\n",
       "    }\n",
       "\n",
       "    .dataframe tbody tr th {\n",
       "        vertical-align: top;\n",
       "    }\n",
       "\n",
       "    .dataframe thead th {\n",
       "        text-align: right;\n",
       "    }\n",
       "</style>\n",
       "<table border=\"1\" class=\"dataframe\">\n",
       "  <thead>\n",
       "    <tr style=\"text-align: right;\">\n",
       "      <th></th>\n",
       "      <th>ID</th>\n",
       "      <th>pricesold</th>\n",
       "      <th>yearsold</th>\n",
       "      <th>zipcode</th>\n",
       "      <th>Mileage</th>\n",
       "      <th>Make</th>\n",
       "      <th>Model</th>\n",
       "      <th>Year</th>\n",
       "      <th>Trim</th>\n",
       "      <th>Engine</th>\n",
       "      <th>BodyType</th>\n",
       "      <th>NumCylinders</th>\n",
       "      <th>DriveType</th>\n",
       "      <th>datesold</th>\n",
       "    </tr>\n",
       "  </thead>\n",
       "  <tbody>\n",
       "    <tr>\n",
       "      <th>78347</th>\n",
       "      <td>120098</td>\n",
       "      <td>3450</td>\n",
       "      <td>2020</td>\n",
       "      <td>191**</td>\n",
       "      <td>80940</td>\n",
       "      <td>cadillac only 80k</td>\n",
       "      <td>deville dts</td>\n",
       "      <td>2003.0</td>\n",
       "      <td>DTS</td>\n",
       "      <td>8 Cylinder Engine 4.6L/279</td>\n",
       "      <td>4dr Car</td>\n",
       "      <td>0</td>\n",
       "      <td>FWD</td>\n",
       "      <td>2020-04-05</td>\n",
       "    </tr>\n",
       "  </tbody>\n",
       "</table>\n",
       "</div>"
      ],
      "text/plain": [
       "           ID  pricesold  yearsold zipcode  Mileage               Make  \\\n",
       "78347  120098       3450      2020   191**    80940  cadillac only 80k   \n",
       "\n",
       "             Model    Year Trim                      Engine BodyType  \\\n",
       "78347  deville dts  2003.0  DTS  8 Cylinder Engine 4.6L/279  4dr Car   \n",
       "\n",
       "       NumCylinders DriveType   datesold  \n",
       "78347             0       FWD 2020-04-05  "
      ]
     },
     "execution_count": 80,
     "metadata": {},
     "output_type": "execute_result"
    }
   ],
   "source": [
    "df_used_cars[df_used_cars.Make==\"cadillac only 80k\"].head()"
   ]
  },
  {
   "cell_type": "code",
   "execution_count": 81,
   "id": "8d2180e8-0360-4749-91ec-93bacd7d8ace",
   "metadata": {
    "tags": []
   },
   "outputs": [
    {
     "data": {
      "text/html": [
       "<div>\n",
       "<style scoped>\n",
       "    .dataframe tbody tr th:only-of-type {\n",
       "        vertical-align: middle;\n",
       "    }\n",
       "\n",
       "    .dataframe tbody tr th {\n",
       "        vertical-align: top;\n",
       "    }\n",
       "\n",
       "    .dataframe thead th {\n",
       "        text-align: right;\n",
       "    }\n",
       "</style>\n",
       "<table border=\"1\" class=\"dataframe\">\n",
       "  <thead>\n",
       "    <tr style=\"text-align: right;\">\n",
       "      <th></th>\n",
       "      <th>ID</th>\n",
       "      <th>pricesold</th>\n",
       "      <th>yearsold</th>\n",
       "      <th>zipcode</th>\n",
       "      <th>Mileage</th>\n",
       "      <th>Make</th>\n",
       "      <th>Model</th>\n",
       "      <th>Year</th>\n",
       "      <th>Trim</th>\n",
       "      <th>Engine</th>\n",
       "      <th>BodyType</th>\n",
       "      <th>NumCylinders</th>\n",
       "      <th>DriveType</th>\n",
       "      <th>datesold</th>\n",
       "    </tr>\n",
       "  </thead>\n",
       "  <tbody>\n",
       "    <tr>\n",
       "      <th>78342</th>\n",
       "      <td>148024</td>\n",
       "      <td>3650</td>\n",
       "      <td>2020</td>\n",
       "      <td>191**</td>\n",
       "      <td>82990</td>\n",
       "      <td>cadillac only 82k</td>\n",
       "      <td>deville one owner</td>\n",
       "      <td>2003.0</td>\n",
       "      <td>NaN</td>\n",
       "      <td>8 Cylinder Engine 4.6L/279</td>\n",
       "      <td>4dr Car</td>\n",
       "      <td>0</td>\n",
       "      <td>FWD</td>\n",
       "      <td>2020-10-14</td>\n",
       "    </tr>\n",
       "  </tbody>\n",
       "</table>\n",
       "</div>"
      ],
      "text/plain": [
       "           ID  pricesold  yearsold zipcode  Mileage               Make  \\\n",
       "78342  148024       3650      2020   191**    82990  cadillac only 82k   \n",
       "\n",
       "                   Model    Year Trim                      Engine BodyType  \\\n",
       "78342  deville one owner  2003.0  NaN  8 Cylinder Engine 4.6L/279  4dr Car   \n",
       "\n",
       "       NumCylinders DriveType   datesold  \n",
       "78342             0       FWD 2020-10-14  "
      ]
     },
     "execution_count": 81,
     "metadata": {},
     "output_type": "execute_result"
    }
   ],
   "source": [
    "df_used_cars[df_used_cars.Make==\"cadillac only 82k\"].head()"
   ]
  },
  {
   "cell_type": "code",
   "execution_count": 82,
   "id": "6ce43461-c885-4e32-b021-92487320c147",
   "metadata": {
    "tags": []
   },
   "outputs": [],
   "source": [
    "df_used_cars.loc[78345, \"Make\"] = \"cadillac\"\n",
    "df_used_cars.loc[78347, \"Make\"] = \"cadillac\"\n",
    "df_used_cars.loc[78342, \"Make\"] = \"cadillac\"\n",
    "df_used_cars.loc[78342, \"Model\"] = \"deville\""
   ]
  },
  {
   "attachments": {},
   "cell_type": "markdown",
   "id": "48af6206-4cdc-473f-9695-0e54ca756f71",
   "metadata": {
    "tags": []
   },
   "source": [
    "##### chevrolet"
   ]
  },
  {
   "cell_type": "code",
   "execution_count": 83,
   "id": "9daac61a-c52f-488b-b410-aff45d48537a",
   "metadata": {
    "tags": []
   },
   "outputs": [],
   "source": [
    "df_used_cars[df_used_cars.Make==\"cheverolet\"]\n",
    "df_used_cars.loc[[30613, 99426], \"Make\"] = \"chevrolet\""
   ]
  },
  {
   "cell_type": "code",
   "execution_count": 84,
   "id": "aee1238c-a7bf-49ae-9103-953abda6ffb9",
   "metadata": {
    "tags": []
   },
   "outputs": [],
   "source": [
    "df_used_cars[df_used_cars.Make==\"chevrolet 2500 only 65k\"]\n",
    "df_used_cars.loc[78358, \"Make\"] = \"chevrolet\"\n",
    "df_used_cars.loc[78358, \"Model\"] = \"2500\""
   ]
  },
  {
   "cell_type": "code",
   "execution_count": 85,
   "id": "5c1f0a26-51e2-4678-af31-73814e3a6bc2",
   "metadata": {
    "tags": []
   },
   "outputs": [],
   "source": [
    "df_used_cars[df_used_cars.Make==\"chevrolet 3500 handicap\"]\n",
    "df_used_cars.loc[78349, \"Make\"] = \"chevrolet\"\n",
    "df_used_cars.loc[78349, \"Model\"] = \"3500 handicap\""
   ]
  },
  {
   "cell_type": "code",
   "execution_count": 86,
   "id": "2a689aa5-b057-4ae8-81b8-509d857dce9f",
   "metadata": {
    "tags": []
   },
   "outputs": [],
   "source": [
    "df_used_cars[df_used_cars.Make==\"chevrolet astro cargo van\"]\n",
    "df_used_cars.loc[78352, \"Make\"] = \"chevrolet\"\n",
    "df_used_cars.loc[78352, \"Model\"] = \"astro\"\n",
    "\n",
    "df_used_cars.loc[78353, \"Make\"] = \"chevrolet\"\n",
    "df_used_cars.loc[78353, \"Model\"] = \"astro\"\n",
    "\n",
    "df_used_cars.loc[78356, \"Make\"] = \"chevrolet\"\n",
    "df_used_cars.loc[78356, \"Model\"] = \"astro\""
   ]
  },
  {
   "cell_type": "code",
   "execution_count": 87,
   "id": "3b8a977d-699f-4418-9f5e-33a0d4a38e1f",
   "metadata": {
    "tags": []
   },
   "outputs": [],
   "source": [
    "df_used_cars[df_used_cars.Make==\"chevrolet astro only 77k\"]\n",
    "df_used_cars.loc[78355, \"Make\"] = \"chevrolet\"\n",
    "df_used_cars.loc[78355, \"Model\"] = \"astro\""
   ]
  },
  {
   "cell_type": "code",
   "execution_count": 88,
   "id": "58f578d7-ddb2-492c-9422-5e04efa79de4",
   "metadata": {
    "tags": []
   },
   "outputs": [],
   "source": [
    "df_used_cars[df_used_cars.Make==\"chevrolet avalanche\"]\n",
    "df_used_cars.loc[78397, \"Make\"] = \"chevrolet\"\n",
    "df_used_cars.loc[78397, \"Model\"] = \"avalanche z71\""
   ]
  },
  {
   "cell_type": "code",
   "execution_count": 89,
   "id": "02501037-2b2a-4f8b-910a-87529b577321",
   "metadata": {
    "tags": []
   },
   "outputs": [],
   "source": [
    "df_used_cars[df_used_cars.Make==\"chevrolet colorado\"]\n",
    "df_used_cars.loc[78351, \"Make\"] = \"chevrolet\"\n",
    "df_used_cars.loc[78351, \"Model\"] = \"colorado\""
   ]
  },
  {
   "cell_type": "code",
   "execution_count": 90,
   "id": "bfdaa8de-64c8-4bb7-9b5b-edd6299598e1",
   "metadata": {
    "tags": []
   },
   "outputs": [],
   "source": [
    "df_used_cars[df_used_cars.Make==\"chevrolet express\"]\n",
    "df_used_cars.loc[78350, \"Make\"] = \"chevrolet\"\n",
    "df_used_cars.loc[78350, \"Model\"] = \"express\""
   ]
  },
  {
   "cell_type": "code",
   "execution_count": 91,
   "id": "22798420-06d1-41e9-8c7f-308c29f4bfc7",
   "metadata": {
    "tags": []
   },
   "outputs": [],
   "source": [
    "df_used_cars[df_used_cars.Make==\"chevrolet express 3500\"]\n",
    "df_used_cars.loc[78360, \"Make\"] = \"chevrolet\"\n",
    "df_used_cars.loc[78360, \"Model\"] = \"express 3500\""
   ]
  },
  {
   "cell_type": "code",
   "execution_count": 92,
   "id": "6754fe8c-e684-4a2b-b664-85e089aa2f39",
   "metadata": {
    "tags": []
   },
   "outputs": [],
   "source": [
    "df_used_cars[df_used_cars.Make==\"chevrolet hhr ls panel\"]\n",
    "df_used_cars.loc[78396, \"Make\"] = \"chevrolet\"\n",
    "df_used_cars.loc[78396, \"Model\"] = \"hhr\""
   ]
  },
  {
   "cell_type": "code",
   "execution_count": 93,
   "id": "2e94465a-7c3d-4bfa-b783-f824f811bd19",
   "metadata": {
    "tags": []
   },
   "outputs": [],
   "source": [
    "df_used_cars[df_used_cars.Make==\"chevrolet one owner\"]\n",
    "df_used_cars.loc[78370, \"Make\"] = \"chevrolet\"\n",
    "df_used_cars.loc[78370, \"Model\"] = \"tahoe\""
   ]
  },
  {
   "cell_type": "code",
   "execution_count": 94,
   "id": "ad2a93a0-3094-4944-8616-70dacea87e65",
   "metadata": {
    "tags": []
   },
   "outputs": [],
   "source": [
    "df_used_cars[df_used_cars.Make==\"chevrolet only 38k\"]\n",
    "df_used_cars.loc[78367, \"Make\"] = \"chevrolet\"\n",
    "df_used_cars.loc[78367, \"Model\"] = \"uplander\""
   ]
  },
  {
   "cell_type": "code",
   "execution_count": 95,
   "id": "cdfe7c77-60c7-4b56-b1db-3579ace93498",
   "metadata": {
    "tags": []
   },
   "outputs": [],
   "source": [
    "df_used_cars[df_used_cars.Make==\"chevrolet only 56k\"]\n",
    "df_used_cars.loc[78359, \"Make\"] = \"chevrolet\"\n",
    "df_used_cars.loc[78359, \"Model\"] = \"express\""
   ]
  },
  {
   "cell_type": "code",
   "execution_count": 96,
   "id": "e17c4e8e-dbf6-4614-8b8b-ffcc1f885b27",
   "metadata": {
    "tags": []
   },
   "outputs": [],
   "source": [
    "df_used_cars[df_used_cars.Make==\"chevrolet only 79k\"]\n",
    "df_used_cars.loc[78354, \"Make\"] = \"chevrolet\"\n",
    "df_used_cars.loc[78354, \"Model\"] = \"astro\""
   ]
  },
  {
   "cell_type": "code",
   "execution_count": 97,
   "id": "ef06a29e-378c-42da-b7f3-28f551998c9b",
   "metadata": {
    "tags": []
   },
   "outputs": [],
   "source": [
    "df_used_cars[df_used_cars.Make==\"chevrolet venture\"]\n",
    "df_used_cars.loc[78368, \"Make\"] = \"chevrolet\"\n",
    "df_used_cars.loc[78368, \"Model\"] = \"venture\""
   ]
  },
  {
   "attachments": {},
   "cell_type": "markdown",
   "id": "0a218aa3-0981-4ef4-9cdc-06a8218f7b25",
   "metadata": {
    "tags": []
   },
   "source": [
    "##### chrysler"
   ]
  },
  {
   "cell_type": "code",
   "execution_count": 98,
   "id": "e4a92373-6898-45e5-bdb3-3a35f33c1617",
   "metadata": {
    "tags": []
   },
   "outputs": [],
   "source": [
    "df_used_cars[df_used_cars.Make==\"chrylser\"]\n",
    "df_used_cars.loc[3267, \"Make\"] = \"chrysler\""
   ]
  },
  {
   "cell_type": "code",
   "execution_count": 99,
   "id": "bbdc2ea8-3a89-4180-b817-460fe82ef366",
   "metadata": {
    "tags": []
   },
   "outputs": [],
   "source": [
    "df_used_cars[df_used_cars.Make==\"chrysler windsor\"]\n",
    "df_used_cars.loc[37146, \"Make\"] = \"chrysler\""
   ]
  },
  {
   "attachments": {},
   "cell_type": "markdown",
   "id": "b057fae2-6f8b-480b-8026-ac6f26c4c5c4",
   "metadata": {
    "tags": []
   },
   "source": [
    "##### citroen"
   ]
  },
  {
   "cell_type": "code",
   "execution_count": 100,
   "id": "df90c5da-ef9b-4122-bf63-318db18f5d25",
   "metadata": {
    "tags": []
   },
   "outputs": [],
   "source": [
    "df_used_cars.loc[df_used_cars.Make==\"citroën\"] = \"citroen\""
   ]
  },
  {
   "cell_type": "code",
   "execution_count": 101,
   "id": "a312e789-3929-4441-9e79-a4ee957c0235",
   "metadata": {
    "tags": []
   },
   "outputs": [],
   "source": [
    "df_used_cars[df_used_cars.Make==\"citroen ds19\"]\n",
    "df_used_cars.loc[42257, \"Make\"] = \"citroen\""
   ]
  },
  {
   "attachments": {},
   "cell_type": "markdown",
   "id": "d9e23ea3-cce4-47a7-8688-72adc017e7df",
   "metadata": {
    "tags": []
   },
   "source": [
    "##### comuta car"
   ]
  },
  {
   "cell_type": "code",
   "execution_count": 102,
   "id": "b0bd632a-cd59-4729-91a1-048318374a76",
   "metadata": {
    "tags": []
   },
   "outputs": [
    {
     "data": {
      "text/html": [
       "<div>\n",
       "<style scoped>\n",
       "    .dataframe tbody tr th:only-of-type {\n",
       "        vertical-align: middle;\n",
       "    }\n",
       "\n",
       "    .dataframe tbody tr th {\n",
       "        vertical-align: top;\n",
       "    }\n",
       "\n",
       "    .dataframe thead th {\n",
       "        text-align: right;\n",
       "    }\n",
       "</style>\n",
       "<table border=\"1\" class=\"dataframe\">\n",
       "  <thead>\n",
       "    <tr style=\"text-align: right;\">\n",
       "      <th></th>\n",
       "      <th>ID</th>\n",
       "      <th>pricesold</th>\n",
       "      <th>yearsold</th>\n",
       "      <th>zipcode</th>\n",
       "      <th>Mileage</th>\n",
       "      <th>Make</th>\n",
       "      <th>Model</th>\n",
       "      <th>Year</th>\n",
       "      <th>Trim</th>\n",
       "      <th>Engine</th>\n",
       "      <th>BodyType</th>\n",
       "      <th>NumCylinders</th>\n",
       "      <th>DriveType</th>\n",
       "      <th>datesold</th>\n",
       "    </tr>\n",
       "  </thead>\n",
       "  <tbody>\n",
       "    <tr>\n",
       "      <th>92545</th>\n",
       "      <td>75125</td>\n",
       "      <td>940</td>\n",
       "      <td>2019</td>\n",
       "      <td>08742</td>\n",
       "      <td>514</td>\n",
       "      <td>comuta-car</td>\n",
       "      <td>nan</td>\n",
       "      <td>1980.0</td>\n",
       "      <td>NaN</td>\n",
       "      <td>Electric</td>\n",
       "      <td>Coupe</td>\n",
       "      <td>0</td>\n",
       "      <td>NaN</td>\n",
       "      <td>2019-09-21 00:00:00</td>\n",
       "    </tr>\n",
       "  </tbody>\n",
       "</table>\n",
       "</div>"
      ],
      "text/plain": [
       "          ID pricesold yearsold zipcode Mileage        Make Model    Year  \\\n",
       "92545  75125       940     2019   08742     514  comuta-car   nan  1980.0   \n",
       "\n",
       "      Trim    Engine BodyType NumCylinders DriveType             datesold  \n",
       "92545  NaN  Electric    Coupe            0       NaN  2019-09-21 00:00:00  "
      ]
     },
     "execution_count": 102,
     "metadata": {},
     "output_type": "execute_result"
    }
   ],
   "source": [
    "df_used_cars[df_used_cars.Make==\"comuta-car\"]\n"
   ]
  },
  {
   "cell_type": "code",
   "execution_count": 103,
   "id": "b822d1a1-d29f-45e8-812e-2d871d57b5a2",
   "metadata": {
    "tags": []
   },
   "outputs": [],
   "source": [
    "df_used_cars[df_used_cars.Make==\"crhysler\"]\n",
    "df_used_cars.loc[17860].Make = \"chrysler\""
   ]
  },
  {
   "cell_type": "code",
   "execution_count": 104,
   "id": "86266edc-50f8-4093-a3a4-a2188430efc3",
   "metadata": {
    "tags": []
   },
   "outputs": [],
   "source": [
    "df_used_cars[df_used_cars.Make==\"CHRYSLER\"]\n",
    "df_used_cars.loc[11621].Make = \"chrysler\""
   ]
  },
  {
   "attachments": {},
   "cell_type": "markdown",
   "id": "1d448ffa-0654-4b12-9c3e-38508071d90f",
   "metadata": {
    "tags": []
   },
   "source": [
    "##### dodge"
   ]
  },
  {
   "cell_type": "code",
   "execution_count": 105,
   "id": "3daccd97-df9b-47bc-8baf-9f824e33e9a9",
   "metadata": {
    "tags": []
   },
   "outputs": [],
   "source": [
    "df_used_cars[df_used_cars.Make==\"dodge cargo van\"]\n",
    "df_used_cars.loc[78387, \"Make\"] = \"dodge\"\n",
    "df_used_cars.loc[78387, \"Model\"] = \"grand caravan\""
   ]
  },
  {
   "cell_type": "code",
   "execution_count": 106,
   "id": "83537589-84bc-4068-b9fd-ff798d499231",
   "metadata": {
    "tags": []
   },
   "outputs": [],
   "source": [
    "df_used_cars[df_used_cars.Make==\"dodge grand caravan sxt\"]\n",
    "df_used_cars.loc[78388, \"Make\"] = \"dodge\"\n",
    "df_used_cars.loc[78388, \"Model\"] = \"grand caravan sxt\""
   ]
  },
  {
   "cell_type": "code",
   "execution_count": 107,
   "id": "8d87249b-c43c-41ba-a06a-cbc3436d29bf",
   "metadata": {
    "tags": []
   },
   "outputs": [],
   "source": [
    "df_used_cars[df_used_cars.Make==\"dodge one owner\"]\n",
    "df_used_cars.loc[78386, \"Make\"] = \"dodge\"\n",
    "df_used_cars.loc[78386, \"Model\"] = \"grand caravan\""
   ]
  },
  {
   "cell_type": "code",
   "execution_count": 108,
   "id": "dd8f610b-ade3-433d-b6a6-bf526519d1a9",
   "metadata": {
    "tags": []
   },
   "outputs": [],
   "source": [
    "df_used_cars[df_used_cars.Make==\"dodge only 36k\"]\n",
    "df_used_cars.loc[78389, \"Make\"] = \"dodge\"\n",
    "df_used_cars.loc[78389, \"Model\"] = \"grand caravan\""
   ]
  },
  {
   "attachments": {},
   "cell_type": "markdown",
   "id": "4a0c2b45-aa9e-4788-9d05-a8dd60f32ce4",
   "metadata": {
    "tags": []
   },
   "source": [
    "##### excalibur"
   ]
  },
  {
   "cell_type": "code",
   "execution_count": 109,
   "id": "cfbcbec3-eed0-4bb7-92e9-9977a6a4569c",
   "metadata": {
    "tags": []
   },
   "outputs": [],
   "source": [
    "df_used_cars[df_used_cars.Make==\"excalibur series ii other\"]\n",
    "df_used_cars.drop(index=95438, inplace=True)"
   ]
  },
  {
   "attachments": {},
   "cell_type": "markdown",
   "id": "164a054d-8154-499c-ab7f-1621d4a7c8e4",
   "metadata": {
    "tags": []
   },
   "source": [
    "##### ford"
   ]
  },
  {
   "cell_type": "code",
   "execution_count": 110,
   "id": "9f04124e-14a6-4c9a-8d04-a346fe077155",
   "metadata": {
    "tags": []
   },
   "outputs": [],
   "source": [
    "df_used_cars[df_used_cars.Make==\"ford 4x4\"]\n",
    "df_used_cars.loc[78298, \"Make\"]=\"ford\"\n",
    "df_used_cars.loc[78298, \"Model\"]=\"bronco\""
   ]
  },
  {
   "cell_type": "code",
   "execution_count": 111,
   "id": "be8304df-27ff-4d9d-a472-4f330c0b482d",
   "metadata": {
    "tags": []
   },
   "outputs": [],
   "source": [
    "df_used_cars[df_used_cars.Make==\"ford carfax accident free\"]\n",
    "df_used_cars.loc[78297, \"Make\"]=\"ford\"\n",
    "df_used_cars.loc[78297, \"Model\"]=\"escape hybrid\""
   ]
  },
  {
   "cell_type": "code",
   "execution_count": 112,
   "id": "aa18f7cb-61cc-4533-8868-37777a6a5eb4",
   "metadata": {
    "tags": []
   },
   "outputs": [],
   "source": [
    "df_used_cars[df_used_cars.Make==\"ford e-250 one owner\"]\n",
    "df_used_cars.loc[78317, \"Make\"]=\"ford\"\n",
    "df_used_cars.loc[78317, \"Model\"]=\"e250\"\n",
    "\n",
    "df_used_cars.loc[78319, \"Make\"]=\"ford\"\n",
    "df_used_cars.loc[78319, \"Model\"]=\"e250\""
   ]
  },
  {
   "cell_type": "code",
   "execution_count": 113,
   "id": "32aa69de-26ab-4276-b91d-82711f196d5e",
   "metadata": {
    "tags": []
   },
   "outputs": [],
   "source": [
    "df_used_cars[df_used_cars.Make==\"ford e-350\"]\n",
    "df_used_cars.loc[78326, \"Make\"]=\"ford\"\n",
    "df_used_cars.loc[78326, \"Model\"]=\"e350\"\n",
    "\n",
    "df_used_cars.loc[78327, \"Make\"]=\"ford\"\n",
    "df_used_cars.loc[78327, \"Model\"]=\"e350\""
   ]
  },
  {
   "cell_type": "code",
   "execution_count": 114,
   "id": "0dac1072-4979-494d-afc0-f7ea7db271fc",
   "metadata": {
    "tags": []
   },
   "outputs": [],
   "source": [
    "df_used_cars[df_used_cars.Make==\"ford e150 only 70k\"]\n",
    "df_used_cars.loc[78314, \"Make\"]=\"ford\"\n",
    "df_used_cars.loc[78314, \"Model\"]=\"e150\""
   ]
  },
  {
   "cell_type": "code",
   "execution_count": 115,
   "id": "afee4079-f469-4f21-ae62-2260e911da43",
   "metadata": {
    "tags": []
   },
   "outputs": [],
   "source": [
    "df_used_cars[df_used_cars.Make==\"ford e350\"]\n",
    "df_used_cars.loc[78324, \"Make\"]=\"ford\"\n",
    "df_used_cars.loc[78324, \"Model\"]=\"e350\""
   ]
  },
  {
   "cell_type": "code",
   "execution_count": 116,
   "id": "3af0f81f-a81f-4ec6-ae11-57b05ad65a7f",
   "metadata": {
    "tags": []
   },
   "outputs": [],
   "source": [
    "df_used_cars[df_used_cars.Make==\"ford e350 diesel\"]\n",
    "df_used_cars.loc[78330, \"Make\"]=\"ford\"\n",
    "df_used_cars.loc[78330, \"Model\"]=\"e350\""
   ]
  },
  {
   "cell_type": "code",
   "execution_count": 117,
   "id": "8d8deeb1-a559-4ace-8f80-d4420470abe2",
   "metadata": {
    "tags": []
   },
   "outputs": [],
   "source": [
    "df_used_cars[df_used_cars.Make==\"ford explorer xlt 4x4\"]\n",
    "df_used_cars.loc[78311, \"Make\"]=\"ford\"\n",
    "df_used_cars.loc[78311, \"Model\"]=\"explorer xlt\""
   ]
  },
  {
   "cell_type": "code",
   "execution_count": 118,
   "id": "978433f4-178b-44d1-b9cf-3b61d6749f4c",
   "metadata": {
    "tags": []
   },
   "outputs": [],
   "source": [
    "df_used_cars[df_used_cars.Make==\"ford f-150 xlt 4x$\"]\n",
    "df_used_cars.loc[78323, \"Make\"]=\"ford\"\n",
    "df_used_cars.loc[78323, \"Model\"]=\"f-150 xlt\""
   ]
  },
  {
   "cell_type": "code",
   "execution_count": 119,
   "id": "db54f40b-c6e5-4e0c-b668-5046e0c97f75",
   "metadata": {
    "tags": []
   },
   "outputs": [],
   "source": [
    "df_used_cars[df_used_cars.Make==\"ford handicap\"]\n",
    "df_used_cars.loc[78284, \"Make\"]=\"ford\"\n",
    "df_used_cars.loc[78284, \"Model\"]=\"e150 handicap\""
   ]
  },
  {
   "cell_type": "code",
   "execution_count": 120,
   "id": "d34e3c61-5c3f-4f90-b6f8-b37ada82c5d7",
   "metadata": {
    "tags": []
   },
   "outputs": [],
   "source": [
    "df_used_cars[df_used_cars.Make==\"ford nav 3rd row\"]\n",
    "df_used_cars.loc[78307, \"Make\"]=\"ford\"\n",
    "df_used_cars.loc[78307, \"Model\"]=\"expedition\""
   ]
  },
  {
   "cell_type": "code",
   "execution_count": 121,
   "id": "07f17e5b-8dc9-4c21-ad2f-699d231738e9",
   "metadata": {
    "tags": []
   },
   "outputs": [],
   "source": [
    "df_used_cars[df_used_cars.Make==\"ford one owner\"]\n",
    "df_used_cars.loc[78289, \"Make\"]=\"ford\"\n",
    "df_used_cars.loc[78289, \"Model\"]=\"escape hybrid\"\n",
    "\n",
    "df_used_cars.loc[78322, \"Make\"]=\"ford\"\n",
    "df_used_cars.loc[78322, \"Model\"]=\"f-150\""
   ]
  },
  {
   "cell_type": "code",
   "execution_count": 122,
   "id": "5077dc0e-17c1-4724-b235-5e3df5cf39ec",
   "metadata": {
    "tags": []
   },
   "outputs": [],
   "source": [
    "df_used_cars[df_used_cars.Make==\"ford only 60k\"]\n",
    "df_used_cars.loc[78330, \"Make\"]=\"ford\"\n",
    "df_used_cars.loc[78330, \"Model\"]=\"expedition\"\n",
    "\n",
    "df_used_cars.loc[78306, \"Make\"]=\"ford\"\n",
    "df_used_cars.loc[78306, \"Model\"]=\"expedition\""
   ]
  },
  {
   "cell_type": "code",
   "execution_count": 123,
   "id": "f2540087-41cd-41fb-84f8-09ea538685df",
   "metadata": {
    "tags": []
   },
   "outputs": [],
   "source": [
    "df_used_cars[df_used_cars.Make==\"ford passenger van\"]\n",
    "df_used_cars.loc[78308, \"Make\"]=\"ford\"\n",
    "df_used_cars.loc[78308, \"Model\"]=\"e150\""
   ]
  },
  {
   "attachments": {},
   "cell_type": "markdown",
   "id": "b3b934af-1f32-4a09-8bc4-499b4f73ec80",
   "metadata": {
    "tags": []
   },
   "source": [
    "##### gmc"
   ]
  },
  {
   "cell_type": "code",
   "execution_count": 124,
   "id": "1e3696b2-936e-4233-a95e-394b065c584f",
   "metadata": {
    "tags": []
   },
   "outputs": [],
   "source": [
    "df_used_cars[df_used_cars.Make==\"gmc awd\"]\n",
    "df_used_cars.loc[78364, \"Make\"]=\"gmc\"\n"
   ]
  },
  {
   "attachments": {},
   "cell_type": "markdown",
   "id": "a9583e82-e72c-4359-be0c-e61754f2f2c4",
   "metadata": {
    "tags": []
   },
   "source": [
    "##### honda"
   ]
  },
  {
   "cell_type": "code",
   "execution_count": 125,
   "id": "55f797b6-fd97-4310-9478-f13dadd2435b",
   "metadata": {
    "tags": []
   },
   "outputs": [],
   "source": [
    "df_used_cars[df_used_cars.Make==\"honda civic ex\"]\n",
    "df_used_cars.loc[78277, \"Make\"]=\"honda\"\n",
    "df_used_cars.loc[78277, \"Model\"]=\"civic\"\n"
   ]
  },
  {
   "cell_type": "code",
   "execution_count": 126,
   "id": "a1f6c758-e7f6-4510-aa2a-f062edaa5038",
   "metadata": {
    "tags": []
   },
   "outputs": [],
   "source": [
    "df_used_cars[df_used_cars.Make==\"honda odyssey\"]\n",
    "df_used_cars.loc[78415, \"Make\"]=\"honda\"\n",
    "df_used_cars.loc[78415, \"Model\"]=\"odyssey\""
   ]
  },
  {
   "cell_type": "code",
   "execution_count": 127,
   "id": "d19201ab-a929-4170-9750-667d21e45509",
   "metadata": {
    "tags": []
   },
   "outputs": [],
   "source": [
    "df_used_cars[df_used_cars.Make==\"honda only 89k\"]\n",
    "df_used_cars.loc[78414, \"Make\"]=\"honda\"\n",
    "df_used_cars.loc[78414, \"Model\"]=\"odyssey\""
   ]
  },
  {
   "attachments": {},
   "cell_type": "markdown",
   "id": "4fa68b53-16a5-4f56-a6ff-89d40d7eabb1",
   "metadata": {
    "tags": []
   },
   "source": [
    "##### hummer"
   ]
  },
  {
   "cell_type": "code",
   "execution_count": 128,
   "id": "bb7037e3-519d-42dd-982a-3d8d87ef5389",
   "metadata": {
    "tags": []
   },
   "outputs": [],
   "source": [
    "df_used_cars[df_used_cars.Make==\"hummer h1\"]\n",
    "df_used_cars.loc[49585, \"Make\"]=\"hummer\"\n",
    "df_used_cars.loc[49585, \"Model\"]=\"h1\""
   ]
  },
  {
   "cell_type": "code",
   "execution_count": 129,
   "id": "b01856f2-af98-4c3c-97b6-caed518e0726",
   "metadata": {
    "tags": []
   },
   "outputs": [],
   "source": [
    "df_used_cars[df_used_cars.Make==\"hummer h-1\"]\n",
    "df_used_cars.loc[118309, \"Make\"]=\"hummer\"\n",
    "df_used_cars.loc[118309, \"Model\"]=\"h1\""
   ]
  },
  {
   "attachments": {},
   "cell_type": "markdown",
   "id": "63326f4f-2db4-4407-8779-a94983fbd39a",
   "metadata": {
    "tags": []
   },
   "source": [
    "##### hyundai"
   ]
  },
  {
   "cell_type": "code",
   "execution_count": 130,
   "id": "94cc71a1-12f7-4c54-a13a-a1f9fa565441",
   "metadata": {
    "tags": []
   },
   "outputs": [],
   "source": [
    "df_used_cars[df_used_cars.Make==\"hyundai santa fe gls\"]\n",
    "df_used_cars.loc[78468, \"Make\"]=\"hyundai\"\n",
    "df_used_cars.loc[78468, \"Model\"]=\"santa fe\""
   ]
  },
  {
   "attachments": {},
   "cell_type": "markdown",
   "id": "dc5919c3-b01f-498e-ae25-b4dc6429b02b",
   "metadata": {
    "tags": []
   },
   "source": [
    "##### jaguar"
   ]
  },
  {
   "cell_type": "code",
   "execution_count": 131,
   "id": "bba2e674-57a1-4d27-9864-b9ddf67a7fba",
   "metadata": {
    "tags": []
   },
   "outputs": [],
   "source": [
    "df_used_cars[df_used_cars.Make==\"jaguar xj8\"]\n",
    "df_used_cars.loc[78470, \"Make\"]=\"jaguar\"\n",
    "df_used_cars.loc[78470, \"Model\"]=\"xj8\""
   ]
  },
  {
   "attachments": {},
   "cell_type": "markdown",
   "id": "049c1b0b-e411-4347-abb8-f01c1b936aa4",
   "metadata": {
    "tags": []
   },
   "source": [
    "##### jeep"
   ]
  },
  {
   "cell_type": "code",
   "execution_count": 132,
   "id": "7d6acf9c-e24e-4f1d-b118-8c9bde6d2b01",
   "metadata": {
    "tags": []
   },
   "outputs": [],
   "source": [
    "df_used_cars[df_used_cars.Make==\"jeep 4x4\"]\n",
    "df_used_cars.loc[78375, \"Make\"]=\"jeep\"\n",
    "df_used_cars.loc[78375, \"Model\"]=\"compass\"\n",
    "\n",
    "df_used_cars.loc[78378, \"Make\"]=\"jeep\"\n",
    "df_used_cars.loc[78378, \"Model\"]=\"cherokee\""
   ]
  },
  {
   "cell_type": "code",
   "execution_count": 133,
   "id": "13e5eaf1-768f-4643-90b6-1effd119a1d4",
   "metadata": {
    "tags": []
   },
   "outputs": [],
   "source": [
    "df_used_cars[df_used_cars.Make==\"jeep one owner\"]\n",
    "df_used_cars.loc[78377, \"Make\"]=\"jeep\"\n",
    "df_used_cars.loc[78377, \"Model\"]=\"cherokee\""
   ]
  },
  {
   "cell_type": "code",
   "execution_count": 134,
   "id": "598fec23-16de-4209-ac93-6ab94d7319cc",
   "metadata": {
    "tags": []
   },
   "outputs": [],
   "source": [
    "df_used_cars[df_used_cars.Make==\"jeep only 68k\"]\n",
    "df_used_cars.loc[78379, \"Make\"]=\"jeep\"\n",
    "df_used_cars.loc[78379, \"Model\"]=\"cherokee\""
   ]
  },
  {
   "attachments": {},
   "cell_type": "markdown",
   "id": "973efcfc-71fb-41cc-beba-bfd5447ef4fd",
   "metadata": {
    "tags": []
   },
   "source": [
    "##### land rover"
   ]
  },
  {
   "cell_type": "code",
   "execution_count": 135,
   "id": "eed99778-e010-414f-a047-5c1315f766a7",
   "metadata": {
    "tags": []
   },
   "outputs": [],
   "source": [
    "df_used_cars[df_used_cars.Make==\"landrover\"]\n",
    "df_used_cars.loc[88843, \"Make\"]=\"land rover\"\n"
   ]
  },
  {
   "cell_type": "code",
   "execution_count": 136,
   "id": "eae71692-599e-4896-9ff1-249083a87a55",
   "metadata": {
    "tags": []
   },
   "outputs": [],
   "source": [
    "df_used_cars[df_used_cars.Make==\"land rover 4wd\"]\n",
    "df_used_cars.loc[78474, \"Make\"]=\"land rover\"\n",
    "df_used_cars.loc[78474, \"Model\"]=\"discovery\""
   ]
  },
  {
   "attachments": {},
   "cell_type": "markdown",
   "id": "d506bb89-0199-43f0-9cbe-290e955d73d4",
   "metadata": {
    "tags": []
   },
   "source": [
    "##### lexus"
   ]
  },
  {
   "cell_type": "code",
   "execution_count": 137,
   "id": "b56c97d4-a619-48d6-a3ff-a63e761055a2",
   "metadata": {
    "tags": []
   },
   "outputs": [],
   "source": [
    "df_used_cars[df_used_cars.Make==\"lexus es330\"]\n",
    "df_used_cars.loc[78456, \"Make\"]=\"lexus\"\n",
    "df_used_cars.loc[78456, \"Model\"]=\"es330\""
   ]
  },
  {
   "attachments": {},
   "cell_type": "markdown",
   "id": "89ab9ff6-c578-4d6b-a959-2b190a86f1f3",
   "metadata": {
    "tags": []
   },
   "source": [
    "##### lincoln"
   ]
  },
  {
   "cell_type": "code",
   "execution_count": 138,
   "id": "757db0f5-7a99-4097-b3e0-08a349e9ba9b",
   "metadata": {
    "tags": []
   },
   "outputs": [],
   "source": [
    "df_used_cars[df_used_cars.Make==\"lincoln only 49k\"]\n",
    "df_used_cars.loc[78381, \"Make\"]=\"lincoln\"\n",
    "df_used_cars.loc[78381, \"Model\"]=\"town car\""
   ]
  },
  {
   "attachments": {},
   "cell_type": "markdown",
   "id": "61549c6c-9d99-436d-92a7-033940f28b45",
   "metadata": {
    "tags": []
   },
   "source": [
    "##### mazda"
   ]
  },
  {
   "cell_type": "code",
   "execution_count": 139,
   "id": "54be120e-4f14-471e-b7a4-08ed736eff0d",
   "metadata": {
    "tags": []
   },
   "outputs": [],
   "source": [
    "df_used_cars[df_used_cars.Make==\"mazda 5 speed manual\"]\n",
    "df_used_cars.loc[78436, \"Make\"]=\"mazda\"\n",
    "df_used_cars.loc[78436, \"Model\"]=\"mazda3\""
   ]
  },
  {
   "cell_type": "code",
   "execution_count": 140,
   "id": "e3e3f231-d71b-4fd6-b411-288ef16da640",
   "metadata": {
    "tags": []
   },
   "outputs": [],
   "source": [
    "df_used_cars[df_used_cars.Make==\"mazda mx-5 miata\"]\n",
    "df_used_cars.loc[78439, \"Make\"]=\"mazda\"\n",
    "df_used_cars.loc[78439, \"Model\"]=\"mx5 miata\""
   ]
  },
  {
   "attachments": {},
   "cell_type": "markdown",
   "id": "c224173d-a852-4f25-b025-a0b5359ffe09",
   "metadata": {
    "tags": []
   },
   "source": [
    "##### mercedes"
   ]
  },
  {
   "cell_type": "code",
   "execution_count": 141,
   "id": "3d06fb0c-776d-4312-af98-d74909117408",
   "metadata": {
    "tags": []
   },
   "outputs": [],
   "source": [
    "df_used_cars[df_used_cars.Make==\"mercedes-b\"]\n",
    "df_used_cars.loc[33493, \"Make\"]=\"mercedes-benz\""
   ]
  },
  {
   "cell_type": "code",
   "execution_count": 142,
   "id": "8dd6a1fe-aeed-4966-9d51-dd7e48565431",
   "metadata": {
    "tags": []
   },
   "outputs": [],
   "source": [
    "df_used_cars[df_used_cars.Make==\"mercedes\"]\n",
    "df_used_cars.loc[72223, \"Make\"]=\"mercedes-benz\"\n",
    "\n",
    "df_used_cars.loc[80682, \"Make\"]=\"mercedes-benz\""
   ]
  },
  {
   "cell_type": "code",
   "execution_count": 143,
   "id": "7fa6d6eb-3ac2-46cc-98fd-56d4a358727d",
   "metadata": {
    "tags": []
   },
   "outputs": [],
   "source": [
    "df_used_cars[df_used_cars.Make==\"mercedes-benz diesel\"]\n",
    "df_used_cars.loc[78405, \"Make\"]=\"mercedes-benz\"\n",
    "df_used_cars.loc[78405, \"Model\"]=\"r-class\""
   ]
  },
  {
   "cell_type": "code",
   "execution_count": 144,
   "id": "a640f263-a56e-4af5-96fb-b94852681265",
   "metadata": {
    "tags": []
   },
   "outputs": [],
   "source": [
    "df_used_cars[df_used_cars.Make==\"mercedes benz\"]\n",
    "df_used_cars.loc[8702, \"Make\"]=\"mercedes-benz\"\n",
    "\n",
    "df_used_cars.loc[45334, \"Make\"]=\"mercedes-benz\"\n",
    "\n",
    "df_used_cars.loc[69462, \"Make\"]=\"mercedes-benz\"\n",
    "df_used_cars.loc[69462, \"Model\"]=\"slk 230 amg\""
   ]
  },
  {
   "cell_type": "code",
   "execution_count": 145,
   "id": "dc57dd10-1a95-43b6-bbd7-cb41cad26706",
   "metadata": {
    "tags": []
   },
   "outputs": [],
   "source": [
    "df_used_cars[df_used_cars.Make==\"mercedes-benz only 22k\"]\n",
    "df_used_cars.loc[78490, \"Make\"]=\"mercedes-benz\"\n",
    "df_used_cars.loc[78490, \"Model\"]=\"300\""
   ]
  },
  {
   "attachments": {},
   "cell_type": "markdown",
   "id": "2281f9bc-2670-4708-be7a-3a53f15b8651",
   "metadata": {
    "tags": []
   },
   "source": [
    "##### oldmobile"
   ]
  },
  {
   "cell_type": "code",
   "execution_count": 146,
   "id": "df8257e2-f287-46b5-ae8e-f480e1bc121b",
   "metadata": {
    "tags": []
   },
   "outputs": [],
   "source": [
    "df_used_cars[df_used_cars.Make==\"oldsmobile 1967 442\"]\n",
    "df_used_cars.loc[64746, \"Make\"]=\"oldsmobile\"\n",
    "df_used_cars.loc[64746, \"Model\"]=\"442\""
   ]
  },
  {
   "attachments": {},
   "cell_type": "markdown",
   "id": "15bc1f20-5793-4a1e-bae4-17b6938eaf09",
   "metadata": {
    "tags": []
   },
   "source": [
    "##### opel"
   ]
  },
  {
   "cell_type": "code",
   "execution_count": 147,
   "id": "d1c68f62-b35b-41e2-9775-b4c5e5d7c850",
   "metadata": {
    "tags": []
   },
   "outputs": [],
   "source": [
    "df_used_cars[df_used_cars.Make==\"opel manta\"]\n",
    "df_used_cars.loc[66040, \"Make\"]=\"opel\"\n",
    "df_used_cars.loc[66040, \"Model\"]=\"manta rallye\""
   ]
  },
  {
   "attachments": {},
   "cell_type": "markdown",
   "id": "603dfa6f-075d-40eb-af58-354f8dd07c42",
   "metadata": {
    "tags": []
   },
   "source": [
    "##### pontiac"
   ]
  },
  {
   "cell_type": "code",
   "execution_count": 148,
   "id": "99fecd11-458c-4be8-b575-3a4c7619791f",
   "metadata": {
    "tags": []
   },
   "outputs": [],
   "source": [
    "df_used_cars[df_used_cars.Make==\"pontiac vibe\"]\n",
    "df_used_cars.loc[78427, \"Make\"]=\"pontiac\"\n",
    "df_used_cars.loc[78427, \"Model\"]=\"vibe\""
   ]
  },
  {
   "cell_type": "code",
   "execution_count": 149,
   "id": "bd8d61bc-b98e-4f57-9964-1bc1a02515f9",
   "metadata": {
    "tags": []
   },
   "outputs": [],
   "source": [
    "df_used_cars[df_used_cars.Make==\"ram dodge c/v\"]\n",
    "df_used_cars.loc[78385, \"Make\"]=\"dodge\"\n",
    "df_used_cars.loc[78385, \"Model\"]=\"ram\""
   ]
  },
  {
   "cell_type": "code",
   "execution_count": 150,
   "id": "7b04eae0-3244-4434-a1de-e790e4e55456",
   "metadata": {
    "tags": []
   },
   "outputs": [],
   "source": [
    "df_used_cars[df_used_cars.Make==\"rover\"]\n",
    "df_used_cars.loc[48577, \"Make\"]=\"mini\"\n",
    "df_used_cars.loc[48577, \"Model\"]=\"cooper\""
   ]
  },
  {
   "attachments": {},
   "cell_type": "markdown",
   "id": "e48aa83d-a040-45d9-bc80-2f929adc8cf8",
   "metadata": {
    "tags": []
   },
   "source": [
    "##### saab"
   ]
  },
  {
   "cell_type": "code",
   "execution_count": 151,
   "id": "1f1396c4-727a-465b-8bb3-da6a4b38fdbf",
   "metadata": {
    "tags": []
   },
   "outputs": [],
   "source": [
    "df_used_cars[df_used_cars.Make==\"saab only 73k\"]\n",
    "df_used_cars.loc[78502, \"Make\"]=\"saab\"\n",
    "df_used_cars.loc[78502, \"Model\"]=\"93\""
   ]
  },
  {
   "attachments": {},
   "cell_type": "markdown",
   "id": "06089181-a688-4643-9b09-2d1ffbd2c062",
   "metadata": {
    "tags": []
   },
   "source": [
    "##### saturn"
   ]
  },
  {
   "cell_type": "code",
   "execution_count": 152,
   "id": "fb6bd572-bc0d-458b-b8b1-d8a29c41ceee",
   "metadata": {
    "tags": []
   },
   "outputs": [],
   "source": [
    "df_used_cars[df_used_cars.Make==\"saturn vue hybrid\"]\n",
    "df_used_cars.loc[78399, \"Make\"]=\"saturn\"\n",
    "df_used_cars.loc[78399, \"Model\"]=\"vue\""
   ]
  },
  {
   "attachments": {},
   "cell_type": "markdown",
   "id": "5f3cd39a-2c29-4405-be0c-9b617b002d61",
   "metadata": {
    "tags": []
   },
   "source": [
    "##### subaru"
   ]
  },
  {
   "cell_type": "code",
   "execution_count": 153,
   "id": "801ec215-71fc-46aa-a13c-b2d0efefb0bd",
   "metadata": {
    "tags": []
   },
   "outputs": [],
   "source": [
    "df_used_cars[df_used_cars.Make==\"subaru 6 speed manual\"]\n",
    "df_used_cars.loc[78410, \"Make\"]=\"subaru\"\n",
    "df_used_cars.loc[78410, \"Model\"]=\"outback\""
   ]
  },
  {
   "cell_type": "code",
   "execution_count": 154,
   "id": "2060ab5b-b804-454c-8641-3b56f33cba79",
   "metadata": {
    "tags": []
   },
   "outputs": [],
   "source": [
    "df_used_cars[df_used_cars.Make==\"subaru awd wagon\"]\n",
    "df_used_cars.loc[78431, \"Make\"]=\"subaru\"\n",
    "df_used_cars.loc[78431, \"Model\"]=\"forester\""
   ]
  },
  {
   "cell_type": "code",
   "execution_count": 155,
   "id": "98cd2485-c7ee-4df4-9774-a8a2b1633550",
   "metadata": {
    "tags": []
   },
   "outputs": [],
   "source": [
    "df_used_cars[df_used_cars.Make==\"subaru forester awd\"]\n",
    "df_used_cars.loc[78429, \"Make\"]=\"subaru\"\n",
    "df_used_cars.loc[78429, \"Model\"]=\"forester\"\n",
    "\n",
    "df_used_cars.loc[78430, \"Make\"]=\"subaru\"\n",
    "df_used_cars.loc[78430, \"Model\"]=\"forester\""
   ]
  },
  {
   "attachments": {},
   "cell_type": "markdown",
   "id": "59687d73-93c9-46c5-b8ab-347e93ab7dd5",
   "metadata": {
    "tags": []
   },
   "source": [
    "##### suzuki"
   ]
  },
  {
   "cell_type": "code",
   "execution_count": 156,
   "id": "d75fe061-4d51-45ef-aed7-f9ffc7261b03",
   "metadata": {
    "tags": []
   },
   "outputs": [],
   "source": [
    "df_used_cars[df_used_cars.Make==\"suzuki only 27k\"]\n",
    "df_used_cars.loc[78442, \"Make\"]=\"suzuki\"\n",
    "df_used_cars.loc[78442, \"Model\"]=\"kizashi\""
   ]
  },
  {
   "attachments": {},
   "cell_type": "markdown",
   "id": "baf71f65-dcb4-4ef7-b1f2-55d96065c001",
   "metadata": {
    "tags": []
   },
   "source": [
    "##### toyota"
   ]
  },
  {
   "cell_type": "code",
   "execution_count": 157,
   "id": "b0eff6e9-266c-4f20-8931-a294fb298927",
   "metadata": {
    "tags": []
   },
   "outputs": [],
   "source": [
    "df_used_cars[df_used_cars.Make==\"toyota 4runner sr5 4wd\"]\n",
    "df_used_cars.loc[78444, \"Make\"]=\"toyota\"\n",
    "df_used_cars.loc[78444, \"Model\"]=\"4runner\"\n",
    "\n",
    "df_used_cars.loc[78445, \"Make\"]=\"toyota\"\n",
    "df_used_cars.loc[78445, \"Model\"]=\"4runner\""
   ]
  },
  {
   "cell_type": "code",
   "execution_count": 158,
   "id": "8ae95a1d-1c3b-4331-b88f-98c5eb017323",
   "metadata": {
    "tags": []
   },
   "outputs": [],
   "source": [
    "df_used_cars[df_used_cars.Make==\"toyota highlander hybrid\"]\n",
    "df_used_cars.loc[78452, \"Make\"]=\"toyota\"\n",
    "df_used_cars.loc[78452, \"Model\"]=\"highlander hybrid\""
   ]
  },
  {
   "cell_type": "code",
   "execution_count": 159,
   "id": "2272a8cb-4e67-4af5-8518-0530930bbfca",
   "metadata": {
    "tags": []
   },
   "outputs": [],
   "source": [
    "df_used_cars[df_used_cars.Make==\"toyota nav\"]\n",
    "df_used_cars.loc[78465, \"Make\"]=\"toyota\"\n",
    "df_used_cars.loc[78465, \"Model\"]=\"camry hybrid\""
   ]
  },
  {
   "cell_type": "code",
   "execution_count": 160,
   "id": "c8f75d26-b1ba-41e4-b9df-20dd5568675f",
   "metadata": {
    "tags": []
   },
   "outputs": [],
   "source": [
    "df_used_cars[df_used_cars.Make==\"toyota one owner\"]\n",
    "df_used_cars.loc[78446, \"Make\"]=\"toyota\"\n",
    "df_used_cars.loc[78446, \"Model\"]=\"4runner\"\n",
    "\n",
    "df_used_cars.loc[78448, \"Make\"]=\"toyota\"\n",
    "df_used_cars.loc[78448, \"Model\"]=\"prius hybrid\"\n",
    "\n",
    "df_used_cars.loc[78467, \"Make\"]=\"toyota\"\n",
    "df_used_cars.loc[78467, \"Model\"]=\"camry hybrid\""
   ]
  },
  {
   "cell_type": "code",
   "execution_count": 161,
   "id": "487090a2-4e2f-4b9f-a263-92e3acded0a5",
   "metadata": {
    "tags": []
   },
   "outputs": [],
   "source": [
    "df_used_cars[df_used_cars.Make==\"toyota rear diff lock\"]\n",
    "df_used_cars.loc[78443, \"Make\"]=\"toyota\"\n",
    "df_used_cars.loc[78443, \"Model\"]=\"4runner\""
   ]
  },
  {
   "cell_type": "code",
   "execution_count": 162,
   "id": "d9932150-c6d5-463a-81f0-70c32f6d62ba",
   "metadata": {
    "tags": []
   },
   "outputs": [],
   "source": [
    "df_used_cars[df_used_cars.Make==\"toyota sienna\"]\n",
    "df_used_cars.loc[78424, \"Make\"]=\"toyota\"\n",
    "df_used_cars.loc[78424, \"Model\"]=\"sienna\""
   ]
  },
  {
   "attachments": {},
   "cell_type": "markdown",
   "id": "53948390-95b4-4f32-851d-efe79684c946",
   "metadata": {
    "tags": []
   },
   "source": [
    "##### volkswagen"
   ]
  },
  {
   "cell_type": "code",
   "execution_count": 163,
   "id": "9916138c-c3f5-4790-acac-139cd38afa9f",
   "metadata": {
    "tags": []
   },
   "outputs": [],
   "source": [
    "df_used_cars[df_used_cars.Make==\"volkswagen jetta gls\"]\n",
    "df_used_cars.loc[78404, \"Make\"]=\"volkswagen\"\n",
    "df_used_cars.loc[78404, \"Model\"]=\"jetta\""
   ]
  },
  {
   "cell_type": "code",
   "execution_count": 164,
   "id": "4238c32a-6cb7-4afa-8365-baca47d136a7",
   "metadata": {
    "tags": []
   },
   "outputs": [],
   "source": [
    "df_used_cars[df_used_cars.Make==\"volkswagen passat 47k gl\"]\n",
    "df_used_cars.loc[78500, \"Make\"]=\"volkswagen\"\n",
    "df_used_cars.loc[78500, \"Model\"]=\"passat\""
   ]
  },
  {
   "cell_type": "code",
   "execution_count": 165,
   "id": "8fa48467-c442-4074-a08b-1468ea76e31b",
   "metadata": {
    "tags": []
   },
   "outputs": [],
   "source": [
    "df_used_cars[df_used_cars.Make==\"volkswagon\"]\n",
    "df_used_cars.loc[109173, \"Make\"]=\"volkswagen\"\n"
   ]
  },
  {
   "attachments": {},
   "cell_type": "markdown",
   "id": "0fa20bf1-8b9c-40bd-880c-b215d04c17a8",
   "metadata": {
    "tags": []
   },
   "source": [
    "##### volvo"
   ]
  },
  {
   "cell_type": "code",
   "execution_count": 166,
   "id": "072b7509-f6c1-44d0-bef0-40ed71e0c4a3",
   "metadata": {
    "tags": []
   },
   "outputs": [],
   "source": [
    "df_used_cars[df_used_cars.Make==\"volvo only 64k\"]\n",
    "df_used_cars.loc[78505, \"Make\"]=\"volvo\"\n",
    "df_used_cars.loc[78505, \"Model\"]=\"s70\""
   ]
  },
  {
   "cell_type": "code",
   "execution_count": 167,
   "id": "927621ff-6e5d-455f-82aa-cefb5c403e28",
   "metadata": {
    "tags": []
   },
   "outputs": [],
   "source": [
    "df_used_cars[df_used_cars.Make==\"volvo only 84k\"]\n",
    "df_used_cars.loc[78509, \"Make\"]=\"volvo\"\n",
    "df_used_cars.loc[78509, \"Model\"]=\"s60\""
   ]
  },
  {
   "cell_type": "code",
   "execution_count": 168,
   "id": "bfe5b390-e8ef-4810-aae2-32bf2e9217cd",
   "metadata": {
    "tags": []
   },
   "outputs": [],
   "source": [
    "df_used_cars[df_used_cars.Make==\"volvo v70\"]\n",
    "df_used_cars.loc[78511, \"Make\"]=\"volvo\"\n",
    "df_used_cars.loc[78511, \"Model\"]=\"v70\""
   ]
  },
  {
   "attachments": {},
   "cell_type": "markdown",
   "id": "2518fb44-ab14-42ad-a6ce-0b74b5cf9979",
   "metadata": {
    "tags": []
   },
   "source": [
    "##### zimmer"
   ]
  },
  {
   "cell_type": "code",
   "execution_count": 169,
   "id": "8121283f-1e77-4772-879a-59077f651c2c",
   "metadata": {
    "tags": []
   },
   "outputs": [],
   "source": [
    "df_used_cars[df_used_cars.Make==\"zimmer  golden spirit\"]\n",
    "df_used_cars.loc[57855, \"Make\"]=\"zimmer\"\n",
    "df_used_cars.loc[57855, \"Model\"]=\"golden spirit\""
   ]
  },
  {
   "cell_type": "code",
   "execution_count": 170,
   "id": "a102fb08-8b5f-4438-a6de-5a22fd696054",
   "metadata": {
    "tags": []
   },
   "outputs": [
    {
     "data": {
      "text/plain": [
       "Int64Index([    17,    103,    125,    126,    140,    174,    237,    260,\n",
       "               352,    378,\n",
       "            ...\n",
       "            120907, 121006, 121237, 121303, 121305, 121471, 121736, 121755,\n",
       "            121851, 122108],\n",
       "           dtype='int64', length=524)"
      ]
     },
     "execution_count": 170,
     "metadata": {},
     "output_type": "execute_result"
    }
   ],
   "source": [
    "df_used_cars[(df_used_cars.Model==\"nan\")].index"
   ]
  },
  {
   "cell_type": "code",
   "execution_count": 171,
   "id": "d940ba92-a042-4b14-a4e0-f0ed8e1348fa",
   "metadata": {
    "tags": []
   },
   "outputs": [
    {
     "data": {
      "text/plain": [
       "(122049, 14)"
      ]
     },
     "execution_count": 171,
     "metadata": {},
     "output_type": "execute_result"
    }
   ],
   "source": [
    "df_used_cars.shape"
   ]
  },
  {
   "cell_type": "code",
   "execution_count": 172,
   "id": "79466792-c93f-4d35-b068-7342c1743630",
   "metadata": {
    "tags": []
   },
   "outputs": [],
   "source": [
    "df_used_cars.drop(index=df_used_cars[(df_used_cars.Model==\"nan\")].index, inplace=True)"
   ]
  },
  {
   "cell_type": "code",
   "execution_count": 173,
   "id": "0a769ae1-1357-4ec7-8e40-af74c36cd9cb",
   "metadata": {
    "tags": []
   },
   "outputs": [
    {
     "data": {
      "text/plain": [
       "(121525, 14)"
      ]
     },
     "execution_count": 173,
     "metadata": {},
     "output_type": "execute_result"
    }
   ],
   "source": [
    "df_used_cars.shape"
   ]
  },
  {
   "cell_type": "code",
   "execution_count": 174,
   "id": "af5fcd1c-d77c-4e56-b521-f55cbc3e2ee2",
   "metadata": {
    "tags": []
   },
   "outputs": [
    {
     "data": {
      "text/plain": [
       "(60308, 14)"
      ]
     },
     "execution_count": 174,
     "metadata": {},
     "output_type": "execute_result"
    }
   ],
   "source": [
    "df_used_cars.dropna().shape"
   ]
  },
  {
   "cell_type": "code",
   "execution_count": 175,
   "id": "4568fd78-922a-4604-a070-8bfcefb028ba",
   "metadata": {
    "tags": []
   },
   "outputs": [],
   "source": [
    "zdb = ZipCodeDatabase()\n",
    "\n",
    "def get_state(code):\n",
    "    try:\n",
    "        data = zdb[code]\n",
    "        return data.state.lower()\n",
    "    except:\n",
    "        return np.nan\n",
    "    \n",
    "def get_long(code):\n",
    "    try:\n",
    "        data = zdb[code]\n",
    "        return data.longitude\n",
    "    except:\n",
    "        return np.nan\n",
    "    \n",
    "def get_lat(code):\n",
    "    try:\n",
    "        data = zdb[code]\n",
    "        return data.latitude\n",
    "    except:\n",
    "        return np.nan"
   ]
  },
  {
   "cell_type": "code",
   "execution_count": 176,
   "id": "d2d93fa6-34c8-4a0a-b034-041fcb1acec5",
   "metadata": {
    "tags": []
   },
   "outputs": [],
   "source": [
    "df_used_cars.zipcode = df_used_cars.zipcode.apply(lambda x: str(x).replace(\"*\", \"1\").replace(\"0\", \"1\"))"
   ]
  },
  {
   "cell_type": "code",
   "execution_count": 177,
   "id": "a4693876-298e-4e70-96ab-669d350f7806",
   "metadata": {
    "tags": []
   },
   "outputs": [],
   "source": [
    "df_used_cars[\"lat\"] = df_used_cars.zipcode.apply(get_lat)"
   ]
  },
  {
   "cell_type": "code",
   "execution_count": 178,
   "id": "3084215c-7902-45ff-9818-8491a1e0382a",
   "metadata": {
    "tags": []
   },
   "outputs": [],
   "source": [
    "df_used_cars[\"long\"] = df_used_cars.zipcode.apply(get_long)"
   ]
  },
  {
   "cell_type": "code",
   "execution_count": 179,
   "id": "c7edc48b-95da-4ce0-b668-2dd06a90d8ef",
   "metadata": {
    "tags": []
   },
   "outputs": [],
   "source": [
    "df_used_cars[\"state\"] = df_used_cars.zipcode.apply(get_state)"
   ]
  },
  {
   "cell_type": "code",
   "execution_count": 180,
   "id": "96e6ceea-6bc8-4213-9f4f-be6bc6793ff5",
   "metadata": {
    "tags": []
   },
   "outputs": [
    {
     "data": {
      "text/plain": [
       "Trim         48396\n",
       "Engine       26698\n",
       "BodyType     20468\n",
       "DriveType    24484\n",
       "lat          33324\n",
       "long         33324\n",
       "state        33324\n",
       "dtype: int64"
      ]
     },
     "execution_count": 180,
     "metadata": {},
     "output_type": "execute_result"
    }
   ],
   "source": [
    "df_used_cars.isna().sum()[df_used_cars.isna().sum()>0]"
   ]
  },
  {
   "attachments": {},
   "cell_type": "markdown",
   "id": "49e68fba-4b3e-49c5-91f7-355c9132e63a",
   "metadata": {
    "tags": []
   },
   "source": [
    "By the diagram we can see that the Trim does not connect to any of the other datasources, therefore it will not be needed. It is also the column with the most amount of information missing, which will lead to more usable samples"
   ]
  },
  {
   "cell_type": "code",
   "execution_count": 181,
   "id": "6b123857-a73a-4e79-ae35-aec73a5cb19a",
   "metadata": {
    "tags": []
   },
   "outputs": [],
   "source": [
    "df_used_cars.drop(columns=\"Trim\", inplace=True)"
   ]
  },
  {
   "attachments": {},
   "cell_type": "markdown",
   "id": "7eb16f61-4685-4c27-b736-a4820c1290d3",
   "metadata": {},
   "source": [
    "We saw some samples that had \"0\" Cyllinders, but the engine name refers the number of cylinders. "
   ]
  },
  {
   "cell_type": "code",
   "execution_count": 182,
   "id": "76225e87-d3ed-49b1-b078-b66e794ef038",
   "metadata": {
    "tags": []
   },
   "outputs": [
    {
     "data": {
      "text/plain": [
       "350                              2077\n",
       "V8                               1890\n",
       "V6                                923\n",
       "5.0                               612\n",
       "5.7                               590\n",
       "                                 ... \n",
       "gasoline V6                         1\n",
       "1.6 Liter Turbocharged              1\n",
       "3.6L 6 cylinder                     1\n",
       "2006 5.3L Chevy LS series LM7       1\n",
       "M52TU 2.8L                          1\n",
       "Name: Engine, Length: 22304, dtype: int64"
      ]
     },
     "execution_count": 182,
     "metadata": {},
     "output_type": "execute_result"
    }
   ],
   "source": [
    "df_used_cars.Engine.value_counts()"
   ]
  },
  {
   "cell_type": "code",
   "execution_count": 183,
   "id": "ac074d5c-64e9-4ca5-a6cc-c6adca73ad15",
   "metadata": {
    "tags": []
   },
   "outputs": [
    {
     "data": {
      "text/plain": [
       "v8                         2216\n",
       "350                        2077\n",
       "v6                         1102\n",
       "5.0                         612\n",
       "5.7                         590\n",
       "                           ... \n",
       "4.6l 217 hp aluminum v8       1\n",
       "6200                          1\n",
       "454 (350hp)                   1\n",
       "4 cylinder 2.5 in line        1\n",
       "m52tu 2.8l                    1\n",
       "Name: Engine, Length: 19810, dtype: int64"
      ]
     },
     "execution_count": 183,
     "metadata": {},
     "output_type": "execute_result"
    }
   ],
   "source": [
    "df_used_cars['Engine'] = df_used_cars['Engine'].str.lower()\n",
    "df_used_cars.Engine.value_counts()"
   ]
  },
  {
   "cell_type": "code",
   "execution_count": 184,
   "id": "672271cc-e4a6-4505-9636-18fac569bcf6",
   "metadata": {
    "tags": []
   },
   "outputs": [],
   "source": [
    "# Filter rows where NumCylinders is 0 and Engine contains v8...\n",
    "mask = (df_used_cars['NumCylinders'] == 0) & (df_used_cars['Engine'].str.contains('v8|v7|v6|v5|v4|v3|v2|v1|i8|i7|i6|i5|i4|i3|i2|i1'))\n",
    "\n",
    "# Set NumCylinders based on Engine\n",
    "for i in range(1,8+1):\n",
    "    df_used_cars.loc[mask & df_used_cars['Engine'].str.contains(f'v{i}|i{i}'), 'NumCylinders'] = i"
   ]
  },
  {
   "cell_type": "code",
   "execution_count": 185,
   "id": "938ea0b8-4cf3-4c83-a10f-5735358ec95b",
   "metadata": {
    "tags": []
   },
   "outputs": [
    {
     "data": {
      "text/plain": [
       "ID                  0\n",
       "pricesold           0\n",
       "yearsold            0\n",
       "zipcode             0\n",
       "Mileage             0\n",
       "Make                0\n",
       "Model               0\n",
       "Year                0\n",
       "Engine          26698\n",
       "BodyType        20468\n",
       "NumCylinders        0\n",
       "DriveType       24484\n",
       "datesold            0\n",
       "lat             33324\n",
       "long            33324\n",
       "state           33324\n",
       "dtype: int64"
      ]
     },
     "execution_count": 185,
     "metadata": {},
     "output_type": "execute_result"
    }
   ],
   "source": [
    "df_used_cars.isna().sum()"
   ]
  },
  {
   "cell_type": "code",
   "execution_count": 186,
   "id": "6f5bb452-1587-4c39-a892-4cab8796c58c",
   "metadata": {},
   "outputs": [
    {
     "data": {
      "text/plain": [
       "[nan, 'none', 'no engine', '0', 'no motor', '--']"
      ]
     },
     "execution_count": 186,
     "metadata": {},
     "output_type": "execute_result"
    }
   ],
   "source": [
    "[np.nan, \"none\", \"no engine\", \"0\", \"no motor\", \"--\"]"
   ]
  },
  {
   "cell_type": "code",
   "execution_count": 187,
   "id": "40380a4c-e623-4f65-a7e8-7949717f3023",
   "metadata": {
    "tags": []
   },
   "outputs": [],
   "source": [
    "df_used_cars.loc[df_used_cars.Engine==\"none\", \"Engine\"] = np.nan"
   ]
  },
  {
   "cell_type": "code",
   "execution_count": 188,
   "id": "83c02923-a6e9-4acc-bdfb-673cf1ab3daa",
   "metadata": {
    "tags": []
   },
   "outputs": [],
   "source": [
    "df_used_cars.loc[df_used_cars.Engine==\"no engine\", \"Engine\"] = np.nan"
   ]
  },
  {
   "cell_type": "code",
   "execution_count": 189,
   "id": "9781b508-991f-4900-9af7-db829c65be51",
   "metadata": {
    "tags": []
   },
   "outputs": [],
   "source": [
    "df_used_cars.loc[df_used_cars.Engine==\"0\", \"Engine\"] = np.nan"
   ]
  },
  {
   "cell_type": "code",
   "execution_count": 190,
   "id": "9af285df-d902-44de-ab89-0038795432ea",
   "metadata": {
    "tags": []
   },
   "outputs": [],
   "source": [
    "df_used_cars.loc[df_used_cars.Engine==\"no motor\", \"Engine\"] = np.nan"
   ]
  },
  {
   "cell_type": "code",
   "execution_count": 191,
   "id": "54dcbb43-1ae2-47f1-a9cb-af20f0d8c125",
   "metadata": {
    "tags": []
   },
   "outputs": [],
   "source": [
    "df_used_cars.loc[df_used_cars.Engine==\"--\", \"Engine\"] = np.nan"
   ]
  },
  {
   "attachments": {},
   "cell_type": "markdown",
   "id": "42df2067-e4c8-4547-a465-7b8a9cf74813",
   "metadata": {
    "tags": []
   },
   "source": [
    "## In the *make* column, we set the values uniform and like in other datasets"
   ]
  },
  {
   "cell_type": "code",
   "execution_count": 192,
   "id": "d168c449-d825-4188-883d-bd8c647dc962",
   "metadata": {
    "tags": []
   },
   "outputs": [],
   "source": [
    "df_used_cars.Make = df_used_cars.Make.apply(str.lower)\n",
    "df_used_cars.Model = df_used_cars.Model.apply(str.lower)"
   ]
  },
  {
   "cell_type": "code",
   "execution_count": 193,
   "id": "39a49eb9-e937-4a1b-86b1-ca8be2bb9da0",
   "metadata": {
    "tags": []
   },
   "outputs": [],
   "source": [
    "df_used_cars.Make = df_used_cars.Make.apply(filter_manufacturers)"
   ]
  },
  {
   "cell_type": "code",
   "execution_count": 194,
   "id": "46ceb637-6636-44bc-9008-fbcf42c56e18",
   "metadata": {
    "tags": []
   },
   "outputs": [],
   "source": [
    "df_used_cars.dropna(subset=[\"Make\", \"lat\", \"long\", \"state\"], inplace=True)"
   ]
  },
  {
   "cell_type": "code",
   "execution_count": 195,
   "id": "91ac4708-8deb-4e57-aee7-48e42104cd51",
   "metadata": {},
   "outputs": [
    {
     "data": {
      "text/plain": [
       "(87262, 16)"
      ]
     },
     "execution_count": 195,
     "metadata": {},
     "output_type": "execute_result"
    }
   ],
   "source": [
    "df_used_cars.shape"
   ]
  },
  {
   "cell_type": "code",
   "execution_count": 196,
   "id": "9d6c7c76-f0cd-4850-a6f9-a6bf074baec0",
   "metadata": {},
   "outputs": [],
   "source": [
    "df_used_cars[\"Model\"] = list(map(\n",
    "    lambda make, model: \n",
    "    get_parse_from_model_str(make).parse_model(model).get_model(), \n",
    "    df_used_cars.Make, \n",
    "    df_used_cars.Model\n",
    "))"
   ]
  },
  {
   "cell_type": "code",
   "execution_count": 197,
   "id": "b7909afc-cf23-4e13-adfb-912faeda6ebd",
   "metadata": {
    "tags": []
   },
   "outputs": [],
   "source": [
    "df_used_cars.dropna(subset=[\"Model\"], inplace=True)"
   ]
  },
  {
   "cell_type": "code",
   "execution_count": 198,
   "id": "e10d2b82-9850-4370-b844-ff901da3d357",
   "metadata": {
    "tags": []
   },
   "outputs": [
    {
     "data": {
      "text/plain": [
       "(72561, 16)"
      ]
     },
     "execution_count": 198,
     "metadata": {},
     "output_type": "execute_result"
    }
   ],
   "source": [
    "df_used_cars.shape"
   ]
  },
  {
   "attachments": {},
   "cell_type": "markdown",
   "id": "75ba30b2-085f-4236-9ac8-65f04c891f39",
   "metadata": {},
   "source": [
    "We will infer the fuel of the vehicle through the engine they have\n",
    "\n",
    "This columns does not relate to other tables either so afterwards we will drop it"
   ]
  },
  {
   "cell_type": "code",
   "execution_count": 199,
   "id": "b8750a7a-5771-49c6-97c5-482dbfa9f05d",
   "metadata": {
    "tags": []
   },
   "outputs": [
    {
     "data": {
      "text/plain": [
       "5"
      ]
     },
     "execution_count": 199,
     "metadata": {},
     "output_type": "execute_result"
    }
   ],
   "source": [
    "len(list(filter(lambda x: \"dc\" in str(x), df_used_cars.Engine.unique())))"
   ]
  },
  {
   "cell_type": "code",
   "execution_count": 200,
   "id": "bed4144c-09bd-4987-8329-e477d26bd5bb",
   "metadata": {
    "tags": []
   },
   "outputs": [
    {
     "data": {
      "text/plain": [
       "140"
      ]
     },
     "execution_count": 200,
     "metadata": {},
     "output_type": "execute_result"
    }
   ],
   "source": [
    "len(list(filter(lambda x: \"ac\" in str(x), df_used_cars.Engine.unique())))"
   ]
  },
  {
   "cell_type": "code",
   "execution_count": 201,
   "id": "ade855b0-99d3-4345-bb1b-067d3a5f9b65",
   "metadata": {
    "tags": []
   },
   "outputs": [],
   "source": [
    "df_used_cars.BodyType = df_used_cars.BodyType.apply(lambda x: x.lower() if x==x else x)"
   ]
  },
  {
   "cell_type": "code",
   "execution_count": 202,
   "id": "297f5de8-2f94-4d82-acc0-89f37743a6e6",
   "metadata": {
    "tags": []
   },
   "outputs": [],
   "source": [
    "def infer_fuel(data):\n",
    "    fuel = {\n",
    "        \"diesel\":[\"diesel\", \"tdi\"],\n",
    "        \"electric\":[\"elec\", \" ac\", \" dc\", \"ac \", \"dc \"],\n",
    "    }\n",
    "    \n",
    "    gas_type = []\n",
    "    for e, b in zip(data.Engine, data.BodyType):\n",
    "        is_found=0\n",
    "        for fuelvalue in fuel:\n",
    "            \n",
    "            if is_found==1:\n",
    "                break\n",
    "            \n",
    "            for fuel_filter in fuel[fuelvalue]:\n",
    "                if e==e and b==b:\n",
    "                    if fuel_filter in e or fuel_filter in b:\n",
    "                        gas_type.append(fuelvalue)\n",
    "                        is_found=1\n",
    "                        break\n",
    "                    \n",
    "        if is_found==0:\n",
    "            gas_type.append(\"gas\")\n",
    "    return gas_type"
   ]
  },
  {
   "cell_type": "code",
   "execution_count": 203,
   "id": "625ed9d7-13e8-4fb6-abff-8fc403ba3f0f",
   "metadata": {
    "tags": []
   },
   "outputs": [],
   "source": [
    "df_used_cars[\"fuel\"] = infer_fuel(df_used_cars)"
   ]
  },
  {
   "cell_type": "code",
   "execution_count": 204,
   "id": "b65da866-42bf-4f29-b520-7ab3f229aa4d",
   "metadata": {
    "tags": []
   },
   "outputs": [
    {
     "data": {
      "text/plain": [
       "gas         70494\n",
       "diesel       1652\n",
       "electric      415\n",
       "Name: fuel, dtype: int64"
      ]
     },
     "execution_count": 204,
     "metadata": {},
     "output_type": "execute_result"
    }
   ],
   "source": [
    "df_used_cars.fuel.value_counts()"
   ]
  },
  {
   "cell_type": "code",
   "execution_count": 205,
   "id": "3a39d33d-9578-4a31-9f96-6cae35c5f8f2",
   "metadata": {
    "tags": []
   },
   "outputs": [
    {
     "data": {
      "text/plain": [
       "(72561, 17)"
      ]
     },
     "execution_count": 205,
     "metadata": {},
     "output_type": "execute_result"
    }
   ],
   "source": [
    "df_used_cars.shape"
   ]
  },
  {
   "cell_type": "code",
   "execution_count": 206,
   "id": "7a2ff138",
   "metadata": {},
   "outputs": [
    {
     "data": {
      "text/plain": [
       "array([8, 6, 0, 4, 5, 10, 12, 1, 3, 9, 2, 7], dtype=object)"
      ]
     },
     "execution_count": 206,
     "metadata": {},
     "output_type": "execute_result"
    }
   ],
   "source": [
    "df_used_cars.NumCylinders.unique()"
   ]
  },
  {
   "cell_type": "code",
   "execution_count": 207,
   "id": "83deb65a",
   "metadata": {},
   "outputs": [
    {
     "data": {
      "text/plain": [
       "False"
      ]
     },
     "execution_count": 207,
     "metadata": {},
     "output_type": "execute_result"
    }
   ],
   "source": [
    "(df_used_cars.Year==0).any()"
   ]
  },
  {
   "attachments": {},
   "cell_type": "markdown",
   "id": "68fddd87-2a07-4945-87b6-5c9898a08fa9",
   "metadata": {},
   "source": [
    "## Save processed data"
   ]
  },
  {
   "cell_type": "code",
   "execution_count": 210,
   "id": "614ce669-3795-43eb-8604-b3ccba9a0f22",
   "metadata": {
    "tags": []
   },
   "outputs": [],
   "source": [
    "#df_used_cars = \n",
    "df_used_cars.to_csv(f\"{PROC_PATH}/used_car_sales.csv\", index=False)"
   ]
  },
  {
   "cell_type": "code",
   "execution_count": null,
   "id": "5a36e437-6dc5-4036-b754-dced528fb1c0",
   "metadata": {},
   "outputs": [],
   "source": []
  }
 ],
 "metadata": {
  "kernelspec": {
   "display_name": "Python 3 (ipykernel)",
   "language": "python",
   "name": "python3"
  },
  "language_info": {
   "codemirror_mode": {
    "name": "ipython",
    "version": 3
   },
   "file_extension": ".py",
   "mimetype": "text/x-python",
   "name": "python",
   "nbconvert_exporter": "python",
   "pygments_lexer": "ipython3",
   "version": "3.9.7"
  }
 },
 "nbformat": 4,
 "nbformat_minor": 5
}
