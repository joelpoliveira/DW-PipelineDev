{
 "cells": [
  {
   "cell_type": "markdown",
   "metadata": {},
   "source": [
    "# Cleaning data for TN_MVR_2018-2022 dataset\n"
   ]
  },
  {
   "cell_type": "code",
   "execution_count": 1,
   "metadata": {
    "tags": []
   },
   "outputs": [],
   "source": [
    "# Import necessary libraries\n",
    "import numpy as np \n",
    "import pandas as pd\n",
    "import matplotlib.pyplot as plt\n",
    "import time\n",
    "\n",
    "# Path to data folders\n",
    "## Folder that contains the raw data\n",
    "OLD_PATH=\"./data/oldData/\"\n",
    "## Folder that contains the processed data\n",
    "PROC_PATH=\"./data/processedData/\"\n",
    "\n",
    "# Import CSV data from datasets (tn_mvr_2018_2022)\n",
    "df = pd.read_csv(f\"{OLD_PATH}/tn_mvr_2018-2022.csv\", sep=\"\\t\", dtype= {\n",
    "                        \"VIN\": \"str\",\n",
    "                        \"VehicleCost\":\"float32\",\n",
    "                        \"OdometerTypeCode\":\"category\",\n",
    "                        \"OdometerReading\":\"Int32\",\n",
    "                        \"CountyName\":\"category\",\n",
    "                        #\"ZIP5\",\n",
    "                        \"ModelYear\":\"int16\",\n",
    "                        #\"MakeCode\",\n",
    "                        #\"ModelCode\",\n",
    "                        \"VehicleTypeDescription\":\"category\",\n",
    "                        \"NewUsedCode\":\"category\"\n",
    "                        #\"TitleIssueDate\",\n",
    "                        #\"PurchaseDate\"\n",
    "                    }, low_memory=False)"
   ]
  },
  {
   "cell_type": "code",
   "execution_count": 2,
   "metadata": {
    "tags": []
   },
   "outputs": [
    {
     "name": "stdout",
     "output_type": "stream",
     "text": [
      "Dataframe Total Missing Values: 333030\n",
      "Dataframe Columns Missing Values:\n",
      " VIN                            4\n",
      "VehicleCost               331544\n",
      "OdometerTypeCode               0\n",
      "OdometerReading                1\n",
      "CountyName                     0\n",
      "ZIP5                           0\n",
      "ModelYear                      0\n",
      "MakeCode                       0\n",
      "ModelCode                    586\n",
      "VehicleTypeDescription         0\n",
      "NewUsedCode                    0\n",
      "TitleIssueDate               895\n",
      "PurchaseDate                   0\n",
      "dtype: int64\n"
     ]
    }
   ],
   "source": [
    "# Check the data for missing values\n",
    "print(\"Dataframe Total Missing Values:\", df.isna().sum().sum())\n",
    "print(\"Dataframe Columns Missing Values:\\n\", df.isna().sum())"
   ]
  },
  {
   "cell_type": "code",
   "execution_count": 3,
   "metadata": {
    "tags": []
   },
   "outputs": [],
   "source": [
    "# Rename the dataframe columns\n",
    "df.columns = [\"vin\", \"price\", \"odometer_type\",\"mileage\", \"county\", \"zip\", \"model_year\",\n",
    "              \"make\", \"model\", \"vehicle_type\", \"new_used\", \"title_issue_date\", \"purchase_date\"]\n",
    "\n",
    "# Set the date types\n",
    "df[\"title_issue_date\"] = pd.to_datetime(df[\"title_issue_date\"], format=\"%Y-%m-%d\")\n",
    "df[\"purchase_date\"] = pd.to_datetime(df[\"purchase_date\"], format=\"%Y-%m-%d\", errors=\"coerce\")"
   ]
  },
  {
   "cell_type": "code",
   "execution_count": 4,
   "metadata": {
    "tags": []
   },
   "outputs": [
    {
     "name": "stdout",
     "output_type": "stream",
     "text": [
      "Dataframe Shape and Columns:\n",
      "(9831774, 13)\n",
      "Index(['vin', 'price', 'odometer_type', 'mileage', 'county', 'zip',\n",
      "       'model_year', 'make', 'model', 'vehicle_type', 'new_used',\n",
      "       'title_issue_date', 'purchase_date'],\n",
      "      dtype='object')\n",
      "\n",
      "Dataframe initial values:\n",
      "                       vin  price odometer_type  mileage  county    zip  \\\n",
      "1472784  1GCHK23123F115066  500.0             1        0   Lewis  38462   \n",
      "5856696  KM8JUCAC4CU451332    0.0             0    25818  Sumner  37075   \n",
      "\n",
      "         model_year  make model vehicle_type new_used title_issue_date  \\\n",
      "1472784        2003  CHEV   SIL         AUTO        U       2020-10-19   \n",
      "5856696        2012  HYUN   TCN         AUTO        U       2019-05-22   \n",
      "\n",
      "        purchase_date  \n",
      "1472784    2020-08-08  \n",
      "5856696    2013-04-18  \n",
      "\n"
     ]
    }
   ],
   "source": [
    "# Print out the patterns of the dataset\n",
    "print(\"Dataframe Shape and Columns:\")\n",
    "print(df.shape)\n",
    "print(df.columns)\n",
    "print()\n",
    "\n",
    "# Check initial values of the dataset\n",
    "print(\"Dataframe initial values:\")\n",
    "print(df.sample(2))\n",
    "print()"
   ]
  },
  {
   "cell_type": "code",
   "execution_count": 5,
   "metadata": {
    "tags": []
   },
   "outputs": [
    {
     "name": "stdout",
     "output_type": "stream",
     "text": [
      "Dataframe Info:\n",
      "<class 'pandas.core.frame.DataFrame'>\n",
      "RangeIndex: 9831774 entries, 0 to 9831773\n",
      "Data columns (total 13 columns):\n",
      " #   Column            Dtype         \n",
      "---  ------            -----         \n",
      " 0   vin               object        \n",
      " 1   price             float32       \n",
      " 2   odometer_type     category      \n",
      " 3   mileage           Int32         \n",
      " 4   county            category      \n",
      " 5   zip               object        \n",
      " 6   model_year        int16         \n",
      " 7   make              object        \n",
      " 8   model             object        \n",
      " 9   vehicle_type      category      \n",
      " 10  new_used          category      \n",
      " 11  title_issue_date  datetime64[ns]\n",
      " 12  purchase_date     datetime64[ns]\n",
      "dtypes: Int32(1), category(4), datetime64[ns](2), float32(1), int16(1), object(4)\n",
      "memory usage: 590.7+ MB\n",
      "None\n",
      "\n"
     ]
    }
   ],
   "source": [
    "# Get basic info of the dataframe\n",
    "print(\"Dataframe Info:\")\n",
    "print(df.info(show_counts=False))\n",
    "print()"
   ]
  },
  {
   "cell_type": "code",
   "execution_count": 6,
   "metadata": {
    "tags": []
   },
   "outputs": [
    {
     "name": "stdout",
     "output_type": "stream",
     "text": [
      "Numeric Columns:\n",
      "              price       mileage  model_year\n",
      "count  9.500230e+06     9831773.0   9831774.0\n",
      "mean   2.163599e+06         190.1      2010.4\n",
      "std    2.792438e+09     4452238.4         9.9\n",
      "min   -7.000000e+00  -225699640.0      1005.0\n",
      "25%    0.000000e+00           0.0      2005.0\n",
      "50%    0.000000e+00          10.0      2013.0\n",
      "75%    1.000000e+03       43145.0      2018.0\n",
      "max    8.118003e+12  2147483647.0      2890.0\n",
      "\n"
     ]
    }
   ],
   "source": [
    "# Describe the numeric columns\n",
    "print(\"Numeric Columns:\")\n",
    "print(df.describe().round(decimals = 1))\n",
    "print()"
   ]
  },
  {
   "cell_type": "code",
   "execution_count": 7,
   "metadata": {
    "tags": []
   },
   "outputs": [
    {
     "name": "stdout",
     "output_type": "stream",
     "text": [
      "Non-numeric Columns:\n",
      "                  vin odometer_type   county      zip     make    model  \\\n",
      "count         9831770       9831774  9831774  9831774  9831774  9831188   \n",
      "unique        7558172             5       97     5968     8580    24683   \n",
      "top     CCZ264F146470             0    State    37218     FORD      F15   \n",
      "freq               17       5185393  1086116   172902  1360587   286477   \n",
      "\n",
      "       vehicle_type new_used  \n",
      "count       9831774  9831774  \n",
      "unique           16        2  \n",
      "top            AUTO        U  \n",
      "freq        6973439  7907848  \n",
      "\n"
     ]
    }
   ],
   "source": [
    "# Describe the non-numeric columns\n",
    "print(\"Non-numeric Columns:\")\n",
    "print(df.describe(include = [\"object\",\"category\"]))\n",
    "print()"
   ]
  },
  {
   "cell_type": "code",
   "execution_count": 8,
   "metadata": {
    "tags": []
   },
   "outputs": [
    {
     "name": "stdout",
     "output_type": "stream",
     "text": [
      "Date Columns:\n",
      "                    title_issue_date                  purchase_date\n",
      "count                        9830879                        9831203\n",
      "mean   2020-07-08 19:08:27.796668416  2020-02-19 13:33:20.368216320\n",
      "min              1971-06-12 00:00:00            1720-02-08 00:00:00\n",
      "25%              2019-04-23 00:00:00            2019-01-15 00:00:00\n",
      "50%              2020-07-29 00:00:00            2020-05-01 00:00:00\n",
      "75%              2021-10-04 00:00:00            2021-07-23 00:00:00\n",
      "max              2022-12-30 00:00:00            2220-03-07 00:00:00\n",
      "\n"
     ]
    }
   ],
   "source": [
    "# Describe the dates\n",
    "print(\"Date Columns:\")\n",
    "print(df.describe(include = [\"datetime\"], datetime_is_numeric=True))\n",
    "print()"
   ]
  }
 ],
 "metadata": {
  "kernelspec": {
   "display_name": "Python 3 (ipykernel)",
   "language": "python",
   "name": "python3"
  },
  "language_info": {
   "codemirror_mode": {
    "name": "ipython",
    "version": 3
   },
   "file_extension": ".py",
   "mimetype": "text/x-python",
   "name": "python",
   "nbconvert_exporter": "python",
   "pygments_lexer": "ipython3",
   "version": "3.9.7"
  }
 },
 "nbformat": 4,
 "nbformat_minor": 4
}
