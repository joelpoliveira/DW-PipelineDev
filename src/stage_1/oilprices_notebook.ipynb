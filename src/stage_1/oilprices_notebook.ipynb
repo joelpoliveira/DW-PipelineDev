{
 "cells": [
  {
   "cell_type": "markdown",
   "metadata": {
    "tags": []
   },
   "source": [
    "### Data Preprocessing"
   ]
  },
  {
   "cell_type": "markdown",
   "metadata": {
    "tags": []
   },
   "source": [
    "##### Data Cleaning"
   ]
  },
  {
   "cell_type": "code",
   "execution_count": 1,
   "metadata": {
    "tags": []
   },
   "outputs": [],
   "source": [
    "import pandas as pd\n",
    "import numpy as np"
   ]
  },
  {
   "cell_type": "code",
   "execution_count": 2,
   "metadata": {
    "tags": []
   },
   "outputs": [
    {
     "data": {
      "text/html": [
       "<div>\n",
       "<style scoped>\n",
       "    .dataframe tbody tr th:only-of-type {\n",
       "        vertical-align: middle;\n",
       "    }\n",
       "\n",
       "    .dataframe tbody tr th {\n",
       "        vertical-align: top;\n",
       "    }\n",
       "\n",
       "    .dataframe thead th {\n",
       "        text-align: right;\n",
       "    }\n",
       "</style>\n",
       "<table border=\"1\" class=\"dataframe\">\n",
       "  <thead>\n",
       "    <tr style=\"text-align: right;\">\n",
       "      <th></th>\n",
       "      <th>Date</th>\n",
       "      <th>Weekly U.S. All Grades All Formulations Retail Gasoline Prices  (Dollars per Gallon)</th>\n",
       "      <th>Weekly U.S. All Grades Conventional Retail Gasoline Prices  (Dollars per Gallon)</th>\n",
       "      <th>Weekly U.S. All Grades Reformulated Retail Gasoline Prices  (Dollars per Gallon)</th>\n",
       "      <th>Weekly U.S. Regular All Formulations Retail Gasoline Prices  (Dollars per Gallon)</th>\n",
       "      <th>Weekly U.S. Regular Conventional Retail Gasoline Prices  (Dollars per Gallon)</th>\n",
       "      <th>Weekly U.S. Regular Reformulated Retail Gasoline Prices  (Dollars per Gallon)</th>\n",
       "      <th>Weekly U.S. Midgrade All Formulations Retail Gasoline Prices  (Dollars per Gallon)</th>\n",
       "      <th>Weekly U.S. Midgrade Conventional Retail Gasoline Prices  (Dollars per Gallon)</th>\n",
       "      <th>Weekly U.S. Midgrade Reformulated Retail Gasoline Prices  (Dollars per Gallon)</th>\n",
       "      <th>Weekly U.S. Premium All Formulations Retail Gasoline Prices  (Dollars per Gallon)</th>\n",
       "      <th>Weekly U.S. Premium Conventional Retail Gasoline Prices  (Dollars per Gallon)</th>\n",
       "      <th>Weekly U.S. Premium Reformulated Retail Gasoline Prices  (Dollars per Gallon)</th>\n",
       "      <th>Weekly U.S. No 2 Diesel Retail Prices  (Dollars per Gallon)</th>\n",
       "      <th>Weekly U.S. No 2 Diesel Ultra Low Sulfur (0-15 ppm) Retail Prices  (Dollars per Gallon)</th>\n",
       "      <th>Weekly U.S. No 2 Diesel Low Sulfur (15-500 ppm) Retail Prices  (Dollars per Gallon)</th>\n",
       "    </tr>\n",
       "  </thead>\n",
       "  <tbody>\n",
       "    <tr>\n",
       "      <th>0</th>\n",
       "      <td>1990-08-20</td>\n",
       "      <td>NaN</td>\n",
       "      <td>NaN</td>\n",
       "      <td>NaN</td>\n",
       "      <td>1.191</td>\n",
       "      <td>1.191</td>\n",
       "      <td>NaN</td>\n",
       "      <td>NaN</td>\n",
       "      <td>NaN</td>\n",
       "      <td>NaN</td>\n",
       "      <td>NaN</td>\n",
       "      <td>NaN</td>\n",
       "      <td>NaN</td>\n",
       "      <td>NaN</td>\n",
       "      <td>NaN</td>\n",
       "      <td>NaN</td>\n",
       "    </tr>\n",
       "    <tr>\n",
       "      <th>1</th>\n",
       "      <td>1990-08-27</td>\n",
       "      <td>NaN</td>\n",
       "      <td>NaN</td>\n",
       "      <td>NaN</td>\n",
       "      <td>1.245</td>\n",
       "      <td>1.245</td>\n",
       "      <td>NaN</td>\n",
       "      <td>NaN</td>\n",
       "      <td>NaN</td>\n",
       "      <td>NaN</td>\n",
       "      <td>NaN</td>\n",
       "      <td>NaN</td>\n",
       "      <td>NaN</td>\n",
       "      <td>NaN</td>\n",
       "      <td>NaN</td>\n",
       "      <td>NaN</td>\n",
       "    </tr>\n",
       "    <tr>\n",
       "      <th>2</th>\n",
       "      <td>1990-09-03</td>\n",
       "      <td>NaN</td>\n",
       "      <td>NaN</td>\n",
       "      <td>NaN</td>\n",
       "      <td>1.242</td>\n",
       "      <td>1.242</td>\n",
       "      <td>NaN</td>\n",
       "      <td>NaN</td>\n",
       "      <td>NaN</td>\n",
       "      <td>NaN</td>\n",
       "      <td>NaN</td>\n",
       "      <td>NaN</td>\n",
       "      <td>NaN</td>\n",
       "      <td>NaN</td>\n",
       "      <td>NaN</td>\n",
       "      <td>NaN</td>\n",
       "    </tr>\n",
       "    <tr>\n",
       "      <th>3</th>\n",
       "      <td>1990-09-10</td>\n",
       "      <td>NaN</td>\n",
       "      <td>NaN</td>\n",
       "      <td>NaN</td>\n",
       "      <td>1.252</td>\n",
       "      <td>1.252</td>\n",
       "      <td>NaN</td>\n",
       "      <td>NaN</td>\n",
       "      <td>NaN</td>\n",
       "      <td>NaN</td>\n",
       "      <td>NaN</td>\n",
       "      <td>NaN</td>\n",
       "      <td>NaN</td>\n",
       "      <td>NaN</td>\n",
       "      <td>NaN</td>\n",
       "      <td>NaN</td>\n",
       "    </tr>\n",
       "    <tr>\n",
       "      <th>4</th>\n",
       "      <td>1990-09-17</td>\n",
       "      <td>NaN</td>\n",
       "      <td>NaN</td>\n",
       "      <td>NaN</td>\n",
       "      <td>1.266</td>\n",
       "      <td>1.266</td>\n",
       "      <td>NaN</td>\n",
       "      <td>NaN</td>\n",
       "      <td>NaN</td>\n",
       "      <td>NaN</td>\n",
       "      <td>NaN</td>\n",
       "      <td>NaN</td>\n",
       "      <td>NaN</td>\n",
       "      <td>NaN</td>\n",
       "      <td>NaN</td>\n",
       "      <td>NaN</td>\n",
       "    </tr>\n",
       "  </tbody>\n",
       "</table>\n",
       "</div>"
      ],
      "text/plain": [
       "        Date  \\\n",
       "0 1990-08-20   \n",
       "1 1990-08-27   \n",
       "2 1990-09-03   \n",
       "3 1990-09-10   \n",
       "4 1990-09-17   \n",
       "\n",
       "   Weekly U.S. All Grades All Formulations Retail Gasoline Prices  (Dollars per Gallon)  \\\n",
       "0                                                NaN                                      \n",
       "1                                                NaN                                      \n",
       "2                                                NaN                                      \n",
       "3                                                NaN                                      \n",
       "4                                                NaN                                      \n",
       "\n",
       "   Weekly U.S. All Grades Conventional Retail Gasoline Prices  (Dollars per Gallon)  \\\n",
       "0                                                NaN                                  \n",
       "1                                                NaN                                  \n",
       "2                                                NaN                                  \n",
       "3                                                NaN                                  \n",
       "4                                                NaN                                  \n",
       "\n",
       "   Weekly U.S. All Grades Reformulated Retail Gasoline Prices  (Dollars per Gallon)  \\\n",
       "0                                                NaN                                  \n",
       "1                                                NaN                                  \n",
       "2                                                NaN                                  \n",
       "3                                                NaN                                  \n",
       "4                                                NaN                                  \n",
       "\n",
       "   Weekly U.S. Regular All Formulations Retail Gasoline Prices  (Dollars per Gallon)  \\\n",
       "0                                              1.191                                   \n",
       "1                                              1.245                                   \n",
       "2                                              1.242                                   \n",
       "3                                              1.252                                   \n",
       "4                                              1.266                                   \n",
       "\n",
       "   Weekly U.S. Regular Conventional Retail Gasoline Prices  (Dollars per Gallon)  \\\n",
       "0                                              1.191                               \n",
       "1                                              1.245                               \n",
       "2                                              1.242                               \n",
       "3                                              1.252                               \n",
       "4                                              1.266                               \n",
       "\n",
       "   Weekly U.S. Regular Reformulated Retail Gasoline Prices  (Dollars per Gallon)  \\\n",
       "0                                                NaN                               \n",
       "1                                                NaN                               \n",
       "2                                                NaN                               \n",
       "3                                                NaN                               \n",
       "4                                                NaN                               \n",
       "\n",
       "   Weekly U.S. Midgrade All Formulations Retail Gasoline Prices  (Dollars per Gallon)  \\\n",
       "0                                                NaN                                    \n",
       "1                                                NaN                                    \n",
       "2                                                NaN                                    \n",
       "3                                                NaN                                    \n",
       "4                                                NaN                                    \n",
       "\n",
       "   Weekly U.S. Midgrade Conventional Retail Gasoline Prices  (Dollars per Gallon)  \\\n",
       "0                                                NaN                                \n",
       "1                                                NaN                                \n",
       "2                                                NaN                                \n",
       "3                                                NaN                                \n",
       "4                                                NaN                                \n",
       "\n",
       "   Weekly U.S. Midgrade Reformulated Retail Gasoline Prices  (Dollars per Gallon)  \\\n",
       "0                                                NaN                                \n",
       "1                                                NaN                                \n",
       "2                                                NaN                                \n",
       "3                                                NaN                                \n",
       "4                                                NaN                                \n",
       "\n",
       "   Weekly U.S. Premium All Formulations Retail Gasoline Prices  (Dollars per Gallon)  \\\n",
       "0                                                NaN                                   \n",
       "1                                                NaN                                   \n",
       "2                                                NaN                                   \n",
       "3                                                NaN                                   \n",
       "4                                                NaN                                   \n",
       "\n",
       "   Weekly U.S. Premium Conventional Retail Gasoline Prices  (Dollars per Gallon)  \\\n",
       "0                                                NaN                               \n",
       "1                                                NaN                               \n",
       "2                                                NaN                               \n",
       "3                                                NaN                               \n",
       "4                                                NaN                               \n",
       "\n",
       "   Weekly U.S. Premium Reformulated Retail Gasoline Prices  (Dollars per Gallon)  \\\n",
       "0                                                NaN                               \n",
       "1                                                NaN                               \n",
       "2                                                NaN                               \n",
       "3                                                NaN                               \n",
       "4                                                NaN                               \n",
       "\n",
       "   Weekly U.S. No 2 Diesel Retail Prices  (Dollars per Gallon)  \\\n",
       "0                                                NaN             \n",
       "1                                                NaN             \n",
       "2                                                NaN             \n",
       "3                                                NaN             \n",
       "4                                                NaN             \n",
       "\n",
       "   Weekly U.S. No 2 Diesel Ultra Low Sulfur (0-15 ppm) Retail Prices  (Dollars per Gallon)  \\\n",
       "0                                                NaN                                         \n",
       "1                                                NaN                                         \n",
       "2                                                NaN                                         \n",
       "3                                                NaN                                         \n",
       "4                                                NaN                                         \n",
       "\n",
       "   Weekly U.S. No 2 Diesel Low Sulfur (15-500 ppm) Retail Prices  (Dollars per Gallon)  \n",
       "0                                                NaN                                    \n",
       "1                                                NaN                                    \n",
       "2                                                NaN                                    \n",
       "3                                                NaN                                    \n",
       "4                                                NaN                                    "
      ]
     },
     "execution_count": 2,
     "metadata": {},
     "output_type": "execute_result"
    }
   ],
   "source": [
    "OLD_PATH = \"./data/oldData/\"\n",
    "PROC_PATH = \"./data/processedData/\"\n",
    "#df = pd.read_csv(OLD_PATH + \"/oilprices.csv\", parse_dates=[\"Date\"])\n",
    "df = pd.read_excel(OLD_PATH + \"PET_PRI_GND_DCUS_NUS_W.xls\", \n",
    "                   sheet_name=\"Data 1\",\n",
    "                  skiprows=2,\n",
    "                   parse_dates=[\"Date\"]\n",
    "                  )\n",
    "df.head()\n"
   ]
  },
  {
   "cell_type": "code",
   "execution_count": 3,
   "metadata": {
    "tags": []
   },
   "outputs": [
    {
     "name": "stdout",
     "output_type": "stream",
     "text": [
      "<class 'pandas.core.frame.DataFrame'>\n",
      "RangeIndex: 1704 entries, 0 to 1703\n",
      "Data columns (total 16 columns):\n",
      " #   Column                                                                                   Non-Null Count  Dtype         \n",
      "---  ------                                                                                   --------------  -----         \n",
      " 0   Date                                                                                     1704 non-null   datetime64[ns]\n",
      " 1   Weekly U.S. All Grades All Formulations Retail Gasoline Prices  (Dollars per Gallon)     1567 non-null   float64       \n",
      " 2   Weekly U.S. All Grades Conventional Retail Gasoline Prices  (Dollars per Gallon)         1481 non-null   float64       \n",
      " 3   Weekly U.S. All Grades Reformulated Retail Gasoline Prices  (Dollars per Gallon)         1481 non-null   float64       \n",
      " 4   Weekly U.S. Regular All Formulations Retail Gasoline Prices  (Dollars per Gallon)        1698 non-null   float64       \n",
      " 5   Weekly U.S. Regular Conventional Retail Gasoline Prices  (Dollars per Gallon)            1698 non-null   float64       \n",
      " 6   Weekly U.S. Regular Reformulated Retail Gasoline Prices  (Dollars per Gallon)            1481 non-null   float64       \n",
      " 7   Weekly U.S. Midgrade All Formulations Retail Gasoline Prices  (Dollars per Gallon)       1481 non-null   float64       \n",
      " 8   Weekly U.S. Midgrade Conventional Retail Gasoline Prices  (Dollars per Gallon)           1481 non-null   float64       \n",
      " 9   Weekly U.S. Midgrade Reformulated Retail Gasoline Prices  (Dollars per Gallon)           1481 non-null   float64       \n",
      " 10  Weekly U.S. Premium All Formulations Retail Gasoline Prices  (Dollars per Gallon)        1481 non-null   float64       \n",
      " 11  Weekly U.S. Premium Conventional Retail Gasoline Prices  (Dollars per Gallon)            1481 non-null   float64       \n",
      " 12  Weekly U.S. Premium Reformulated Retail Gasoline Prices  (Dollars per Gallon)            1481 non-null   float64       \n",
      " 13  Weekly U.S. No 2 Diesel Retail Prices  (Dollars per Gallon)                              1517 non-null   float64       \n",
      " 14  Weekly U.S. No 2 Diesel Ultra Low Sulfur (0-15 ppm) Retail Prices  (Dollars per Gallon)  845 non-null    float64       \n",
      " 15  Weekly U.S. No 2 Diesel Low Sulfur (15-500 ppm) Retail Prices  (Dollars per Gallon)      96 non-null     float64       \n",
      "dtypes: datetime64[ns](1), float64(15)\n",
      "memory usage: 213.1 KB\n"
     ]
    }
   ],
   "source": [
    "df.info() #has no null values"
   ]
  },
  {
   "cell_type": "code",
   "execution_count": 4,
   "metadata": {
    "tags": []
   },
   "outputs": [],
   "source": [
    "df = df[[\"Date\", \n",
    "         \"Weekly U.S. All Grades All Formulations Retail Gasoline Prices  (Dollars per Gallon)\", \n",
    "         \"Weekly U.S. No 2 Diesel Retail Prices  (Dollars per Gallon)\"]]"
   ]
  },
  {
   "cell_type": "code",
   "execution_count": 5,
   "metadata": {
    "tags": []
   },
   "outputs": [
    {
     "data": {
      "text/plain": [
       "Date                                                                                      0\n",
       "Weekly U.S. All Grades All Formulations Retail Gasoline Prices  (Dollars per Gallon)    137\n",
       "Weekly U.S. No 2 Diesel Retail Prices  (Dollars per Gallon)                             187\n",
       "dtype: int64"
      ]
     },
     "execution_count": 5,
     "metadata": {},
     "output_type": "execute_result"
    }
   ],
   "source": [
    "df.isna().sum()"
   ]
  },
  {
   "cell_type": "code",
   "execution_count": 6,
   "metadata": {
    "tags": []
   },
   "outputs": [],
   "source": [
    "df.dropna(inplace=True)"
   ]
  },
  {
   "cell_type": "code",
   "execution_count": 7,
   "metadata": {
    "tags": []
   },
   "outputs": [],
   "source": [
    "df[\"Stop Date\"] = df.Date.shift(-1)"
   ]
  },
  {
   "cell_type": "code",
   "execution_count": 8,
   "metadata": {
    "tags": []
   },
   "outputs": [],
   "source": [
    "df.loc[1703, \"Stop Date\"]=\"2024-01-01\""
   ]
  },
  {
   "cell_type": "code",
   "execution_count": 9,
   "metadata": {
    "tags": []
   },
   "outputs": [
    {
     "data": {
      "text/plain": [
       "Index(['Date',\n",
       "       'Weekly U.S. All Grades All Formulations Retail Gasoline Prices  (Dollars per Gallon)',\n",
       "       'Weekly U.S. No 2 Diesel Retail Prices  (Dollars per Gallon)',\n",
       "       'Stop Date'],\n",
       "      dtype='object')"
      ]
     },
     "execution_count": 9,
     "metadata": {},
     "output_type": "execute_result"
    }
   ],
   "source": [
    "df.columns"
   ]
  },
  {
   "cell_type": "code",
   "execution_count": 10,
   "metadata": {
    "tags": []
   },
   "outputs": [],
   "source": [
    "df.columns=[\"Start Date\", \"Gasoline Price\", \"Diesel Price\", \"Stop Date\"]"
   ]
  },
  {
   "cell_type": "code",
   "execution_count": 11,
   "metadata": {
    "tags": []
   },
   "outputs": [],
   "source": [
    "df.to_csv(PROC_PATH + \"fuel_prices.csv\")"
   ]
  },
  {
   "cell_type": "code",
   "execution_count": null,
   "metadata": {},
   "outputs": [],
   "source": []
  }
 ],
 "metadata": {
  "kernelspec": {
   "display_name": "Python 3 (ipykernel)",
   "language": "python",
   "name": "python3"
  },
  "language_info": {
   "codemirror_mode": {
    "name": "ipython",
    "version": 3
   },
   "file_extension": ".py",
   "mimetype": "text/x-python",
   "name": "python",
   "nbconvert_exporter": "python",
   "pygments_lexer": "ipython3",
   "version": "3.9.7"
  }
 },
 "nbformat": 4,
 "nbformat_minor": 4
}
