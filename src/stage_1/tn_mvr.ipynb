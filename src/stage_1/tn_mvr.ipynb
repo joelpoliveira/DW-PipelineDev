{
 "cells": [
  {
   "attachments": {},
   "cell_type": "markdown",
   "metadata": {},
   "source": [
    "# Cleaning data for TN_MVR_2018-2022 dataset\n"
   ]
  },
  {
   "cell_type": "code",
   "execution_count": 1,
   "metadata": {
    "tags": []
   },
   "outputs": [],
   "source": [
    "# Import necessary libraries\n",
    "import numpy as np \n",
    "import pandas as pd\n",
    "import matplotlib.pyplot as plt\n",
    "import time\n",
    "\n",
    "from vininfo import Vin #get manufacturer\n",
    "from pyvin import VIN #get model\n",
    "from util.vehiclesModeler import *\n",
    "from util.vin_api import *\n",
    "from util.location import *"
   ]
  },
  {
   "cell_type": "code",
   "execution_count": 2,
   "metadata": {},
   "outputs": [],
   "source": [
    "# Path to data folders\n",
    "## Folder that contains the raw data\n",
    "OLD_PATH=\"./data/oldData/\"\n",
    "## Folder that contains the processed data\n",
    "PROC_PATH=\"./data/processedData/\""
   ]
  },
  {
   "cell_type": "code",
   "execution_count": null,
   "metadata": {},
   "outputs": [],
   "source": [
    "# Import CSV data from datasets (tn_mvr_2018_2022)\n",
    "df = pd.read_csv(f\"{OLD_PATH}/tn_mvr_2018-2022.csv\", sep=\"\\t\",  low_memory=False)"
   ]
  },
  {
   "cell_type": "code",
   "execution_count": 5,
   "metadata": {
    "tags": []
   },
   "outputs": [
    {
     "name": "stdout",
     "output_type": "stream",
     "text": [
      "Dataframe Total Values (Before Dropping Missing): 9831774\n",
      "Dataframe Total Missing Values: 333030\n",
      "Dataframe Columns Missing Values:\n",
      " VIN                            4\n",
      "VehicleCost               331544\n",
      "OdometerTypeCode               0\n",
      "OdometerReading                1\n",
      "CountyName                     0\n",
      "ZIP5                           0\n",
      "ModelYear                      0\n",
      "MakeCode                       0\n",
      "ModelCode                    586\n",
      "VehicleTypeDescription         0\n",
      "NewUsedCode                    0\n",
      "TitleIssueDate               895\n",
      "PurchaseDate                   0\n",
      "dtype: int64\n",
      "Dataframe Total Values (After Dropping Missing): 9498752\n"
     ]
    }
   ],
   "source": [
    "# Check for total values\n",
    "print(\"Dataframe Total Values (Before Dropping Missing):\", df.shape[0])\n",
    "\n",
    "# Check the data for missing values\n",
    "print(\"Dataframe Total Missing Values:\", df.isna().sum().sum())\n",
    "print(\"Dataframe Columns Missing Values:\\n\", df.isna().sum())\n",
    "\n",
    "# Remove the missing values (drop rows with missing values)\n",
    "df = df.dropna()\n",
    "\n",
    "# Check for total values\n",
    "print(\"Dataframe Total Values (After Dropping Missing):\", df.shape[0])"
   ]
  },
  {
   "cell_type": "code",
   "execution_count": 6,
   "metadata": {
    "tags": []
   },
   "outputs": [],
   "source": [
    "# Rename the dataframe columns\n",
    "df.columns = [\"vin\", \"price\", \"odometer_type\",\"mileage\", \"county\", \"zip\", \"model_year\",\n",
    "              \"make\", \"model\", \"vehicle_type\", \"new_used\", \"title_issue_date\", \"purchase_date\"]\n",
    "\n",
    "# Set the date types\n",
    "df[\"title_issue_date\"] = pd.to_datetime(df[\"title_issue_date\"], format=\"%Y-%m-%d\")\n",
    "df[\"purchase_date\"] = pd.to_datetime(df[\"purchase_date\"], format=\"%Y-%m-%d\", errors=\"coerce\")"
   ]
  },
  {
   "cell_type": "code",
   "execution_count": 7,
   "metadata": {
    "tags": []
   },
   "outputs": [
    {
     "name": "stdout",
     "output_type": "stream",
     "text": [
      "Dataframe Shape and Columns:\n",
      "(9498752, 13)\n",
      "Index(['vin', 'price', 'odometer_type', 'mileage', 'county', 'zip',\n",
      "       'model_year', 'make', 'model', 'vehicle_type', 'new_used',\n",
      "       'title_issue_date', 'purchase_date'],\n",
      "      dtype='object')\n",
      "\n",
      "Dataframe initial values:\n",
      "                      vin     price  odometer_type  mileage      county  \\\n",
      "382766  1C4RJKDG7N8542387  63219.00              0     13.0  Montgomery   \n",
      "378279  1C6JJTEG0ML600182  68311.23              0  16228.0      Shelby   \n",
      "\n",
      "          zip  model_year  make model vehicle_type new_used title_issue_date  \\\n",
      "382766  37040        2022  JEEP   GCH         AUTO        N       2022-06-30   \n",
      "378279  38118        2021  JEEP   GLA        TRUCK        U       2022-11-08   \n",
      "\n",
      "       purchase_date  \n",
      "382766    2022-06-03  \n",
      "378279    2022-11-08  \n",
      "\n"
     ]
    }
   ],
   "source": [
    "# Print out the patterns of the dataset\n",
    "print(\"Dataframe Shape and Columns:\")\n",
    "print(df.shape)\n",
    "print(df.columns)\n",
    "print()\n",
    "\n",
    "# Check initial values of the dataset\n",
    "print(\"Dataframe initial values:\")\n",
    "print(df.sample(2))\n",
    "print()"
   ]
  },
  {
   "cell_type": "code",
   "execution_count": 8,
   "metadata": {
    "tags": []
   },
   "outputs": [
    {
     "name": "stdout",
     "output_type": "stream",
     "text": [
      "Dataframe Info:\n",
      "<class 'pandas.core.frame.DataFrame'>\n",
      "Int64Index: 9498752 entries, 0 to 9831773\n",
      "Data columns (total 13 columns):\n",
      " #   Column            Dtype         \n",
      "---  ------            -----         \n",
      " 0   vin               object        \n",
      " 1   price             float64       \n",
      " 2   odometer_type     int64         \n",
      " 3   mileage           float64       \n",
      " 4   county            object        \n",
      " 5   zip               object        \n",
      " 6   model_year        int64         \n",
      " 7   make              object        \n",
      " 8   model             object        \n",
      " 9   vehicle_type      object        \n",
      " 10  new_used          object        \n",
      " 11  title_issue_date  datetime64[ns]\n",
      " 12  purchase_date     datetime64[ns]\n",
      "dtypes: datetime64[ns](2), float64(2), int64(2), object(7)\n",
      "memory usage: 1014.6+ MB\n",
      "None\n",
      "\n"
     ]
    }
   ],
   "source": [
    "# Get basic info of the dataframe\n",
    "print(\"Dataframe Info:\")\n",
    "print(df.info(show_counts=False))\n",
    "print()"
   ]
  },
  {
   "cell_type": "code",
   "execution_count": 9,
   "metadata": {
    "tags": []
   },
   "outputs": [
    {
     "name": "stdout",
     "output_type": "stream",
     "text": [
      "Numeric Columns:\n",
      "              price  odometer_type       mileage  model_year\n",
      "count  9.498752e+06      9498752.0  9.498752e+06   9498752.0\n",
      "mean   2.163936e+06            0.5  3.845500e+04      2010.4\n",
      "std    2.792655e+09            0.8  4.529582e+06        10.0\n",
      "min   -7.000000e+00            0.0 -2.256996e+08      1005.0\n",
      "25%    0.000000e+00            0.0  0.000000e+00      2005.0\n",
      "50%    0.000000e+00            0.0  8.000000e+00      2013.0\n",
      "75%    1.000000e+03            1.0  3.918600e+04      2018.0\n",
      "max    8.118003e+12            9.0  2.147484e+09      2890.0\n",
      "\n"
     ]
    }
   ],
   "source": [
    "# Describe the numeric columns\n",
    "print(\"Numeric Columns:\")\n",
    "print(df.describe().round(decimals = 1))\n",
    "print()"
   ]
  },
  {
   "cell_type": "code",
   "execution_count": 10,
   "metadata": {
    "tags": []
   },
   "outputs": [
    {
     "name": "stdout",
     "output_type": "stream",
     "text": [
      "Non-numeric Columns:\n",
      "                  vin    county      zip     make    model vehicle_type  \\\n",
      "count         9498752   9498752  9498752  9498752  9498752      9498752   \n",
      "unique        7423553        97     5950     8568    24643           16   \n",
      "top     CCZ264F146470  Davidson    37211     FORD      F15         AUTO   \n",
      "freq               17    812796   112367  1318066   280660      6684615   \n",
      "\n",
      "       new_used  \n",
      "count   9498752  \n",
      "unique        2  \n",
      "top           U  \n",
      "freq    7575502  \n",
      "\n"
     ]
    }
   ],
   "source": [
    "# Describe the non-numeric columns\n",
    "print(\"Non-numeric Columns:\")\n",
    "print(df.describe(include = [\"object\",\"category\"]))\n",
    "print()"
   ]
  },
  {
   "cell_type": "code",
   "execution_count": 11,
   "metadata": {
    "tags": []
   },
   "outputs": [
    {
     "name": "stdout",
     "output_type": "stream",
     "text": [
      "Date Columns:\n",
      "                    title_issue_date                  purchase_date\n",
      "count                        9498752                        9498181\n",
      "mean   2020-07-01 05:41:17.225473536  2020-02-07 20:53:56.619558400\n",
      "min              1971-06-12 00:00:00            1720-02-08 00:00:00\n",
      "25%              2019-04-08 00:00:00            2018-12-28 00:00:00\n",
      "50%              2020-07-21 00:00:00            2020-04-19 00:00:00\n",
      "75%              2021-09-28 00:00:00            2021-07-14 00:00:00\n",
      "max              2022-12-30 00:00:00            2220-03-07 00:00:00\n",
      "\n"
     ]
    }
   ],
   "source": [
    "# Describe the dates\n",
    "print(\"Date Columns:\")\n",
    "print(df.describe(include = [\"datetime\"], datetime_is_numeric=True))\n",
    "print()"
   ]
  },
  {
   "cell_type": "code",
   "execution_count": 12,
   "metadata": {
    "tags": []
   },
   "outputs": [
    {
     "data": {
      "text/html": [
       "<div>\n",
       "<style scoped>\n",
       "    .dataframe tbody tr th:only-of-type {\n",
       "        vertical-align: middle;\n",
       "    }\n",
       "\n",
       "    .dataframe tbody tr th {\n",
       "        vertical-align: top;\n",
       "    }\n",
       "\n",
       "    .dataframe thead th {\n",
       "        text-align: right;\n",
       "    }\n",
       "</style>\n",
       "<table border=\"1\" class=\"dataframe\">\n",
       "  <thead>\n",
       "    <tr style=\"text-align: right;\">\n",
       "      <th></th>\n",
       "      <th>vin</th>\n",
       "      <th>price</th>\n",
       "      <th>odometer_type</th>\n",
       "      <th>mileage</th>\n",
       "      <th>county</th>\n",
       "      <th>zip</th>\n",
       "      <th>model_year</th>\n",
       "      <th>make</th>\n",
       "      <th>model</th>\n",
       "      <th>vehicle_type</th>\n",
       "      <th>new_used</th>\n",
       "      <th>title_issue_date</th>\n",
       "      <th>purchase_date</th>\n",
       "    </tr>\n",
       "  </thead>\n",
       "  <tbody>\n",
       "    <tr>\n",
       "      <th>0</th>\n",
       "      <td>\\1FTRX07L53KD87737</td>\n",
       "      <td>0.0</td>\n",
       "      <td>1</td>\n",
       "      <td>0.0</td>\n",
       "      <td>State</td>\n",
       "      <td>37207</td>\n",
       "      <td>2003</td>\n",
       "      <td>FORD</td>\n",
       "      <td>F15</td>\n",
       "      <td>AUTO</td>\n",
       "      <td>U</td>\n",
       "      <td>2018-07-27</td>\n",
       "      <td>2018-06-04</td>\n",
       "    </tr>\n",
       "    <tr>\n",
       "      <th>1</th>\n",
       "      <td>0000000V464048305</td>\n",
       "      <td>0.0</td>\n",
       "      <td>1</td>\n",
       "      <td>0.0</td>\n",
       "      <td>State</td>\n",
       "      <td>37167</td>\n",
       "      <td>1995</td>\n",
       "      <td>MITS</td>\n",
       "      <td>PAJ</td>\n",
       "      <td>AUTO</td>\n",
       "      <td>U</td>\n",
       "      <td>2020-06-24</td>\n",
       "      <td>2020-05-13</td>\n",
       "    </tr>\n",
       "    <tr>\n",
       "      <th>2</th>\n",
       "      <td>0000161231</td>\n",
       "      <td>1800.0</td>\n",
       "      <td>1</td>\n",
       "      <td>0.0</td>\n",
       "      <td>State</td>\n",
       "      <td>37397</td>\n",
       "      <td>1955</td>\n",
       "      <td>CHEV</td>\n",
       "      <td>BEL</td>\n",
       "      <td>AUTO</td>\n",
       "      <td>U</td>\n",
       "      <td>2021-12-13</td>\n",
       "      <td>2021-12-08</td>\n",
       "    </tr>\n",
       "    <tr>\n",
       "      <th>3</th>\n",
       "      <td>0005400FKXX</td>\n",
       "      <td>0.0</td>\n",
       "      <td>1</td>\n",
       "      <td>0.0</td>\n",
       "      <td>Fentress</td>\n",
       "      <td>38553</td>\n",
       "      <td>1955</td>\n",
       "      <td>CHEV</td>\n",
       "      <td>310</td>\n",
       "      <td>AUTO</td>\n",
       "      <td>U</td>\n",
       "      <td>2019-03-07</td>\n",
       "      <td>2019-03-04</td>\n",
       "    </tr>\n",
       "    <tr>\n",
       "      <th>4</th>\n",
       "      <td>0096456</td>\n",
       "      <td>300.0</td>\n",
       "      <td>1</td>\n",
       "      <td>0.0</td>\n",
       "      <td>Blount</td>\n",
       "      <td>37804</td>\n",
       "      <td>1966</td>\n",
       "      <td>VOLK</td>\n",
       "      <td>BUG</td>\n",
       "      <td>AUTO</td>\n",
       "      <td>U</td>\n",
       "      <td>2022-11-22</td>\n",
       "      <td>2022-11-15</td>\n",
       "    </tr>\n",
       "  </tbody>\n",
       "</table>\n",
       "</div>"
      ],
      "text/plain": [
       "                  vin   price  odometer_type  mileage    county    zip  \\\n",
       "0  \\1FTRX07L53KD87737     0.0              1      0.0     State  37207   \n",
       "1   0000000V464048305     0.0              1      0.0     State  37167   \n",
       "2          0000161231  1800.0              1      0.0     State  37397   \n",
       "3         0005400FKXX     0.0              1      0.0  Fentress  38553   \n",
       "4             0096456   300.0              1      0.0    Blount  37804   \n",
       "\n",
       "   model_year  make model vehicle_type new_used title_issue_date purchase_date  \n",
       "0        2003  FORD   F15         AUTO        U       2018-07-27    2018-06-04  \n",
       "1        1995  MITS   PAJ         AUTO        U       2020-06-24    2020-05-13  \n",
       "2        1955  CHEV   BEL         AUTO        U       2021-12-13    2021-12-08  \n",
       "3        1955  CHEV   310         AUTO        U       2019-03-07    2019-03-04  \n",
       "4        1966  VOLK   BUG         AUTO        U       2022-11-22    2022-11-15  "
      ]
     },
     "execution_count": 12,
     "metadata": {},
     "output_type": "execute_result"
    }
   ],
   "source": [
    "df.head()"
   ]
  },
  {
   "cell_type": "code",
   "execution_count": 13,
   "metadata": {
    "tags": []
   },
   "outputs": [
    {
     "data": {
      "text/plain": [
       "(3610711, 13)"
      ]
     },
     "execution_count": 13,
     "metadata": {},
     "output_type": "execute_result"
    }
   ],
   "source": [
    "df[df.price!=0].shape"
   ]
  },
  {
   "cell_type": "code",
   "execution_count": 14,
   "metadata": {
    "tags": []
   },
   "outputs": [],
   "source": [
    "df.make = df.make.apply(str.lower)"
   ]
  },
  {
   "cell_type": "code",
   "execution_count": 15,
   "metadata": {
    "tags": []
   },
   "outputs": [],
   "source": [
    "df.model = df.model.apply(str.lower)"
   ]
  },
  {
   "cell_type": "code",
   "execution_count": 16,
   "metadata": {
    "tags": []
   },
   "outputs": [
    {
     "data": {
      "text/plain": [
       "array(['AUTO', 'MOBILE HOME/HOUSE TR', 'FREIGHT/SEMI TRAILER',\n",
       "       'UTILITY (BOX/CARGO) ', 'LIVESTOCK/HORSE TRAI', 'OTHER', 'TRUCK',\n",
       "       'UTILITY (FLAT BED) T', 'MOTORCYCLE', 'CAMPER TRAILER',\n",
       "       'WATERCRAFT TRAILER', 'BUS - COMMERCIAL', 'RECREATION/MOTOR HOM',\n",
       "       'Multipurpose Vehicle', 'SCHOOL BUS', 'VAN'], dtype=object)"
      ]
     },
     "execution_count": 16,
     "metadata": {},
     "output_type": "execute_result"
    }
   ],
   "source": [
    "df.vehicle_type.unique()"
   ]
  },
  {
   "cell_type": "code",
   "execution_count": 17,
   "metadata": {
    "tags": []
   },
   "outputs": [],
   "source": [
    "df = df[(df.vehicle_type==\"AUTO\") | \\\n",
    "        (df.vehicle_type==\"TRUCK\") | \\\n",
    "        (df.vehicle_type==\"MOTORCYCLE\") | \\\n",
    "        (df.vehicle_type==\"BUS - COMMERCIAL\") | \\\n",
    "        (df.vehicle_type==\"Multipurpose Vehicle\") | \\\n",
    "        (df.vehicle_type==\"VAN\") | \\\n",
    "        (df.vehicle_type==\"SCHOOL BUS\") | \\\n",
    "        (df.vehicle_type==\"OTHER\")]"
   ]
  },
  {
   "cell_type": "code",
   "execution_count": 18,
   "metadata": {
    "tags": []
   },
   "outputs": [],
   "source": [
    "df = df[df.price!=0]"
   ]
  },
  {
   "cell_type": "code",
   "execution_count": 19,
   "metadata": {
    "tags": []
   },
   "outputs": [
    {
     "data": {
      "text/plain": [
       "(3450442, 13)"
      ]
     },
     "execution_count": 19,
     "metadata": {},
     "output_type": "execute_result"
    }
   ],
   "source": [
    "df.shape"
   ]
  },
  {
   "cell_type": "code",
   "execution_count": 20,
   "metadata": {
    "tags": []
   },
   "outputs": [],
   "source": [
    "def parse_vin_to_manufacturer(vin: str) -> str:\n",
    "    try:\n",
    "        make = Vin(vin).manufacturer\n",
    "        if make == \"UnsupportedBrand\":\n",
    "            return np.nan\n",
    "        return make.lower()\n",
    "    except:\n",
    "        return np.nan"
   ]
  },
  {
   "cell_type": "code",
   "execution_count": 21,
   "metadata": {
    "tags": []
   },
   "outputs": [],
   "source": [
    "df.make = df.vin.apply(parse_vin_to_manufacturer)"
   ]
  },
  {
   "cell_type": "code",
   "execution_count": 22,
   "metadata": {
    "tags": []
   },
   "outputs": [
    {
     "data": {
      "text/plain": [
       "(3450442, 13)"
      ]
     },
     "execution_count": 22,
     "metadata": {},
     "output_type": "execute_result"
    }
   ],
   "source": [
    "df.shape"
   ]
  },
  {
   "cell_type": "code",
   "execution_count": 23,
   "metadata": {
    "tags": []
   },
   "outputs": [
    {
     "data": {
      "text/plain": [
       "(0, 13)"
      ]
     },
     "execution_count": 23,
     "metadata": {},
     "output_type": "execute_result"
    }
   ],
   "source": [
    "df[df.duplicated()].shape"
   ]
  },
  {
   "cell_type": "code",
   "execution_count": 24,
   "metadata": {
    "tags": []
   },
   "outputs": [],
   "source": [
    "df.dropna(inplace=True)"
   ]
  },
  {
   "cell_type": "code",
   "execution_count": 25,
   "metadata": {
    "tags": []
   },
   "outputs": [],
   "source": [
    "df.make = df.make.apply(filter_manufacturers)"
   ]
  },
  {
   "cell_type": "code",
   "execution_count": 26,
   "metadata": {
    "tags": []
   },
   "outputs": [
    {
     "data": {
      "text/plain": [
       "vin                     0\n",
       "price                   0\n",
       "odometer_type           0\n",
       "mileage                 0\n",
       "county                  0\n",
       "zip                     0\n",
       "model_year              0\n",
       "make                20885\n",
       "model                   0\n",
       "vehicle_type            0\n",
       "new_used                0\n",
       "title_issue_date        0\n",
       "purchase_date           0\n",
       "dtype: int64"
      ]
     },
     "execution_count": 26,
     "metadata": {},
     "output_type": "execute_result"
    }
   ],
   "source": [
    "df.isna().sum()"
   ]
  },
  {
   "cell_type": "code",
   "execution_count": 27,
   "metadata": {
    "tags": []
   },
   "outputs": [],
   "source": [
    "df.dropna(inplace=True)"
   ]
  },
  {
   "cell_type": "code",
   "execution_count": 28,
   "metadata": {
    "tags": []
   },
   "outputs": [],
   "source": [
    "df.model = list(map(\n",
    "    lambda make, model: \n",
    "    get_parse_from_model_str(make).parse_model(model).get_model(), \n",
    "    df.make, \n",
    "    df.model\n",
    "))"
   ]
  },
  {
   "cell_type": "code",
   "execution_count": 29,
   "metadata": {
    "tags": []
   },
   "outputs": [
    {
     "data": {
      "text/plain": [
       "(537227, 13)"
      ]
     },
     "execution_count": 29,
     "metadata": {},
     "output_type": "execute_result"
    }
   ],
   "source": [
    "df.dropna(inplace=True)\n",
    "df.shape"
   ]
  },
  {
   "cell_type": "code",
   "execution_count": 30,
   "metadata": {
    "tags": []
   },
   "outputs": [],
   "source": [
    "df[\"lat\"] = df.zip.apply(get_lat)"
   ]
  },
  {
   "cell_type": "code",
   "execution_count": 31,
   "metadata": {
    "tags": []
   },
   "outputs": [],
   "source": [
    "df[\"long\"] = df.zip.apply(get_long)"
   ]
  },
  {
   "cell_type": "code",
   "execution_count": 32,
   "metadata": {
    "tags": []
   },
   "outputs": [],
   "source": [
    "df[\"state\"] = df.zip.apply(get_state)"
   ]
  },
  {
   "cell_type": "code",
   "execution_count": 33,
   "metadata": {
    "tags": []
   },
   "outputs": [
    {
     "data": {
      "text/plain": [
       "vin                    0\n",
       "price                  0\n",
       "odometer_type          0\n",
       "mileage                0\n",
       "county                 0\n",
       "zip                    0\n",
       "model_year             0\n",
       "make                   0\n",
       "model                  0\n",
       "vehicle_type           0\n",
       "new_used               0\n",
       "title_issue_date       0\n",
       "purchase_date          0\n",
       "lat                 1441\n",
       "long                1441\n",
       "state               1441\n",
       "dtype: int64"
      ]
     },
     "execution_count": 33,
     "metadata": {},
     "output_type": "execute_result"
    }
   ],
   "source": [
    "df.isna().sum()"
   ]
  },
  {
   "cell_type": "code",
   "execution_count": 34,
   "metadata": {
    "tags": []
   },
   "outputs": [],
   "source": [
    "df.dropna(inplace=True)"
   ]
  },
  {
   "cell_type": "code",
   "execution_count": 35,
   "metadata": {
    "tags": []
   },
   "outputs": [
    {
     "data": {
      "text/plain": [
       "(535786, 16)"
      ]
     },
     "execution_count": 35,
     "metadata": {},
     "output_type": "execute_result"
    }
   ],
   "source": [
    "df.shape"
   ]
  },
  {
   "cell_type": "code",
   "execution_count": 85,
   "metadata": {
    "tags": []
   },
   "outputs": [],
   "source": [
    "vehicles = pd.read_csv(f\"{PROC_PATH}/vehicles.csv\")[[\"manufacturer\", \"model\", \"fuel\"]]"
   ]
  },
  {
   "cell_type": "code",
   "execution_count": 91,
   "metadata": {
    "tags": []
   },
   "outputs": [],
   "source": [
    "vehicles=vehicles.drop_duplicates()"
   ]
  },
  {
   "cell_type": "code",
   "execution_count": 93,
   "metadata": {
    "tags": []
   },
   "outputs": [
    {
     "data": {
      "text/html": [
       "<div>\n",
       "<style scoped>\n",
       "    .dataframe tbody tr th:only-of-type {\n",
       "        vertical-align: middle;\n",
       "    }\n",
       "\n",
       "    .dataframe tbody tr th {\n",
       "        vertical-align: top;\n",
       "    }\n",
       "\n",
       "    .dataframe thead th {\n",
       "        text-align: right;\n",
       "    }\n",
       "</style>\n",
       "<table border=\"1\" class=\"dataframe\">\n",
       "  <thead>\n",
       "    <tr style=\"text-align: right;\">\n",
       "      <th></th>\n",
       "      <th>manufacturer</th>\n",
       "      <th>model</th>\n",
       "      <th>fuel</th>\n",
       "    </tr>\n",
       "  </thead>\n",
       "  <tbody>\n",
       "    <tr>\n",
       "      <th>0</th>\n",
       "      <td>ford</td>\n",
       "      <td>f150</td>\n",
       "      <td>gas</td>\n",
       "    </tr>\n",
       "    <tr>\n",
       "      <th>1</th>\n",
       "      <td>gmc</td>\n",
       "      <td>sierra 2500</td>\n",
       "      <td>gas</td>\n",
       "    </tr>\n",
       "    <tr>\n",
       "      <th>2</th>\n",
       "      <td>chevrolet</td>\n",
       "      <td>c1500</td>\n",
       "      <td>gas</td>\n",
       "    </tr>\n",
       "    <tr>\n",
       "      <th>3</th>\n",
       "      <td>toyota</td>\n",
       "      <td>tacoma</td>\n",
       "      <td>gas</td>\n",
       "    </tr>\n",
       "    <tr>\n",
       "      <th>4</th>\n",
       "      <td>chevrolet</td>\n",
       "      <td>colorado</td>\n",
       "      <td>gas</td>\n",
       "    </tr>\n",
       "  </tbody>\n",
       "</table>\n",
       "</div>"
      ],
      "text/plain": [
       "  manufacturer        model fuel\n",
       "0         ford         f150  gas\n",
       "1          gmc  sierra 2500  gas\n",
       "2    chevrolet        c1500  gas\n",
       "3       toyota       tacoma  gas\n",
       "4    chevrolet     colorado  gas"
      ]
     },
     "execution_count": 93,
     "metadata": {},
     "output_type": "execute_result"
    }
   ],
   "source": [
    "vehicles.head()"
   ]
  },
  {
   "cell_type": "code",
   "execution_count": 80,
   "metadata": {
    "tags": []
   },
   "outputs": [],
   "source": [
    "unique_cars = df[[\"make\", \"model\"]]"
   ]
  },
  {
   "cell_type": "code",
   "execution_count": 82,
   "metadata": {
    "tags": []
   },
   "outputs": [
    {
     "data": {
      "text/plain": [
       "(535786, 2)"
      ]
     },
     "execution_count": 82,
     "metadata": {},
     "output_type": "execute_result"
    }
   ],
   "source": [
    "unique_cars.shape"
   ]
  },
  {
   "cell_type": "code",
   "execution_count": 95,
   "metadata": {
    "tags": []
   },
   "outputs": [],
   "source": [
    "unique_cars = unique_cars.drop_duplicates()"
   ]
  },
  {
   "cell_type": "code",
   "execution_count": 108,
   "metadata": {
    "tags": []
   },
   "outputs": [
    {
     "data": {
      "text/plain": [
       "'gas'"
      ]
     },
     "execution_count": 108,
     "metadata": {},
     "output_type": "execute_result"
    }
   ],
   "source": [
    "vehicles[(vehicles.manufacturer==\"ford\") & (vehicles.model==\"f150\")].fuel.iloc[0]"
   ]
  },
  {
   "cell_type": "code",
   "execution_count": 112,
   "metadata": {
    "tags": []
   },
   "outputs": [],
   "source": [
    "for row in unique_cars.index:\n",
    "    make = unique_cars.loc[row, \"make\"]\n",
    "    model = unique_cars.loc[row, \"model\"]\n",
    "    gas = vehicles[\n",
    "        (vehicles.manufacturer==make) & (vehicles.model==model)\n",
    "    ].fuel\n",
    "    if type(gas)!=str:\n",
    "        try:\n",
    "            gas = gas.iloc[0]\n",
    "        except:\n",
    "            gas = \"gas\"\n",
    "    unique_cars.loc[row] = {\n",
    "        \"make\":make,\n",
    "        \"model\":model,\n",
    "        \"fuel\":gas\n",
    "    }"
   ]
  },
  {
   "cell_type": "code",
   "execution_count": 114,
   "metadata": {
    "tags": []
   },
   "outputs": [
    {
     "data": {
      "text/plain": [
       "array(['gas', 'diesel', 'electric', 'other', 'hybrid'], dtype=object)"
      ]
     },
     "execution_count": 114,
     "metadata": {},
     "output_type": "execute_result"
    }
   ],
   "source": [
    "unique_cars.fuel.unique()"
   ]
  },
  {
   "cell_type": "code",
   "execution_count": 115,
   "metadata": {
    "tags": []
   },
   "outputs": [],
   "source": [
    "def filter_fuel(fuel):\n",
    "    if fuel in (\"gas\", \"diesel\", \"electric\"):\n",
    "        return fuel\n",
    "    return \"gas\""
   ]
  },
  {
   "cell_type": "code",
   "execution_count": 116,
   "metadata": {
    "tags": []
   },
   "outputs": [],
   "source": [
    "unique_cars.fuel = unique_cars.fuel.apply(filter_fuel)"
   ]
  },
  {
   "cell_type": "code",
   "execution_count": 121,
   "metadata": {
    "tags": []
   },
   "outputs": [],
   "source": [
    "index = {}\n",
    "for row in unique_cars.index:\n",
    "    index[(unique_cars.loc[row, \"make\"], unique_cars.loc[row,\"model\"])] = row"
   ]
  },
  {
   "cell_type": "code",
   "execution_count": 122,
   "metadata": {
    "tags": []
   },
   "outputs": [],
   "source": [
    "df[\"fuel\"] = list(\n",
    "    map(\n",
    "        lambda make, model:\n",
    "            unique_cars.loc[ index[(make, model)] ].fuel,\n",
    "        df.make,\n",
    "        df.model\n",
    "    )\n",
    ")"
   ]
  },
  {
   "cell_type": "code",
   "execution_count": 5,
   "metadata": {},
   "outputs": [
    {
     "data": {
      "text/plain": [
       "False"
      ]
     },
     "execution_count": 5,
     "metadata": {},
     "output_type": "execute_result"
    }
   ],
   "source": [
    "(df.model_year==0).any()"
   ]
  },
  {
   "cell_type": "code",
   "execution_count": 10,
   "metadata": {},
   "outputs": [],
   "source": [
    "df = df[df.price>0]"
   ]
  },
  {
   "attachments": {},
   "cell_type": "markdown",
   "metadata": {},
   "source": [
    "## Save resulting data"
   ]
  },
  {
   "cell_type": "code",
   "execution_count": 126,
   "metadata": {},
   "outputs": [],
   "source": [
    "df.to_csv(f\"{PROC_PATH}/tn_mvr.csv\")"
   ]
  },
  {
   "cell_type": "code",
   "execution_count": null,
   "metadata": {},
   "outputs": [],
   "source": []
  }
 ],
 "metadata": {
  "kernelspec": {
   "display_name": "Python 3 (ipykernel)",
   "language": "python",
   "name": "python3"
  },
  "language_info": {
   "codemirror_mode": {
    "name": "ipython",
    "version": 3
   },
   "file_extension": ".py",
   "mimetype": "text/x-python",
   "name": "python",
   "nbconvert_exporter": "python",
   "pygments_lexer": "ipython3",
   "version": "3.9.7"
  }
 },
 "nbformat": 4,
 "nbformat_minor": 4
}
