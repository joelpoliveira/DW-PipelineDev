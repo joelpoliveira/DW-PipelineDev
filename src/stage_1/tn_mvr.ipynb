{
 "cells": [
  {
   "cell_type": "markdown",
   "metadata": {},
   "source": [
    "# Cleaning data for TN_MVR_2018-2022 dataset\n"
   ]
  },
  {
   "cell_type": "code",
   "execution_count": 1,
   "metadata": {
    "tags": []
   },
   "outputs": [],
   "source": [
    "# Import necessary libraries\n",
    "import numpy as np \n",
    "import pandas as pd\n",
    "import matplotlib.pyplot as plt\n",
    "import time\n",
    "\n",
    "# Path to data folders\n",
    "## Folder that contains the raw data\n",
    "OLD_PATH=\"./data/oldData/\"\n",
    "## Folder that contains the processed data\n",
    "PROC_PATH=\"./data/processedData/\"\n",
    "\n",
    "# Import CSV data from datasets (tn_mvr_2018_2022)\n",
    "df = pd.read_csv(f\"{OLD_PATH}/tn_mvr_2018-2022.csv\", sep=\"\\t\",  low_memory=False)"
   ]
  },
  {
   "cell_type": "code",
   "execution_count": 2,
   "metadata": {
    "tags": []
   },
   "outputs": [
    {
     "name": "stdout",
     "output_type": "stream",
     "text": [
      "Dataframe Total Values (Before Dropping Missing): 9831774\n",
      "Dataframe Total Missing Values: 333030\n",
      "Dataframe Columns Missing Values:\n",
      " VIN                            4\n",
      "VehicleCost               331544\n",
      "OdometerTypeCode               0\n",
      "OdometerReading                1\n",
      "CountyName                     0\n",
      "ZIP5                           0\n",
      "ModelYear                      0\n",
      "MakeCode                       0\n",
      "ModelCode                    586\n",
      "VehicleTypeDescription         0\n",
      "NewUsedCode                    0\n",
      "TitleIssueDate               895\n",
      "PurchaseDate                   0\n",
      "dtype: int64\n",
      "Dataframe Total Values (After Dropping Missing): 9498752\n"
     ]
    }
   ],
   "source": [
    "# Check for total values\n",
    "print(\"Dataframe Total Values (Before Dropping Missing):\", df.shape[0])\n",
    "\n",
    "# Check the data for missing values\n",
    "print(\"Dataframe Total Missing Values:\", df.isna().sum().sum())\n",
    "print(\"Dataframe Columns Missing Values:\\n\", df.isna().sum())\n",
    "\n",
    "# Remove the missing values (drop rows with missing values)\n",
    "df = df.dropna()\n",
    "\n",
    "# Check for total values\n",
    "print(\"Dataframe Total Values (After Dropping Missing):\", df.shape[0])"
   ]
  },
  {
   "cell_type": "code",
   "execution_count": 3,
   "metadata": {
    "tags": []
   },
   "outputs": [],
   "source": [
    "# Rename the dataframe columns\n",
    "df.columns = [\"vin\", \"price\", \"odometer_type\",\"mileage\", \"county\", \"zip\", \"model_year\",\n",
    "              \"make\", \"model\", \"vehicle_type\", \"new_used\", \"title_issue_date\", \"purchase_date\"]\n",
    "\n",
    "# Set the date types\n",
    "df[\"title_issue_date\"] = pd.to_datetime(df[\"title_issue_date\"], format=\"%Y-%m-%d\")\n",
    "df[\"purchase_date\"] = pd.to_datetime(df[\"purchase_date\"], format=\"%Y-%m-%d\", errors=\"coerce\")"
   ]
  },
  {
   "cell_type": "code",
   "execution_count": 4,
   "metadata": {
    "tags": []
   },
   "outputs": [
    {
     "name": "stdout",
     "output_type": "stream",
     "text": [
      "Dataframe Shape and Columns:\n",
      "(9498752, 13)\n",
      "Index(['vin', 'price', 'odometer_type', 'mileage', 'county', 'zip',\n",
      "       'model_year', 'make', 'model', 'vehicle_type', 'new_used',\n",
      "       'title_issue_date', 'purchase_date'],\n",
      "      dtype='object')\n",
      "\n",
      "Dataframe initial values:\n",
      "                       vin    price  odometer_type  mileage     county    zip  \\\n",
      "982097   1FT7W2BT7JEB04604  60000.0              0  23755.0    Haywood  38012   \n",
      "3019523  2G1WX15K329339147      0.0              1      0.0  Robertson  37073   \n",
      "\n",
      "         model_year  make model vehicle_type new_used title_issue_date  \\\n",
      "982097         2018  FORD   F25        TRUCK        U       2020-01-10   \n",
      "3019523        2002  CHEV   MSS         AUTO        U       2019-09-10   \n",
      "\n",
      "        purchase_date  \n",
      "982097     2019-12-27  \n",
      "3019523    2019-08-10  \n",
      "\n"
     ]
    }
   ],
   "source": [
    "# Print out the patterns of the dataset\n",
    "print(\"Dataframe Shape and Columns:\")\n",
    "print(df.shape)\n",
    "print(df.columns)\n",
    "print()\n",
    "\n",
    "# Check initial values of the dataset\n",
    "print(\"Dataframe initial values:\")\n",
    "print(df.sample(2))\n",
    "print()"
   ]
  },
  {
   "cell_type": "code",
   "execution_count": 5,
   "metadata": {
    "tags": []
   },
   "outputs": [
    {
     "name": "stdout",
     "output_type": "stream",
     "text": [
      "Dataframe Info:\n",
      "<class 'pandas.core.frame.DataFrame'>\n",
      "Int64Index: 9498752 entries, 0 to 9831773\n",
      "Data columns (total 13 columns):\n",
      " #   Column            Dtype         \n",
      "---  ------            -----         \n",
      " 0   vin               object        \n",
      " 1   price             float64       \n",
      " 2   odometer_type     int64         \n",
      " 3   mileage           float64       \n",
      " 4   county            object        \n",
      " 5   zip               object        \n",
      " 6   model_year        int64         \n",
      " 7   make              object        \n",
      " 8   model             object        \n",
      " 9   vehicle_type      object        \n",
      " 10  new_used          object        \n",
      " 11  title_issue_date  datetime64[ns]\n",
      " 12  purchase_date     datetime64[ns]\n",
      "dtypes: datetime64[ns](2), float64(2), int64(2), object(7)\n",
      "memory usage: 1014.6+ MB\n",
      "None\n",
      "\n"
     ]
    }
   ],
   "source": [
    "# Get basic info of the dataframe\n",
    "print(\"Dataframe Info:\")\n",
    "print(df.info(show_counts=False))\n",
    "print()"
   ]
  },
  {
   "cell_type": "code",
   "execution_count": 11,
   "metadata": {
    "tags": []
   },
   "outputs": [
    {
     "name": "stdout",
     "output_type": "stream",
     "text": [
      "Numeric Columns:\n",
      "              price  odometer_type       mileage  model_year\n",
      "count  9.498752e+06      9498752.0  9.498752e+06   9498752.0\n",
      "mean   2.163936e+06            0.5  3.845500e+04      2010.4\n",
      "std    2.792655e+09            0.8  4.529582e+06        10.0\n",
      "min   -7.000000e+00            0.0 -2.256996e+08      1005.0\n",
      "25%    0.000000e+00            0.0  0.000000e+00      2005.0\n",
      "50%    0.000000e+00            0.0  8.000000e+00      2013.0\n",
      "75%    1.000000e+03            1.0  3.918600e+04      2018.0\n",
      "max    8.118003e+12            9.0  2.147484e+09      2890.0\n",
      "\n"
     ]
    }
   ],
   "source": [
    "# Describe the numeric columns\n",
    "print(\"Numeric Columns:\")\n",
    "print(df.describe().round(decimals = 1))\n",
    "print()"
   ]
  },
  {
   "cell_type": "code",
   "execution_count": 7,
   "metadata": {
    "tags": []
   },
   "outputs": [
    {
     "name": "stdout",
     "output_type": "stream",
     "text": [
      "Non-numeric Columns:\n",
      "                  vin    county      zip     make    model vehicle_type  \\\n",
      "count         9498752   9498752  9498752  9498752  9498752      9498752   \n",
      "unique        7423553        97     5950     8568    24643           16   \n",
      "top     CCZ264F146470  Davidson    37211     FORD      F15         AUTO   \n",
      "freq               17    812796   112367  1318066   280660      6684615   \n",
      "\n",
      "       new_used  \n",
      "count   9498752  \n",
      "unique        2  \n",
      "top           U  \n",
      "freq    7575502  \n",
      "\n"
     ]
    }
   ],
   "source": [
    "# Describe the non-numeric columns\n",
    "print(\"Non-numeric Columns:\")\n",
    "print(df.describe(include = [\"object\",\"category\"]))\n",
    "print()"
   ]
  },
  {
   "cell_type": "code",
   "execution_count": 8,
   "metadata": {
    "tags": []
   },
   "outputs": [
    {
     "name": "stdout",
     "output_type": "stream",
     "text": [
      "Date Columns:\n",
      "                    title_issue_date                  purchase_date\n",
      "count                        9498752                        9498181\n",
      "mean   2020-07-01 05:41:17.225473536  2020-02-07 20:53:56.619558400\n",
      "min              1971-06-12 00:00:00            1720-02-08 00:00:00\n",
      "25%              2019-04-08 00:00:00            2018-12-28 00:00:00\n",
      "50%              2020-07-21 00:00:00            2020-04-19 00:00:00\n",
      "75%              2021-09-28 00:00:00            2021-07-14 00:00:00\n",
      "max              2022-12-30 00:00:00            2220-03-07 00:00:00\n",
      "\n"
     ]
    }
   ],
   "source": [
    "# Describe the dates\n",
    "print(\"Date Columns:\")\n",
    "print(df.describe(include = [\"datetime\"], datetime_is_numeric=True))\n",
    "print()"
   ]
  },
  {
   "cell_type": "code",
   "execution_count": 9,
   "metadata": {
    "tags": []
   },
   "outputs": [
    {
     "data": {
      "text/html": [
       "<div>\n",
       "<style scoped>\n",
       "    .dataframe tbody tr th:only-of-type {\n",
       "        vertical-align: middle;\n",
       "    }\n",
       "\n",
       "    .dataframe tbody tr th {\n",
       "        vertical-align: top;\n",
       "    }\n",
       "\n",
       "    .dataframe thead th {\n",
       "        text-align: right;\n",
       "    }\n",
       "</style>\n",
       "<table border=\"1\" class=\"dataframe\">\n",
       "  <thead>\n",
       "    <tr style=\"text-align: right;\">\n",
       "      <th></th>\n",
       "      <th>vin</th>\n",
       "      <th>price</th>\n",
       "      <th>odometer_type</th>\n",
       "      <th>mileage</th>\n",
       "      <th>county</th>\n",
       "      <th>zip</th>\n",
       "      <th>model_year</th>\n",
       "      <th>make</th>\n",
       "      <th>model</th>\n",
       "      <th>vehicle_type</th>\n",
       "      <th>new_used</th>\n",
       "      <th>title_issue_date</th>\n",
       "      <th>purchase_date</th>\n",
       "    </tr>\n",
       "  </thead>\n",
       "  <tbody>\n",
       "    <tr>\n",
       "      <th>0</th>\n",
       "      <td>\\1FTRX07L53KD87737</td>\n",
       "      <td>0.0</td>\n",
       "      <td>1</td>\n",
       "      <td>0.0</td>\n",
       "      <td>State</td>\n",
       "      <td>37207</td>\n",
       "      <td>2003</td>\n",
       "      <td>FORD</td>\n",
       "      <td>F15</td>\n",
       "      <td>AUTO</td>\n",
       "      <td>U</td>\n",
       "      <td>2018-07-27</td>\n",
       "      <td>2018-06-04</td>\n",
       "    </tr>\n",
       "    <tr>\n",
       "      <th>1</th>\n",
       "      <td>0000000V464048305</td>\n",
       "      <td>0.0</td>\n",
       "      <td>1</td>\n",
       "      <td>0.0</td>\n",
       "      <td>State</td>\n",
       "      <td>37167</td>\n",
       "      <td>1995</td>\n",
       "      <td>MITS</td>\n",
       "      <td>PAJ</td>\n",
       "      <td>AUTO</td>\n",
       "      <td>U</td>\n",
       "      <td>2020-06-24</td>\n",
       "      <td>2020-05-13</td>\n",
       "    </tr>\n",
       "    <tr>\n",
       "      <th>2</th>\n",
       "      <td>0000161231</td>\n",
       "      <td>1800.0</td>\n",
       "      <td>1</td>\n",
       "      <td>0.0</td>\n",
       "      <td>State</td>\n",
       "      <td>37397</td>\n",
       "      <td>1955</td>\n",
       "      <td>CHEV</td>\n",
       "      <td>BEL</td>\n",
       "      <td>AUTO</td>\n",
       "      <td>U</td>\n",
       "      <td>2021-12-13</td>\n",
       "      <td>2021-12-08</td>\n",
       "    </tr>\n",
       "    <tr>\n",
       "      <th>3</th>\n",
       "      <td>0005400FKXX</td>\n",
       "      <td>0.0</td>\n",
       "      <td>1</td>\n",
       "      <td>0.0</td>\n",
       "      <td>Fentress</td>\n",
       "      <td>38553</td>\n",
       "      <td>1955</td>\n",
       "      <td>CHEV</td>\n",
       "      <td>310</td>\n",
       "      <td>AUTO</td>\n",
       "      <td>U</td>\n",
       "      <td>2019-03-07</td>\n",
       "      <td>2019-03-04</td>\n",
       "    </tr>\n",
       "    <tr>\n",
       "      <th>4</th>\n",
       "      <td>0096456</td>\n",
       "      <td>300.0</td>\n",
       "      <td>1</td>\n",
       "      <td>0.0</td>\n",
       "      <td>Blount</td>\n",
       "      <td>37804</td>\n",
       "      <td>1966</td>\n",
       "      <td>VOLK</td>\n",
       "      <td>BUG</td>\n",
       "      <td>AUTO</td>\n",
       "      <td>U</td>\n",
       "      <td>2022-11-22</td>\n",
       "      <td>2022-11-15</td>\n",
       "    </tr>\n",
       "  </tbody>\n",
       "</table>\n",
       "</div>"
      ],
      "text/plain": [
       "                  vin   price  odometer_type  mileage    county    zip  \\\n",
       "0  \\1FTRX07L53KD87737     0.0              1      0.0     State  37207   \n",
       "1   0000000V464048305     0.0              1      0.0     State  37167   \n",
       "2          0000161231  1800.0              1      0.0     State  37397   \n",
       "3         0005400FKXX     0.0              1      0.0  Fentress  38553   \n",
       "4             0096456   300.0              1      0.0    Blount  37804   \n",
       "\n",
       "   model_year  make model vehicle_type new_used title_issue_date purchase_date  \n",
       "0        2003  FORD   F15         AUTO        U       2018-07-27    2018-06-04  \n",
       "1        1995  MITS   PAJ         AUTO        U       2020-06-24    2020-05-13  \n",
       "2        1955  CHEV   BEL         AUTO        U       2021-12-13    2021-12-08  \n",
       "3        1955  CHEV   310         AUTO        U       2019-03-07    2019-03-04  \n",
       "4        1966  VOLK   BUG         AUTO        U       2022-11-22    2022-11-15  "
      ]
     },
     "execution_count": 9,
     "metadata": {},
     "output_type": "execute_result"
    }
   ],
   "source": [
    "df.head()"
   ]
  },
  {
   "cell_type": "code",
   "execution_count": 12,
   "metadata": {
    "tags": []
   },
   "outputs": [
    {
     "data": {
      "text/plain": [
       "(3610711, 13)"
      ]
     },
     "execution_count": 12,
     "metadata": {},
     "output_type": "execute_result"
    }
   ],
   "source": [
    "df[df.price!=0].shape"
   ]
  },
  {
   "cell_type": "code",
   "execution_count": 15,
   "metadata": {
    "tags": []
   },
   "outputs": [],
   "source": [
    "df.make = df.make.apply(str.lower)"
   ]
  },
  {
   "cell_type": "code",
   "execution_count": 16,
   "metadata": {
    "tags": []
   },
   "outputs": [],
   "source": [
    "df.model = df.model.apply(str.lower)"
   ]
  },
  {
   "cell_type": "code",
   "execution_count": 31,
   "metadata": {
    "tags": []
   },
   "outputs": [
    {
     "data": {
      "text/plain": [
       "array(['AUTO', 'MOBILE HOME/HOUSE TR', 'FREIGHT/SEMI TRAILER',\n",
       "       'UTILITY (BOX/CARGO) ', 'LIVESTOCK/HORSE TRAI', 'OTHER', 'TRUCK',\n",
       "       'UTILITY (FLAT BED) T', 'MOTORCYCLE', 'CAMPER TRAILER',\n",
       "       'WATERCRAFT TRAILER', 'BUS - COMMERCIAL', 'RECREATION/MOTOR HOM',\n",
       "       'Multipurpose Vehicle', 'SCHOOL BUS', 'VAN'], dtype=object)"
      ]
     },
     "execution_count": 31,
     "metadata": {},
     "output_type": "execute_result"
    }
   ],
   "source": [
    "df.vehicle_type.unique()"
   ]
  },
  {
   "cell_type": "code",
   "execution_count": 35,
   "metadata": {
    "tags": []
   },
   "outputs": [],
   "source": [
    "df = df[(df.vehicle_type==\"AUTO\") | \\\n",
    "        (df.vehicle_type==\"TRUCK\") | \\\n",
    "        (df.vehicle_type==\"MOTORCYCLE\") | \\\n",
    "        (df.vehicle_type==\"BUS - COMMERCIAL\") | \\\n",
    "        (df.vehicle_type==\"Multipurpose Vehicle\") | \\\n",
    "        (df.vehicle_type==\"VAN\") | \\\n",
    "        (df.vehicle_type==\"SCHOOL BUS\") | \\\n",
    "        (df.vehicle_type==\"OTHER\")]"
   ]
  },
  {
   "cell_type": "code",
   "execution_count": 41,
   "metadata": {
    "tags": []
   },
   "outputs": [],
   "source": [
    "df = df[df.price!=0]"
   ]
  },
  {
   "cell_type": "code",
   "execution_count": 42,
   "metadata": {
    "tags": []
   },
   "outputs": [
    {
     "data": {
      "text/plain": [
       "(3450442, 13)"
      ]
     },
     "execution_count": 42,
     "metadata": {},
     "output_type": "execute_result"
    }
   ],
   "source": [
    "df.shape"
   ]
  },
  {
   "cell_type": "code",
   "execution_count": 77,
   "metadata": {
    "tags": []
   },
   "outputs": [],
   "source": [
    "from vininfo import Vin"
   ]
  },
  {
   "cell_type": "code",
   "execution_count": 96,
   "metadata": {
    "tags": []
   },
   "outputs": [],
   "source": [
    "def parse_vin_to_manufacturer(vin: str) -> str:\n",
    "    try:\n",
    "        make = Vin(vin).manufacturer\n",
    "        if make == \"UnsupportedBrand\":\n",
    "            return np.nan\n",
    "        return make.lower()\n",
    "    except:\n",
    "        return np.nan"
   ]
  },
  {
   "cell_type": "code",
   "execution_count": 100,
   "metadata": {
    "tags": []
   },
   "outputs": [],
   "source": [
    "df.make = df.vin.apply(parse_vin_to_manufacturer)"
   ]
  },
  {
   "cell_type": "code",
   "execution_count": 104,
   "metadata": {
    "tags": []
   },
   "outputs": [
    {
     "data": {
      "text/plain": [
       "(3450442, 13)"
      ]
     },
     "execution_count": 104,
     "metadata": {},
     "output_type": "execute_result"
    }
   ],
   "source": [
    "df.shape"
   ]
  },
  {
   "cell_type": "code",
   "execution_count": 103,
   "metadata": {
    "tags": []
   },
   "outputs": [
    {
     "data": {
      "text/plain": [
       "vin                      0\n",
       "price                    0\n",
       "odometer_type            0\n",
       "mileage                  0\n",
       "county                   0\n",
       "zip                      0\n",
       "model_year               0\n",
       "make                170477\n",
       "model                    0\n",
       "vehicle_type             0\n",
       "new_used                 0\n",
       "title_issue_date         0\n",
       "purchase_date           70\n",
       "dtype: int64"
      ]
     },
     "execution_count": 103,
     "metadata": {},
     "output_type": "execute_result"
    }
   ],
   "source": [
    "df.isna().sum()"
   ]
  },
  {
   "cell_type": "code",
   "execution_count": 105,
   "metadata": {
    "tags": []
   },
   "outputs": [],
   "source": [
    "df.dropna(inplace=True)"
   ]
  },
  {
   "cell_type": "code",
   "execution_count": 106,
   "metadata": {
    "tags": []
   },
   "outputs": [
    {
     "data": {
      "text/plain": [
       "(3279904, 13)"
      ]
     },
     "execution_count": 106,
     "metadata": {},
     "output_type": "execute_result"
    }
   ],
   "source": [
    "df.shape"
   ]
  },
  {
   "cell_type": "code",
   "execution_count": 158,
   "metadata": {
    "tags": []
   },
   "outputs": [
    {
     "data": {
      "text/html": [
       "<div>\n",
       "<style scoped>\n",
       "    .dataframe tbody tr th:only-of-type {\n",
       "        vertical-align: middle;\n",
       "    }\n",
       "\n",
       "    .dataframe tbody tr th {\n",
       "        vertical-align: top;\n",
       "    }\n",
       "\n",
       "    .dataframe thead th {\n",
       "        text-align: right;\n",
       "    }\n",
       "</style>\n",
       "<table border=\"1\" class=\"dataframe\">\n",
       "  <thead>\n",
       "    <tr style=\"text-align: right;\">\n",
       "      <th></th>\n",
       "      <th>vin</th>\n",
       "      <th>price</th>\n",
       "      <th>odometer_type</th>\n",
       "      <th>mileage</th>\n",
       "      <th>county</th>\n",
       "      <th>zip</th>\n",
       "      <th>model_year</th>\n",
       "      <th>make</th>\n",
       "      <th>model</th>\n",
       "      <th>vehicle_type</th>\n",
       "      <th>new_used</th>\n",
       "      <th>title_issue_date</th>\n",
       "      <th>purchase_date</th>\n",
       "    </tr>\n",
       "  </thead>\n",
       "  <tbody>\n",
       "    <tr>\n",
       "      <th>3054300</th>\n",
       "      <td>2WKEDDXH1YK965488</td>\n",
       "      <td>12000.0</td>\n",
       "      <td>1</td>\n",
       "      <td>0.0</td>\n",
       "      <td>Wayne</td>\n",
       "      <td>38425</td>\n",
       "      <td>2000</td>\n",
       "      <td>western star</td>\n",
       "      <td>con</td>\n",
       "      <td>TRUCK</td>\n",
       "      <td>U</td>\n",
       "      <td>2022-01-05</td>\n",
       "      <td>2021-12-28</td>\n",
       "    </tr>\n",
       "    <tr>\n",
       "      <th>3054305</th>\n",
       "      <td>2WLPCCCH8PK931084</td>\n",
       "      <td>800.0</td>\n",
       "      <td>1</td>\n",
       "      <td>0.0</td>\n",
       "      <td>Sevier</td>\n",
       "      <td>37862</td>\n",
       "      <td>1993</td>\n",
       "      <td>western star</td>\n",
       "      <td>aa</td>\n",
       "      <td>TRUCK</td>\n",
       "      <td>U</td>\n",
       "      <td>2019-10-31</td>\n",
       "      <td>2019-10-19</td>\n",
       "    </tr>\n",
       "    <tr>\n",
       "      <th>3054306</th>\n",
       "      <td>2WLPCD2G9YK962182</td>\n",
       "      <td>54000.0</td>\n",
       "      <td>1</td>\n",
       "      <td>0.0</td>\n",
       "      <td>Washington</td>\n",
       "      <td>37601</td>\n",
       "      <td>2000</td>\n",
       "      <td>western star</td>\n",
       "      <td>490</td>\n",
       "      <td>TRUCK</td>\n",
       "      <td>U</td>\n",
       "      <td>2018-05-18</td>\n",
       "      <td>2018-05-01</td>\n",
       "    </tr>\n",
       "    <tr>\n",
       "      <th>3107634</th>\n",
       "      <td>2WKPDCCH3WK950724</td>\n",
       "      <td>15730.0</td>\n",
       "      <td>1</td>\n",
       "      <td>0.0</td>\n",
       "      <td>Washington</td>\n",
       "      <td>37601</td>\n",
       "      <td>1998</td>\n",
       "      <td>western star</td>\n",
       "      <td>aa</td>\n",
       "      <td>TRUCK</td>\n",
       "      <td>N</td>\n",
       "      <td>2019-01-28</td>\n",
       "      <td>2018-12-20</td>\n",
       "    </tr>\n",
       "    <tr>\n",
       "      <th>3107635</th>\n",
       "      <td>2WKPDDPF2WK950924</td>\n",
       "      <td>1000.0</td>\n",
       "      <td>1</td>\n",
       "      <td>0.0</td>\n",
       "      <td>Greene</td>\n",
       "      <td>37818</td>\n",
       "      <td>1998</td>\n",
       "      <td>western star</td>\n",
       "      <td>496</td>\n",
       "      <td>AUTO</td>\n",
       "      <td>U</td>\n",
       "      <td>2020-12-17</td>\n",
       "      <td>2020-10-16</td>\n",
       "    </tr>\n",
       "    <tr>\n",
       "      <th>...</th>\n",
       "      <td>...</td>\n",
       "      <td>...</td>\n",
       "      <td>...</td>\n",
       "      <td>...</td>\n",
       "      <td>...</td>\n",
       "      <td>...</td>\n",
       "      <td>...</td>\n",
       "      <td>...</td>\n",
       "      <td>...</td>\n",
       "      <td>...</td>\n",
       "      <td>...</td>\n",
       "      <td>...</td>\n",
       "      <td>...</td>\n",
       "    </tr>\n",
       "    <tr>\n",
       "      <th>9567310</th>\n",
       "      <td>2WKEDDXJ71K966735</td>\n",
       "      <td>10000.0</td>\n",
       "      <td>1</td>\n",
       "      <td>0.0</td>\n",
       "      <td>Morgan</td>\n",
       "      <td>37887</td>\n",
       "      <td>2001</td>\n",
       "      <td>western star</td>\n",
       "      <td>aa</td>\n",
       "      <td>TRUCK</td>\n",
       "      <td>N</td>\n",
       "      <td>2019-04-01</td>\n",
       "      <td>2018-06-29</td>\n",
       "    </tr>\n",
       "    <tr>\n",
       "      <th>9567312</th>\n",
       "      <td>2WLNCCBE5RK935174</td>\n",
       "      <td>12500.0</td>\n",
       "      <td>1</td>\n",
       "      <td>200.0</td>\n",
       "      <td>Sumner</td>\n",
       "      <td>37066</td>\n",
       "      <td>1994</td>\n",
       "      <td>western star</td>\n",
       "      <td>480</td>\n",
       "      <td>TRUCK</td>\n",
       "      <td>U</td>\n",
       "      <td>2018-02-02</td>\n",
       "      <td>2017-12-04</td>\n",
       "    </tr>\n",
       "    <tr>\n",
       "      <th>9759425</th>\n",
       "      <td>2WKPDCCGXFK912172</td>\n",
       "      <td>3000.0</td>\n",
       "      <td>1</td>\n",
       "      <td>0.0</td>\n",
       "      <td>Blount</td>\n",
       "      <td>37882</td>\n",
       "      <td>1985</td>\n",
       "      <td>western star</td>\n",
       "      <td>490</td>\n",
       "      <td>TRUCK</td>\n",
       "      <td>U</td>\n",
       "      <td>2021-08-04</td>\n",
       "      <td>2021-06-10</td>\n",
       "    </tr>\n",
       "    <tr>\n",
       "      <th>9759429</th>\n",
       "      <td>2WLNCCCF6WK950611</td>\n",
       "      <td>25000.0</td>\n",
       "      <td>1</td>\n",
       "      <td>0.0</td>\n",
       "      <td>Wilson</td>\n",
       "      <td>37090</td>\n",
       "      <td>1998</td>\n",
       "      <td>western star</td>\n",
       "      <td>486</td>\n",
       "      <td>TRUCK</td>\n",
       "      <td>U</td>\n",
       "      <td>2018-03-08</td>\n",
       "      <td>2018-03-07</td>\n",
       "    </tr>\n",
       "    <tr>\n",
       "      <th>9759430</th>\n",
       "      <td>2WLPAD1F61K970101</td>\n",
       "      <td>21000.0</td>\n",
       "      <td>1</td>\n",
       "      <td>582761.0</td>\n",
       "      <td>Shelby</td>\n",
       "      <td>38116</td>\n",
       "      <td>2001</td>\n",
       "      <td>western star</td>\n",
       "      <td>aa</td>\n",
       "      <td>TRUCK</td>\n",
       "      <td>N</td>\n",
       "      <td>2020-02-04</td>\n",
       "      <td>2010-02-01</td>\n",
       "    </tr>\n",
       "  </tbody>\n",
       "</table>\n",
       "<p>157 rows × 13 columns</p>\n",
       "</div>"
      ],
      "text/plain": [
       "                       vin    price  odometer_type   mileage      county  \\\n",
       "3054300  2WKEDDXH1YK965488  12000.0              1       0.0       Wayne   \n",
       "3054305  2WLPCCCH8PK931084    800.0              1       0.0      Sevier   \n",
       "3054306  2WLPCD2G9YK962182  54000.0              1       0.0  Washington   \n",
       "3107634  2WKPDCCH3WK950724  15730.0              1       0.0  Washington   \n",
       "3107635  2WKPDDPF2WK950924   1000.0              1       0.0      Greene   \n",
       "...                    ...      ...            ...       ...         ...   \n",
       "9567310  2WKEDDXJ71K966735  10000.0              1       0.0      Morgan   \n",
       "9567312  2WLNCCBE5RK935174  12500.0              1     200.0      Sumner   \n",
       "9759425  2WKPDCCGXFK912172   3000.0              1       0.0      Blount   \n",
       "9759429  2WLNCCCF6WK950611  25000.0              1       0.0      Wilson   \n",
       "9759430  2WLPAD1F61K970101  21000.0              1  582761.0      Shelby   \n",
       "\n",
       "           zip  model_year          make model vehicle_type new_used  \\\n",
       "3054300  38425        2000  western star   con        TRUCK        U   \n",
       "3054305  37862        1993  western star    aa        TRUCK        U   \n",
       "3054306  37601        2000  western star   490        TRUCK        U   \n",
       "3107634  37601        1998  western star    aa        TRUCK        N   \n",
       "3107635  37818        1998  western star   496         AUTO        U   \n",
       "...        ...         ...           ...   ...          ...      ...   \n",
       "9567310  37887        2001  western star    aa        TRUCK        N   \n",
       "9567312  37066        1994  western star   480        TRUCK        U   \n",
       "9759425  37882        1985  western star   490        TRUCK        U   \n",
       "9759429  37090        1998  western star   486        TRUCK        U   \n",
       "9759430  38116        2001  western star    aa        TRUCK        N   \n",
       "\n",
       "        title_issue_date purchase_date  \n",
       "3054300       2022-01-05    2021-12-28  \n",
       "3054305       2019-10-31    2019-10-19  \n",
       "3054306       2018-05-18    2018-05-01  \n",
       "3107634       2019-01-28    2018-12-20  \n",
       "3107635       2020-12-17    2020-10-16  \n",
       "...                  ...           ...  \n",
       "9567310       2019-04-01    2018-06-29  \n",
       "9567312       2018-02-02    2017-12-04  \n",
       "9759425       2021-08-04    2021-06-10  \n",
       "9759429       2018-03-08    2018-03-07  \n",
       "9759430       2020-02-04    2010-02-01  \n",
       "\n",
       "[157 rows x 13 columns]"
      ]
     },
     "execution_count": 158,
     "metadata": {},
     "output_type": "execute_result"
    }
   ],
   "source": [
    "df[df.make==\"western star\"]"
   ]
  },
  {
   "cell_type": "code",
   "execution_count": 155,
   "metadata": {
    "tags": []
   },
   "outputs": [
    {
     "data": {
      "text/plain": [
       "['porsche suv',\n",
       " 'quattro',\n",
       " 'ram',\n",
       " 'renault',\n",
       " 'renault samsung',\n",
       " 'roadrunner hay squeeze',\n",
       " 'rolls royce',\n",
       " 'rover',\n",
       " 'ruf automobile',\n",
       " 'saab',\n",
       " 'saturn',\n",
       " 'scion',\n",
       " 'smart',\n",
       " 'sterling',\n",
       " 'subaru',\n",
       " 'subaru-isuzu automotive',\n",
       " 'suzuki',\n",
       " 'suzuki / santana motors',\n",
       " 'suzuki canada',\n",
       " 'tesla',\n",
       " 'toyota',\n",
       " 'toyota mexico',\n",
       " 'triumph',\n",
       " 'volkswagen',\n",
       " 'volkswagen commercial vehicles',\n",
       " 'volkswagen trucks',\n",
       " 'volkswagen usa (commercials)',\n",
       " 'volvo',\n",
       " 'volvo cars',\n",
       " 'volvo china',\n",
       " 'volvo eicher commercial vehicles limited.',\n",
       " 'western star',\n",
       " 'yamaha',\n",
       " 'zastava / yugo']"
      ]
     },
     "execution_count": 155,
     "metadata": {},
     "output_type": "execute_result"
    }
   ],
   "source": [
    "sorted(df.make.unique())[-5:]"
   ]
  },
  {
   "cell_type": "code",
   "execution_count": null,
   "metadata": {},
   "outputs": [],
   "source": [
    "df[df.model==]"
   ]
  },
  {
   "cell_type": "code",
   "execution_count": null,
   "metadata": {},
   "outputs": [],
   "source": []
  },
  {
   "cell_type": "code",
   "execution_count": null,
   "metadata": {},
   "outputs": [],
   "source": []
  },
  {
   "cell_type": "code",
   "execution_count": null,
   "metadata": {},
   "outputs": [],
   "source": []
  }
 ],
 "metadata": {
  "kernelspec": {
   "display_name": "Python 3 (ipykernel)",
   "language": "python",
   "name": "python3"
  },
  "language_info": {
   "codemirror_mode": {
    "name": "ipython",
    "version": 3
   },
   "file_extension": ".py",
   "mimetype": "text/x-python",
   "name": "python",
   "nbconvert_exporter": "python",
   "pygments_lexer": "ipython3",
   "version": "3.9.7"
  }
 },
 "nbformat": 4,
 "nbformat_minor": 4
}
