{
 "cells": [
  {
   "cell_type": "code",
   "execution_count": 1,
   "metadata": {},
   "outputs": [],
   "source": [
    "import pandas as pd\n",
    "import numpy as np\n",
    "import os\n",
    "import seaborn as sns\n",
    "import matplotlib.pyplot as plt\n"
   ]
  },
  {
   "cell_type": "code",
   "execution_count": 2,
   "metadata": {},
   "outputs": [],
   "source": [
    "OLD_PATH = \"./data/oldData/\"\n",
    "PROC_PATH = \"./data/processedData/\"\n",
    "PATH =\"./data/\"\n"
   ]
  },
  {
   "cell_type": "code",
   "execution_count": 3,
   "metadata": {},
   "outputs": [
    {
     "data": {
      "text/plain": [
       "['empty.txt', 'used_cars_processed.csv', 'vehicles_processed.csv']"
      ]
     },
     "execution_count": 3,
     "metadata": {},
     "output_type": "execute_result"
    }
   ],
   "source": [
    "os.listdir(PROC_PATH)"
   ]
  },
  {
   "cell_type": "code",
   "execution_count": 4,
   "metadata": {},
   "outputs": [
    {
     "data": {
      "text/plain": [
       "Index(['ID', 'pricesold', 'yearsold', 'zipcode', 'Mileage', 'Make', 'Model',\n",
       "       'Year', 'Trim', 'Engine', 'BodyType', 'NumCylinders', 'DriveType',\n",
       "       'datesold'],\n",
       "      dtype='object')"
      ]
     },
     "execution_count": 4,
     "metadata": {},
     "output_type": "execute_result"
    }
   ],
   "source": [
    "pd.read_csv(PROC_PATH + \"used_cars_processed.csv\", nrows=1).columns"
   ]
  },
  {
   "cell_type": "code",
   "execution_count": 11,
   "metadata": {},
   "outputs": [
    {
     "name": "stdout",
     "output_type": "stream",
     "text": [
      "<class 'pandas.core.frame.DataFrame'>\n",
      "RangeIndex: 122142 entries, 0 to 122141\n",
      "Data columns (total 14 columns):\n",
      " #   Column        Non-Null Count   Dtype  \n",
      "---  ------        --------------   -----  \n",
      " 0   ID            122142 non-null  int64  \n",
      " 1   pricesold     122142 non-null  int64  \n",
      " 2   yearsold      122142 non-null  int64  \n",
      " 3   zipcode       121233 non-null  object \n",
      " 4   Mileage       122142 non-null  int64  \n",
      " 5   Make          122142 non-null  object \n",
      " 6   Model         121569 non-null  object \n",
      " 7   Year          122142 non-null  float64\n",
      " 8   Trim          73219 non-null   object \n",
      " 9   Engine        95044 non-null   object \n",
      " 10  BodyType      101356 non-null  object \n",
      " 11  NumCylinders  122142 non-null  int64  \n",
      " 12  DriveType     97292 non-null   object \n",
      " 13  datesold      122142 non-null  object \n",
      "dtypes: float64(1), int64(5), object(8)\n",
      "memory usage: 13.0+ MB\n"
     ]
    },
    {
     "data": {
      "text/plain": [
       "zipcode        909\n",
       "Model          573\n",
       "Trim         48923\n",
       "Engine       27098\n",
       "BodyType     20786\n",
       "DriveType    24850\n",
       "dtype: int64"
      ]
     },
     "execution_count": 11,
     "metadata": {},
     "output_type": "execute_result"
    }
   ],
   "source": [
    "df_ucars = pd.read_csv(PROC_PATH + \"used_cars_processed.csv\")\n",
    "df_ucars.head()\n",
    "df_ucars.info()\n",
    "df_ucars.isna().sum()[df_ucars.isna().sum()>0]\n"
   ]
  },
  {
   "cell_type": "code",
   "execution_count": 14,
   "metadata": {},
   "outputs": [
    {
     "data": {
      "text/plain": [
       "350                                                       2085\n",
       "V8                                                        1894\n",
       "V6                                                         929\n",
       "5.0                                                        612\n",
       "5.7                                                        590\n",
       "                                                          ... \n",
       "4.7 Liter Magnum V8                                          1\n",
       "1.6 L/6 Valves                                               1\n",
       "5.9 liter 360 V8                                             1\n",
       "1.8L 1798CC 110Cu. In. l4 GAS DOHC Naturally Aspirated       1\n",
       "M52TU 2.8L                                                   1\n",
       "Name: Engine, Length: 22399, dtype: int64"
      ]
     },
     "execution_count": 14,
     "metadata": {},
     "output_type": "execute_result"
    }
   ],
   "source": [
    "df_ucars.Engine.value_counts()"
   ]
  },
  {
   "cell_type": "code",
   "execution_count": 21,
   "metadata": {},
   "outputs": [
    {
     "data": {
      "text/plain": [
       "v8                               2221\n",
       "350                              2085\n",
       "v6                               1108\n",
       "5.0                               612\n",
       "5.7                               590\n",
       "                                 ... \n",
       "5.5l v8 f dohc 32v twin turbo       1\n",
       "327.0 8 cylinder                    1\n",
       "3.4 3l na v6 double overhead        1\n",
       "353 hc                              1\n",
       "m52tu 2.8l                          1\n",
       "Name: Engine, Length: 19892, dtype: int64"
      ]
     },
     "execution_count": 21,
     "metadata": {},
     "output_type": "execute_result"
    }
   ],
   "source": [
    "#make everything lower case \n",
    "df_ucars['Engine'] = df_ucars['Engine'].str.lower()\n",
    "df_ucars.Engine.value_counts()\n"
   ]
  },
  {
   "cell_type": "markdown",
   "metadata": {},
   "source": [
    "##### We got more matches"
   ]
  },
  {
   "cell_type": "code",
   "execution_count": null,
   "metadata": {},
   "outputs": [],
   "source": [
    "#if number of cylinders is in the engine name than put it on Num"
   ]
  }
 ],
 "metadata": {
  "kernelspec": {
   "display_name": "Python 3 (ipykernel)",
   "language": "python",
   "name": "python3"
  },
  "language_info": {
   "codemirror_mode": {
    "name": "ipython",
    "version": 3
   },
   "file_extension": ".py",
   "mimetype": "text/x-python",
   "name": "python",
   "nbconvert_exporter": "python",
   "pygments_lexer": "ipython3",
   "version": "3.9.7"
  }
 },
 "nbformat": 4,
 "nbformat_minor": 4
}
