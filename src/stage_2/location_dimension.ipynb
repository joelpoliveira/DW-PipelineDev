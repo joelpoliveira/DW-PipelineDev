{
 "cells": [
  {
   "cell_type": "code",
   "execution_count": 1,
   "id": "5f490c36-8c6f-497e-bf90-029c0305ffaf",
   "metadata": {
    "tags": []
   },
   "outputs": [],
   "source": [
    "import numpy as np \n",
    "import pandas as pd\n",
    "import matplotlib.pyplot as plt\n",
    "import time\n",
    "import geopy\n",
    "\n",
    "from pyzipcode import ZipCodeDatabase, db_location\n",
    "\n",
    "zdb = ZipCodeDatabase()"
   ]
  },
  {
   "cell_type": "code",
   "execution_count": 2,
   "id": "b6be178a-3510-4175-9643-260e102e574b",
   "metadata": {
    "tags": []
   },
   "outputs": [],
   "source": [
    "cols = [\n",
    "    #\"location_key\",\n",
    "    \"state\",\n",
    "    \"county\",\n",
    "    #\"region\",\n",
    "    #\"zip\",\n",
    "    \"lat\",\n",
    "    \"long\",\n",
    "]\n",
    "cols = list(map(lambda x: \"location_\" + x, cols))"
   ]
  },
  {
   "cell_type": "code",
   "execution_count": 3,
   "id": "6ee2a6b1-e9b1-4486-b0cd-3e5c0e62df8d",
   "metadata": {
    "tags": []
   },
   "outputs": [],
   "source": [
    "location_dim = pd.DataFrame(columns=cols)"
   ]
  },
  {
   "cell_type": "code",
   "execution_count": 4,
   "id": "cd429a5f-bfae-4183-9eb3-bf2fdd01aa7d",
   "metadata": {
    "tags": []
   },
   "outputs": [
    {
     "data": {
      "text/plain": [
       "(0, 4)"
      ]
     },
     "execution_count": 4,
     "metadata": {},
     "output_type": "execute_result"
    }
   ],
   "source": [
    "location_dim.shape"
   ]
  },
  {
   "cell_type": "code",
   "execution_count": 5,
   "id": "c7453028-a6b3-4811-8b5c-db10e98077db",
   "metadata": {
    "tags": []
   },
   "outputs": [],
   "source": [
    "PATH = \"../stage_1/data/processedData/\""
   ]
  },
  {
   "cell_type": "markdown",
   "id": "85d939db-9a7f-4f1c-9f22-d75d87278400",
   "metadata": {},
   "source": [
    "- Vehicles dataset"
   ]
  },
  {
   "cell_type": "code",
   "execution_count": 6,
   "id": "7cc297df-3356-4b0f-9c46-b336f4bc0a60",
   "metadata": {
    "tags": []
   },
   "outputs": [],
   "source": [
    "df = pd.read_csv(f\"{PATH}/vehicles.csv\", index_col=0)"
   ]
  },
  {
   "cell_type": "code",
   "execution_count": 7,
   "id": "2bb7868e-60de-4acd-9ffa-ee05f0e9899b",
   "metadata": {
    "tags": []
   },
   "outputs": [],
   "source": [
    "df = df[[\"lat\", \"long\", \"state\"]]"
   ]
  },
  {
   "cell_type": "code",
   "execution_count": 8,
   "id": "61500052-c8a8-4793-b64a-152431322e30",
   "metadata": {
    "tags": []
   },
   "outputs": [
    {
     "data": {
      "text/plain": [
       "(157431, 3)"
      ]
     },
     "execution_count": 8,
     "metadata": {},
     "output_type": "execute_result"
    }
   ],
   "source": [
    "df.shape"
   ]
  },
  {
   "cell_type": "code",
   "execution_count": 9,
   "id": "c8269b10-4e94-4431-abea-af85b6263437",
   "metadata": {
    "tags": []
   },
   "outputs": [],
   "source": [
    "df = df.drop_duplicates()"
   ]
  },
  {
   "cell_type": "code",
   "execution_count": 10,
   "id": "cc619852-b93b-4587-8cfa-d9ed3fb9ea75",
   "metadata": {
    "tags": []
   },
   "outputs": [],
   "source": [
    "col_map = {\n",
    "    col:\"location_\"+col for col in df.columns\n",
    "}"
   ]
  },
  {
   "cell_type": "code",
   "execution_count": 11,
   "id": "72dfed7f-e0e4-4774-8d29-4004d70b9e3b",
   "metadata": {
    "tags": []
   },
   "outputs": [],
   "source": [
    "df.columns = df.columns.map(col_map)"
   ]
  },
  {
   "cell_type": "code",
   "execution_count": 12,
   "id": "6393d8bb-e12b-4462-bdf8-89ff19cb7b40",
   "metadata": {
    "tags": []
   },
   "outputs": [],
   "source": [
    "location_dim = pd.concat((location_dim, df)).reset_index(drop=True).drop_duplicates()"
   ]
  },
  {
   "cell_type": "code",
   "execution_count": 13,
   "id": "0ccc4eef-15c7-42c8-b068-b837b9b5cd1e",
   "metadata": {
    "tags": []
   },
   "outputs": [
    {
     "data": {
      "text/plain": [
       "(37511, 4)"
      ]
     },
     "execution_count": 13,
     "metadata": {},
     "output_type": "execute_result"
    }
   ],
   "source": [
    "location_dim.shape"
   ]
  },
  {
   "cell_type": "markdown",
   "id": "faea47ea-3786-4d75-b32c-32abf682c838",
   "metadata": {},
   "source": [
    "- Used cars"
   ]
  },
  {
   "cell_type": "code",
   "execution_count": 14,
   "id": "80f715fe-f326-4d6e-9b20-2acc6475f036",
   "metadata": {
    "tags": []
   },
   "outputs": [
    {
     "data": {
      "text/html": [
       "<div>\n",
       "<style scoped>\n",
       "    .dataframe tbody tr th:only-of-type {\n",
       "        vertical-align: middle;\n",
       "    }\n",
       "\n",
       "    .dataframe tbody tr th {\n",
       "        vertical-align: top;\n",
       "    }\n",
       "\n",
       "    .dataframe thead th {\n",
       "        text-align: right;\n",
       "    }\n",
       "</style>\n",
       "<table border=\"1\" class=\"dataframe\">\n",
       "  <thead>\n",
       "    <tr style=\"text-align: right;\">\n",
       "      <th></th>\n",
       "      <th>ID</th>\n",
       "      <th>pricesold</th>\n",
       "      <th>yearsold</th>\n",
       "      <th>zipcode</th>\n",
       "      <th>Mileage</th>\n",
       "      <th>Make</th>\n",
       "      <th>Model</th>\n",
       "      <th>Year</th>\n",
       "      <th>Engine</th>\n",
       "      <th>BodyType</th>\n",
       "      <th>NumCylinders</th>\n",
       "      <th>DriveType</th>\n",
       "      <th>datesold</th>\n",
       "      <th>lat</th>\n",
       "      <th>long</th>\n",
       "      <th>state</th>\n",
       "      <th>fuel</th>\n",
       "    </tr>\n",
       "  </thead>\n",
       "  <tbody>\n",
       "    <tr>\n",
       "      <th>0</th>\n",
       "      <td>137178</td>\n",
       "      <td>7500</td>\n",
       "      <td>2020</td>\n",
       "      <td>78611</td>\n",
       "      <td>84430</td>\n",
       "      <td>ford</td>\n",
       "      <td>mustang</td>\n",
       "      <td>1988.0</td>\n",
       "      <td>5.0l gas v8</td>\n",
       "      <td>sedan</td>\n",
       "      <td>8</td>\n",
       "      <td>RWD</td>\n",
       "      <td>2020-03-19 00:00:00</td>\n",
       "      <td>30.767327</td>\n",
       "      <td>-98.301090</td>\n",
       "      <td>tx</td>\n",
       "      <td>gas</td>\n",
       "    </tr>\n",
       "    <tr>\n",
       "      <th>1</th>\n",
       "      <td>64287</td>\n",
       "      <td>44000</td>\n",
       "      <td>2019</td>\n",
       "      <td>17728</td>\n",
       "      <td>40703</td>\n",
       "      <td>porsche</td>\n",
       "      <td>911</td>\n",
       "      <td>2002.0</td>\n",
       "      <td>3.6l</td>\n",
       "      <td>coupe</td>\n",
       "      <td>6</td>\n",
       "      <td>AWD</td>\n",
       "      <td>2019-11-13 00:00:00</td>\n",
       "      <td>41.318934</td>\n",
       "      <td>-77.082110</td>\n",
       "      <td>pa</td>\n",
       "      <td>gas</td>\n",
       "    </tr>\n",
       "    <tr>\n",
       "      <th>2</th>\n",
       "      <td>132695</td>\n",
       "      <td>950</td>\n",
       "      <td>2020</td>\n",
       "      <td>46211</td>\n",
       "      <td>71300</td>\n",
       "      <td>mercury</td>\n",
       "      <td>montclair</td>\n",
       "      <td>1965.0</td>\n",
       "      <td>NaN</td>\n",
       "      <td>sedan</td>\n",
       "      <td>0</td>\n",
       "      <td>RWD</td>\n",
       "      <td>2020-04-04 00:00:00</td>\n",
       "      <td>39.779492</td>\n",
       "      <td>-86.132837</td>\n",
       "      <td>in</td>\n",
       "      <td>gas</td>\n",
       "    </tr>\n",
       "    <tr>\n",
       "      <th>3</th>\n",
       "      <td>80293</td>\n",
       "      <td>25200</td>\n",
       "      <td>2019</td>\n",
       "      <td>33759</td>\n",
       "      <td>15000</td>\n",
       "      <td>pontiac</td>\n",
       "      <td>gto</td>\n",
       "      <td>1970.0</td>\n",
       "      <td>NaN</td>\n",
       "      <td>NaN</td>\n",
       "      <td>0</td>\n",
       "      <td>NaN</td>\n",
       "      <td>2019-01-23 00:00:00</td>\n",
       "      <td>27.980297</td>\n",
       "      <td>-82.716450</td>\n",
       "      <td>fl</td>\n",
       "      <td>gas</td>\n",
       "    </tr>\n",
       "    <tr>\n",
       "      <th>4</th>\n",
       "      <td>158271</td>\n",
       "      <td>20000</td>\n",
       "      <td>2020</td>\n",
       "      <td>33311</td>\n",
       "      <td>51674</td>\n",
       "      <td>jeep</td>\n",
       "      <td>wrangler</td>\n",
       "      <td>2015.0</td>\n",
       "      <td>3.6l flexible v6</td>\n",
       "      <td>suv</td>\n",
       "      <td>6</td>\n",
       "      <td>4WD</td>\n",
       "      <td>2020-08-09 00:00:00</td>\n",
       "      <td>26.138830</td>\n",
       "      <td>-80.168650</td>\n",
       "      <td>fl</td>\n",
       "      <td>gas</td>\n",
       "    </tr>\n",
       "  </tbody>\n",
       "</table>\n",
       "</div>"
      ],
      "text/plain": [
       "       ID  pricesold  yearsold  zipcode  Mileage     Make      Model    Year  \\\n",
       "0  137178       7500      2020    78611    84430     ford    mustang  1988.0   \n",
       "1   64287      44000      2019    17728    40703  porsche        911  2002.0   \n",
       "2  132695        950      2020    46211    71300  mercury  montclair  1965.0   \n",
       "3   80293      25200      2019    33759    15000  pontiac        gto  1970.0   \n",
       "4  158271      20000      2020    33311    51674     jeep   wrangler  2015.0   \n",
       "\n",
       "             Engine BodyType  NumCylinders DriveType             datesold  \\\n",
       "0       5.0l gas v8    sedan             8       RWD  2020-03-19 00:00:00   \n",
       "1              3.6l    coupe             6       AWD  2019-11-13 00:00:00   \n",
       "2               NaN    sedan             0       RWD  2020-04-04 00:00:00   \n",
       "3               NaN      NaN             0       NaN  2019-01-23 00:00:00   \n",
       "4  3.6l flexible v6      suv             6       4WD  2020-08-09 00:00:00   \n",
       "\n",
       "         lat       long state fuel  \n",
       "0  30.767327 -98.301090    tx  gas  \n",
       "1  41.318934 -77.082110    pa  gas  \n",
       "2  39.779492 -86.132837    in  gas  \n",
       "3  27.980297 -82.716450    fl  gas  \n",
       "4  26.138830 -80.168650    fl  gas  "
      ]
     },
     "execution_count": 14,
     "metadata": {},
     "output_type": "execute_result"
    }
   ],
   "source": [
    "df = pd.read_csv(f\"{PATH}/used_car_sales.csv\")\n",
    "df.head()"
   ]
  },
  {
   "cell_type": "code",
   "execution_count": 15,
   "id": "7d884497-30d6-4455-8a01-ca13620bf506",
   "metadata": {
    "tags": []
   },
   "outputs": [],
   "source": [
    "df = df[[\"lat\", \"long\", \"state\"]]"
   ]
  },
  {
   "cell_type": "code",
   "execution_count": 16,
   "id": "3b40ee0a-90d7-4f53-b99d-84352a11f2ca",
   "metadata": {
    "tags": []
   },
   "outputs": [],
   "source": [
    "col_map = {\n",
    "    col:\"location_\"+col for col in df.columns\n",
    "}"
   ]
  },
  {
   "cell_type": "code",
   "execution_count": 17,
   "id": "c9d83692-fb2d-408a-8eb0-341bf8303c90",
   "metadata": {
    "tags": []
   },
   "outputs": [],
   "source": [
    "df.columns = df.columns.map(col_map)"
   ]
  },
  {
   "cell_type": "code",
   "execution_count": 18,
   "id": "39d95458-e01d-442a-ad9c-50907a087f66",
   "metadata": {
    "tags": []
   },
   "outputs": [],
   "source": [
    "dflocation_dim = pd.concat((location_dim, df)).reset_index(drop=True).drop_duplicates()"
   ]
  },
  {
   "cell_type": "code",
   "execution_count": 19,
   "id": "5662aaea-6ada-4a59-b290-d56a28c2b2b1",
   "metadata": {
    "tags": []
   },
   "outputs": [
    {
     "data": {
      "text/plain": [
       "(37511, 4)"
      ]
     },
     "execution_count": 19,
     "metadata": {},
     "output_type": "execute_result"
    }
   ],
   "source": [
    "location_dim.shape"
   ]
  },
  {
   "cell_type": "markdown",
   "id": "2c51737f-81a6-4249-9952-3c10c438ed23",
   "metadata": {},
   "source": [
    "- Tn_mvr"
   ]
  },
  {
   "cell_type": "code",
   "execution_count": 20,
   "id": "a8df25e9-e31d-4316-83a9-723bf8c8de16",
   "metadata": {
    "tags": []
   },
   "outputs": [
    {
     "data": {
      "text/html": [
       "<div>\n",
       "<style scoped>\n",
       "    .dataframe tbody tr th:only-of-type {\n",
       "        vertical-align: middle;\n",
       "    }\n",
       "\n",
       "    .dataframe tbody tr th {\n",
       "        vertical-align: top;\n",
       "    }\n",
       "\n",
       "    .dataframe thead th {\n",
       "        text-align: right;\n",
       "    }\n",
       "</style>\n",
       "<table border=\"1\" class=\"dataframe\">\n",
       "  <thead>\n",
       "    <tr style=\"text-align: right;\">\n",
       "      <th></th>\n",
       "      <th>vin</th>\n",
       "      <th>price</th>\n",
       "      <th>odometer_type</th>\n",
       "      <th>mileage</th>\n",
       "      <th>county</th>\n",
       "      <th>zip</th>\n",
       "      <th>model_year</th>\n",
       "      <th>make</th>\n",
       "      <th>model</th>\n",
       "      <th>vehicle_type</th>\n",
       "      <th>new_used</th>\n",
       "      <th>title_issue_date</th>\n",
       "      <th>purchase_date</th>\n",
       "      <th>lat</th>\n",
       "      <th>long</th>\n",
       "      <th>state</th>\n",
       "      <th>fuel</th>\n",
       "    </tr>\n",
       "  </thead>\n",
       "  <tbody>\n",
       "    <tr>\n",
       "      <th>1013</th>\n",
       "      <td>137ZA8434TE173571</td>\n",
       "      <td>31000.00</td>\n",
       "      <td>1</td>\n",
       "      <td>0.0</td>\n",
       "      <td>Tipton</td>\n",
       "      <td>38053</td>\n",
       "      <td>1996</td>\n",
       "      <td>am-general</td>\n",
       "      <td>hummer</td>\n",
       "      <td>AUTO</td>\n",
       "      <td>U</td>\n",
       "      <td>2019-01-17</td>\n",
       "      <td>2019-01-04</td>\n",
       "      <td>35.347965</td>\n",
       "      <td>-89.90668</td>\n",
       "      <td>tn</td>\n",
       "      <td>gas</td>\n",
       "    </tr>\n",
       "    <tr>\n",
       "      <th>1768</th>\n",
       "      <td>137ZA8434TE173571</td>\n",
       "      <td>11000.00</td>\n",
       "      <td>1</td>\n",
       "      <td>0.0</td>\n",
       "      <td>Shelby</td>\n",
       "      <td>38115</td>\n",
       "      <td>1996</td>\n",
       "      <td>am-general</td>\n",
       "      <td>hummer</td>\n",
       "      <td>AUTO</td>\n",
       "      <td>U</td>\n",
       "      <td>2018-01-30</td>\n",
       "      <td>2018-01-12</td>\n",
       "      <td>35.057311</td>\n",
       "      <td>-89.86291</td>\n",
       "      <td>tn</td>\n",
       "      <td>gas</td>\n",
       "    </tr>\n",
       "    <tr>\n",
       "      <th>11221</th>\n",
       "      <td>19UDE2F36LA000634</td>\n",
       "      <td>21500.00</td>\n",
       "      <td>0</td>\n",
       "      <td>4843.0</td>\n",
       "      <td>Washington</td>\n",
       "      <td>37681</td>\n",
       "      <td>2020</td>\n",
       "      <td>acura</td>\n",
       "      <td>ilx</td>\n",
       "      <td>AUTO</td>\n",
       "      <td>N</td>\n",
       "      <td>2021-02-02</td>\n",
       "      <td>2021-01-23</td>\n",
       "      <td>36.246547</td>\n",
       "      <td>-82.62095</td>\n",
       "      <td>tn</td>\n",
       "      <td>gas</td>\n",
       "    </tr>\n",
       "    <tr>\n",
       "      <th>11225</th>\n",
       "      <td>19UDE2F71HA001328</td>\n",
       "      <td>17253.99</td>\n",
       "      <td>0</td>\n",
       "      <td>35691.0</td>\n",
       "      <td>Sumner</td>\n",
       "      <td>37075</td>\n",
       "      <td>2017</td>\n",
       "      <td>acura</td>\n",
       "      <td>ilx</td>\n",
       "      <td>AUTO</td>\n",
       "      <td>U</td>\n",
       "      <td>2020-05-27</td>\n",
       "      <td>2020-04-18</td>\n",
       "      <td>36.311047</td>\n",
       "      <td>-86.61173</td>\n",
       "      <td>tn</td>\n",
       "      <td>gas</td>\n",
       "    </tr>\n",
       "    <tr>\n",
       "      <th>11226</th>\n",
       "      <td>19UDE2F72HA006487</td>\n",
       "      <td>4000.00</td>\n",
       "      <td>0</td>\n",
       "      <td>27000.0</td>\n",
       "      <td>Franklin</td>\n",
       "      <td>37330</td>\n",
       "      <td>2017</td>\n",
       "      <td>acura</td>\n",
       "      <td>ilx</td>\n",
       "      <td>AUTO</td>\n",
       "      <td>U</td>\n",
       "      <td>2019-05-20</td>\n",
       "      <td>2019-05-17</td>\n",
       "      <td>35.280936</td>\n",
       "      <td>-86.12247</td>\n",
       "      <td>tn</td>\n",
       "      <td>gas</td>\n",
       "    </tr>\n",
       "  </tbody>\n",
       "</table>\n",
       "</div>"
      ],
      "text/plain": [
       "                     vin     price  odometer_type  mileage      county    zip  \\\n",
       "1013   137ZA8434TE173571  31000.00              1      0.0      Tipton  38053   \n",
       "1768   137ZA8434TE173571  11000.00              1      0.0      Shelby  38115   \n",
       "11221  19UDE2F36LA000634  21500.00              0   4843.0  Washington  37681   \n",
       "11225  19UDE2F71HA001328  17253.99              0  35691.0      Sumner  37075   \n",
       "11226  19UDE2F72HA006487   4000.00              0  27000.0    Franklin  37330   \n",
       "\n",
       "       model_year        make   model vehicle_type new_used title_issue_date  \\\n",
       "1013         1996  am-general  hummer         AUTO        U       2019-01-17   \n",
       "1768         1996  am-general  hummer         AUTO        U       2018-01-30   \n",
       "11221        2020       acura     ilx         AUTO        N       2021-02-02   \n",
       "11225        2017       acura     ilx         AUTO        U       2020-05-27   \n",
       "11226        2017       acura     ilx         AUTO        U       2019-05-20   \n",
       "\n",
       "      purchase_date        lat      long state fuel  \n",
       "1013     2019-01-04  35.347965 -89.90668    tn  gas  \n",
       "1768     2018-01-12  35.057311 -89.86291    tn  gas  \n",
       "11221    2021-01-23  36.246547 -82.62095    tn  gas  \n",
       "11225    2020-04-18  36.311047 -86.61173    tn  gas  \n",
       "11226    2019-05-17  35.280936 -86.12247    tn  gas  "
      ]
     },
     "execution_count": 20,
     "metadata": {},
     "output_type": "execute_result"
    }
   ],
   "source": [
    "df = pd.read_csv(f\"{PATH}/tn_mvr.csv\", index_col=0)\n",
    "df.head()"
   ]
  },
  {
   "cell_type": "code",
   "execution_count": 21,
   "id": "f4df703d-ac6e-40f1-a158-6af8c17d4fe0",
   "metadata": {
    "tags": []
   },
   "outputs": [],
   "source": [
    "df = df[[\"lat\", \"long\", \"state\"]]"
   ]
  },
  {
   "cell_type": "code",
   "execution_count": 22,
   "id": "68cc3822-6a64-42ab-8cf1-7e72c032acf2",
   "metadata": {
    "tags": []
   },
   "outputs": [
    {
     "data": {
      "text/plain": [
       "(535786, 3)"
      ]
     },
     "execution_count": 22,
     "metadata": {},
     "output_type": "execute_result"
    }
   ],
   "source": [
    "df.shape"
   ]
  },
  {
   "cell_type": "code",
   "execution_count": 23,
   "id": "2ca69d97-8b95-4d46-8cf5-7ca39abd5693",
   "metadata": {
    "tags": []
   },
   "outputs": [
    {
     "data": {
      "text/plain": [
       "(1090, 3)"
      ]
     },
     "execution_count": 23,
     "metadata": {},
     "output_type": "execute_result"
    }
   ],
   "source": [
    "df = df.drop_duplicates()\n",
    "df.shape"
   ]
  },
  {
   "cell_type": "code",
   "execution_count": 24,
   "id": "f06f5ca5-c6e5-4338-b3fb-26e2340001d4",
   "metadata": {
    "tags": []
   },
   "outputs": [],
   "source": [
    "col_map = {\n",
    "    col:\"location_\"+col for col in df.columns\n",
    "}"
   ]
  },
  {
   "cell_type": "code",
   "execution_count": 25,
   "id": "f47051d6-7acd-4e6f-9014-9bdba15bb4c8",
   "metadata": {
    "tags": []
   },
   "outputs": [],
   "source": [
    "df.columns = df.columns.map(col_map)"
   ]
  },
  {
   "cell_type": "code",
   "execution_count": 26,
   "id": "a152c468-5334-4e17-8d1e-f962d477ca90",
   "metadata": {
    "tags": []
   },
   "outputs": [],
   "source": [
    "location_dim = pd.concat((location_dim, df)).reset_index(drop=True)"
   ]
  },
  {
   "cell_type": "code",
   "execution_count": 27,
   "id": "311fd715-2a50-4a56-91b9-25878c4428e3",
   "metadata": {
    "tags": []
   },
   "outputs": [
    {
     "data": {
      "text/plain": [
       "(38601, 4)"
      ]
     },
     "execution_count": 27,
     "metadata": {},
     "output_type": "execute_result"
    }
   ],
   "source": [
    "location_dim.shape"
   ]
  },
  {
   "cell_type": "code",
   "execution_count": 28,
   "id": "44244a26-2741-43dd-94a8-8b8d2189d1c0",
   "metadata": {
    "tags": []
   },
   "outputs": [
    {
     "data": {
      "text/plain": [
       "(38601, 4)"
      ]
     },
     "execution_count": 28,
     "metadata": {},
     "output_type": "execute_result"
    }
   ],
   "source": [
    "location_dim = location_dim.drop_duplicates()\n",
    "location_dim.shape"
   ]
  },
  {
   "cell_type": "markdown",
   "id": "c4f95262-21fc-4fe0-9164-55ed86fb858a",
   "metadata": {},
   "source": [
    "- infer the other fields"
   ]
  },
  {
   "cell_type": "code",
   "execution_count": 29,
   "id": "2d5640d4-6285-4328-80b3-e1800a9b433c",
   "metadata": {
    "tags": []
   },
   "outputs": [
    {
     "data": {
      "text/plain": [
       "location_state      object\n",
       "location_county     object\n",
       "location_lat       float64\n",
       "location_long      float64\n",
       "dtype: object"
      ]
     },
     "execution_count": 29,
     "metadata": {},
     "output_type": "execute_result"
    }
   ],
   "source": [
    "location_dim.head().dtypes"
   ]
  },
  {
   "cell_type": "code",
   "execution_count": 30,
   "id": "1e7a9c3a-15b3-4daa-8686-eea68a1c2ea2",
   "metadata": {
    "tags": []
   },
   "outputs": [],
   "source": [
    "geolocator = geopy.Nominatim(user_agent='http')"
   ]
  },
  {
   "cell_type": "code",
   "execution_count": 31,
   "id": "184cb54f-88c7-48e9-b858-7a5a6fc9bb1f",
   "metadata": {
    "tags": []
   },
   "outputs": [],
   "source": [
    "from tqdm import tqdm"
   ]
  },
  {
   "cell_type": "code",
   "execution_count": 32,
   "id": "77fc76ac-2e9e-4700-a51d-aef27e6b1158",
   "metadata": {
    "tags": []
   },
   "outputs": [],
   "source": [
    "def get_location(lat, long):\n",
    "    location = geolocator.reverse((lat, long))\n",
    "    return location\n",
    "\n",
    "def get_countys(df):\n",
    "    countys=[]\n",
    "    for i in tqdm(df.index):\n",
    "        item = location_dim.loc[i]\n",
    "        loc = get_location(item.location_lat, item.location_long)\n",
    "        if loc == None:\n",
    "            countys.append(np.nan)\n",
    "        else:\n",
    "            if \"county\" in loc.raw[\"address\"]:\n",
    "                countys.append(loc.raw[\"address\"][\"county\"])\n",
    "            else:\n",
    "                countys.append(np.nan)\n",
    "    return countys"
   ]
  },
  {
   "cell_type": "code",
   "execution_count": 33,
   "id": "ff0d7cb5-4056-4ab4-83f1-0f2b6396e555",
   "metadata": {
    "tags": []
   },
   "outputs": [
    {
     "data": {
      "text/plain": [
       "{'place_id': 78581177,\n",
       " 'licence': 'Data © OpenStreetMap contributors, ODbL 1.0. https://osm.org/copyright',\n",
       " 'osm_type': 'node',\n",
       " 'osm_id': 7604103059,\n",
       " 'lat': '35.3475584',\n",
       " 'lon': '-89.9060082',\n",
       " 'display_name': 'Goodwill, US 51, Millington, Shelby County, West Tennessee, Tennessee, 38053, United States',\n",
       " 'address': {'shop': 'Goodwill',\n",
       "  'road': 'US 51',\n",
       "  'town': 'Millington',\n",
       "  'county': 'Shelby County',\n",
       "  'region': 'West Tennessee',\n",
       "  'state': 'Tennessee',\n",
       "  'ISO3166-2-lvl4': 'US-TN',\n",
       "  'postcode': '38053',\n",
       "  'country': 'United States',\n",
       "  'country_code': 'us'},\n",
       " 'boundingbox': ['35.3475084', '35.3476084', '-89.9060582', '-89.9059582']}"
      ]
     },
     "execution_count": 33,
     "metadata": {},
     "output_type": "execute_result"
    }
   ],
   "source": [
    "get_location(35.347965,\t-89.90668).raw"
   ]
  },
  {
   "cell_type": "code",
   "execution_count": null,
   "id": "3327989f-ee79-450c-999c-2fd2e4767e8f",
   "metadata": {},
   "outputs": [],
   "source": []
  },
  {
   "cell_type": "code",
   "execution_count": 46,
   "id": "b3cdd7a1-57cd-4670-a23a-669c32460493",
   "metadata": {
    "tags": []
   },
   "outputs": [],
   "source": [
    "#countys = get_countys(location_dim)"
   ]
  },
  {
   "cell_type": "code",
   "execution_count": null,
   "id": "6ffcb30e-db97-450c-a30f-5abf93820b6f",
   "metadata": {},
   "outputs": [],
   "source": [
    "localtion_dim.fillna(\"Unkown\", inplace=True)"
   ]
  },
  {
   "cell_type": "code",
   "execution_count": 33,
   "id": "246d9bb6-9e02-4be4-9a2a-61906e89e2fa",
   "metadata": {
    "tags": []
   },
   "outputs": [],
   "source": [
    "location_dim.to_csv(\"data/locationDim.csv\")"
   ]
  },
  {
   "cell_type": "code",
   "execution_count": null,
   "id": "e09a830e-a005-4c0e-81be-b0fc13e77e68",
   "metadata": {},
   "outputs": [],
   "source": []
  }
 ],
 "metadata": {
  "kernelspec": {
   "display_name": "Python 3 (ipykernel)",
   "language": "python",
   "name": "python3"
  },
  "language_info": {
   "codemirror_mode": {
    "name": "ipython",
    "version": 3
   },
   "file_extension": ".py",
   "mimetype": "text/x-python",
   "name": "python",
   "nbconvert_exporter": "python",
   "pygments_lexer": "ipython3",
   "version": "3.9.7"
  }
 },
 "nbformat": 4,
 "nbformat_minor": 5
}
