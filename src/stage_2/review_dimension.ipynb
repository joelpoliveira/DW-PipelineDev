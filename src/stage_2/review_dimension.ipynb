{
 "cells": [
  {
   "cell_type": "code",
   "execution_count": 35,
   "id": "2e889e46-7dbd-453c-89fc-1edde4646dcb",
   "metadata": {
    "tags": []
   },
   "outputs": [],
   "source": [
    "import numpy as np \n",
    "import pandas as pd\n",
    "import matplotlib.pyplot as plt\n",
    "from hashlib import md5"
   ]
  },
  {
   "cell_type": "code",
   "execution_count": 36,
   "id": "38b31ba2-ad8b-4003-ae23-bfa00be1742a",
   "metadata": {
    "tags": []
   },
   "outputs": [],
   "source": [
    "cols = [\n",
    "    #\"review_key\",\n",
    "    \"username\",\n",
    "    \"title\",\n",
    "    \"description\",\n",
    "]\n",
    "cols = list(map(lambda x: \"review_\" + x, cols))"
   ]
  },
  {
   "cell_type": "code",
   "execution_count": 37,
   "id": "dd240ab0-aa96-44ae-92fb-53083d4b5cf3",
   "metadata": {
    "tags": []
   },
   "outputs": [
    {
     "data": {
      "text/plain": [
       "(0, 3)"
      ]
     },
     "execution_count": 37,
     "metadata": {},
     "output_type": "execute_result"
    }
   ],
   "source": [
    "review_dim = pd.DataFrame(columns=cols)\n",
    "review_dim.shape"
   ]
  },
  {
   "cell_type": "code",
   "execution_count": 38,
   "id": "b21c007d-ef31-4f40-8455-2dabdef2df1d",
   "metadata": {
    "tags": []
   },
   "outputs": [],
   "source": [
    "PATH = \"../stage_1/data/processedData/\""
   ]
  },
  {
   "cell_type": "code",
   "execution_count": 39,
   "id": "a2967a6a-1ebe-490e-b41d-2b0cb99fcd23",
   "metadata": {
    "tags": []
   },
   "outputs": [],
   "source": [
    "df = pd.read_csv(PATH + \"review.csv\", index_col=0)"
   ]
  },
  {
   "cell_type": "code",
   "execution_count": 40,
   "id": "35839890-89de-4e97-9183-5a2f43d7b9e3",
   "metadata": {
    "tags": []
   },
   "outputs": [
    {
     "data": {
      "text/html": [
       "<div>\n",
       "<style scoped>\n",
       "    .dataframe tbody tr th:only-of-type {\n",
       "        vertical-align: middle;\n",
       "    }\n",
       "\n",
       "    .dataframe tbody tr th {\n",
       "        vertical-align: top;\n",
       "    }\n",
       "\n",
       "    .dataframe thead th {\n",
       "        text-align: right;\n",
       "    }\n",
       "</style>\n",
       "<table border=\"1\" class=\"dataframe\">\n",
       "  <thead>\n",
       "    <tr style=\"text-align: right;\">\n",
       "      <th></th>\n",
       "      <th>Company</th>\n",
       "      <th>Model</th>\n",
       "      <th>Year</th>\n",
       "      <th>Reviewer</th>\n",
       "      <th>Date</th>\n",
       "      <th>Title</th>\n",
       "      <th>Rating</th>\n",
       "      <th>Review</th>\n",
       "    </tr>\n",
       "  </thead>\n",
       "  <tbody>\n",
       "    <tr>\n",
       "      <th>0</th>\n",
       "      <td>acura</td>\n",
       "      <td>ilx</td>\n",
       "      <td>2013</td>\n",
       "      <td>mahowald</td>\n",
       "      <td>2012-08-12</td>\n",
       "      <td>Getting 43 Mpg on daily commute</td>\n",
       "      <td>5</td>\n",
       "      <td>I love this car.\\r\\nGas mileage, suspension, a...</td>\n",
       "    </tr>\n",
       "    <tr>\n",
       "      <th>1</th>\n",
       "      <td>acura</td>\n",
       "      <td>ilx</td>\n",
       "      <td>2013</td>\n",
       "      <td>VIP</td>\n",
       "      <td>2016-07-26</td>\n",
       "      <td>New to me ILX</td>\n",
       "      <td>5</td>\n",
       "      <td>I purchased my 2013 ILX from the dealer used w...</td>\n",
       "    </tr>\n",
       "    <tr>\n",
       "      <th>2</th>\n",
       "      <td>acura</td>\n",
       "      <td>ilx</td>\n",
       "      <td>2013</td>\n",
       "      <td>bybchucky</td>\n",
       "      <td>2013-09-14</td>\n",
       "      <td>Excellet Commuter Car</td>\n",
       "      <td>4</td>\n",
       "      <td>I recently purchased a 2013 ILX with the Tech ...</td>\n",
       "    </tr>\n",
       "    <tr>\n",
       "      <th>3</th>\n",
       "      <td>acura</td>\n",
       "      <td>ilx</td>\n",
       "      <td>2013</td>\n",
       "      <td>bayareamom</td>\n",
       "      <td>2015-01-26</td>\n",
       "      <td>Peppy Hybrid that Turns Heads</td>\n",
       "      <td>4</td>\n",
       "      <td>We bought our ILX used and have been incredibl...</td>\n",
       "    </tr>\n",
       "    <tr>\n",
       "      <th>4</th>\n",
       "      <td>acura</td>\n",
       "      <td>ilx</td>\n",
       "      <td>2013</td>\n",
       "      <td>Kerry Olson</td>\n",
       "      <td>2016-03-26</td>\n",
       "      <td>2013 Acura ILX Hybrid w/ Tech Package</td>\n",
       "      <td>5</td>\n",
       "      <td>In April of 2015 we were in need of another ca...</td>\n",
       "    </tr>\n",
       "  </tbody>\n",
       "</table>\n",
       "</div>"
      ],
      "text/plain": [
       "  Company Model  Year     Reviewer        Date  \\\n",
       "0   acura   ilx  2013     mahowald  2012-08-12   \n",
       "1   acura   ilx  2013          VIP  2016-07-26   \n",
       "2   acura   ilx  2013    bybchucky  2013-09-14   \n",
       "3   acura   ilx  2013   bayareamom  2015-01-26   \n",
       "4   acura   ilx  2013  Kerry Olson  2016-03-26   \n",
       "\n",
       "                                   Title  Rating  \\\n",
       "0        Getting 43 Mpg on daily commute       5   \n",
       "1                          New to me ILX       5   \n",
       "2                  Excellet Commuter Car       4   \n",
       "3          Peppy Hybrid that Turns Heads       4   \n",
       "4  2013 Acura ILX Hybrid w/ Tech Package       5   \n",
       "\n",
       "                                              Review  \n",
       "0  I love this car.\\r\\nGas mileage, suspension, a...  \n",
       "1  I purchased my 2013 ILX from the dealer used w...  \n",
       "2  I recently purchased a 2013 ILX with the Tech ...  \n",
       "3  We bought our ILX used and have been incredibl...  \n",
       "4  In April of 2015 we were in need of another ca...  "
      ]
     },
     "execution_count": 40,
     "metadata": {},
     "output_type": "execute_result"
    }
   ],
   "source": [
    "df.head()"
   ]
  },
  {
   "cell_type": "code",
   "execution_count": 41,
   "id": "e5ad9bca-ee7f-470a-b95c-119f3ded91e9",
   "metadata": {
    "tags": []
   },
   "outputs": [],
   "source": [
    "df = df[[\"Title\", \"Review\", \"Reviewer\"]]\n",
    "df.columns = [\"review_title\", \"review_description\", \"review_username\"]"
   ]
  },
  {
   "cell_type": "code",
   "execution_count": 42,
   "id": "9a937df5-4f34-4b9d-919c-4e8137d96fec",
   "metadata": {
    "tags": []
   },
   "outputs": [
    {
     "data": {
      "text/plain": [
       "(262923, 3)"
      ]
     },
     "execution_count": 42,
     "metadata": {},
     "output_type": "execute_result"
    }
   ],
   "source": [
    "df.shape"
   ]
  },
  {
   "cell_type": "code",
   "execution_count": 43,
   "id": "97f83868-9070-4c4f-b5cd-b0e723cffcc9",
   "metadata": {
    "tags": []
   },
   "outputs": [],
   "source": [
    "df = df.drop_duplicates()"
   ]
  },
  {
   "cell_type": "code",
   "execution_count": 44,
   "id": "76b2a11b-5e75-4acc-b5b0-9dab3abe5a1d",
   "metadata": {
    "tags": []
   },
   "outputs": [
    {
     "data": {
      "text/plain": [
       "(262917, 3)"
      ]
     },
     "execution_count": 44,
     "metadata": {},
     "output_type": "execute_result"
    }
   ],
   "source": [
    "df.shape"
   ]
  },
  {
   "cell_type": "code",
   "execution_count": 45,
   "id": "4f0a6259-a15a-4c14-8997-65fb1d0441fc",
   "metadata": {
    "tags": []
   },
   "outputs": [],
   "source": [
    "review_dim = pd.concat((review_dim, df)).reset_index(drop=True)"
   ]
  },
  {
   "cell_type": "code",
   "execution_count": 46,
   "id": "fb68aec2-0c44-432e-896a-b39bd3a76792",
   "metadata": {
    "tags": []
   },
   "outputs": [
    {
     "data": {
      "text/plain": [
       "(262917, 3)"
      ]
     },
     "execution_count": 46,
     "metadata": {},
     "output_type": "execute_result"
    }
   ],
   "source": [
    "review_dim.shape"
   ]
  },
  {
   "cell_type": "code",
   "execution_count": 47,
   "id": "669058d5-5e08-49d8-a813-92bcad98ce58",
   "metadata": {
    "tags": []
   },
   "outputs": [],
   "source": [
    "review_dim[\"review_hash\"] = review_dim.review_description.apply(lambda d: int(md5(d.encode()).hexdigest(), 16))"
   ]
  },
  {
   "cell_type": "code",
   "execution_count": 48,
   "id": "0048add4-3370-4db3-88cd-e7cf2f141d3f",
   "metadata": {
    "tags": []
   },
   "outputs": [
    {
     "data": {
      "text/plain": [
       "(262917, 4)"
      ]
     },
     "execution_count": 48,
     "metadata": {},
     "output_type": "execute_result"
    }
   ],
   "source": [
    "review_dim.shape"
   ]
  },
  {
   "cell_type": "code",
   "execution_count": 49,
   "id": "0e8ee695-e6de-4f82-9d03-de7fedd251e0",
   "metadata": {
    "tags": []
   },
   "outputs": [
    {
     "data": {
      "text/plain": [
       "(261452,)"
      ]
     },
     "execution_count": 49,
     "metadata": {},
     "output_type": "execute_result"
    }
   ],
   "source": [
    "review_dim.review_hash.unique().shape"
   ]
  },
  {
   "cell_type": "code",
   "execution_count": 50,
   "id": "d9527517-0fb5-4cd6-860d-8a9968221e6e",
   "metadata": {
    "tags": []
   },
   "outputs": [],
   "source": [
    "review_dim.to_csv(\"data/reviewDim.csv\")"
   ]
  },
  {
   "cell_type": "code",
   "execution_count": null,
   "id": "3e4c557c-8109-4efc-a8bf-bf4a770342df",
   "metadata": {},
   "outputs": [],
   "source": []
  }
 ],
 "metadata": {
  "kernelspec": {
   "display_name": "Python 3 (ipykernel)",
   "language": "python",
   "name": "python3"
  },
  "language_info": {
   "codemirror_mode": {
    "name": "ipython",
    "version": 3
   },
   "file_extension": ".py",
   "mimetype": "text/x-python",
   "name": "python",
   "nbconvert_exporter": "python",
   "pygments_lexer": "ipython3",
   "version": "3.9.7"
  }
 },
 "nbformat": 4,
 "nbformat_minor": 5
}
