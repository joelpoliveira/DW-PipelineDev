{
 "cells": [
  {
   "cell_type": "code",
   "execution_count": 1,
   "id": "2556d31f-8dda-4dbe-a53a-f81c5573c91b",
   "metadata": {
    "tags": []
   },
   "outputs": [],
   "source": [
    "import numpy as np \n",
    "import pandas as pd\n",
    "import matplotlib.pyplot as plt\n",
    "import time\n",
    "\n",
    "from datetime import datetime"
   ]
  },
  {
   "cell_type": "code",
   "execution_count": 2,
   "id": "9ebfd70f-ba99-4ca7-9bf0-337b3c542b5f",
   "metadata": {
    "tags": []
   },
   "outputs": [],
   "source": [
    "cols = [\n",
    "    #\"date_key\",\n",
    "    \"full_description\",\n",
    "    \"year\",\n",
    "    \"month\",\n",
    "    \"written_month\",\n",
    "    \"day\",\n",
    "    \"written_day_of_week\",\n",
    "    \"season\",\n",
    "    \"day_of_week\",\n",
    "    \"week_number_in_year\",\n",
    "    \"weekend_indicator\",\n",
    "    \"month_end_indicator\"\n",
    "]\n",
    "cols = list(map(lambda x: \"date_\" + x, cols))"
   ]
  },
  {
   "cell_type": "code",
   "execution_count": 3,
   "id": "82c43334-27ce-44d6-8b1b-c3a4ef5f19d0",
   "metadata": {
    "tags": []
   },
   "outputs": [],
   "source": [
    "date_dim = pd.DataFrame(columns=cols)"
   ]
  },
  {
   "cell_type": "code",
   "execution_count": 4,
   "id": "4eb8f818-ffe2-497b-a586-36832f126330",
   "metadata": {
    "tags": []
   },
   "outputs": [
    {
     "data": {
      "text/plain": [
       "(0, 11)"
      ]
     },
     "execution_count": 4,
     "metadata": {},
     "output_type": "execute_result"
    }
   ],
   "source": [
    "date_dim.shape"
   ]
  },
  {
   "cell_type": "code",
   "execution_count": 5,
   "id": "2facaee5-3697-474a-989b-3569a1f08a94",
   "metadata": {
    "tags": []
   },
   "outputs": [],
   "source": [
    "PATH = \"../stage_1/data/processedData/\""
   ]
  },
  {
   "cell_type": "code",
   "execution_count": 6,
   "id": "8980ee92-553e-406a-a050-dd789c0109ee",
   "metadata": {
    "tags": []
   },
   "outputs": [],
   "source": [
    "def parse_data(df, date_label, chars=10, fmt=\"%Y-%m-%d\"):\n",
    "    df = df[[date_label]]\n",
    "    print(\"Original shape=\", df.shape)\n",
    "    \n",
    "    df.columns = [\"date_full_description\"]\n",
    "    df[\"date_full_description\"] = df.date_full_description.apply(\n",
    "        lambda x: x[:chars]\n",
    "    )\n",
    "    df = df.drop_duplicates()\n",
    "    \n",
    "    print(\"Distinct shape=\", df.shape)\n",
    "    df[\"date_full_description\"] = df.date_full_description.apply(\n",
    "        lambda d: datetime.strptime(d, fmt)\n",
    "    )\n",
    "    return df\n",
    "    \n",
    "    "
   ]
  },
  {
   "cell_type": "code",
   "execution_count": 7,
   "id": "18406c15-ebcf-4bfe-98fe-f328f7885674",
   "metadata": {
    "tags": []
   },
   "outputs": [],
   "source": [
    "def merge_dfs(df_a, df_b):\n",
    "    return pd.concat((df_a, df_b)).reset_index(drop=True).drop_duplicates()"
   ]
  },
  {
   "cell_type": "markdown",
   "id": "cc93fa23-e699-4665-8bf7-057156c16d1d",
   "metadata": {},
   "source": [
    "- Vehicles"
   ]
  },
  {
   "cell_type": "code",
   "execution_count": 8,
   "id": "2c4f7242-4014-4001-b56e-ae8b24c76fdc",
   "metadata": {
    "tags": []
   },
   "outputs": [
    {
     "data": {
      "text/html": [
       "<div>\n",
       "<style scoped>\n",
       "    .dataframe tbody tr th:only-of-type {\n",
       "        vertical-align: middle;\n",
       "    }\n",
       "\n",
       "    .dataframe tbody tr th {\n",
       "        vertical-align: top;\n",
       "    }\n",
       "\n",
       "    .dataframe thead th {\n",
       "        text-align: right;\n",
       "    }\n",
       "</style>\n",
       "<table border=\"1\" class=\"dataframe\">\n",
       "  <thead>\n",
       "    <tr style=\"text-align: right;\">\n",
       "      <th></th>\n",
       "      <th>id</th>\n",
       "      <th>region</th>\n",
       "      <th>region_url</th>\n",
       "      <th>price</th>\n",
       "      <th>year</th>\n",
       "      <th>manufacturer</th>\n",
       "      <th>model</th>\n",
       "      <th>cylinders</th>\n",
       "      <th>fuel</th>\n",
       "      <th>odometer</th>\n",
       "      <th>title_status</th>\n",
       "      <th>transmission</th>\n",
       "      <th>VIN</th>\n",
       "      <th>drive</th>\n",
       "      <th>type</th>\n",
       "      <th>description</th>\n",
       "      <th>state</th>\n",
       "      <th>lat</th>\n",
       "      <th>long</th>\n",
       "      <th>posting_date</th>\n",
       "    </tr>\n",
       "  </thead>\n",
       "  <tbody>\n",
       "    <tr>\n",
       "      <th>31</th>\n",
       "      <td>7316356412</td>\n",
       "      <td>auburn</td>\n",
       "      <td>https://auburn.craigslist.org</td>\n",
       "      <td>15000</td>\n",
       "      <td>2013.0</td>\n",
       "      <td>ford</td>\n",
       "      <td>f150</td>\n",
       "      <td>6 cylinders</td>\n",
       "      <td>gas</td>\n",
       "      <td>128000.0</td>\n",
       "      <td>clean</td>\n",
       "      <td>automatic</td>\n",
       "      <td>NaN</td>\n",
       "      <td>rwd</td>\n",
       "      <td>truck</td>\n",
       "      <td>2013 F-150 XLT V6 4 Door. Good condition. Leve...</td>\n",
       "      <td>al</td>\n",
       "      <td>32.592</td>\n",
       "      <td>-85.5189</td>\n",
       "      <td>2021-05-03 14:02:03-05:00</td>\n",
       "    </tr>\n",
       "  </tbody>\n",
       "</table>\n",
       "</div>"
      ],
      "text/plain": [
       "            id  region                     region_url  price    year  \\\n",
       "31  7316356412  auburn  https://auburn.craigslist.org  15000  2013.0   \n",
       "\n",
       "   manufacturer model    cylinders fuel  odometer title_status transmission  \\\n",
       "31         ford  f150  6 cylinders  gas  128000.0        clean    automatic   \n",
       "\n",
       "    VIN drive   type                                        description state  \\\n",
       "31  NaN   rwd  truck  2013 F-150 XLT V6 4 Door. Good condition. Leve...    al   \n",
       "\n",
       "       lat     long               posting_date  \n",
       "31  32.592 -85.5189  2021-05-03 14:02:03-05:00  "
      ]
     },
     "execution_count": 8,
     "metadata": {},
     "output_type": "execute_result"
    }
   ],
   "source": [
    "df_vehicles = pd.read_csv(f\"{PATH}/vehicles.csv\", index_col=0)\n",
    "df_vehicles.head(1)"
   ]
  },
  {
   "cell_type": "code",
   "execution_count": 9,
   "id": "ed437063-67a1-446c-a39f-a635cceea29c",
   "metadata": {
    "tags": []
   },
   "outputs": [
    {
     "name": "stdout",
     "output_type": "stream",
     "text": [
      "Original shape= (157431, 1)\n",
      "Distinct shape= (31, 1)\n"
     ]
    },
    {
     "name": "stderr",
     "output_type": "stream",
     "text": [
      "C:\\Users\\joelp\\AppData\\Local\\Temp\\ipykernel_9020\\2930929831.py:6: SettingWithCopyWarning: \n",
      "A value is trying to be set on a copy of a slice from a DataFrame.\n",
      "Try using .loc[row_indexer,col_indexer] = value instead\n",
      "\n",
      "See the caveats in the documentation: https://pandas.pydata.org/pandas-docs/stable/user_guide/indexing.html#returning-a-view-versus-a-copy\n",
      "  df[\"date_full_description\"] = df.date_full_description.apply(\n"
     ]
    }
   ],
   "source": [
    "df_vehicles = parse_data(df_vehicles, \"posting_date\")"
   ]
  },
  {
   "cell_type": "code",
   "execution_count": 10,
   "id": "02f44d1f-c921-4c9c-bfa5-c6dec087ebe5",
   "metadata": {
    "tags": []
   },
   "outputs": [],
   "source": [
    "date_dim = merge_dfs(date_dim, df_vehicles)"
   ]
  },
  {
   "cell_type": "code",
   "execution_count": 11,
   "id": "e3169e47-b38d-4b70-a7e5-9eec95156375",
   "metadata": {
    "tags": []
   },
   "outputs": [
    {
     "data": {
      "text/plain": [
       "(31, 11)"
      ]
     },
     "execution_count": 11,
     "metadata": {},
     "output_type": "execute_result"
    }
   ],
   "source": [
    "date_dim.shape"
   ]
  },
  {
   "cell_type": "markdown",
   "id": "b732cb22-cec0-4c8d-a40b-b197ed1dcded",
   "metadata": {},
   "source": [
    "- Used cars"
   ]
  },
  {
   "cell_type": "code",
   "execution_count": 12,
   "id": "124ea5de-fb09-4f11-bb8a-6efa7f89d214",
   "metadata": {
    "tags": []
   },
   "outputs": [
    {
     "data": {
      "text/html": [
       "<div>\n",
       "<style scoped>\n",
       "    .dataframe tbody tr th:only-of-type {\n",
       "        vertical-align: middle;\n",
       "    }\n",
       "\n",
       "    .dataframe tbody tr th {\n",
       "        vertical-align: top;\n",
       "    }\n",
       "\n",
       "    .dataframe thead th {\n",
       "        text-align: right;\n",
       "    }\n",
       "</style>\n",
       "<table border=\"1\" class=\"dataframe\">\n",
       "  <thead>\n",
       "    <tr style=\"text-align: right;\">\n",
       "      <th></th>\n",
       "      <th>ID</th>\n",
       "      <th>pricesold</th>\n",
       "      <th>yearsold</th>\n",
       "      <th>zipcode</th>\n",
       "      <th>Mileage</th>\n",
       "      <th>Make</th>\n",
       "      <th>Model</th>\n",
       "      <th>Year</th>\n",
       "      <th>Engine</th>\n",
       "      <th>BodyType</th>\n",
       "      <th>NumCylinders</th>\n",
       "      <th>DriveType</th>\n",
       "      <th>datesold</th>\n",
       "      <th>lat</th>\n",
       "      <th>long</th>\n",
       "      <th>state</th>\n",
       "      <th>fuel</th>\n",
       "    </tr>\n",
       "  </thead>\n",
       "  <tbody>\n",
       "    <tr>\n",
       "      <th>0</th>\n",
       "      <td>137178</td>\n",
       "      <td>7500</td>\n",
       "      <td>2020</td>\n",
       "      <td>78611</td>\n",
       "      <td>84430</td>\n",
       "      <td>ford</td>\n",
       "      <td>mustang</td>\n",
       "      <td>1988.0</td>\n",
       "      <td>5.0l gas v8</td>\n",
       "      <td>sedan</td>\n",
       "      <td>8</td>\n",
       "      <td>RWD</td>\n",
       "      <td>2020-03-19 00:00:00</td>\n",
       "      <td>30.767327</td>\n",
       "      <td>-98.30109</td>\n",
       "      <td>tx</td>\n",
       "      <td>gas</td>\n",
       "    </tr>\n",
       "  </tbody>\n",
       "</table>\n",
       "</div>"
      ],
      "text/plain": [
       "       ID  pricesold  yearsold  zipcode  Mileage  Make    Model    Year  \\\n",
       "0  137178       7500      2020    78611    84430  ford  mustang  1988.0   \n",
       "\n",
       "        Engine BodyType  NumCylinders DriveType             datesold  \\\n",
       "0  5.0l gas v8    sedan             8       RWD  2020-03-19 00:00:00   \n",
       "\n",
       "         lat      long state fuel  \n",
       "0  30.767327 -98.30109    tx  gas  "
      ]
     },
     "execution_count": 12,
     "metadata": {},
     "output_type": "execute_result"
    }
   ],
   "source": [
    "df_used_cars = pd.read_csv(f\"{PATH}/used_car_sales.csv\")\n",
    "df_used_cars.head(1)"
   ]
  },
  {
   "cell_type": "code",
   "execution_count": 13,
   "id": "d39ff774-f17a-41f5-9cb3-6a3ad576ee7d",
   "metadata": {
    "tags": []
   },
   "outputs": [
    {
     "name": "stdout",
     "output_type": "stream",
     "text": [
      "Original shape= (72590, 1)\n",
      "Distinct shape= (1040, 1)\n"
     ]
    },
    {
     "name": "stderr",
     "output_type": "stream",
     "text": [
      "C:\\Users\\joelp\\AppData\\Local\\Temp\\ipykernel_9020\\2930929831.py:6: SettingWithCopyWarning: \n",
      "A value is trying to be set on a copy of a slice from a DataFrame.\n",
      "Try using .loc[row_indexer,col_indexer] = value instead\n",
      "\n",
      "See the caveats in the documentation: https://pandas.pydata.org/pandas-docs/stable/user_guide/indexing.html#returning-a-view-versus-a-copy\n",
      "  df[\"date_full_description\"] = df.date_full_description.apply(\n"
     ]
    }
   ],
   "source": [
    "df_used_cars = parse_data(df_used_cars, \"datesold\")"
   ]
  },
  {
   "cell_type": "code",
   "execution_count": 14,
   "id": "ad360847-2f14-48c0-a56e-d32bb53819b5",
   "metadata": {
    "tags": []
   },
   "outputs": [],
   "source": [
    "date_dim = merge_dfs(date_dim, df_used_cars)"
   ]
  },
  {
   "cell_type": "code",
   "execution_count": 15,
   "id": "f96ebe2f-6d0d-47e3-ba60-32d674194581",
   "metadata": {
    "tags": []
   },
   "outputs": [
    {
     "data": {
      "text/plain": [
       "(1071, 11)"
      ]
     },
     "execution_count": 15,
     "metadata": {},
     "output_type": "execute_result"
    }
   ],
   "source": [
    "date_dim.shape"
   ]
  },
  {
   "cell_type": "markdown",
   "id": "56e31d07-ed9a-47ea-b0bb-167eded54f47",
   "metadata": {},
   "source": [
    "- tn_mvr"
   ]
  },
  {
   "cell_type": "code",
   "execution_count": 16,
   "id": "9b30be6b-71ab-4a52-bbb8-382635a62a75",
   "metadata": {
    "tags": []
   },
   "outputs": [
    {
     "data": {
      "text/html": [
       "<div>\n",
       "<style scoped>\n",
       "    .dataframe tbody tr th:only-of-type {\n",
       "        vertical-align: middle;\n",
       "    }\n",
       "\n",
       "    .dataframe tbody tr th {\n",
       "        vertical-align: top;\n",
       "    }\n",
       "\n",
       "    .dataframe thead th {\n",
       "        text-align: right;\n",
       "    }\n",
       "</style>\n",
       "<table border=\"1\" class=\"dataframe\">\n",
       "  <thead>\n",
       "    <tr style=\"text-align: right;\">\n",
       "      <th></th>\n",
       "      <th>vin</th>\n",
       "      <th>price</th>\n",
       "      <th>odometer_type</th>\n",
       "      <th>mileage</th>\n",
       "      <th>county</th>\n",
       "      <th>zip</th>\n",
       "      <th>model_year</th>\n",
       "      <th>make</th>\n",
       "      <th>model</th>\n",
       "      <th>vehicle_type</th>\n",
       "      <th>new_used</th>\n",
       "      <th>title_issue_date</th>\n",
       "      <th>purchase_date</th>\n",
       "      <th>lat</th>\n",
       "      <th>long</th>\n",
       "      <th>state</th>\n",
       "      <th>fuel</th>\n",
       "    </tr>\n",
       "  </thead>\n",
       "  <tbody>\n",
       "    <tr>\n",
       "      <th>1013</th>\n",
       "      <td>137ZA8434TE173571</td>\n",
       "      <td>31000.0</td>\n",
       "      <td>1</td>\n",
       "      <td>0.0</td>\n",
       "      <td>Tipton</td>\n",
       "      <td>38053</td>\n",
       "      <td>1996</td>\n",
       "      <td>am-general</td>\n",
       "      <td>hummer</td>\n",
       "      <td>AUTO</td>\n",
       "      <td>U</td>\n",
       "      <td>2019-01-17</td>\n",
       "      <td>2019-01-04</td>\n",
       "      <td>35.347965</td>\n",
       "      <td>-89.90668</td>\n",
       "      <td>tn</td>\n",
       "      <td>gas</td>\n",
       "    </tr>\n",
       "  </tbody>\n",
       "</table>\n",
       "</div>"
      ],
      "text/plain": [
       "                    vin    price  odometer_type  mileage  county    zip  \\\n",
       "1013  137ZA8434TE173571  31000.0              1      0.0  Tipton  38053   \n",
       "\n",
       "      model_year        make   model vehicle_type new_used title_issue_date  \\\n",
       "1013        1996  am-general  hummer         AUTO        U       2019-01-17   \n",
       "\n",
       "     purchase_date        lat      long state fuel  \n",
       "1013    2019-01-04  35.347965 -89.90668    tn  gas  "
      ]
     },
     "execution_count": 16,
     "metadata": {},
     "output_type": "execute_result"
    }
   ],
   "source": [
    "df_tn = pd.read_csv(f\"{PATH}/tn_mvr.csv\", index_col=0)\n",
    "df_tn.head(1)"
   ]
  },
  {
   "cell_type": "code",
   "execution_count": 17,
   "id": "6f061a00-2e5b-43c2-b931-c9eafb8bf5fb",
   "metadata": {
    "tags": []
   },
   "outputs": [
    {
     "name": "stdout",
     "output_type": "stream",
     "text": [
      "Original shape= (535786, 1)\n",
      "Distinct shape= (3677, 1)\n"
     ]
    },
    {
     "name": "stderr",
     "output_type": "stream",
     "text": [
      "C:\\Users\\joelp\\AppData\\Local\\Temp\\ipykernel_9020\\2930929831.py:6: SettingWithCopyWarning: \n",
      "A value is trying to be set on a copy of a slice from a DataFrame.\n",
      "Try using .loc[row_indexer,col_indexer] = value instead\n",
      "\n",
      "See the caveats in the documentation: https://pandas.pydata.org/pandas-docs/stable/user_guide/indexing.html#returning-a-view-versus-a-copy\n",
      "  df[\"date_full_description\"] = df.date_full_description.apply(\n"
     ]
    }
   ],
   "source": [
    "df_t1 = parse_data(df_tn, \"purchase_date\")"
   ]
  },
  {
   "cell_type": "code",
   "execution_count": 18,
   "id": "46908d6e-7ac0-4ba8-9523-b17ad8aba898",
   "metadata": {
    "tags": []
   },
   "outputs": [
    {
     "name": "stdout",
     "output_type": "stream",
     "text": [
      "Original shape= (535786, 1)\n"
     ]
    },
    {
     "name": "stderr",
     "output_type": "stream",
     "text": [
      "C:\\Users\\joelp\\AppData\\Local\\Temp\\ipykernel_9020\\2930929831.py:6: SettingWithCopyWarning: \n",
      "A value is trying to be set on a copy of a slice from a DataFrame.\n",
      "Try using .loc[row_indexer,col_indexer] = value instead\n",
      "\n",
      "See the caveats in the documentation: https://pandas.pydata.org/pandas-docs/stable/user_guide/indexing.html#returning-a-view-versus-a-copy\n",
      "  df[\"date_full_description\"] = df.date_full_description.apply(\n"
     ]
    },
    {
     "name": "stdout",
     "output_type": "stream",
     "text": [
      "Distinct shape= (1722, 1)\n"
     ]
    }
   ],
   "source": [
    "df_t2 = parse_data(df_tn, \"title_issue_date\")"
   ]
  },
  {
   "cell_type": "code",
   "execution_count": 19,
   "id": "27099c18-0960-4135-96d8-094218792b5c",
   "metadata": {
    "tags": []
   },
   "outputs": [],
   "source": [
    "date_dim = merge_dfs(date_dim, df_t1).drop_duplicates()"
   ]
  },
  {
   "cell_type": "code",
   "execution_count": 20,
   "id": "96790778-ea67-41a9-89a9-4192386cd3ef",
   "metadata": {
    "tags": []
   },
   "outputs": [],
   "source": [
    "date_dim = merge_dfs(date_dim, df_t2).drop_duplicates()"
   ]
  },
  {
   "cell_type": "code",
   "execution_count": 21,
   "id": "4514f41c-036a-4803-a533-d3be09a34c75",
   "metadata": {
    "tags": []
   },
   "outputs": [
    {
     "data": {
      "text/plain": [
       "(3690, 11)"
      ]
     },
     "execution_count": 21,
     "metadata": {},
     "output_type": "execute_result"
    }
   ],
   "source": [
    "date_dim.shape"
   ]
  },
  {
   "cell_type": "markdown",
   "id": "d8723dc4-60c7-49bb-ab5d-4fb07a338d7c",
   "metadata": {},
   "source": [
    "- reviews"
   ]
  },
  {
   "cell_type": "code",
   "execution_count": 22,
   "id": "e01431fe-8a4e-41e0-a920-86ad587092de",
   "metadata": {
    "tags": []
   },
   "outputs": [
    {
     "data": {
      "text/html": [
       "<div>\n",
       "<style scoped>\n",
       "    .dataframe tbody tr th:only-of-type {\n",
       "        vertical-align: middle;\n",
       "    }\n",
       "\n",
       "    .dataframe tbody tr th {\n",
       "        vertical-align: top;\n",
       "    }\n",
       "\n",
       "    .dataframe thead th {\n",
       "        text-align: right;\n",
       "    }\n",
       "</style>\n",
       "<table border=\"1\" class=\"dataframe\">\n",
       "  <thead>\n",
       "    <tr style=\"text-align: right;\">\n",
       "      <th></th>\n",
       "      <th>Company</th>\n",
       "      <th>Model</th>\n",
       "      <th>Year</th>\n",
       "      <th>Reviewer</th>\n",
       "      <th>Date</th>\n",
       "      <th>Title</th>\n",
       "      <th>Rating</th>\n",
       "      <th>Review</th>\n",
       "    </tr>\n",
       "  </thead>\n",
       "  <tbody>\n",
       "    <tr>\n",
       "      <th>0</th>\n",
       "      <td>acura</td>\n",
       "      <td>ilx</td>\n",
       "      <td>2013</td>\n",
       "      <td>mahowald</td>\n",
       "      <td>2012-08-12</td>\n",
       "      <td>Getting 43 Mpg on daily commute</td>\n",
       "      <td>5</td>\n",
       "      <td>I love this car.\\r\\nGas mileage, suspension, a...</td>\n",
       "    </tr>\n",
       "  </tbody>\n",
       "</table>\n",
       "</div>"
      ],
      "text/plain": [
       "  Company Model  Year  Reviewer        Date                            Title  \\\n",
       "0   acura   ilx  2013  mahowald  2012-08-12  Getting 43 Mpg on daily commute   \n",
       "\n",
       "   Rating                                             Review  \n",
       "0       5  I love this car.\\r\\nGas mileage, suspension, a...  "
      ]
     },
     "execution_count": 22,
     "metadata": {},
     "output_type": "execute_result"
    }
   ],
   "source": [
    "df_rev = pd.read_csv(f\"{PATH}/review.csv\", index_col=0)\n",
    "df_rev.head(1)"
   ]
  },
  {
   "cell_type": "code",
   "execution_count": 23,
   "id": "5a28deae-42ff-4213-b616-34309b9a38dc",
   "metadata": {
    "tags": []
   },
   "outputs": [
    {
     "name": "stdout",
     "output_type": "stream",
     "text": [
      "Original shape= (262923, 1)\n",
      "Distinct shape= (6911, 1)\n"
     ]
    },
    {
     "name": "stderr",
     "output_type": "stream",
     "text": [
      "C:\\Users\\joelp\\AppData\\Local\\Temp\\ipykernel_9020\\2930929831.py:6: SettingWithCopyWarning: \n",
      "A value is trying to be set on a copy of a slice from a DataFrame.\n",
      "Try using .loc[row_indexer,col_indexer] = value instead\n",
      "\n",
      "See the caveats in the documentation: https://pandas.pydata.org/pandas-docs/stable/user_guide/indexing.html#returning-a-view-versus-a-copy\n",
      "  df[\"date_full_description\"] = df.date_full_description.apply(\n"
     ]
    }
   ],
   "source": [
    "df_rev = parse_data(df_rev, \"Date\")"
   ]
  },
  {
   "cell_type": "code",
   "execution_count": 24,
   "id": "9124bd54-b93b-4238-b4be-4b726bc85c53",
   "metadata": {
    "tags": []
   },
   "outputs": [],
   "source": [
    "df_rev.dropna(inplace=True)"
   ]
  },
  {
   "cell_type": "code",
   "execution_count": 25,
   "id": "4d6ed54d-c149-4fc9-a393-33d8e9003e66",
   "metadata": {
    "tags": []
   },
   "outputs": [],
   "source": [
    "date_dim = merge_dfs(date_dim, df_rev)"
   ]
  },
  {
   "cell_type": "code",
   "execution_count": 26,
   "id": "ea4adad9-ad10-43e0-b54f-d993c717f586",
   "metadata": {
    "tags": []
   },
   "outputs": [
    {
     "data": {
      "text/plain": [
       "(7695, 11)"
      ]
     },
     "execution_count": 26,
     "metadata": {},
     "output_type": "execute_result"
    }
   ],
   "source": [
    "date_dim.shape"
   ]
  },
  {
   "cell_type": "code",
   "execution_count": 27,
   "id": "d81dd52e-9834-4a68-9b74-fead222bca95",
   "metadata": {
    "tags": []
   },
   "outputs": [],
   "source": [
    "date_dim = date_dim.drop_duplicates()"
   ]
  },
  {
   "cell_type": "code",
   "execution_count": 28,
   "id": "74749ee9-c25d-4eff-9cc0-3a5aac6cda14",
   "metadata": {
    "tags": []
   },
   "outputs": [
    {
     "data": {
      "text/plain": [
       "(7695, 11)"
      ]
     },
     "execution_count": 28,
     "metadata": {},
     "output_type": "execute_result"
    }
   ],
   "source": [
    "date_dim.shape"
   ]
  },
  {
   "cell_type": "markdown",
   "id": "39474024-6fd2-4fca-b43f-8dbd9c83f424",
   "metadata": {},
   "source": [
    "- Infere other fields"
   ]
  },
  {
   "cell_type": "code",
   "execution_count": 29,
   "id": "2588a5d6-7707-45bf-9c38-95b4a44a545c",
   "metadata": {
    "tags": []
   },
   "outputs": [
    {
     "data": {
      "text/html": [
       "<div>\n",
       "<style scoped>\n",
       "    .dataframe tbody tr th:only-of-type {\n",
       "        vertical-align: middle;\n",
       "    }\n",
       "\n",
       "    .dataframe tbody tr th {\n",
       "        vertical-align: top;\n",
       "    }\n",
       "\n",
       "    .dataframe thead th {\n",
       "        text-align: right;\n",
       "    }\n",
       "</style>\n",
       "<table border=\"1\" class=\"dataframe\">\n",
       "  <thead>\n",
       "    <tr style=\"text-align: right;\">\n",
       "      <th></th>\n",
       "      <th>date_full_description</th>\n",
       "      <th>date_year</th>\n",
       "      <th>date_month</th>\n",
       "      <th>date_written_month</th>\n",
       "      <th>date_day</th>\n",
       "      <th>date_written_day_of_week</th>\n",
       "      <th>date_season</th>\n",
       "      <th>date_day_of_week</th>\n",
       "      <th>date_week_number_in_year</th>\n",
       "      <th>date_weekend_indicator</th>\n",
       "      <th>date_month_end_indicator</th>\n",
       "    </tr>\n",
       "  </thead>\n",
       "  <tbody>\n",
       "    <tr>\n",
       "      <th>0</th>\n",
       "      <td>2021-05-03</td>\n",
       "      <td>NaN</td>\n",
       "      <td>NaN</td>\n",
       "      <td>NaN</td>\n",
       "      <td>NaN</td>\n",
       "      <td>NaN</td>\n",
       "      <td>NaN</td>\n",
       "      <td>NaN</td>\n",
       "      <td>NaN</td>\n",
       "      <td>NaN</td>\n",
       "      <td>NaN</td>\n",
       "    </tr>\n",
       "    <tr>\n",
       "      <th>1</th>\n",
       "      <td>2021-05-02</td>\n",
       "      <td>NaN</td>\n",
       "      <td>NaN</td>\n",
       "      <td>NaN</td>\n",
       "      <td>NaN</td>\n",
       "      <td>NaN</td>\n",
       "      <td>NaN</td>\n",
       "      <td>NaN</td>\n",
       "      <td>NaN</td>\n",
       "      <td>NaN</td>\n",
       "      <td>NaN</td>\n",
       "    </tr>\n",
       "    <tr>\n",
       "      <th>2</th>\n",
       "      <td>2021-05-01</td>\n",
       "      <td>NaN</td>\n",
       "      <td>NaN</td>\n",
       "      <td>NaN</td>\n",
       "      <td>NaN</td>\n",
       "      <td>NaN</td>\n",
       "      <td>NaN</td>\n",
       "      <td>NaN</td>\n",
       "      <td>NaN</td>\n",
       "      <td>NaN</td>\n",
       "      <td>NaN</td>\n",
       "    </tr>\n",
       "    <tr>\n",
       "      <th>3</th>\n",
       "      <td>2021-04-29</td>\n",
       "      <td>NaN</td>\n",
       "      <td>NaN</td>\n",
       "      <td>NaN</td>\n",
       "      <td>NaN</td>\n",
       "      <td>NaN</td>\n",
       "      <td>NaN</td>\n",
       "      <td>NaN</td>\n",
       "      <td>NaN</td>\n",
       "      <td>NaN</td>\n",
       "      <td>NaN</td>\n",
       "    </tr>\n",
       "    <tr>\n",
       "      <th>4</th>\n",
       "      <td>2021-04-27</td>\n",
       "      <td>NaN</td>\n",
       "      <td>NaN</td>\n",
       "      <td>NaN</td>\n",
       "      <td>NaN</td>\n",
       "      <td>NaN</td>\n",
       "      <td>NaN</td>\n",
       "      <td>NaN</td>\n",
       "      <td>NaN</td>\n",
       "      <td>NaN</td>\n",
       "      <td>NaN</td>\n",
       "    </tr>\n",
       "  </tbody>\n",
       "</table>\n",
       "</div>"
      ],
      "text/plain": [
       "  date_full_description date_year date_month date_written_month date_day  \\\n",
       "0            2021-05-03       NaN        NaN                NaN      NaN   \n",
       "1            2021-05-02       NaN        NaN                NaN      NaN   \n",
       "2            2021-05-01       NaN        NaN                NaN      NaN   \n",
       "3            2021-04-29       NaN        NaN                NaN      NaN   \n",
       "4            2021-04-27       NaN        NaN                NaN      NaN   \n",
       "\n",
       "  date_written_day_of_week date_season date_day_of_week  \\\n",
       "0                      NaN         NaN              NaN   \n",
       "1                      NaN         NaN              NaN   \n",
       "2                      NaN         NaN              NaN   \n",
       "3                      NaN         NaN              NaN   \n",
       "4                      NaN         NaN              NaN   \n",
       "\n",
       "  date_week_number_in_year date_weekend_indicator date_month_end_indicator  \n",
       "0                      NaN                    NaN                      NaN  \n",
       "1                      NaN                    NaN                      NaN  \n",
       "2                      NaN                    NaN                      NaN  \n",
       "3                      NaN                    NaN                      NaN  \n",
       "4                      NaN                    NaN                      NaN  "
      ]
     },
     "execution_count": 29,
     "metadata": {},
     "output_type": "execute_result"
    }
   ],
   "source": [
    "date_dim.head()"
   ]
  },
  {
   "cell_type": "code",
   "execution_count": 30,
   "id": "50776292-0c7e-4dec-b9e9-34a497e29642",
   "metadata": {
    "tags": []
   },
   "outputs": [],
   "source": [
    "temp = date_dim.loc[0, \"date_full_description\"]"
   ]
  },
  {
   "cell_type": "code",
   "execution_count": 31,
   "id": "64ddefd9-0116-4d73-b1ee-8a6a541a4999",
   "metadata": {
    "tags": []
   },
   "outputs": [],
   "source": [
    "date_dim.date_year=date_dim.date_full_description.apply(lambda d: d.year)\n",
    "date_dim.date_month=date_dim.date_full_description.apply(lambda d: d.month)\n",
    "date_dim.date_day=date_dim.date_full_description.apply(lambda d: d.day)"
   ]
  },
  {
   "cell_type": "code",
   "execution_count": 32,
   "id": "94b2c4e4-4409-413a-9237-c275f80ba124",
   "metadata": {
    "tags": []
   },
   "outputs": [],
   "source": [
    "date_dim.date_weekend_indicator = date_dim.date_full_description.apply(lambda d: d.isoweekday()!=1)"
   ]
  },
  {
   "cell_type": "code",
   "execution_count": 33,
   "id": "ea3b90cf-157c-4d8e-98e3-849428d6f807",
   "metadata": {
    "tags": []
   },
   "outputs": [],
   "source": [
    "date_dim.date_written_month = date_dim.date_full_description.apply(lambda d: d.month_name().lower())"
   ]
  },
  {
   "cell_type": "code",
   "execution_count": 34,
   "id": "568b353c-be21-46ba-bb8a-f1c196eec7fb",
   "metadata": {
    "tags": []
   },
   "outputs": [],
   "source": [
    "date_dim.date_week_number_in_year = date_dim.date_full_description.apply(lambda d: d.weekofyear)"
   ]
  },
  {
   "cell_type": "code",
   "execution_count": 35,
   "id": "302e82c7-2fda-40d7-bed0-f857696f1f9f",
   "metadata": {
    "tags": []
   },
   "outputs": [],
   "source": [
    "date_dim.date_month_end_indicator = date_dim.date_full_description.apply(lambda d: d.is_month_end)"
   ]
  },
  {
   "cell_type": "code",
   "execution_count": 36,
   "id": "780059df-c74d-4e40-8101-f95cdb841289",
   "metadata": {
    "tags": []
   },
   "outputs": [],
   "source": [
    "date_dim.date_day_of_week = date_dim.date_full_description.apply(lambda d: d.weekday())"
   ]
  },
  {
   "cell_type": "code",
   "execution_count": 37,
   "id": "55d74e41-3d78-4286-ab1c-3c4e02a819d2",
   "metadata": {
    "tags": []
   },
   "outputs": [],
   "source": [
    "date_dim.date_written_day_of_week = date_dim.date_full_description.apply(lambda d: d.day_name().lower())"
   ]
  },
  {
   "cell_type": "code",
   "execution_count": 38,
   "id": "dece737f-deb9-4d22-84dd-3aaf95bfc0c5",
   "metadata": {
    "tags": []
   },
   "outputs": [],
   "source": [
    "def get_season(date):\n",
    "    day = date.day_of_year\n",
    "    spring = range(80, 172)\n",
    "    summer = range(172, 264)\n",
    "    fall = range(264, 355)\n",
    "\n",
    "    if day in spring:\n",
    "        return 'spring'\n",
    "    elif day in summer:\n",
    "        return 'summer'\n",
    "    elif day in fall:\n",
    "        return 'fall'\n",
    "    else:\n",
    "        return 'winter'"
   ]
  },
  {
   "cell_type": "code",
   "execution_count": 39,
   "id": "a31732f9-f97a-4552-b7fd-52bfa65e78d6",
   "metadata": {
    "tags": []
   },
   "outputs": [],
   "source": [
    "date_dim.date_season = date_dim.date_full_description.apply(get_season)"
   ]
  },
  {
   "cell_type": "code",
   "execution_count": 40,
   "id": "a0b9c0cd-d3e5-4ef6-891f-90251d5fdd89",
   "metadata": {
    "tags": []
   },
   "outputs": [
    {
     "data": {
      "text/html": [
       "<div>\n",
       "<style scoped>\n",
       "    .dataframe tbody tr th:only-of-type {\n",
       "        vertical-align: middle;\n",
       "    }\n",
       "\n",
       "    .dataframe tbody tr th {\n",
       "        vertical-align: top;\n",
       "    }\n",
       "\n",
       "    .dataframe thead th {\n",
       "        text-align: right;\n",
       "    }\n",
       "</style>\n",
       "<table border=\"1\" class=\"dataframe\">\n",
       "  <thead>\n",
       "    <tr style=\"text-align: right;\">\n",
       "      <th></th>\n",
       "      <th>date_full_description</th>\n",
       "      <th>date_year</th>\n",
       "      <th>date_month</th>\n",
       "      <th>date_written_month</th>\n",
       "      <th>date_day</th>\n",
       "      <th>date_written_day_of_week</th>\n",
       "      <th>date_season</th>\n",
       "      <th>date_day_of_week</th>\n",
       "      <th>date_week_number_in_year</th>\n",
       "      <th>date_weekend_indicator</th>\n",
       "      <th>date_month_end_indicator</th>\n",
       "    </tr>\n",
       "  </thead>\n",
       "  <tbody>\n",
       "    <tr>\n",
       "      <th>0</th>\n",
       "      <td>2021-05-03</td>\n",
       "      <td>2021</td>\n",
       "      <td>5</td>\n",
       "      <td>may</td>\n",
       "      <td>3</td>\n",
       "      <td>monday</td>\n",
       "      <td>spring</td>\n",
       "      <td>0</td>\n",
       "      <td>18</td>\n",
       "      <td>False</td>\n",
       "      <td>False</td>\n",
       "    </tr>\n",
       "    <tr>\n",
       "      <th>1</th>\n",
       "      <td>2021-05-02</td>\n",
       "      <td>2021</td>\n",
       "      <td>5</td>\n",
       "      <td>may</td>\n",
       "      <td>2</td>\n",
       "      <td>sunday</td>\n",
       "      <td>spring</td>\n",
       "      <td>6</td>\n",
       "      <td>17</td>\n",
       "      <td>True</td>\n",
       "      <td>False</td>\n",
       "    </tr>\n",
       "    <tr>\n",
       "      <th>2</th>\n",
       "      <td>2021-05-01</td>\n",
       "      <td>2021</td>\n",
       "      <td>5</td>\n",
       "      <td>may</td>\n",
       "      <td>1</td>\n",
       "      <td>saturday</td>\n",
       "      <td>spring</td>\n",
       "      <td>5</td>\n",
       "      <td>17</td>\n",
       "      <td>True</td>\n",
       "      <td>False</td>\n",
       "    </tr>\n",
       "    <tr>\n",
       "      <th>3</th>\n",
       "      <td>2021-04-29</td>\n",
       "      <td>2021</td>\n",
       "      <td>4</td>\n",
       "      <td>april</td>\n",
       "      <td>29</td>\n",
       "      <td>thursday</td>\n",
       "      <td>spring</td>\n",
       "      <td>3</td>\n",
       "      <td>17</td>\n",
       "      <td>True</td>\n",
       "      <td>False</td>\n",
       "    </tr>\n",
       "    <tr>\n",
       "      <th>4</th>\n",
       "      <td>2021-04-27</td>\n",
       "      <td>2021</td>\n",
       "      <td>4</td>\n",
       "      <td>april</td>\n",
       "      <td>27</td>\n",
       "      <td>tuesday</td>\n",
       "      <td>spring</td>\n",
       "      <td>1</td>\n",
       "      <td>17</td>\n",
       "      <td>True</td>\n",
       "      <td>False</td>\n",
       "    </tr>\n",
       "  </tbody>\n",
       "</table>\n",
       "</div>"
      ],
      "text/plain": [
       "  date_full_description  date_year  date_month date_written_month  date_day  \\\n",
       "0            2021-05-03       2021           5                may         3   \n",
       "1            2021-05-02       2021           5                may         2   \n",
       "2            2021-05-01       2021           5                may         1   \n",
       "3            2021-04-29       2021           4              april        29   \n",
       "4            2021-04-27       2021           4              april        27   \n",
       "\n",
       "  date_written_day_of_week date_season  date_day_of_week  \\\n",
       "0                   monday      spring                 0   \n",
       "1                   sunday      spring                 6   \n",
       "2                 saturday      spring                 5   \n",
       "3                 thursday      spring                 3   \n",
       "4                  tuesday      spring                 1   \n",
       "\n",
       "   date_week_number_in_year  date_weekend_indicator  date_month_end_indicator  \n",
       "0                        18                   False                     False  \n",
       "1                        17                    True                     False  \n",
       "2                        17                    True                     False  \n",
       "3                        17                    True                     False  \n",
       "4                        17                    True                     False  "
      ]
     },
     "execution_count": 40,
     "metadata": {},
     "output_type": "execute_result"
    }
   ],
   "source": [
    "date_dim.head()"
   ]
  },
  {
   "cell_type": "code",
   "execution_count": 41,
   "id": "4e261f86-7dc3-47ce-8db9-dafc0168a522",
   "metadata": {
    "tags": []
   },
   "outputs": [
    {
     "data": {
      "text/plain": [
       "123"
      ]
     },
     "execution_count": 41,
     "metadata": {},
     "output_type": "execute_result"
    }
   ],
   "source": [
    "temp.day_of_year"
   ]
  },
  {
   "cell_type": "code",
   "execution_count": null,
   "id": "b49877ef-e920-46c6-a85e-8ab5cf770ce6",
   "metadata": {},
   "outputs": [],
   "source": [
    "date_dim.fillna(\"Unknown\", inplace=True)"
   ]
  },
  {
   "cell_type": "code",
   "execution_count": 42,
   "id": "855e884e-867b-4919-a3fe-6e6e536f6c8a",
   "metadata": {
    "tags": []
   },
   "outputs": [],
   "source": [
    "date_dim.to_csv(\"data/dateDim.csv\")"
   ]
  },
  {
   "cell_type": "code",
   "execution_count": null,
   "id": "35f1175d-0766-433a-98c6-bdcc09fd8226",
   "metadata": {},
   "outputs": [],
   "source": []
  }
 ],
 "metadata": {
  "kernelspec": {
   "display_name": "Python 3 (ipykernel)",
   "language": "python",
   "name": "python3"
  },
  "language_info": {
   "codemirror_mode": {
    "name": "ipython",
    "version": 3
   },
   "file_extension": ".py",
   "mimetype": "text/x-python",
   "name": "python",
   "nbconvert_exporter": "python",
   "pygments_lexer": "ipython3",
   "version": "3.9.7"
  }
 },
 "nbformat": 4,
 "nbformat_minor": 5
}
