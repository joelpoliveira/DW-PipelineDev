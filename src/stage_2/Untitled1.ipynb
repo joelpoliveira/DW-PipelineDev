{
 "cells": [
  {
   "cell_type": "code",
   "execution_count": 18,
   "id": "06e98f3e-f6df-4e48-bb5e-616c55d33bf2",
   "metadata": {
    "tags": []
   },
   "outputs": [],
   "source": [
    "import numpy as np \n",
    "import pandas as pd\n",
    "import matplotlib.pyplot as plt\n",
    "from tqdm import tqdm\n",
    "from datetime import datetime\n",
    "from util.parsers import *\n",
    "from util.modeling import *"
   ]
  },
  {
   "cell_type": "code",
   "execution_count": 19,
   "id": "27a1a724-9767-452b-85b3-99c25ec3c919",
   "metadata": {
    "tags": []
   },
   "outputs": [],
   "source": [
    "cols = [\n",
    "    \"review_key\",\n",
    "    \"vehicle_key\",\n",
    "    \"date_key\",\n",
    "    \"review_rating\"\n",
    "]"
   ]
  },
  {
   "cell_type": "code",
   "execution_count": 20,
   "id": "0bea290e-9dd1-4c11-9b39-d85d32c99734",
   "metadata": {
    "tags": []
   },
   "outputs": [],
   "source": [
    "review_facts = pd.DataFrame(columns=cols)"
   ]
  },
  {
   "cell_type": "markdown",
   "id": "2e7e8d30-1aaa-4fb3-ba45-c59d2007a6fc",
   "metadata": {},
   "source": [
    "### Get dimensions"
   ]
  },
  {
   "cell_type": "code",
   "execution_count": 55,
   "id": "ef7a6fce-f05f-4e1a-81e5-5f1f24f1beee",
   "metadata": {
    "tags": []
   },
   "outputs": [],
   "source": [
    "date_dim = pd.read_csv(\"data/dateDim.csv\", index_col=0, parse_dates=[\"date_full_description\"])\n",
    "review_dim = pd.read_csv(\"data/reviewDim.csv\", index_col=0)\n",
    "car_dim = pd.read_csv(\"data/vehicleDim.csv\", index_col=0)"
   ]
  },
  {
   "cell_type": "code",
   "execution_count": 61,
   "id": "b5de2383-b639-4619-8b48-5ddf88b7e86f",
   "metadata": {
    "tags": []
   },
   "outputs": [],
   "source": [
    "review_dim[\"review_hash\"] = review_dim.review_hash.apply(int)"
   ]
  },
  {
   "cell_type": "markdown",
   "id": "78374004-3d1b-42d1-8613-f157b1309c13",
   "metadata": {},
   "source": [
    "### Get data to process"
   ]
  },
  {
   "cell_type": "code",
   "execution_count": 5,
   "id": "76070e0f-4f92-443f-b7d9-a4d0d77ac68c",
   "metadata": {
    "tags": []
   },
   "outputs": [],
   "source": [
    "PATH = \"../stage_1/data/processedData/\""
   ]
  },
  {
   "cell_type": "code",
   "execution_count": 6,
   "id": "a8850178-1564-41d7-8e11-e6269c367bee",
   "metadata": {
    "tags": []
   },
   "outputs": [],
   "source": [
    "reviews = pd.read_csv(PATH + \"review.csv\", index_col=0)"
   ]
  },
  {
   "cell_type": "code",
   "execution_count": 7,
   "id": "c5ca139d-2e54-4859-8f69-48e0d93f3afd",
   "metadata": {
    "tags": []
   },
   "outputs": [],
   "source": [
    "reviews[\"Date\"] = reviews.Date.apply(np.datetime64)"
   ]
  },
  {
   "cell_type": "code",
   "execution_count": 8,
   "id": "15b175a0-cb0b-4ffd-9b15-1dd9837bb9fd",
   "metadata": {
    "tags": []
   },
   "outputs": [
    {
     "data": {
      "text/html": [
       "<div>\n",
       "<style scoped>\n",
       "    .dataframe tbody tr th:only-of-type {\n",
       "        vertical-align: middle;\n",
       "    }\n",
       "\n",
       "    .dataframe tbody tr th {\n",
       "        vertical-align: top;\n",
       "    }\n",
       "\n",
       "    .dataframe thead th {\n",
       "        text-align: right;\n",
       "    }\n",
       "</style>\n",
       "<table border=\"1\" class=\"dataframe\">\n",
       "  <thead>\n",
       "    <tr style=\"text-align: right;\">\n",
       "      <th></th>\n",
       "      <th>Company</th>\n",
       "      <th>Model</th>\n",
       "      <th>Year</th>\n",
       "      <th>Reviewer</th>\n",
       "      <th>Date</th>\n",
       "      <th>Title</th>\n",
       "      <th>Rating</th>\n",
       "      <th>Review</th>\n",
       "    </tr>\n",
       "  </thead>\n",
       "  <tbody>\n",
       "    <tr>\n",
       "      <th>0</th>\n",
       "      <td>acura</td>\n",
       "      <td>ilx</td>\n",
       "      <td>2013</td>\n",
       "      <td>mahowald</td>\n",
       "      <td>2012-08-12</td>\n",
       "      <td>Getting 43 Mpg on daily commute</td>\n",
       "      <td>5</td>\n",
       "      <td>I love this car.\\r\\nGas mileage, suspension, a...</td>\n",
       "    </tr>\n",
       "    <tr>\n",
       "      <th>1</th>\n",
       "      <td>acura</td>\n",
       "      <td>ilx</td>\n",
       "      <td>2013</td>\n",
       "      <td>VIP</td>\n",
       "      <td>2016-07-26</td>\n",
       "      <td>New to me ILX</td>\n",
       "      <td>5</td>\n",
       "      <td>I purchased my 2013 ILX from the dealer used w...</td>\n",
       "    </tr>\n",
       "    <tr>\n",
       "      <th>2</th>\n",
       "      <td>acura</td>\n",
       "      <td>ilx</td>\n",
       "      <td>2013</td>\n",
       "      <td>bybchucky</td>\n",
       "      <td>2013-09-14</td>\n",
       "      <td>Excellet Commuter Car</td>\n",
       "      <td>4</td>\n",
       "      <td>I recently purchased a 2013 ILX with the Tech ...</td>\n",
       "    </tr>\n",
       "    <tr>\n",
       "      <th>3</th>\n",
       "      <td>acura</td>\n",
       "      <td>ilx</td>\n",
       "      <td>2013</td>\n",
       "      <td>bayareamom</td>\n",
       "      <td>2015-01-26</td>\n",
       "      <td>Peppy Hybrid that Turns Heads</td>\n",
       "      <td>4</td>\n",
       "      <td>We bought our ILX used and have been incredibl...</td>\n",
       "    </tr>\n",
       "    <tr>\n",
       "      <th>4</th>\n",
       "      <td>acura</td>\n",
       "      <td>ilx</td>\n",
       "      <td>2013</td>\n",
       "      <td>Kerry Olson</td>\n",
       "      <td>2016-03-26</td>\n",
       "      <td>2013 Acura ILX Hybrid w/ Tech Package</td>\n",
       "      <td>5</td>\n",
       "      <td>In April of 2015 we were in need of another ca...</td>\n",
       "    </tr>\n",
       "  </tbody>\n",
       "</table>\n",
       "</div>"
      ],
      "text/plain": [
       "  Company Model  Year     Reviewer       Date  \\\n",
       "0   acura   ilx  2013     mahowald 2012-08-12   \n",
       "1   acura   ilx  2013          VIP 2016-07-26   \n",
       "2   acura   ilx  2013    bybchucky 2013-09-14   \n",
       "3   acura   ilx  2013   bayareamom 2015-01-26   \n",
       "4   acura   ilx  2013  Kerry Olson 2016-03-26   \n",
       "\n",
       "                                   Title  Rating  \\\n",
       "0        Getting 43 Mpg on daily commute       5   \n",
       "1                          New to me ILX       5   \n",
       "2                  Excellet Commuter Car       4   \n",
       "3          Peppy Hybrid that Turns Heads       4   \n",
       "4  2013 Acura ILX Hybrid w/ Tech Package       5   \n",
       "\n",
       "                                              Review  \n",
       "0  I love this car.\\r\\nGas mileage, suspension, a...  \n",
       "1  I purchased my 2013 ILX from the dealer used w...  \n",
       "2  I recently purchased a 2013 ILX with the Tech ...  \n",
       "3  We bought our ILX used and have been incredibl...  \n",
       "4  In April of 2015 we were in need of another ca...  "
      ]
     },
     "execution_count": 8,
     "metadata": {},
     "output_type": "execute_result"
    }
   ],
   "source": [
    "reviews.head()"
   ]
  },
  {
   "cell_type": "code",
   "execution_count": 41,
   "id": "d4f28ccc-8be9-4f12-859f-91522a30b859",
   "metadata": {
    "tags": []
   },
   "outputs": [
    {
     "data": {
      "text/plain": [
       "(262923, 8)"
      ]
     },
     "execution_count": 41,
     "metadata": {},
     "output_type": "execute_result"
    }
   ],
   "source": [
    "reviews.shape"
   ]
  },
  {
   "cell_type": "code",
   "execution_count": 42,
   "id": "f6d91506-a000-40a3-b2d5-7a0532573d2a",
   "metadata": {
    "collapsed": true,
    "jupyter": {
     "outputs_hidden": true
    },
    "tags": []
   },
   "outputs": [
    {
     "name": "stderr",
     "output_type": "stream",
     "text": [
      "  2%|██▌                                                                                                                          | 5512/262923 [00:02<02:15, 1900.03it/s]\n"
     ]
    },
    {
     "ename": "KeyboardInterrupt",
     "evalue": "",
     "output_type": "error",
     "traceback": [
      "\u001b[1;31m---------------------------------------------------------------------------\u001b[0m",
      "\u001b[1;31mKeyboardInterrupt\u001b[0m                         Traceback (most recent call last)",
      "Cell \u001b[1;32mIn [42], line 1\u001b[0m\n\u001b[1;32m----> 1\u001b[0m date_keys \u001b[38;5;241m=\u001b[39m get_date_foreign_key(\n\u001b[0;32m      2\u001b[0m     reviews, \n\u001b[0;32m      3\u001b[0m     date_dim,\n\u001b[0;32m      4\u001b[0m     \u001b[38;5;124m\"\u001b[39m\u001b[38;5;124mDate\u001b[39m\u001b[38;5;124m\"\u001b[39m\n\u001b[0;32m      5\u001b[0m )\n",
      "File \u001b[1;32mD:\\Universidade\\Mestrado\\Semestre2\\IPAI\\DW-PipelineDev\\src\\stage_2\\util\\modeling.py:49\u001b[0m, in \u001b[0;36mget_date_foreign_key\u001b[1;34m(df, date_dim, date_label)\u001b[0m\n\u001b[0;32m     44\u001b[0m \u001b[38;5;28;01mfor\u001b[39;00m row \u001b[38;5;129;01min\u001b[39;00m tqdm(df\u001b[38;5;241m.\u001b[39mindex):\n\u001b[0;32m     45\u001b[0m     date \u001b[38;5;241m=\u001b[39m df\u001b[38;5;241m.\u001b[39mloc[row, date_label] \u001b[38;5;28;01mif\u001b[39;00m date_label\u001b[38;5;241m!=\u001b[39m\u001b[38;5;28;01mNone\u001b[39;00m \u001b[38;5;28;01melse\u001b[39;00m \u001b[38;5;124m\"\u001b[39m\u001b[38;5;124mUnknown\u001b[39m\u001b[38;5;124m\"\u001b[39m\n\u001b[0;32m     47\u001b[0m     keys\u001b[38;5;241m.\u001b[39mappend(    \n\u001b[0;32m     48\u001b[0m         date_dim[ \n\u001b[1;32m---> 49\u001b[0m             (\u001b[43mdate_dim\u001b[49m\u001b[38;5;241;43m.\u001b[39;49m\u001b[43mdate_full_description\u001b[49m\u001b[38;5;241;43m==\u001b[39;49m\u001b[43mdate\u001b[49m)\n\u001b[0;32m     50\u001b[0m         ]\u001b[38;5;241m.\u001b[39mindex[\u001b[38;5;241m0\u001b[39m]\n\u001b[0;32m     51\u001b[0m     )\n\u001b[0;32m     52\u001b[0m \u001b[38;5;28;01mreturn\u001b[39;00m keys\n",
      "File \u001b[1;32m~\\AppData\\Local\\Programs\\Python\\Python39\\lib\\site-packages\\pandas\\core\\ops\\common.py:72\u001b[0m, in \u001b[0;36m_unpack_zerodim_and_defer.<locals>.new_method\u001b[1;34m(self, other)\u001b[0m\n\u001b[0;32m     68\u001b[0m             \u001b[38;5;28;01mreturn\u001b[39;00m \u001b[38;5;28mNotImplemented\u001b[39m\n\u001b[0;32m     70\u001b[0m other \u001b[38;5;241m=\u001b[39m item_from_zerodim(other)\n\u001b[1;32m---> 72\u001b[0m \u001b[38;5;28;01mreturn\u001b[39;00m \u001b[43mmethod\u001b[49m\u001b[43m(\u001b[49m\u001b[38;5;28;43mself\u001b[39;49m\u001b[43m,\u001b[49m\u001b[43m \u001b[49m\u001b[43mother\u001b[49m\u001b[43m)\u001b[49m\n",
      "File \u001b[1;32m~\\AppData\\Local\\Programs\\Python\\Python39\\lib\\site-packages\\pandas\\core\\arraylike.py:42\u001b[0m, in \u001b[0;36mOpsMixin.__eq__\u001b[1;34m(self, other)\u001b[0m\n\u001b[0;32m     40\u001b[0m \u001b[38;5;129m@unpack_zerodim_and_defer\u001b[39m(\u001b[38;5;124m\"\u001b[39m\u001b[38;5;124m__eq__\u001b[39m\u001b[38;5;124m\"\u001b[39m)\n\u001b[0;32m     41\u001b[0m \u001b[38;5;28;01mdef\u001b[39;00m \u001b[38;5;21m__eq__\u001b[39m(\u001b[38;5;28mself\u001b[39m, other):\n\u001b[1;32m---> 42\u001b[0m     \u001b[38;5;28;01mreturn\u001b[39;00m \u001b[38;5;28;43mself\u001b[39;49m\u001b[38;5;241;43m.\u001b[39;49m\u001b[43m_cmp_method\u001b[49m\u001b[43m(\u001b[49m\u001b[43mother\u001b[49m\u001b[43m,\u001b[49m\u001b[43m \u001b[49m\u001b[43moperator\u001b[49m\u001b[38;5;241;43m.\u001b[39;49m\u001b[43meq\u001b[49m\u001b[43m)\u001b[49m\n",
      "File \u001b[1;32m~\\AppData\\Local\\Programs\\Python\\Python39\\lib\\site-packages\\pandas\\core\\series.py:6243\u001b[0m, in \u001b[0;36mSeries._cmp_method\u001b[1;34m(self, other, op)\u001b[0m\n\u001b[0;32m   6240\u001b[0m rvalues \u001b[38;5;241m=\u001b[39m extract_array(other, extract_numpy\u001b[38;5;241m=\u001b[39m\u001b[38;5;28;01mTrue\u001b[39;00m, extract_range\u001b[38;5;241m=\u001b[39m\u001b[38;5;28;01mTrue\u001b[39;00m)\n\u001b[0;32m   6242\u001b[0m \u001b[38;5;28;01mwith\u001b[39;00m np\u001b[38;5;241m.\u001b[39merrstate(\u001b[38;5;28mall\u001b[39m\u001b[38;5;241m=\u001b[39m\u001b[38;5;124m\"\u001b[39m\u001b[38;5;124mignore\u001b[39m\u001b[38;5;124m\"\u001b[39m):\n\u001b[1;32m-> 6243\u001b[0m     res_values \u001b[38;5;241m=\u001b[39m \u001b[43mops\u001b[49m\u001b[38;5;241;43m.\u001b[39;49m\u001b[43mcomparison_op\u001b[49m\u001b[43m(\u001b[49m\u001b[43mlvalues\u001b[49m\u001b[43m,\u001b[49m\u001b[43m \u001b[49m\u001b[43mrvalues\u001b[49m\u001b[43m,\u001b[49m\u001b[43m \u001b[49m\u001b[43mop\u001b[49m\u001b[43m)\u001b[49m\n\u001b[0;32m   6245\u001b[0m \u001b[38;5;28;01mreturn\u001b[39;00m \u001b[38;5;28mself\u001b[39m\u001b[38;5;241m.\u001b[39m_construct_result(res_values, name\u001b[38;5;241m=\u001b[39mres_name)\n",
      "File \u001b[1;32m~\\AppData\\Local\\Programs\\Python\\Python39\\lib\\site-packages\\pandas\\core\\ops\\array_ops.py:273\u001b[0m, in \u001b[0;36mcomparison_op\u001b[1;34m(left, right, op)\u001b[0m\n\u001b[0;32m    264\u001b[0m         \u001b[38;5;28;01mraise\u001b[39;00m \u001b[38;5;167;01mValueError\u001b[39;00m(\n\u001b[0;32m    265\u001b[0m             \u001b[38;5;124m\"\u001b[39m\u001b[38;5;124mLengths must match to compare\u001b[39m\u001b[38;5;124m\"\u001b[39m, lvalues\u001b[38;5;241m.\u001b[39mshape, rvalues\u001b[38;5;241m.\u001b[39mshape\n\u001b[0;32m    266\u001b[0m         )\n\u001b[0;32m    268\u001b[0m \u001b[38;5;28;01mif\u001b[39;00m should_extension_dispatch(lvalues, rvalues) \u001b[38;5;129;01mor\u001b[39;00m (\n\u001b[0;32m    269\u001b[0m     (\u001b[38;5;28misinstance\u001b[39m(rvalues, (Timedelta, BaseOffset, Timestamp)) \u001b[38;5;129;01mor\u001b[39;00m right \u001b[38;5;129;01mis\u001b[39;00m NaT)\n\u001b[0;32m    270\u001b[0m     \u001b[38;5;129;01mand\u001b[39;00m \u001b[38;5;129;01mnot\u001b[39;00m is_object_dtype(lvalues\u001b[38;5;241m.\u001b[39mdtype)\n\u001b[0;32m    271\u001b[0m ):\n\u001b[0;32m    272\u001b[0m     \u001b[38;5;66;03m# Call the method on lvalues\u001b[39;00m\n\u001b[1;32m--> 273\u001b[0m     res_values \u001b[38;5;241m=\u001b[39m \u001b[43mop\u001b[49m\u001b[43m(\u001b[49m\u001b[43mlvalues\u001b[49m\u001b[43m,\u001b[49m\u001b[43m \u001b[49m\u001b[43mrvalues\u001b[49m\u001b[43m)\u001b[49m\n\u001b[0;32m    275\u001b[0m \u001b[38;5;28;01melif\u001b[39;00m is_scalar(rvalues) \u001b[38;5;129;01mand\u001b[39;00m isna(rvalues):  \u001b[38;5;66;03m# TODO: but not pd.NA?\u001b[39;00m\n\u001b[0;32m    276\u001b[0m     \u001b[38;5;66;03m# numpy does not like comparisons vs None\u001b[39;00m\n\u001b[0;32m    277\u001b[0m     \u001b[38;5;28;01mif\u001b[39;00m op \u001b[38;5;129;01mis\u001b[39;00m operator\u001b[38;5;241m.\u001b[39mne:\n",
      "File \u001b[1;32m~\\AppData\\Local\\Programs\\Python\\Python39\\lib\\site-packages\\pandas\\core\\ops\\common.py:72\u001b[0m, in \u001b[0;36m_unpack_zerodim_and_defer.<locals>.new_method\u001b[1;34m(self, other)\u001b[0m\n\u001b[0;32m     68\u001b[0m             \u001b[38;5;28;01mreturn\u001b[39;00m \u001b[38;5;28mNotImplemented\u001b[39m\n\u001b[0;32m     70\u001b[0m other \u001b[38;5;241m=\u001b[39m item_from_zerodim(other)\n\u001b[1;32m---> 72\u001b[0m \u001b[38;5;28;01mreturn\u001b[39;00m \u001b[43mmethod\u001b[49m\u001b[43m(\u001b[49m\u001b[38;5;28;43mself\u001b[39;49m\u001b[43m,\u001b[49m\u001b[43m \u001b[49m\u001b[43mother\u001b[49m\u001b[43m)\u001b[49m\n",
      "File \u001b[1;32m~\\AppData\\Local\\Programs\\Python\\Python39\\lib\\site-packages\\pandas\\core\\arraylike.py:42\u001b[0m, in \u001b[0;36mOpsMixin.__eq__\u001b[1;34m(self, other)\u001b[0m\n\u001b[0;32m     40\u001b[0m \u001b[38;5;129m@unpack_zerodim_and_defer\u001b[39m(\u001b[38;5;124m\"\u001b[39m\u001b[38;5;124m__eq__\u001b[39m\u001b[38;5;124m\"\u001b[39m)\n\u001b[0;32m     41\u001b[0m \u001b[38;5;28;01mdef\u001b[39;00m \u001b[38;5;21m__eq__\u001b[39m(\u001b[38;5;28mself\u001b[39m, other):\n\u001b[1;32m---> 42\u001b[0m     \u001b[38;5;28;01mreturn\u001b[39;00m \u001b[38;5;28;43mself\u001b[39;49m\u001b[38;5;241;43m.\u001b[39;49m\u001b[43m_cmp_method\u001b[49m\u001b[43m(\u001b[49m\u001b[43mother\u001b[49m\u001b[43m,\u001b[49m\u001b[43m \u001b[49m\u001b[43moperator\u001b[49m\u001b[38;5;241;43m.\u001b[39;49m\u001b[43meq\u001b[49m\u001b[43m)\u001b[49m\n",
      "File \u001b[1;32m~\\AppData\\Local\\Programs\\Python\\Python39\\lib\\site-packages\\pandas\\core\\arrays\\datetimelike.py:1089\u001b[0m, in \u001b[0;36mDatetimeLikeArrayMixin._cmp_method\u001b[1;34m(self, other, op)\u001b[0m\n\u001b[0;32m   1087\u001b[0m other_vals \u001b[38;5;241m=\u001b[39m \u001b[38;5;28mself\u001b[39m\u001b[38;5;241m.\u001b[39m_unbox(other)\n\u001b[0;32m   1088\u001b[0m \u001b[38;5;66;03m# GH#37462 comparison on i8 values is almost 2x faster than M8/m8\u001b[39;00m\n\u001b[1;32m-> 1089\u001b[0m result \u001b[38;5;241m=\u001b[39m \u001b[43mop\u001b[49m\u001b[43m(\u001b[49m\u001b[38;5;28;43mself\u001b[39;49m\u001b[38;5;241;43m.\u001b[39;49m\u001b[43m_ndarray\u001b[49m\u001b[38;5;241;43m.\u001b[39;49m\u001b[43mview\u001b[49m\u001b[43m(\u001b[49m\u001b[38;5;124;43m\"\u001b[39;49m\u001b[38;5;124;43mi8\u001b[39;49m\u001b[38;5;124;43m\"\u001b[39;49m\u001b[43m)\u001b[49m\u001b[43m,\u001b[49m\u001b[43m \u001b[49m\u001b[43mother_vals\u001b[49m\u001b[38;5;241;43m.\u001b[39;49m\u001b[43mview\u001b[49m\u001b[43m(\u001b[49m\u001b[38;5;124;43m\"\u001b[39;49m\u001b[38;5;124;43mi8\u001b[39;49m\u001b[38;5;124;43m\"\u001b[39;49m\u001b[43m)\u001b[49m\u001b[43m)\u001b[49m\n\u001b[0;32m   1091\u001b[0m o_mask \u001b[38;5;241m=\u001b[39m isna(other)\n\u001b[0;32m   1092\u001b[0m mask \u001b[38;5;241m=\u001b[39m \u001b[38;5;28mself\u001b[39m\u001b[38;5;241m.\u001b[39m_isnan \u001b[38;5;241m|\u001b[39m o_mask\n",
      "\u001b[1;31mKeyboardInterrupt\u001b[0m: "
     ]
    }
   ],
   "source": [
    "date_keys = get_date_foreign_key(\n",
    "    reviews, \n",
    "    date_dim,\n",
    "    \"Date\"\n",
    ")"
   ]
  },
  {
   "cell_type": "code",
   "execution_count": 47,
   "id": "78eb0174-9efe-4e62-b919-bdbf54dade18",
   "metadata": {
    "tags": []
   },
   "outputs": [
    {
     "data": {
      "text/plain": [
       "159618536159443155471728566704729305870"
      ]
     },
     "execution_count": 47,
     "metadata": {},
     "output_type": "execute_result"
    }
   ],
   "source": [
    "int(md5(\"asd\".encode()).hexdigest(), 16)"
   ]
  },
  {
   "cell_type": "code",
   "execution_count": 40,
   "id": "dc43086b-aa5f-4fa8-a2c4-51649a88d9db",
   "metadata": {
    "tags": []
   },
   "outputs": [
    {
     "name": "stderr",
     "output_type": "stream",
     "text": [
      "100%|████████████████████████████████████████████████████████████████████████████████████████████████████████████████████████████| 262923/262923 [14:12<00:00, 308.52it/s]\n"
     ]
    }
   ],
   "source": [
    "car_key = get_car_foreign_keys(\n",
    "    reviews,\n",
    "    car_dim,\n",
    "    year_label=\"Year\",\n",
    "    model_label=\"Model\",\n",
    "    make_label=\"Company\"\n",
    ")"
   ]
  },
  {
   "cell_type": "code",
   "execution_count": 72,
   "id": "19c74577-e1ba-455a-a566-2b0c31cc15be",
   "metadata": {
    "tags": []
   },
   "outputs": [
    {
     "name": "stderr",
     "output_type": "stream",
     "text": [
      "334it [00:05, 66.32it/s]\n"
     ]
    },
    {
     "ename": "KeyboardInterrupt",
     "evalue": "",
     "output_type": "error",
     "traceback": [
      "\u001b[1;31m---------------------------------------------------------------------------\u001b[0m",
      "\u001b[1;31mKeyboardInterrupt\u001b[0m                         Traceback (most recent call last)",
      "Cell \u001b[1;32mIn [72], line 1\u001b[0m\n\u001b[1;32m----> 1\u001b[0m review_keys \u001b[38;5;241m=\u001b[39m get_review_foreign_key(\n\u001b[0;32m      2\u001b[0m     reviews,\n\u001b[0;32m      3\u001b[0m     review_dim,\n\u001b[0;32m      4\u001b[0m     \u001b[38;5;124m\"\u001b[39m\u001b[38;5;124mReview\u001b[39m\u001b[38;5;124m\"\u001b[39m,\n\u001b[0;32m      5\u001b[0m     \u001b[38;5;124m\"\u001b[39m\u001b[38;5;124mReviewer\u001b[39m\u001b[38;5;124m\"\u001b[39m,\n\u001b[0;32m      6\u001b[0m     \u001b[38;5;124m\"\u001b[39m\u001b[38;5;124mTitle\u001b[39m\u001b[38;5;124m\"\u001b[39m\n\u001b[0;32m      7\u001b[0m )\n",
      "Cell \u001b[1;32mIn [71], line 17\u001b[0m, in \u001b[0;36mget_review_foreign_key\u001b[1;34m(df, review_dim, description_label, username_label, title_label)\u001b[0m\n\u001b[0;32m     14\u001b[0m user \u001b[38;5;241m=\u001b[39m df\u001b[38;5;241m.\u001b[39mloc[row, username_label] \u001b[38;5;28;01mif\u001b[39;00m username_label\u001b[38;5;241m!=\u001b[39m \u001b[38;5;28;01mNone\u001b[39;00m \u001b[38;5;28;01melse\u001b[39;00m \u001b[38;5;124m\"\u001b[39m\u001b[38;5;124mUnknown\u001b[39m\u001b[38;5;124m\"\u001b[39m\n\u001b[0;32m     15\u001b[0m title \u001b[38;5;241m=\u001b[39m df\u001b[38;5;241m.\u001b[39mloc[row, title_label] \u001b[38;5;28;01mif\u001b[39;00m username_label\u001b[38;5;241m!=\u001b[39m\u001b[38;5;28;01mNone\u001b[39;00m \u001b[38;5;28;01melse\u001b[39;00m \u001b[38;5;124m\"\u001b[39m\u001b[38;5;124mUnknown\u001b[39m\u001b[38;5;124m\"\u001b[39m\n\u001b[1;32m---> 17\u001b[0m temp_df \u001b[38;5;241m=\u001b[39m \u001b[43mreview_dim\u001b[49m\u001b[43m[\u001b[49m\n\u001b[0;32m     18\u001b[0m \u001b[43m    \u001b[49m\u001b[43mreview_dim\u001b[49m\u001b[38;5;241;43m.\u001b[39;49m\u001b[43mreview_hash\u001b[49m\u001b[38;5;241;43m==\u001b[39;49m\u001b[43mhash_values\u001b[49m\u001b[43m[\u001b[49m\u001b[43mi\u001b[49m\u001b[43m]\u001b[49m\n\u001b[0;32m     19\u001b[0m \u001b[43m\u001b[49m\u001b[43m]\u001b[49m\n\u001b[0;32m     20\u001b[0m temp_df \u001b[38;5;241m=\u001b[39m temp_df[\n\u001b[0;32m     21\u001b[0m     temp_df\u001b[38;5;241m.\u001b[39mreview_title\u001b[38;5;241m==\u001b[39mtitle\n\u001b[0;32m     22\u001b[0m ]\n\u001b[0;32m     23\u001b[0m temp_df \u001b[38;5;241m=\u001b[39m temp_df[\n\u001b[0;32m     24\u001b[0m     temp_df\u001b[38;5;241m.\u001b[39mreview_username\u001b[38;5;241m==\u001b[39muser\n\u001b[0;32m     25\u001b[0m ]\n",
      "File \u001b[1;32m~\\AppData\\Local\\Programs\\Python\\Python39\\lib\\site-packages\\pandas\\core\\frame.py:3798\u001b[0m, in \u001b[0;36mDataFrame.__getitem__\u001b[1;34m(self, key)\u001b[0m\n\u001b[0;32m   3796\u001b[0m \u001b[38;5;66;03m# Do we have a (boolean) 1d indexer?\u001b[39;00m\n\u001b[0;32m   3797\u001b[0m \u001b[38;5;28;01mif\u001b[39;00m com\u001b[38;5;241m.\u001b[39mis_bool_indexer(key):\n\u001b[1;32m-> 3798\u001b[0m     \u001b[38;5;28;01mreturn\u001b[39;00m \u001b[38;5;28;43mself\u001b[39;49m\u001b[38;5;241;43m.\u001b[39;49m\u001b[43m_getitem_bool_array\u001b[49m\u001b[43m(\u001b[49m\u001b[43mkey\u001b[49m\u001b[43m)\u001b[49m\n\u001b[0;32m   3800\u001b[0m \u001b[38;5;66;03m# We are left with two options: a single key, and a collection of keys,\u001b[39;00m\n\u001b[0;32m   3801\u001b[0m \u001b[38;5;66;03m# We interpret tuples as collections only for non-MultiIndex\u001b[39;00m\n\u001b[0;32m   3802\u001b[0m is_single_key \u001b[38;5;241m=\u001b[39m \u001b[38;5;28misinstance\u001b[39m(key, \u001b[38;5;28mtuple\u001b[39m) \u001b[38;5;129;01mor\u001b[39;00m \u001b[38;5;129;01mnot\u001b[39;00m is_list_like(key)\n",
      "File \u001b[1;32m~\\AppData\\Local\\Programs\\Python\\Python39\\lib\\site-packages\\pandas\\core\\frame.py:3852\u001b[0m, in \u001b[0;36mDataFrame._getitem_bool_array\u001b[1;34m(self, key)\u001b[0m\n\u001b[0;32m   3849\u001b[0m \u001b[38;5;66;03m# check_bool_indexer will throw exception if Series key cannot\u001b[39;00m\n\u001b[0;32m   3850\u001b[0m \u001b[38;5;66;03m# be reindexed to match DataFrame rows\u001b[39;00m\n\u001b[0;32m   3851\u001b[0m key \u001b[38;5;241m=\u001b[39m check_bool_indexer(\u001b[38;5;28mself\u001b[39m\u001b[38;5;241m.\u001b[39mindex, key)\n\u001b[1;32m-> 3852\u001b[0m indexer \u001b[38;5;241m=\u001b[39m \u001b[43mkey\u001b[49m\u001b[38;5;241;43m.\u001b[39;49m\u001b[43mnonzero\u001b[49m\u001b[43m(\u001b[49m\u001b[43m)\u001b[49m[\u001b[38;5;241m0\u001b[39m]\n\u001b[0;32m   3853\u001b[0m \u001b[38;5;28;01mreturn\u001b[39;00m \u001b[38;5;28mself\u001b[39m\u001b[38;5;241m.\u001b[39m_take_with_is_copy(indexer, axis\u001b[38;5;241m=\u001b[39m\u001b[38;5;241m0\u001b[39m)\n",
      "\u001b[1;31mKeyboardInterrupt\u001b[0m: "
     ]
    }
   ],
   "source": [
    "review_keys = get_review_foreign_key(\n",
    "    reviews,\n",
    "    review_dim,\n",
    "    \"Review\",\n",
    "    \"Reviewer\",\n",
    "    \"Title\"\n",
    ")"
   ]
  },
  {
   "cell_type": "code",
   "execution_count": 59,
   "id": "61cff013-bbe2-4a33-817d-3cf464c9f8f1",
   "metadata": {
    "tags": []
   },
   "outputs": [
    {
     "data": {
      "text/plain": [
       "85416213507445856046016537860046552941"
      ]
     },
     "execution_count": 59,
     "metadata": {},
     "output_type": "execute_result"
    }
   ],
   "source": [
    "int(review_dim.iloc[0].review_hash)"
   ]
  },
  {
   "cell_type": "code",
   "execution_count": 54,
   "id": "862ae190-e92d-4797-9440-421133ef65d4",
   "metadata": {
    "tags": []
   },
   "outputs": [
    {
     "data": {
      "text/plain": [
       "85416213507445856046016537860046552941"
      ]
     },
     "execution_count": 54,
     "metadata": {},
     "output_type": "execute_result"
    }
   ],
   "source": [
    "int( md5(reviews.iloc[0].Review.encode() ).hexdigest(), 16)"
   ]
  },
  {
   "cell_type": "code",
   "execution_count": null,
   "id": "ada6d0c2-5bbf-48e9-ad3a-d4349e1c403b",
   "metadata": {},
   "outputs": [],
   "source": []
  },
  {
   "cell_type": "code",
   "execution_count": 52,
   "id": "63d0bbcd-0168-4dca-a1f8-796c8fc3885d",
   "metadata": {
    "tags": []
   },
   "outputs": [
    {
     "data": {
      "text/html": [
       "<div>\n",
       "<style scoped>\n",
       "    .dataframe tbody tr th:only-of-type {\n",
       "        vertical-align: middle;\n",
       "    }\n",
       "\n",
       "    .dataframe tbody tr th {\n",
       "        vertical-align: top;\n",
       "    }\n",
       "\n",
       "    .dataframe thead th {\n",
       "        text-align: right;\n",
       "    }\n",
       "</style>\n",
       "<table border=\"1\" class=\"dataframe\">\n",
       "  <thead>\n",
       "    <tr style=\"text-align: right;\">\n",
       "      <th></th>\n",
       "      <th>vehicle_year</th>\n",
       "      <th>vehicle_age</th>\n",
       "      <th>vehicle_number_cylinders</th>\n",
       "      <th>vehicle_mileage</th>\n",
       "      <th>vehicle_make</th>\n",
       "      <th>vehicle_model</th>\n",
       "      <th>vehicle_engine</th>\n",
       "      <th>vehicle_fuel_type</th>\n",
       "      <th>vehicle_transmission</th>\n",
       "    </tr>\n",
       "    <tr>\n",
       "      <th>vehicle_key</th>\n",
       "      <th></th>\n",
       "      <th></th>\n",
       "      <th></th>\n",
       "      <th></th>\n",
       "      <th></th>\n",
       "      <th></th>\n",
       "      <th></th>\n",
       "      <th></th>\n",
       "      <th></th>\n",
       "    </tr>\n",
       "  </thead>\n",
       "  <tbody>\n",
       "    <tr>\n",
       "      <th>360479</th>\n",
       "      <td>2013.0</td>\n",
       "      <td>10.0</td>\n",
       "      <td>Unknown</td>\n",
       "      <td>Unknown</td>\n",
       "      <td>acura</td>\n",
       "      <td>ilx</td>\n",
       "      <td>Unknown</td>\n",
       "      <td>Unknown</td>\n",
       "      <td>Unknown</td>\n",
       "    </tr>\n",
       "  </tbody>\n",
       "</table>\n",
       "</div>"
      ],
      "text/plain": [
       "             vehicle_year  vehicle_age vehicle_number_cylinders  \\\n",
       "vehicle_key                                                       \n",
       "360479             2013.0         10.0                  Unknown   \n",
       "\n",
       "            vehicle_mileage vehicle_make vehicle_model vehicle_engine  \\\n",
       "vehicle_key                                                             \n",
       "360479              Unknown        acura           ilx        Unknown   \n",
       "\n",
       "            vehicle_fuel_type vehicle_transmission  \n",
       "vehicle_key                                         \n",
       "360479                Unknown              Unknown  "
      ]
     },
     "execution_count": 52,
     "metadata": {},
     "output_type": "execute_result"
    }
   ],
   "source": [
    "car_dim[(car_dim.vehicle_year == 2013) &\n",
    "        (car_dim.vehicle_make == \"acura\") &\n",
    "        (car_dim.vehicle_model == \"ilx\") &\n",
    "        (car_dim.vehicle_mileage == \"Unknown\")\n",
    "]"
   ]
  },
  {
   "cell_type": "code",
   "execution_count": 33,
   "id": "e4afe71e-5992-4af1-a579-f4512e54249c",
   "metadata": {
    "tags": []
   },
   "outputs": [
    {
     "data": {
      "text/plain": [
       "True"
      ]
     },
     "execution_count": 33,
     "metadata": {},
     "output_type": "execute_result"
    }
   ],
   "source": [
    "car_dim.loc[360479].vehicle_mileage==\"Unknown\""
   ]
  },
  {
   "cell_type": "code",
   "execution_count": 71,
   "id": "61f481c1-d299-49e7-bd1c-c1186108919f",
   "metadata": {
    "tags": []
   },
   "outputs": [],
   "source": [
    "def get_review_foreign_key(\n",
    "    df,\n",
    "    review_dim,\n",
    "    description_label=None,\n",
    "    username_label=None,\n",
    "    title_label=None\n",
    "):\n",
    "    keys=[]\n",
    "    if description_label!=None:\n",
    "        hash_values = df[description_label].apply(lambda x: int(md5(x.encode()).hexdigest(), 16))\n",
    "        \n",
    "    for i, row in tqdm(enumerate(df.index)):\n",
    "        descript = df.loc[row, description_label] if description_label!= None else \"Unknown\"\n",
    "        user = df.loc[row, username_label] if username_label!= None else \"Unknown\"\n",
    "        title = df.loc[row, title_label] if username_label!=None else \"Unknown\"\n",
    "        \n",
    "        temp_df = review_dim[\n",
    "            review_dim.review_hash==hash_values[i]\n",
    "        ]\n",
    "        temp_df = temp_df[\n",
    "            temp_df.review_title==title\n",
    "        ]\n",
    "        temp_df = temp_df[\n",
    "            temp_df.review_username==user\n",
    "        ]\n",
    "        keys.append(\n",
    "            temp_df[ \n",
    "                (temp_df.review_description==descript)\n",
    "            ].index[0]\n",
    "        )\n",
    "    return keys"
   ]
  },
  {
   "cell_type": "code",
   "execution_count": null,
   "id": "ea65c7bf-b366-4458-b5fc-ec272d5d69d9",
   "metadata": {},
   "outputs": [],
   "source": []
  }
 ],
 "metadata": {
  "kernelspec": {
   "display_name": "Python 3 (ipykernel)",
   "language": "python",
   "name": "python3"
  },
  "language_info": {
   "codemirror_mode": {
    "name": "ipython",
    "version": 3
   },
   "file_extension": ".py",
   "mimetype": "text/x-python",
   "name": "python",
   "nbconvert_exporter": "python",
   "pygments_lexer": "ipython3",
   "version": "3.9.7"
  }
 },
 "nbformat": 4,
 "nbformat_minor": 5
}
