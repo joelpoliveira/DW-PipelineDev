{
 "cells": [
  {
   "cell_type": "code",
   "execution_count": 1,
   "id": "21376d76-a0d0-4694-bc62-594b6dc879c2",
   "metadata": {
    "tags": []
   },
   "outputs": [],
   "source": [
    "import numpy as np \n",
    "import pandas as pd\n",
    "import matplotlib.pyplot as plt\n",
    "from tqdm import tqdm\n",
    "from util.parsers import *\n",
    "from util.modeling import *"
   ]
  },
  {
   "cell_type": "code",
   "execution_count": 2,
   "id": "a178614b-8edc-469e-bf69-c4642ae66464",
   "metadata": {
    "tags": []
   },
   "outputs": [],
   "source": [
    "cols = [\n",
    "    #key\n",
    "    \"date_posted_key\",\n",
    "    \"date_sold_key\",\n",
    "    \"location_key\",\n",
    "    \"sales_price\",\n",
    "    \"fuel_price\"\n",
    "]"
   ]
  },
  {
   "cell_type": "code",
   "execution_count": 3,
   "id": "407b390d-682c-4168-8e75-684989effa34",
   "metadata": {
    "tags": []
   },
   "outputs": [],
   "source": [
    "sales_facts = pd.DataFrame(columns=cols)"
   ]
  },
  {
   "cell_type": "markdown",
   "id": "3b90757d-e0ef-471d-bb9c-1d1adda9dcf4",
   "metadata": {},
   "source": [
    "### Get Data Dimensions and utils"
   ]
  },
  {
   "cell_type": "code",
   "execution_count": 4,
   "id": "f5a9f6b7-19c8-4f8e-9fd3-9a550bc57a09",
   "metadata": {
    "tags": []
   },
   "outputs": [],
   "source": [
    "PATH = \"../stage_1/data/processedData/\""
   ]
  },
  {
   "cell_type": "code",
   "execution_count": 5,
   "id": "f940cfdc-5368-4a65-9d63-dff1a1bf2f40",
   "metadata": {
    "tags": []
   },
   "outputs": [],
   "source": [
    "#load dimensions\n",
    "car_dim = pd.read_csv(\"data/vehicleDim.csv\", index_col=0)\n",
    "date_dim = pd.read_csv(\"data/dateDim.csv\", index_col=0, parse_dates=[\"date_full_description\"])\n",
    "loc_dim = pd.read_csv(\"data/locationDim.csv\", index_col=0)\n",
    "fuel_prices = pd.read_csv(PATH + \"/fuel_prices.csv\", index_col=0, parse_dates=[\"Start Date\", \"Stop Date\"])"
   ]
  },
  {
   "cell_type": "markdown",
   "id": "7070f5fd-985d-46fe-b354-49f42d315c07",
   "metadata": {},
   "source": [
    "### Generate Sales facts"
   ]
  },
  {
   "cell_type": "code",
   "execution_count": 6,
   "id": "e4f8ab5d-5093-4df4-862a-178820a1b905",
   "metadata": {
    "tags": []
   },
   "outputs": [],
   "source": [
    "def process_table(\n",
    "    df,\n",
    "    mileage_label,\n",
    "    fuel_label,\n",
    "    post_date_label,\n",
    "    sale_date_label,\n",
    "    car_dim_labels,\n",
    "    loc_dim_labels,\n",
    "    date_dim_labels,\n",
    "    post_dim_labels=None\n",
    "):\n",
    "    post_filters=None\n",
    "    df[mileage_label] = df[mileage_label].apply(mileage_to_miles_band)\n",
    "    df[fuel_label] = df[fuel_label].apply(lambda f: fuel_map[f])\n",
    "    \n",
    "    df_ve[sale_date_label] = df_ve[sale_date_label].apply(lambda x: x[:10])\n",
    "    df_ve[sale_date_label] = df_ve[sale_date_label].apply(np.datetime64)\n",
    "    \n",
    "    if post_date_label!=None:\n",
    "        df_ve[post_date_label] = df_ve[post_date_label].apply(lambda x: x[:10])\n",
    "        df_ve[post_date_label] = df_ve[post_date_label].apply(np.datetime64)\n",
    "        post_filters = df_ve[post_dim_labels]\n",
    "        \n",
    "    car_filters = df_ve[car_dim_labels]\n",
    "    loc_filters = df_ve[loc_dim_labels]\n",
    "    date_filters = df_ve[date_dim_labels]\n",
    "    \n",
    "    return car_filters, loc_filters, date_filters, post_filters"
   ]
  },
  {
   "cell_type": "markdown",
   "id": "9b393688-cef4-4d6c-9359-bd2001de4b0c",
   "metadata": {},
   "source": [
    "- Vehicles"
   ]
  },
  {
   "cell_type": "code",
   "execution_count": 7,
   "id": "4833bbb7-faaf-49e2-bf61-b2b5478d495f",
   "metadata": {
    "tags": []
   },
   "outputs": [
    {
     "data": {
      "text/html": [
       "<div>\n",
       "<style scoped>\n",
       "    .dataframe tbody tr th:only-of-type {\n",
       "        vertical-align: middle;\n",
       "    }\n",
       "\n",
       "    .dataframe tbody tr th {\n",
       "        vertical-align: top;\n",
       "    }\n",
       "\n",
       "    .dataframe thead th {\n",
       "        text-align: right;\n",
       "    }\n",
       "</style>\n",
       "<table border=\"1\" class=\"dataframe\">\n",
       "  <thead>\n",
       "    <tr style=\"text-align: right;\">\n",
       "      <th></th>\n",
       "      <th>id</th>\n",
       "      <th>region</th>\n",
       "      <th>region_url</th>\n",
       "      <th>price</th>\n",
       "      <th>year</th>\n",
       "      <th>manufacturer</th>\n",
       "      <th>model</th>\n",
       "      <th>cylinders</th>\n",
       "      <th>fuel</th>\n",
       "      <th>odometer</th>\n",
       "      <th>title_status</th>\n",
       "      <th>transmission</th>\n",
       "      <th>VIN</th>\n",
       "      <th>drive</th>\n",
       "      <th>type</th>\n",
       "      <th>description</th>\n",
       "      <th>state</th>\n",
       "      <th>lat</th>\n",
       "      <th>long</th>\n",
       "      <th>posting_date</th>\n",
       "    </tr>\n",
       "  </thead>\n",
       "  <tbody>\n",
       "    <tr>\n",
       "      <th>31</th>\n",
       "      <td>7316356412</td>\n",
       "      <td>auburn</td>\n",
       "      <td>https://auburn.craigslist.org</td>\n",
       "      <td>15000</td>\n",
       "      <td>2013.0</td>\n",
       "      <td>ford</td>\n",
       "      <td>f150</td>\n",
       "      <td>6 cylinders</td>\n",
       "      <td>gas</td>\n",
       "      <td>128000.0</td>\n",
       "      <td>clean</td>\n",
       "      <td>automatic</td>\n",
       "      <td>NaN</td>\n",
       "      <td>rwd</td>\n",
       "      <td>truck</td>\n",
       "      <td>2013 F-150 XLT V6 4 Door. Good condition. Leve...</td>\n",
       "      <td>al</td>\n",
       "      <td>32.592</td>\n",
       "      <td>-85.5189</td>\n",
       "      <td>2021-05-03 14:02:03-05:00</td>\n",
       "    </tr>\n",
       "  </tbody>\n",
       "</table>\n",
       "</div>"
      ],
      "text/plain": [
       "            id  region                     region_url  price    year  \\\n",
       "31  7316356412  auburn  https://auburn.craigslist.org  15000  2013.0   \n",
       "\n",
       "   manufacturer model    cylinders fuel  odometer title_status transmission  \\\n",
       "31         ford  f150  6 cylinders  gas  128000.0        clean    automatic   \n",
       "\n",
       "    VIN drive   type                                        description state  \\\n",
       "31  NaN   rwd  truck  2013 F-150 XLT V6 4 Door. Good condition. Leve...    al   \n",
       "\n",
       "       lat     long               posting_date  \n",
       "31  32.592 -85.5189  2021-05-03 14:02:03-05:00  "
      ]
     },
     "execution_count": 7,
     "metadata": {},
     "output_type": "execute_result"
    }
   ],
   "source": [
    "df_ve = pd.read_csv(PATH + \"vehicles.csv\", index_col=0)\n",
    "df_ve.head(1)"
   ]
  },
  {
   "cell_type": "code",
   "execution_count": 8,
   "id": "321dc8b4-d786-4960-81a8-c10ff674d808",
   "metadata": {
    "tags": []
   },
   "outputs": [],
   "source": [
    "df_ve.odometer = df_ve.odometer.apply(mileage_to_miles_band)"
   ]
  },
  {
   "cell_type": "code",
   "execution_count": 9,
   "id": "0184e5ab-7fa2-47d2-8635-8b968fc4ba62",
   "metadata": {
    "tags": []
   },
   "outputs": [],
   "source": [
    "df_ve.fuel = df_ve.fuel.apply(lambda f: fuel_map[f])"
   ]
  },
  {
   "cell_type": "code",
   "execution_count": 10,
   "id": "5e5c37d0-f068-440b-8729-f68ccc67d126",
   "metadata": {
    "tags": []
   },
   "outputs": [],
   "source": [
    "df_ve.posting_date = df_ve.posting_date.apply(lambda x: x[:10])\n",
    "df_ve.posting_date = df_ve.posting_date.apply(np.datetime64)"
   ]
  },
  {
   "cell_type": "code",
   "execution_count": 17,
   "id": "625ba788-3b72-4b50-b94b-49233b87ab95",
   "metadata": {
    "tags": []
   },
   "outputs": [],
   "source": [
    "car_filters = df_ve[[\"year\", \"manufacturer\", \"model\", \"odometer\", \"fuel\", \"transmission\", \"cylinders\"]]\n",
    "loc_filters = df_ve[[\"lat\", \"long\", \"state\"]]\n",
    "date_filters = df_ve[[\"posting_date\", \"fuel\"]]"
   ]
  },
  {
   "cell_type": "code",
   "execution_count": 18,
   "id": "0b4a2d2a-24c3-4c65-a16a-dc7a79918e0e",
   "metadata": {
    "tags": []
   },
   "outputs": [
    {
     "data": {
      "text/plain": [
       "year                     2013.0\n",
       "manufacturer               ford\n",
       "model                      f150\n",
       "odometer        [98500, 143400)\n",
       "fuel                        gas\n",
       "transmission          automatic\n",
       "cylinders           6 cylinders\n",
       "Name: 31, dtype: object"
      ]
     },
     "execution_count": 18,
     "metadata": {},
     "output_type": "execute_result"
    }
   ],
   "source": [
    "car_filters.iloc[0]"
   ]
  },
  {
   "cell_type": "code",
   "execution_count": 31,
   "id": "0fdb319a-b286-42e0-87f2-9e0c3952ebf2",
   "metadata": {
    "tags": []
   },
   "outputs": [
    {
     "name": "stderr",
     "output_type": "stream",
     "text": [
      "  1%|▍                                                                          | 1023/157431 [00:03<09:55, 262.84it/s]"
     ]
    },
    {
     "name": "stdout",
     "output_type": "stream",
     "text": [
      "3016\n"
     ]
    },
    {
     "name": "stderr",
     "output_type": "stream",
     "text": [
      "\n"
     ]
    }
   ],
   "source": [
    "vehicle_key = get_car_foreign_keys(\n",
    "    car_filters,\n",
    "    car_dim,\n",
    "    year_label=\"year\",\n",
    "    mileage_label=\"odometer\",\n",
    "    make_label=\"manufacturer\",\n",
    "    model_label=\"model\",\n",
    "    fuel_label=\"fuel\",\n",
    "    cylinders_label=\"cylinders\",\n",
    "    transmission_label=\"transmission\"\n",
    ")"
   ]
  },
  {
   "cell_type": "code",
   "execution_count": 30,
   "id": "6957a958-7ca0-45ef-b176-a9f829c5407e",
   "metadata": {
    "tags": []
   },
   "outputs": [],
   "source": [
    "def get_car_foreign_keys(\n",
    "    df,\n",
    "    car_dim,\n",
    "    year_label=None,\n",
    "    mileage_label=None, \n",
    "    make_label=None,\n",
    "    model_label=None,\n",
    "    fuel_label=None,\n",
    "    cylinders_label=None,\n",
    "    engine_label=None,\n",
    "    transmission_label=None\n",
    "):\n",
    "    keys=[]\n",
    "    for row in tqdm(df.index):\n",
    "        try:\n",
    "            year = df.loc[row, year_label] if year_label!=None else EMPTY_VALUE\n",
    "            mileage = df.loc[row, mileage_label] if mileage_label!=None else EMPTY_VALUE\n",
    "            make = df.loc[row, make_label] if make_label!=None else EMPTY_VALUE\n",
    "            model = df.loc[row, model_label] if model_label!=None else EMPTY_VALUE\n",
    "            fuel = df.loc[row, fuel_label] if fuel_label!=None else EMPTY_VALUE\n",
    "            cyl = df.loc[row, cylinders_label] if cylinders_label!=None else EMPTY_VALUE\n",
    "            eng = df.loc[row, engine_label] if engine_label!=None else EMPTY_VALUE\n",
    "            trans = df.loc[row, transmission_label] if transmission_label!=None else EMPTY_VALUE\n",
    "            \n",
    "            temp_df = car_dim[(car_dim.vehicle_year == year)]\n",
    "            temp_df = temp_df[(temp_df.vehicle_make == make)]\n",
    "            temp_df = temp_df[(temp_df.vehicle_model == model)]\n",
    "            temp_df = temp_df[(temp_df.vehicle_mileage == mileage)]\n",
    "            temp_df = temp_df[temp_df.vehicle_transmission==trans]\n",
    "            temp_df = temp_df[temp_df.vehicle_engine==eng]\n",
    "            temp_df=temp_df[temp_df.vehicle_number_cylinders==cyl]\n",
    "\n",
    "            keys.append(\n",
    "                temp_df[(temp_df.vehicle_fuel_type==fuel)].index[0]\n",
    "            )\n",
    "        except:\n",
    "            print(row)\n",
    "            break\n",
    "    return keys"
   ]
  },
  {
   "cell_type": "code",
   "execution_count": 16,
   "id": "01ea5c0e-b43b-436a-918f-62c4e5d2a75a",
   "metadata": {
    "tags": []
   },
   "outputs": [
    {
     "name": "stderr",
     "output_type": "stream",
     "text": [
      "100%|████████████████████████████████████████████████████████████████████████| 157431/157431 [01:16<00:00, 2047.44it/s]\n"
     ]
    }
   ],
   "source": [
    "date_key = get_date_foreign_key(\n",
    "    date_filters,\n",
    "    date_dim,\n",
    "    \"posting_date\"\n",
    ")"
   ]
  },
  {
   "cell_type": "code",
   "execution_count": 19,
   "id": "fdb8b2d9-0601-4954-8400-1612df6f70e9",
   "metadata": {
    "tags": []
   },
   "outputs": [
    {
     "data": {
      "text/plain": [
       "32.592"
      ]
     },
     "execution_count": 19,
     "metadata": {},
     "output_type": "execute_result"
    }
   ],
   "source": [
    "df_ve.iloc[0][\"lat\"]"
   ]
  },
  {
   "cell_type": "code",
   "execution_count": 21,
   "id": "a4ec9019-641a-423f-87c8-25a20401cd15",
   "metadata": {
    "tags": []
   },
   "outputs": [
    {
     "name": "stderr",
     "output_type": "stream",
     "text": [
      "100%|█████████████████████████████████████████████████████████████████████████| 157431/157431 [09:17<00:00, 282.23it/s]\n"
     ]
    }
   ],
   "source": [
    "loc_key = get_loc_foreign_key(\n",
    "    loc_filters,\n",
    "    loc_dim,\n",
    "    \"lat\",\n",
    "    \"long\",\n",
    "    \"state\",\n",
    ")"
   ]
  },
  {
   "cell_type": "code",
   "execution_count": 65,
   "id": "b8fcddca-7f88-43e0-9181-020ed7dc969e",
   "metadata": {
    "tags": []
   },
   "outputs": [
    {
     "name": "stderr",
     "output_type": "stream",
     "text": [
      "100%|████████████████████████████████████████████████████████████████████████| 157431/157431 [02:10<00:00, 1210.96it/s]\n"
     ]
    }
   ],
   "source": [
    "prices_of_fuel = get_fuel_prices(\n",
    "    date_filters,\n",
    "    fuel_prices,\n",
    "    \"posting_date\",\n",
    "    \"fuel\"\n",
    ")"
   ]
  },
  {
   "cell_type": "code",
   "execution_count": 67,
   "id": "a0e5f0ee-e22a-4884-bd33-4f2c27fe1151",
   "metadata": {
    "tags": []
   },
   "outputs": [],
   "source": [
    "sales_facts = pd.concat(\n",
    "    (sales_facts, get_fact_table(\n",
    "        df=df_ve,\n",
    "        price_label=\"price\", \n",
    "        price_of_fuel=prices_of_fuel, \n",
    "        car_keys=vehicle_key, \n",
    "        date_sold_keys=date_key, \n",
    "        date_post_keys=np.nan,  \n",
    "        location_keys=loc_key))\n",
    ").reset_index(drop=True)"
   ]
  },
  {
   "cell_type": "code",
   "execution_count": 68,
   "id": "4bfca69a-619a-4c42-ac0b-9f59779c630b",
   "metadata": {
    "tags": []
   },
   "outputs": [
    {
     "data": {
      "text/html": [
       "<div>\n",
       "<style scoped>\n",
       "    .dataframe tbody tr th:only-of-type {\n",
       "        vertical-align: middle;\n",
       "    }\n",
       "\n",
       "    .dataframe tbody tr th {\n",
       "        vertical-align: top;\n",
       "    }\n",
       "\n",
       "    .dataframe thead th {\n",
       "        text-align: right;\n",
       "    }\n",
       "</style>\n",
       "<table border=\"1\" class=\"dataframe\">\n",
       "  <thead>\n",
       "    <tr style=\"text-align: right;\">\n",
       "      <th></th>\n",
       "      <th>date_posted_key</th>\n",
       "      <th>date_sold_key</th>\n",
       "      <th>location_key</th>\n",
       "      <th>sales_price</th>\n",
       "      <th>fuel_price</th>\n",
       "      <th>vehicle_key</th>\n",
       "    </tr>\n",
       "  </thead>\n",
       "  <tbody>\n",
       "    <tr>\n",
       "      <th>0</th>\n",
       "      <td>NaN</td>\n",
       "      <td>0</td>\n",
       "      <td>0</td>\n",
       "      <td>15000</td>\n",
       "      <td>2.981</td>\n",
       "      <td>0.0</td>\n",
       "    </tr>\n",
       "    <tr>\n",
       "      <th>1</th>\n",
       "      <td>NaN</td>\n",
       "      <td>0</td>\n",
       "      <td>1</td>\n",
       "      <td>27990</td>\n",
       "      <td>2.981</td>\n",
       "      <td>1.0</td>\n",
       "    </tr>\n",
       "    <tr>\n",
       "      <th>2</th>\n",
       "      <td>NaN</td>\n",
       "      <td>0</td>\n",
       "      <td>1</td>\n",
       "      <td>34590</td>\n",
       "      <td>2.981</td>\n",
       "      <td>2.0</td>\n",
       "    </tr>\n",
       "    <tr>\n",
       "      <th>3</th>\n",
       "      <td>NaN</td>\n",
       "      <td>0</td>\n",
       "      <td>2</td>\n",
       "      <td>35000</td>\n",
       "      <td>2.981</td>\n",
       "      <td>3.0</td>\n",
       "    </tr>\n",
       "    <tr>\n",
       "      <th>4</th>\n",
       "      <td>NaN</td>\n",
       "      <td>0</td>\n",
       "      <td>1</td>\n",
       "      <td>29990</td>\n",
       "      <td>2.981</td>\n",
       "      <td>4.0</td>\n",
       "    </tr>\n",
       "  </tbody>\n",
       "</table>\n",
       "</div>"
      ],
      "text/plain": [
       "  date_posted_key date_sold_key location_key sales_price  fuel_price  \\\n",
       "0             NaN             0            0       15000       2.981   \n",
       "1             NaN             0            1       27990       2.981   \n",
       "2             NaN             0            1       34590       2.981   \n",
       "3             NaN             0            2       35000       2.981   \n",
       "4             NaN             0            1       29990       2.981   \n",
       "\n",
       "   vehicle_key  \n",
       "0          0.0  \n",
       "1          1.0  \n",
       "2          2.0  \n",
       "3          3.0  \n",
       "4          4.0  "
      ]
     },
     "execution_count": 68,
     "metadata": {},
     "output_type": "execute_result"
    }
   ],
   "source": [
    "sales_facts.head()"
   ]
  },
  {
   "cell_type": "markdown",
   "id": "47baef40-212f-42d5-a072-a6e1c0b9ca09",
   "metadata": {},
   "source": [
    "- used cars"
   ]
  },
  {
   "cell_type": "code",
   "execution_count": 69,
   "id": "beb2c028-12ce-4c4b-8dba-2acb4ee22684",
   "metadata": {
    "tags": []
   },
   "outputs": [
    {
     "data": {
      "text/html": [
       "<div>\n",
       "<style scoped>\n",
       "    .dataframe tbody tr th:only-of-type {\n",
       "        vertical-align: middle;\n",
       "    }\n",
       "\n",
       "    .dataframe tbody tr th {\n",
       "        vertical-align: top;\n",
       "    }\n",
       "\n",
       "    .dataframe thead th {\n",
       "        text-align: right;\n",
       "    }\n",
       "</style>\n",
       "<table border=\"1\" class=\"dataframe\">\n",
       "  <thead>\n",
       "    <tr style=\"text-align: right;\">\n",
       "      <th></th>\n",
       "      <th>ID</th>\n",
       "      <th>pricesold</th>\n",
       "      <th>yearsold</th>\n",
       "      <th>zipcode</th>\n",
       "      <th>Mileage</th>\n",
       "      <th>Make</th>\n",
       "      <th>Model</th>\n",
       "      <th>Year</th>\n",
       "      <th>Engine</th>\n",
       "      <th>BodyType</th>\n",
       "      <th>NumCylinders</th>\n",
       "      <th>DriveType</th>\n",
       "      <th>datesold</th>\n",
       "      <th>lat</th>\n",
       "      <th>long</th>\n",
       "      <th>state</th>\n",
       "      <th>fuel</th>\n",
       "    </tr>\n",
       "  </thead>\n",
       "  <tbody>\n",
       "    <tr>\n",
       "      <th>0</th>\n",
       "      <td>137178</td>\n",
       "      <td>7500</td>\n",
       "      <td>2020</td>\n",
       "      <td>78611</td>\n",
       "      <td>84430</td>\n",
       "      <td>ford</td>\n",
       "      <td>mustang</td>\n",
       "      <td>1988.0</td>\n",
       "      <td>5.0l gas v8</td>\n",
       "      <td>sedan</td>\n",
       "      <td>8</td>\n",
       "      <td>RWD</td>\n",
       "      <td>2020-03-19 00:00:00</td>\n",
       "      <td>30.767327</td>\n",
       "      <td>-98.30109</td>\n",
       "      <td>tx</td>\n",
       "      <td>gas</td>\n",
       "    </tr>\n",
       "  </tbody>\n",
       "</table>\n",
       "</div>"
      ],
      "text/plain": [
       "       ID  pricesold  yearsold  zipcode  Mileage  Make    Model    Year  \\\n",
       "0  137178       7500      2020    78611    84430  ford  mustang  1988.0   \n",
       "\n",
       "        Engine BodyType  NumCylinders DriveType             datesold  \\\n",
       "0  5.0l gas v8    sedan             8       RWD  2020-03-19 00:00:00   \n",
       "\n",
       "         lat      long state fuel  \n",
       "0  30.767327 -98.30109    tx  gas  "
      ]
     },
     "execution_count": 69,
     "metadata": {},
     "output_type": "execute_result"
    }
   ],
   "source": [
    "df_ve = pd.read_csv(PATH + \"used_car_sales.csv\")\n",
    "df_ve.head(1)"
   ]
  },
  {
   "cell_type": "code",
   "execution_count": 70,
   "id": "4a06f744-a0bb-4d09-acb5-804b226ec36e",
   "metadata": {
    "tags": []
   },
   "outputs": [],
   "source": [
    "(car_filters,\n",
    " loc_filters,\n",
    " date_filters,\n",
    " _) = process_table(\n",
    "    df_ve,\n",
    "    \"Mileage\",\n",
    "    \"fuel\",\n",
    "    None,\n",
    "    \"datesold\",\n",
    "    [\"Year\", \"Make\", \"Model\", \"Mileage\", \"fuel\"],\n",
    "    [\"lat\", \"long\", \"state\"],\n",
    "    [\"datesold\", \"fuel\"]\n",
    ")"
   ]
  },
  {
   "cell_type": "code",
   "execution_count": 72,
   "id": "2d96e96a-0296-4c30-8d39-2ca718e33c18",
   "metadata": {
    "tags": []
   },
   "outputs": [
    {
     "name": "stderr",
     "output_type": "stream",
     "text": [
      "100%|███████████████████████████████████████████████████████████████████████████| 72590/72590 [03:14<00:00, 373.91it/s]\n"
     ]
    }
   ],
   "source": [
    "vehicle_key = get_car_foreign_keys(\n",
    "    car_filters,\n",
    "    car_dim,\n",
    "    \"Year\",\n",
    "    \"Mileage\",\n",
    "    \"Make\",\n",
    "    \"Model\",\n",
    "    \"fuel\"\n",
    ")"
   ]
  },
  {
   "cell_type": "code",
   "execution_count": 73,
   "id": "1d770633-ce43-401d-a85d-f165a9033a4e",
   "metadata": {
    "tags": []
   },
   "outputs": [
    {
     "name": "stderr",
     "output_type": "stream",
     "text": [
      "100%|██████████████████████████████████████████████████████████████████████████| 72590/72590 [00:36<00:00, 2001.83it/s]\n"
     ]
    }
   ],
   "source": [
    "date_key = get_date_foreign_key(\n",
    "    date_filters,\n",
    "    date_dim,\n",
    "    \"datesold\"\n",
    ")"
   ]
  },
  {
   "cell_type": "code",
   "execution_count": 74,
   "id": "a404b1f9-62a2-4555-8e40-6c9f31f3df86",
   "metadata": {
    "tags": []
   },
   "outputs": [
    {
     "name": "stderr",
     "output_type": "stream",
     "text": [
      "100%|███████████████████████████████████████████████████████████████████████████| 72590/72590 [04:19<00:00, 279.41it/s]\n"
     ]
    }
   ],
   "source": [
    "loc_key = get_loc_foreign_key(\n",
    "    loc_filters,\n",
    "    loc_dim,\n",
    "    \"lat\",\n",
    "    \"long\",\n",
    "    \"state\",\n",
    ")"
   ]
  },
  {
   "cell_type": "code",
   "execution_count": 75,
   "id": "aa2167d3-2c03-4f82-8c21-3d29a2fa7771",
   "metadata": {
    "tags": []
   },
   "outputs": [
    {
     "name": "stderr",
     "output_type": "stream",
     "text": [
      "100%|██████████████████████████████████████████████████████████████████████████| 72590/72590 [00:59<00:00, 1215.78it/s]\n"
     ]
    }
   ],
   "source": [
    "prices_of_fuel = get_fuel_prices(\n",
    "    date_filters,\n",
    "    fuel_prices,\n",
    "    \"datesold\",\n",
    "    \"fuel\"\n",
    ")"
   ]
  },
  {
   "cell_type": "code",
   "execution_count": 76,
   "id": "ad052890-806f-4303-af9c-30e78396ac27",
   "metadata": {
    "tags": []
   },
   "outputs": [],
   "source": [
    "sales_facts = pd.concat(\n",
    "    (sales_facts, get_fact_table(df_ve,\"pricesold\", prices_of_fuel, vehicle_key, date_key, np.nan,  loc_key))\n",
    ").reset_index(drop=True)"
   ]
  },
  {
   "cell_type": "code",
   "execution_count": 78,
   "id": "af3d47a2-d55a-458d-afe9-db05ce09e639",
   "metadata": {
    "tags": []
   },
   "outputs": [
    {
     "data": {
      "text/html": [
       "<div>\n",
       "<style scoped>\n",
       "    .dataframe tbody tr th:only-of-type {\n",
       "        vertical-align: middle;\n",
       "    }\n",
       "\n",
       "    .dataframe tbody tr th {\n",
       "        vertical-align: top;\n",
       "    }\n",
       "\n",
       "    .dataframe thead th {\n",
       "        text-align: right;\n",
       "    }\n",
       "</style>\n",
       "<table border=\"1\" class=\"dataframe\">\n",
       "  <thead>\n",
       "    <tr style=\"text-align: right;\">\n",
       "      <th></th>\n",
       "      <th>date_posted_key</th>\n",
       "      <th>date_sold_key</th>\n",
       "      <th>location_key</th>\n",
       "      <th>sales_price</th>\n",
       "      <th>fuel_price</th>\n",
       "      <th>vehicle_key</th>\n",
       "    </tr>\n",
       "  </thead>\n",
       "  <tbody>\n",
       "    <tr>\n",
       "      <th>0</th>\n",
       "      <td>NaN</td>\n",
       "      <td>0</td>\n",
       "      <td>0</td>\n",
       "      <td>15000</td>\n",
       "      <td>2.981</td>\n",
       "      <td>0.0</td>\n",
       "    </tr>\n",
       "    <tr>\n",
       "      <th>1</th>\n",
       "      <td>NaN</td>\n",
       "      <td>0</td>\n",
       "      <td>1</td>\n",
       "      <td>27990</td>\n",
       "      <td>2.981</td>\n",
       "      <td>1.0</td>\n",
       "    </tr>\n",
       "    <tr>\n",
       "      <th>2</th>\n",
       "      <td>NaN</td>\n",
       "      <td>0</td>\n",
       "      <td>1</td>\n",
       "      <td>34590</td>\n",
       "      <td>2.981</td>\n",
       "      <td>2.0</td>\n",
       "    </tr>\n",
       "    <tr>\n",
       "      <th>3</th>\n",
       "      <td>NaN</td>\n",
       "      <td>0</td>\n",
       "      <td>2</td>\n",
       "      <td>35000</td>\n",
       "      <td>2.981</td>\n",
       "      <td>3.0</td>\n",
       "    </tr>\n",
       "    <tr>\n",
       "      <th>4</th>\n",
       "      <td>NaN</td>\n",
       "      <td>0</td>\n",
       "      <td>1</td>\n",
       "      <td>29990</td>\n",
       "      <td>2.981</td>\n",
       "      <td>4.0</td>\n",
       "    </tr>\n",
       "  </tbody>\n",
       "</table>\n",
       "</div>"
      ],
      "text/plain": [
       "  date_posted_key date_sold_key location_key sales_price  fuel_price  \\\n",
       "0             NaN             0            0       15000       2.981   \n",
       "1             NaN             0            1       27990       2.981   \n",
       "2             NaN             0            1       34590       2.981   \n",
       "3             NaN             0            2       35000       2.981   \n",
       "4             NaN             0            1       29990       2.981   \n",
       "\n",
       "   vehicle_key  \n",
       "0          0.0  \n",
       "1          1.0  \n",
       "2          2.0  \n",
       "3          3.0  \n",
       "4          4.0  "
      ]
     },
     "execution_count": 78,
     "metadata": {},
     "output_type": "execute_result"
    }
   ],
   "source": [
    "sales_facts.head()"
   ]
  },
  {
   "cell_type": "markdown",
   "id": "6f541a2a-34c0-49d7-b3d3-c321a1a7e98b",
   "metadata": {},
   "source": [
    "- tn_mvr"
   ]
  },
  {
   "cell_type": "code",
   "execution_count": 79,
   "id": "ceac23fe-869b-44c7-ba93-32744cb81020",
   "metadata": {
    "tags": []
   },
   "outputs": [
    {
     "data": {
      "text/html": [
       "<div>\n",
       "<style scoped>\n",
       "    .dataframe tbody tr th:only-of-type {\n",
       "        vertical-align: middle;\n",
       "    }\n",
       "\n",
       "    .dataframe tbody tr th {\n",
       "        vertical-align: top;\n",
       "    }\n",
       "\n",
       "    .dataframe thead th {\n",
       "        text-align: right;\n",
       "    }\n",
       "</style>\n",
       "<table border=\"1\" class=\"dataframe\">\n",
       "  <thead>\n",
       "    <tr style=\"text-align: right;\">\n",
       "      <th></th>\n",
       "      <th>vin</th>\n",
       "      <th>price</th>\n",
       "      <th>odometer_type</th>\n",
       "      <th>mileage</th>\n",
       "      <th>county</th>\n",
       "      <th>zip</th>\n",
       "      <th>model_year</th>\n",
       "      <th>make</th>\n",
       "      <th>model</th>\n",
       "      <th>vehicle_type</th>\n",
       "      <th>new_used</th>\n",
       "      <th>title_issue_date</th>\n",
       "      <th>purchase_date</th>\n",
       "      <th>lat</th>\n",
       "      <th>long</th>\n",
       "      <th>state</th>\n",
       "      <th>fuel</th>\n",
       "    </tr>\n",
       "  </thead>\n",
       "  <tbody>\n",
       "    <tr>\n",
       "      <th>1013</th>\n",
       "      <td>137ZA8434TE173571</td>\n",
       "      <td>31000.0</td>\n",
       "      <td>1</td>\n",
       "      <td>0.0</td>\n",
       "      <td>Tipton</td>\n",
       "      <td>38053</td>\n",
       "      <td>1996</td>\n",
       "      <td>am-general</td>\n",
       "      <td>hummer</td>\n",
       "      <td>AUTO</td>\n",
       "      <td>U</td>\n",
       "      <td>2019-01-17</td>\n",
       "      <td>2019-01-04</td>\n",
       "      <td>35.347965</td>\n",
       "      <td>-89.90668</td>\n",
       "      <td>tn</td>\n",
       "      <td>gas</td>\n",
       "    </tr>\n",
       "  </tbody>\n",
       "</table>\n",
       "</div>"
      ],
      "text/plain": [
       "                    vin    price  odometer_type  mileage  county    zip  \\\n",
       "1013  137ZA8434TE173571  31000.0              1      0.0  Tipton  38053   \n",
       "\n",
       "      model_year        make   model vehicle_type new_used title_issue_date  \\\n",
       "1013        1996  am-general  hummer         AUTO        U       2019-01-17   \n",
       "\n",
       "     purchase_date        lat      long state fuel  \n",
       "1013    2019-01-04  35.347965 -89.90668    tn  gas  "
      ]
     },
     "execution_count": 79,
     "metadata": {},
     "output_type": "execute_result"
    }
   ],
   "source": [
    "df_ve = pd.read_csv(PATH + \"tn_mvr.csv\", index_col=0)\n",
    "df_ve.head(1)"
   ]
  },
  {
   "cell_type": "code",
   "execution_count": 80,
   "id": "5f0d9174-f11b-48b6-8b53-15f5c40128dc",
   "metadata": {
    "tags": []
   },
   "outputs": [],
   "source": [
    "(car_filters,\n",
    " loc_filters,\n",
    " date_filters,\n",
    " post_filters) = process_table(\n",
    "    df_ve,\n",
    "    \"mileage\",\n",
    "    \"fuel\",\n",
    "    \"title_issue_date\",\n",
    "    \"purchase_date\",\n",
    "    [\"model_year\", \"make\", \"model\", \"mileage\", \"fuel\"],\n",
    "    [\"lat\", \"long\", \"state\"],\n",
    "    [\"purchase_date\", \"fuel\"],\n",
    "    [\"title_issue_date\"]\n",
    ")"
   ]
  },
  {
   "cell_type": "code",
   "execution_count": 81,
   "id": "f514ae5b-a034-4938-92f3-5e3df375520e",
   "metadata": {
    "tags": []
   },
   "outputs": [
    {
     "name": "stderr",
     "output_type": "stream",
     "text": [
      "100%|█████████████████████████████████████████████████████████████████████████| 535786/535786 [24:52<00:00, 358.93it/s]\n"
     ]
    }
   ],
   "source": [
    "vehicle_key = get_car_foreign_keys(\n",
    "    car_filters,\n",
    "    car_dim,\n",
    "    \"model_year\",\n",
    "    \"mileage\",\n",
    "    \"make\",\n",
    "    \"model\",\n",
    "    \"fuel\"\n",
    ")"
   ]
  },
  {
   "cell_type": "code",
   "execution_count": 82,
   "id": "8b979191-df80-49ce-aca8-462a5450af22",
   "metadata": {
    "tags": []
   },
   "outputs": [
    {
     "name": "stderr",
     "output_type": "stream",
     "text": [
      "100%|████████████████████████████████████████████████████████████████████████| 535786/535786 [04:25<00:00, 2019.69it/s]\n"
     ]
    }
   ],
   "source": [
    "date_key = get_date_foreign_key(\n",
    "    date_filters,\n",
    "    date_dim,\n",
    "    \"purchase_date\"\n",
    ")"
   ]
  },
  {
   "cell_type": "code",
   "execution_count": 101,
   "id": "d641009d-b9c7-4b9b-b0a5-8acf39728594",
   "metadata": {
    "tags": []
   },
   "outputs": [
    {
     "name": "stderr",
     "output_type": "stream",
     "text": [
      "100%|█████████████████████████████████████████████████████████████████████████| 535786/535786 [09:32<00:00, 935.22it/s]\n"
     ]
    }
   ],
   "source": [
    "loc_key = get_loc_foreign_key_np(\n",
    "    loc_filters,\n",
    "    loc_dim,\n",
    "    \"lat\",\n",
    "    \"long\",\n",
    "    \"state\",\n",
    ")"
   ]
  },
  {
   "cell_type": "code",
   "execution_count": 90,
   "id": "fdb67568-2c51-4cbf-a9fe-826d8b7f8099",
   "metadata": {
    "tags": []
   },
   "outputs": [
    {
     "name": "stderr",
     "output_type": "stream",
     "text": [
      "100%|████████████████████████████████████████████████████████████████████████| 535786/535786 [07:29<00:00, 1191.80it/s]\n"
     ]
    }
   ],
   "source": [
    "prices_of_fuel = get_fuel_prices(\n",
    "    date_filters,\n",
    "    fuel_prices,\n",
    "    \"purchase_date\",\n",
    "    \"fuel\"\n",
    ")"
   ]
  },
  {
   "cell_type": "code",
   "execution_count": 91,
   "id": "db958bba-0496-4cb7-8843-af60b76ddda9",
   "metadata": {
    "tags": []
   },
   "outputs": [
    {
     "name": "stderr",
     "output_type": "stream",
     "text": [
      "100%|████████████████████████████████████████████████████████████████████████| 535786/535786 [04:21<00:00, 2046.74it/s]\n"
     ]
    }
   ],
   "source": [
    "post_key = get_date_foreign_key(\n",
    "    post_filters,\n",
    "    date_dim,\n",
    "    \"title_issue_date\"\n",
    ")"
   ]
  },
  {
   "cell_type": "code",
   "execution_count": 114,
   "id": "0c5a6459-66ba-4bf7-9953-a0b5a4e0a794",
   "metadata": {
    "tags": []
   },
   "outputs": [
    {
     "data": {
      "text/plain": [
       "[2.358, 2.639, 2.464, 1.951, 2.954, 4.879, 2.702, 3.495, 2.984, 2.86]"
      ]
     },
     "execution_count": 114,
     "metadata": {},
     "output_type": "execute_result"
    }
   ],
   "source": [
    "prices_of_fuel[:10]"
   ]
  },
  {
   "cell_type": "code",
   "execution_count": 115,
   "id": "ca08cfa5-0182-466c-9593-1ed9bf421aec",
   "metadata": {
    "tags": []
   },
   "outputs": [],
   "source": [
    "sales_facts = pd.concat(\n",
    "    (\n",
    "        sales_facts, \n",
    "         get_fact_table(df_ve, \"price\", prices_of_fuel, vehicle_key, date_key, np.nan, loc_key)\n",
    "    )\n",
    ")"
   ]
  },
  {
   "cell_type": "code",
   "execution_count": 116,
   "id": "079f6e9e-96e0-4441-949e-52c588bbbf6f",
   "metadata": {},
   "outputs": [
    {
     "data": {
      "text/plain": [
       "(765807, 6)"
      ]
     },
     "execution_count": 116,
     "metadata": {},
     "output_type": "execute_result"
    }
   ],
   "source": [
    "sales_facts.shape"
   ]
  },
  {
   "cell_type": "code",
   "execution_count": 117,
   "id": "eae56e8b-56e2-4bb8-b02e-18637f5ee8cf",
   "metadata": {
    "tags": []
   },
   "outputs": [],
   "source": [
    "sales_facts.to_csv(\"data/sales_facts.csv\")"
   ]
  },
  {
   "cell_type": "code",
   "execution_count": null,
   "id": "164d7235-b191-48c6-8808-f85efa648f9e",
   "metadata": {},
   "outputs": [],
   "source": []
  }
 ],
 "metadata": {
  "kernelspec": {
   "display_name": "Python 3 (ipykernel)",
   "language": "python",
   "name": "python3"
  },
  "language_info": {
   "codemirror_mode": {
    "name": "ipython",
    "version": 3
   },
   "file_extension": ".py",
   "mimetype": "text/x-python",
   "name": "python",
   "nbconvert_exporter": "python",
   "pygments_lexer": "ipython3",
   "version": "3.9.7"
  }
 },
 "nbformat": 4,
 "nbformat_minor": 5
}
