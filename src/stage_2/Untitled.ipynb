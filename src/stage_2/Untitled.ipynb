{
 "cells": [
  {
   "cell_type": "code",
   "execution_count": 1,
   "id": "21376d76-a0d0-4694-bc62-594b6dc879c2",
   "metadata": {
    "tags": []
   },
   "outputs": [],
   "source": [
    "import numpy as np \n",
    "import pandas as pd\n",
    "import matplotlib.pyplot as plt\n",
    "from tqdm import tqdm\n",
    "from util.parsers import *"
   ]
  },
  {
   "cell_type": "code",
   "execution_count": 2,
   "id": "a178614b-8edc-469e-bf69-c4642ae66464",
   "metadata": {
    "tags": []
   },
   "outputs": [],
   "source": [
    "cols = [\n",
    "    #key\n",
    "    \"date_posted_key\",\n",
    "    \"date_sold_key\",\n",
    "    \"location_key\",\n",
    "    \"sales_price\",\n",
    "    \"fuel_price\"\n",
    "]"
   ]
  },
  {
   "cell_type": "code",
   "execution_count": 3,
   "id": "407b390d-682c-4168-8e75-684989effa34",
   "metadata": {
    "tags": []
   },
   "outputs": [],
   "source": [
    "sales_facts = pd.DataFrame(columns=cols)"
   ]
  },
  {
   "cell_type": "markdown",
   "id": "3b90757d-e0ef-471d-bb9c-1d1adda9dcf4",
   "metadata": {},
   "source": [
    "### Get Data Dimensions and utils"
   ]
  },
  {
   "cell_type": "code",
   "execution_count": 4,
   "id": "f5a9f6b7-19c8-4f8e-9fd3-9a550bc57a09",
   "metadata": {
    "tags": []
   },
   "outputs": [],
   "source": [
    "PATH = \"../stage_1/data/processedData/\""
   ]
  },
  {
   "cell_type": "code",
   "execution_count": 70,
   "id": "f940cfdc-5368-4a65-9d63-dff1a1bf2f40",
   "metadata": {
    "tags": []
   },
   "outputs": [],
   "source": [
    "#load dimensions\n",
    "car_dim = pd.read_csv(\"data/vehicleDim.csv\", index_col=0)\n",
    "date_dim = pd.read_csv(\"data/dateDim.csv\", index_col=0, parse_dates=[\"date_full_description\"])\n",
    "loc_dim = pd.read_csv(\"data/locationDim.csv\", index_col=0)\n",
    "fuel_prices = pd.read_csv(PATH + \"/fuel_prices.csv\", index_col=0, parse_dates=[\"Start Date\", \"Stop Date\"])"
   ]
  },
  {
   "cell_type": "code",
   "execution_count": 6,
   "id": "e89cfc59-750e-4c1b-a481-26d8e0929189",
   "metadata": {
    "tags": []
   },
   "outputs": [
    {
     "data": {
      "text/html": [
       "<div>\n",
       "<style scoped>\n",
       "    .dataframe tbody tr th:only-of-type {\n",
       "        vertical-align: middle;\n",
       "    }\n",
       "\n",
       "    .dataframe tbody tr th {\n",
       "        vertical-align: top;\n",
       "    }\n",
       "\n",
       "    .dataframe thead th {\n",
       "        text-align: right;\n",
       "    }\n",
       "</style>\n",
       "<table border=\"1\" class=\"dataframe\">\n",
       "  <thead>\n",
       "    <tr style=\"text-align: right;\">\n",
       "      <th></th>\n",
       "      <th>vehicle_year</th>\n",
       "      <th>vehicle_age</th>\n",
       "      <th>vehicle_mileage</th>\n",
       "      <th>vehicle_make</th>\n",
       "      <th>vehicle_model</th>\n",
       "      <th>vehicle_fuel_type</th>\n",
       "    </tr>\n",
       "    <tr>\n",
       "      <th>vehicle_key</th>\n",
       "      <th></th>\n",
       "      <th></th>\n",
       "      <th></th>\n",
       "      <th></th>\n",
       "      <th></th>\n",
       "      <th></th>\n",
       "    </tr>\n",
       "  </thead>\n",
       "  <tbody>\n",
       "    <tr>\n",
       "      <th>0</th>\n",
       "      <td>2013.0</td>\n",
       "      <td>10.0</td>\n",
       "      <td>[98500, 143400)</td>\n",
       "      <td>ford</td>\n",
       "      <td>f150</td>\n",
       "      <td>gas</td>\n",
       "    </tr>\n",
       "    <tr>\n",
       "      <th>1</th>\n",
       "      <td>2012.0</td>\n",
       "      <td>11.0</td>\n",
       "      <td>[60500, 98500)</td>\n",
       "      <td>gmc</td>\n",
       "      <td>sierra 2500</td>\n",
       "      <td>gas</td>\n",
       "    </tr>\n",
       "    <tr>\n",
       "      <th>2</th>\n",
       "      <td>2016.0</td>\n",
       "      <td>7.0</td>\n",
       "      <td>[26000, 60500)</td>\n",
       "      <td>chevrolet</td>\n",
       "      <td>c1500</td>\n",
       "      <td>gas</td>\n",
       "    </tr>\n",
       "    <tr>\n",
       "      <th>3</th>\n",
       "      <td>2019.0</td>\n",
       "      <td>4.0</td>\n",
       "      <td>[26000, 60500)</td>\n",
       "      <td>toyota</td>\n",
       "      <td>tacoma</td>\n",
       "      <td>gas</td>\n",
       "    </tr>\n",
       "    <tr>\n",
       "      <th>4</th>\n",
       "      <td>2016.0</td>\n",
       "      <td>7.0</td>\n",
       "      <td>[0, 26000)</td>\n",
       "      <td>chevrolet</td>\n",
       "      <td>colorado</td>\n",
       "      <td>gas</td>\n",
       "    </tr>\n",
       "  </tbody>\n",
       "</table>\n",
       "</div>"
      ],
      "text/plain": [
       "             vehicle_year  vehicle_age  vehicle_mileage vehicle_make  \\\n",
       "vehicle_key                                                            \n",
       "0                  2013.0         10.0  [98500, 143400)         ford   \n",
       "1                  2012.0         11.0   [60500, 98500)          gmc   \n",
       "2                  2016.0          7.0   [26000, 60500)    chevrolet   \n",
       "3                  2019.0          4.0   [26000, 60500)       toyota   \n",
       "4                  2016.0          7.0       [0, 26000)    chevrolet   \n",
       "\n",
       "            vehicle_model vehicle_fuel_type  \n",
       "vehicle_key                                  \n",
       "0                    f150               gas  \n",
       "1             sierra 2500               gas  \n",
       "2                   c1500               gas  \n",
       "3                  tacoma               gas  \n",
       "4                colorado               gas  "
      ]
     },
     "execution_count": 6,
     "metadata": {},
     "output_type": "execute_result"
    }
   ],
   "source": [
    "car_dim.head()"
   ]
  },
  {
   "cell_type": "code",
   "execution_count": 55,
   "id": "249349bf-19f5-49b4-b27b-f369a82eea03",
   "metadata": {
    "tags": []
   },
   "outputs": [],
   "source": [
    "def get_car_foreign_keys(\n",
    "    df,\n",
    "    year_label,\n",
    "    mileage_label, \n",
    "    make_label,\n",
    "    model_label,\n",
    "    fuel_label,\n",
    "):\n",
    "    keys=[]\n",
    "    for row in tqdm(df.index):\n",
    "        try:\n",
    "            temp_df = car_dim[(car_dim.vehicle_year == df.loc[row, year_label])]\n",
    "            temp_df = temp_df[(temp_df.vehicle_make == df.loc[row, make_label])]\n",
    "            temp_df = temp_df[(temp_df.vehicle_model == df.loc[row, model_label])]\n",
    "            temp_df = temp_df[(temp_df.vehicle_mileage == df.loc[row, mileage_label])]\n",
    "\n",
    "            keys.append(\n",
    "                temp_df[(temp_df.vehicle_fuel_type==df.loc[row, fuel_label])].index[0]\n",
    "            )\n",
    "        except:\n",
    "            print(row)\n",
    "            break\n",
    "    return keys"
   ]
  },
  {
   "cell_type": "code",
   "execution_count": 8,
   "id": "351881e6-0470-4ad4-8c49-43a868f6f389",
   "metadata": {
    "tags": []
   },
   "outputs": [],
   "source": [
    "def get_date_foreign_key(\n",
    "    df,\n",
    "    date_label\n",
    "):\n",
    "    keys=[]\n",
    "    for row in tqdm(df.index):\n",
    "        keys.append(\n",
    "            date_dim[\n",
    "                (date_dim.date_full_description==df.loc[row, date_label])\n",
    "            ].index[0]\n",
    "        )\n",
    "    return keys"
   ]
  },
  {
   "cell_type": "code",
   "execution_count": 38,
   "id": "ddcaab4a-c73d-4008-b04a-79bfac1a919c",
   "metadata": {
    "tags": []
   },
   "outputs": [],
   "source": [
    "def get_loc_foreign_key(\n",
    "    df,\n",
    "    lat_label,\n",
    "    long_label,\n",
    "    state_label\n",
    "):\n",
    "    keys=[]\n",
    "    for row in tqdm(df.index):\n",
    "        item = df.loc[row]\n",
    "        temp_df = loc_dim[(loc_dim.location_state == item[state_label])]\n",
    "        keys.append(\n",
    "            temp_df[\n",
    "                #(loc_dim.location_state == df.loc[row, state_label]) &\n",
    "                (temp_df.location_lat==item[lat_label]) &\n",
    "                (temp_df.location_long==item[long_label])\n",
    "            ].index[0]\n",
    "        )\n",
    "    return keys"
   ]
  },
  {
   "cell_type": "code",
   "execution_count": 10,
   "id": "4008e914-c928-4fed-808d-9d51dd9745b1",
   "metadata": {
    "tags": []
   },
   "outputs": [],
   "source": [
    "def get_fuel_prices(\n",
    "    df,\n",
    "    date_label,\n",
    "    fuel_label,\n",
    "):\n",
    "    prices = []\n",
    "    for row in tqdm(df.index):\n",
    "        price = fuel_prices[\n",
    "            (fuel_prices[\"Start Date\"]<=df.loc[row, date_label]) &\n",
    "            (fuel_prices[\"Stop Date\"]>df.loc[row, date_label])\n",
    "        ]\n",
    "        \n",
    "        if df.loc[row, fuel_label]==\"gas\":\n",
    "            prices.append(\n",
    "                price[\"Gasoline Price\"]\n",
    "            )\n",
    "        elif df.loc[row, fuel_label]==\"diesel\":\n",
    "            prices.append(\n",
    "                price[\"Diesel Price\"]\n",
    "            )\n",
    "        else:\n",
    "            prices.append(0)\n",
    "    return prices"
   ]
  },
  {
   "cell_type": "code",
   "execution_count": 88,
   "id": "5a8c6b98-67a6-4e53-ad45-2e0c9f7d96c9",
   "metadata": {
    "tags": []
   },
   "outputs": [],
   "source": [
    "def get_fact_table(\n",
    "    df,\n",
    "    price_label, \n",
    "    fuel_prices, \n",
    "    car_keys, \n",
    "    date_sold_key, \n",
    "    date_post_keys, \n",
    "    location_keys\n",
    "):\n",
    "    facts = pd.DataFrame(columns =[\"vehicle_key\", \"date_sold_key\", \"location_key\", \"fuel_price\", \"sales_price\", \"date_posted_key\"])\n",
    "    \n",
    "    facts[\"vehicle_key\"] = car_keys\n",
    "    facts[\"location_key\"] = location_keys\n",
    "    facts[\"date_sold_key\"] = date_sold_key\n",
    "    facts[\"sales_price\"] = df[price_label].tolist()\n",
    "    facts[\"fuel_price\"] = fuel_prices\n",
    "    facts[\"date_post_key\"] = date_post_keys\n",
    "    \n",
    "    return facts"
   ]
  },
  {
   "cell_type": "markdown",
   "id": "7070f5fd-985d-46fe-b354-49f42d315c07",
   "metadata": {},
   "source": [
    "### Generate Sales facts"
   ]
  },
  {
   "cell_type": "code",
   "execution_count": 74,
   "id": "e4f8ab5d-5093-4df4-862a-178820a1b905",
   "metadata": {
    "tags": []
   },
   "outputs": [],
   "source": [
    "def process_table(\n",
    "    df,\n",
    "    mileage_label,\n",
    "    fuel_label,\n",
    "    post_date_label,\n",
    "    sale_date_label,\n",
    "    car_dim_labels,\n",
    "    loc_dim_labels,\n",
    "    date_dim_labels,\n",
    "    post_dim_labels=None\n",
    "):\n",
    "    post_filters=None\n",
    "    df[mileage_label] = df[mileage_label].apply(mileage_to_miles_band)\n",
    "    df[fuel_label] = df[fuel_label].apply(lambda f: fuel_map[f])\n",
    "    \n",
    "    df_ve[sale_date_label] = df_ve[sale_date_label].apply(lambda x: x[:10])\n",
    "    df_ve[sale_date_label] = df_ve[sale_date_label].apply(np.datetime64)\n",
    "    \n",
    "    if post_date_label!=None:\n",
    "        df_ve[post_date_label] = df_ve[post_date_label].apply(lambda x: x[:10])\n",
    "        df_ve[post_date_label] = df_ve[post_date_label].apply(np.datetime64)\n",
    "        post_filters = df_ve[post_dim_labels]\n",
    "        \n",
    "    car_filters = df_ve[car_dim_labels]\n",
    "    loc_filters = df_ve[loc_dim_labels]\n",
    "    date_filters = df_ve[date_dim_labels]\n",
    "    \n",
    "    return car_filters, loc_filters, date_filters, post_filters"
   ]
  },
  {
   "cell_type": "markdown",
   "id": "9b393688-cef4-4d6c-9359-bd2001de4b0c",
   "metadata": {},
   "source": [
    "- Vehicles"
   ]
  },
  {
   "cell_type": "code",
   "execution_count": 12,
   "id": "4833bbb7-faaf-49e2-bf61-b2b5478d495f",
   "metadata": {
    "tags": []
   },
   "outputs": [
    {
     "data": {
      "text/html": [
       "<div>\n",
       "<style scoped>\n",
       "    .dataframe tbody tr th:only-of-type {\n",
       "        vertical-align: middle;\n",
       "    }\n",
       "\n",
       "    .dataframe tbody tr th {\n",
       "        vertical-align: top;\n",
       "    }\n",
       "\n",
       "    .dataframe thead th {\n",
       "        text-align: right;\n",
       "    }\n",
       "</style>\n",
       "<table border=\"1\" class=\"dataframe\">\n",
       "  <thead>\n",
       "    <tr style=\"text-align: right;\">\n",
       "      <th></th>\n",
       "      <th>id</th>\n",
       "      <th>region</th>\n",
       "      <th>region_url</th>\n",
       "      <th>price</th>\n",
       "      <th>year</th>\n",
       "      <th>manufacturer</th>\n",
       "      <th>model</th>\n",
       "      <th>cylinders</th>\n",
       "      <th>fuel</th>\n",
       "      <th>odometer</th>\n",
       "      <th>title_status</th>\n",
       "      <th>transmission</th>\n",
       "      <th>VIN</th>\n",
       "      <th>drive</th>\n",
       "      <th>type</th>\n",
       "      <th>description</th>\n",
       "      <th>state</th>\n",
       "      <th>lat</th>\n",
       "      <th>long</th>\n",
       "      <th>posting_date</th>\n",
       "    </tr>\n",
       "  </thead>\n",
       "  <tbody>\n",
       "    <tr>\n",
       "      <th>31</th>\n",
       "      <td>7316356412</td>\n",
       "      <td>auburn</td>\n",
       "      <td>https://auburn.craigslist.org</td>\n",
       "      <td>15000</td>\n",
       "      <td>2013.0</td>\n",
       "      <td>ford</td>\n",
       "      <td>f150</td>\n",
       "      <td>6 cylinders</td>\n",
       "      <td>gas</td>\n",
       "      <td>128000.0</td>\n",
       "      <td>clean</td>\n",
       "      <td>automatic</td>\n",
       "      <td>NaN</td>\n",
       "      <td>rwd</td>\n",
       "      <td>truck</td>\n",
       "      <td>2013 F-150 XLT V6 4 Door. Good condition. Leve...</td>\n",
       "      <td>al</td>\n",
       "      <td>32.592</td>\n",
       "      <td>-85.5189</td>\n",
       "      <td>2021-05-03 14:02:03-05:00</td>\n",
       "    </tr>\n",
       "  </tbody>\n",
       "</table>\n",
       "</div>"
      ],
      "text/plain": [
       "            id  region                     region_url  price    year  \\\n",
       "31  7316356412  auburn  https://auburn.craigslist.org  15000  2013.0   \n",
       "\n",
       "   manufacturer model    cylinders fuel  odometer title_status transmission  \\\n",
       "31         ford  f150  6 cylinders  gas  128000.0        clean    automatic   \n",
       "\n",
       "    VIN drive   type                                        description state  \\\n",
       "31  NaN   rwd  truck  2013 F-150 XLT V6 4 Door. Good condition. Leve...    al   \n",
       "\n",
       "       lat     long               posting_date  \n",
       "31  32.592 -85.5189  2021-05-03 14:02:03-05:00  "
      ]
     },
     "execution_count": 12,
     "metadata": {},
     "output_type": "execute_result"
    }
   ],
   "source": [
    "df_ve = pd.read_csv(PATH + \"vehicles.csv\", index_col=0)\n",
    "df_ve.head(1)"
   ]
  },
  {
   "cell_type": "code",
   "execution_count": 13,
   "id": "321dc8b4-d786-4960-81a8-c10ff674d808",
   "metadata": {
    "tags": []
   },
   "outputs": [],
   "source": [
    "df_ve.odometer = df_ve.odometer.apply(mileage_to_miles_band)"
   ]
  },
  {
   "cell_type": "code",
   "execution_count": 14,
   "id": "0184e5ab-7fa2-47d2-8635-8b968fc4ba62",
   "metadata": {
    "tags": []
   },
   "outputs": [],
   "source": [
    "df_ve.fuel = df_ve.fuel.apply(lambda f: fuel_map[f])"
   ]
  },
  {
   "cell_type": "code",
   "execution_count": 15,
   "id": "5e5c37d0-f068-440b-8729-f68ccc67d126",
   "metadata": {
    "tags": []
   },
   "outputs": [],
   "source": [
    "df_ve.posting_date = df_ve.posting_date.apply(lambda x: x[:10])\n",
    "df_ve.posting_date = df_ve.posting_date.apply(np.datetime64)"
   ]
  },
  {
   "cell_type": "code",
   "execution_count": 16,
   "id": "625ba788-3b72-4b50-b94b-49233b87ab95",
   "metadata": {
    "tags": []
   },
   "outputs": [],
   "source": [
    "car_filters = df_ve[[\"year\", \"manufacturer\", \"model\", \"odometer\", \"fuel\"]]\n",
    "loc_filters = df_ve[[\"lat\", \"long\", \"state\"]]\n",
    "date_filters = df_ve[[\"posting_date\", \"fuel\"]]"
   ]
  },
  {
   "cell_type": "code",
   "execution_count": 17,
   "id": "0b4a2d2a-24c3-4c65-a16a-dc7a79918e0e",
   "metadata": {
    "tags": []
   },
   "outputs": [
    {
     "data": {
      "text/plain": [
       "year                     2013.0\n",
       "manufacturer               ford\n",
       "model                      f150\n",
       "odometer        [98500, 143400)\n",
       "fuel                        gas\n",
       "Name: 31, dtype: object"
      ]
     },
     "execution_count": 17,
     "metadata": {},
     "output_type": "execute_result"
    }
   ],
   "source": [
    "car_filters.iloc[0]"
   ]
  },
  {
   "cell_type": "code",
   "execution_count": 18,
   "id": "0fdb319a-b286-42e0-87f2-9e0c3952ebf2",
   "metadata": {
    "tags": []
   },
   "outputs": [
    {
     "name": "stderr",
     "output_type": "stream",
     "text": [
      "100%|████████████████████████████████████████████████████████████████████████████████████████████████████████████████████████████| 157431/157431 [06:15<00:00, 419.39it/s]\n"
     ]
    }
   ],
   "source": [
    "vehicle_key = get_car_foreign_keys(\n",
    "    car_filters,\n",
    "    car_dim,\n",
    "    \"year\",\n",
    "    \"odometer\",\n",
    "    \"manufacturer\",\n",
    "    \"model\",\n",
    "    \"fuel\"\n",
    ")"
   ]
  },
  {
   "cell_type": "code",
   "execution_count": 23,
   "id": "01ea5c0e-b43b-436a-918f-62c4e5d2a75a",
   "metadata": {
    "tags": []
   },
   "outputs": [
    {
     "name": "stderr",
     "output_type": "stream",
     "text": [
      "100%|███████████████████████████████████████████████████████████████████████████████████████████████████████████████████████████| 157431/157431 [01:27<00:00, 1799.17it/s]\n"
     ]
    }
   ],
   "source": [
    "date_key = get_date_foreign_key(\n",
    "    date_filters,\n",
    "    date_dim,\n",
    "    \"posting_date\"\n",
    ")"
   ]
  },
  {
   "cell_type": "code",
   "execution_count": 39,
   "id": "a4ec9019-641a-423f-87c8-25a20401cd15",
   "metadata": {
    "tags": []
   },
   "outputs": [
    {
     "name": "stderr",
     "output_type": "stream",
     "text": [
      "100%|████████████████████████████████████████████████████████████████████████████████████████████████████████████████████████████| 157431/157431 [11:25<00:00, 229.56it/s]\n"
     ]
    }
   ],
   "source": [
    "loc_key = get_loc_foreign_key(\n",
    "    loc_filters,\n",
    "    location_dim,\n",
    "    \"lat\",\n",
    "    \"long\",\n",
    "    \"state\",\n",
    ")"
   ]
  },
  {
   "cell_type": "code",
   "execution_count": 40,
   "id": "b8fcddca-7f88-43e0-9181-020ed7dc969e",
   "metadata": {
    "tags": []
   },
   "outputs": [
    {
     "name": "stderr",
     "output_type": "stream",
     "text": [
      "100%|████████████████████████████████████████████████████████████████████████████████████████████████████████████████████████████| 157431/157431 [02:52<00:00, 910.52it/s]\n"
     ]
    }
   ],
   "source": [
    "prices_of_fuel = get_fuel_prices(\n",
    "    date_filters,\n",
    "    \"posting_date\",\n",
    "    \"fuel\"\n",
    ")"
   ]
  },
  {
   "cell_type": "code",
   "execution_count": 42,
   "id": "a0e5f0ee-e22a-4884-bd33-4f2c27fe1151",
   "metadata": {
    "tags": []
   },
   "outputs": [],
   "source": [
    "sales_facts = pd.concat(\n",
    "    (sales_facts, get_fact_table(df_ve,\"price\", prices_of_fuel, vehicle_key, date_key, np.nan,  loc_key))\n",
    ").reset_index(drop=True)"
   ]
  },
  {
   "cell_type": "code",
   "execution_count": 43,
   "id": "4bfca69a-619a-4c42-ac0b-9f59779c630b",
   "metadata": {
    "tags": []
   },
   "outputs": [
    {
     "data": {
      "text/html": [
       "<div>\n",
       "<style scoped>\n",
       "    .dataframe tbody tr th:only-of-type {\n",
       "        vertical-align: middle;\n",
       "    }\n",
       "\n",
       "    .dataframe tbody tr th {\n",
       "        vertical-align: top;\n",
       "    }\n",
       "\n",
       "    .dataframe thead th {\n",
       "        text-align: right;\n",
       "    }\n",
       "</style>\n",
       "<table border=\"1\" class=\"dataframe\">\n",
       "  <thead>\n",
       "    <tr style=\"text-align: right;\">\n",
       "      <th></th>\n",
       "      <th>date_posted_key</th>\n",
       "      <th>date_sold_key</th>\n",
       "      <th>location_key</th>\n",
       "      <th>sales_price</th>\n",
       "      <th>fuel_price</th>\n",
       "      <th>vehicle_key</th>\n",
       "      <th>date_post_key</th>\n",
       "    </tr>\n",
       "  </thead>\n",
       "  <tbody>\n",
       "    <tr>\n",
       "      <th>0</th>\n",
       "      <td>NaN</td>\n",
       "      <td>0</td>\n",
       "      <td>0</td>\n",
       "      <td>15000</td>\n",
       "      <td>1602    2.981\n",
       "Name: Gasoline Price, dtype: flo...</td>\n",
       "      <td>0.0</td>\n",
       "      <td>NaN</td>\n",
       "    </tr>\n",
       "    <tr>\n",
       "      <th>1</th>\n",
       "      <td>NaN</td>\n",
       "      <td>0</td>\n",
       "      <td>1</td>\n",
       "      <td>27990</td>\n",
       "      <td>1602    2.981\n",
       "Name: Gasoline Price, dtype: flo...</td>\n",
       "      <td>1.0</td>\n",
       "      <td>NaN</td>\n",
       "    </tr>\n",
       "    <tr>\n",
       "      <th>2</th>\n",
       "      <td>NaN</td>\n",
       "      <td>0</td>\n",
       "      <td>1</td>\n",
       "      <td>34590</td>\n",
       "      <td>1602    2.981\n",
       "Name: Gasoline Price, dtype: flo...</td>\n",
       "      <td>2.0</td>\n",
       "      <td>NaN</td>\n",
       "    </tr>\n",
       "    <tr>\n",
       "      <th>3</th>\n",
       "      <td>NaN</td>\n",
       "      <td>0</td>\n",
       "      <td>2</td>\n",
       "      <td>35000</td>\n",
       "      <td>1602    2.981\n",
       "Name: Gasoline Price, dtype: flo...</td>\n",
       "      <td>3.0</td>\n",
       "      <td>NaN</td>\n",
       "    </tr>\n",
       "    <tr>\n",
       "      <th>4</th>\n",
       "      <td>NaN</td>\n",
       "      <td>0</td>\n",
       "      <td>1</td>\n",
       "      <td>29990</td>\n",
       "      <td>1602    2.981\n",
       "Name: Gasoline Price, dtype: flo...</td>\n",
       "      <td>4.0</td>\n",
       "      <td>NaN</td>\n",
       "    </tr>\n",
       "  </tbody>\n",
       "</table>\n",
       "</div>"
      ],
      "text/plain": [
       "  date_posted_key date_sold_key location_key sales_price  \\\n",
       "0             NaN             0            0       15000   \n",
       "1             NaN             0            1       27990   \n",
       "2             NaN             0            1       34590   \n",
       "3             NaN             0            2       35000   \n",
       "4             NaN             0            1       29990   \n",
       "\n",
       "                                          fuel_price  vehicle_key  \\\n",
       "0  1602    2.981\n",
       "Name: Gasoline Price, dtype: flo...          0.0   \n",
       "1  1602    2.981\n",
       "Name: Gasoline Price, dtype: flo...          1.0   \n",
       "2  1602    2.981\n",
       "Name: Gasoline Price, dtype: flo...          2.0   \n",
       "3  1602    2.981\n",
       "Name: Gasoline Price, dtype: flo...          3.0   \n",
       "4  1602    2.981\n",
       "Name: Gasoline Price, dtype: flo...          4.0   \n",
       "\n",
       "   date_post_key  \n",
       "0            NaN  \n",
       "1            NaN  \n",
       "2            NaN  \n",
       "3            NaN  \n",
       "4            NaN  "
      ]
     },
     "execution_count": 43,
     "metadata": {},
     "output_type": "execute_result"
    }
   ],
   "source": [
    "sales_facts.head()"
   ]
  },
  {
   "cell_type": "markdown",
   "id": "47baef40-212f-42d5-a072-a6e1c0b9ca09",
   "metadata": {},
   "source": [
    "- used cars"
   ]
  },
  {
   "cell_type": "code",
   "execution_count": 77,
   "id": "beb2c028-12ce-4c4b-8dba-2acb4ee22684",
   "metadata": {
    "tags": []
   },
   "outputs": [
    {
     "data": {
      "text/html": [
       "<div>\n",
       "<style scoped>\n",
       "    .dataframe tbody tr th:only-of-type {\n",
       "        vertical-align: middle;\n",
       "    }\n",
       "\n",
       "    .dataframe tbody tr th {\n",
       "        vertical-align: top;\n",
       "    }\n",
       "\n",
       "    .dataframe thead th {\n",
       "        text-align: right;\n",
       "    }\n",
       "</style>\n",
       "<table border=\"1\" class=\"dataframe\">\n",
       "  <thead>\n",
       "    <tr style=\"text-align: right;\">\n",
       "      <th></th>\n",
       "      <th>ID</th>\n",
       "      <th>pricesold</th>\n",
       "      <th>yearsold</th>\n",
       "      <th>zipcode</th>\n",
       "      <th>Mileage</th>\n",
       "      <th>Make</th>\n",
       "      <th>Model</th>\n",
       "      <th>Year</th>\n",
       "      <th>Engine</th>\n",
       "      <th>BodyType</th>\n",
       "      <th>NumCylinders</th>\n",
       "      <th>DriveType</th>\n",
       "      <th>datesold</th>\n",
       "      <th>lat</th>\n",
       "      <th>long</th>\n",
       "      <th>state</th>\n",
       "      <th>fuel</th>\n",
       "    </tr>\n",
       "  </thead>\n",
       "  <tbody>\n",
       "    <tr>\n",
       "      <th>0</th>\n",
       "      <td>137178</td>\n",
       "      <td>7500</td>\n",
       "      <td>2020</td>\n",
       "      <td>78611</td>\n",
       "      <td>84430</td>\n",
       "      <td>ford</td>\n",
       "      <td>mustang</td>\n",
       "      <td>1988.0</td>\n",
       "      <td>5.0l gas v8</td>\n",
       "      <td>sedan</td>\n",
       "      <td>8</td>\n",
       "      <td>RWD</td>\n",
       "      <td>2020-03-19 00:00:00</td>\n",
       "      <td>30.767327</td>\n",
       "      <td>-98.30109</td>\n",
       "      <td>tx</td>\n",
       "      <td>gas</td>\n",
       "    </tr>\n",
       "  </tbody>\n",
       "</table>\n",
       "</div>"
      ],
      "text/plain": [
       "       ID  pricesold  yearsold  zipcode  Mileage  Make    Model    Year  \\\n",
       "0  137178       7500      2020    78611    84430  ford  mustang  1988.0   \n",
       "\n",
       "        Engine BodyType  NumCylinders DriveType             datesold  \\\n",
       "0  5.0l gas v8    sedan             8       RWD  2020-03-19 00:00:00   \n",
       "\n",
       "         lat      long state fuel  \n",
       "0  30.767327 -98.30109    tx  gas  "
      ]
     },
     "execution_count": 77,
     "metadata": {},
     "output_type": "execute_result"
    }
   ],
   "source": [
    "df_ve = pd.read_csv(PATH + \"used_car_sales.csv\")\n",
    "df_ve.head(1)"
   ]
  },
  {
   "cell_type": "code",
   "execution_count": 78,
   "id": "4a06f744-a0bb-4d09-acb5-804b226ec36e",
   "metadata": {
    "tags": []
   },
   "outputs": [],
   "source": [
    "(car_filters,\n",
    " loc_filters,\n",
    " date_filters,\n",
    " _) = process_table(\n",
    "    df_ve,\n",
    "    \"Mileage\",\n",
    "    \"fuel\",\n",
    "    None,\n",
    "    \"datesold\",\n",
    "    [\"Year\", \"Make\", \"Model\", \"Mileage\", \"fuel\"],\n",
    "    [\"lat\", \"long\", \"state\"],\n",
    "    [\"datesold\", \"fuel\"]\n",
    ")"
   ]
  },
  {
   "cell_type": "code",
   "execution_count": 80,
   "id": "2d96e96a-0296-4c30-8d39-2ca718e33c18",
   "metadata": {
    "tags": []
   },
   "outputs": [
    {
     "name": "stderr",
     "output_type": "stream",
     "text": [
      "100%|██████████████████████████████████████████████████████████████████████████████████████████████████████████████████████████████| 72590/72590 [03:00<00:00, 403.18it/s]\n"
     ]
    }
   ],
   "source": [
    "vehicle_key = get_car_foreign_keys(\n",
    "    car_filters,\n",
    "    \"Year\",\n",
    "    \"Mileage\",\n",
    "    \"Make\",\n",
    "    \"Model\",\n",
    "    \"fuel\"\n",
    ")"
   ]
  },
  {
   "cell_type": "code",
   "execution_count": 81,
   "id": "1d770633-ce43-401d-a85d-f165a9033a4e",
   "metadata": {
    "tags": []
   },
   "outputs": [
    {
     "name": "stderr",
     "output_type": "stream",
     "text": [
      "100%|█████████████████████████████████████████████████████████████████████████████████████████████████████████████████████████████| 72590/72590 [00:42<00:00, 1697.93it/s]\n"
     ]
    }
   ],
   "source": [
    "date_key = get_date_foreign_key(\n",
    "    date_filters,\n",
    "    \"datesold\"\n",
    ")"
   ]
  },
  {
   "cell_type": "code",
   "execution_count": 82,
   "id": "a404b1f9-62a2-4555-8e40-6c9f31f3df86",
   "metadata": {
    "tags": []
   },
   "outputs": [
    {
     "name": "stderr",
     "output_type": "stream",
     "text": [
      "100%|██████████████████████████████████████████████████████████████████████████████████████████████████████████████████████████████| 72590/72590 [05:06<00:00, 236.55it/s]\n"
     ]
    }
   ],
   "source": [
    "loc_key = get_loc_foreign_key(\n",
    "    loc_filters,\n",
    "    \"lat\",\n",
    "    \"long\",\n",
    "    \"state\",\n",
    ")"
   ]
  },
  {
   "cell_type": "code",
   "execution_count": 83,
   "id": "aa2167d3-2c03-4f82-8c21-3d29a2fa7771",
   "metadata": {
    "tags": []
   },
   "outputs": [
    {
     "name": "stderr",
     "output_type": "stream",
     "text": [
      "100%|█████████████████████████████████████████████████████████████████████████████████████████████████████████████████████████████| 72590/72590 [01:05<00:00, 1115.28it/s]\n"
     ]
    }
   ],
   "source": [
    "prices_of_fuel = get_fuel_prices(\n",
    "    date_filters,\n",
    "    \"datesold\",\n",
    "    \"fuel\"\n",
    ")"
   ]
  },
  {
   "cell_type": "code",
   "execution_count": 84,
   "id": "ad052890-806f-4303-af9c-30e78396ac27",
   "metadata": {
    "tags": []
   },
   "outputs": [],
   "source": [
    "sales_facts = pd.concat(\n",
    "    (sales_facts, get_fact_table(df_ve,\"pricesold\", prices_of_fuel, vehicle_key, date_key, np.nan,  loc_key))\n",
    ").reset_index(drop=True)"
   ]
  },
  {
   "cell_type": "code",
   "execution_count": 91,
   "id": "af3d47a2-d55a-458d-afe9-db05ce09e639",
   "metadata": {
    "tags": []
   },
   "outputs": [
    {
     "data": {
      "text/plain": [
       "date_posted_key    230021\n",
       "date_sold_key           0\n",
       "location_key            0\n",
       "sales_price             0\n",
       "fuel_price              0\n",
       "vehicle_key             0\n",
       "dtype: int64"
      ]
     },
     "execution_count": 91,
     "metadata": {},
     "output_type": "execute_result"
    }
   ],
   "source": [
    "sales_facts.isna().sum()"
   ]
  },
  {
   "cell_type": "markdown",
   "id": "6f541a2a-34c0-49d7-b3d3-c321a1a7e98b",
   "metadata": {},
   "source": [
    "- tn_mvr"
   ]
  },
  {
   "cell_type": "code",
   "execution_count": 97,
   "id": "ceac23fe-869b-44c7-ba93-32744cb81020",
   "metadata": {
    "tags": []
   },
   "outputs": [
    {
     "data": {
      "text/html": [
       "<div>\n",
       "<style scoped>\n",
       "    .dataframe tbody tr th:only-of-type {\n",
       "        vertical-align: middle;\n",
       "    }\n",
       "\n",
       "    .dataframe tbody tr th {\n",
       "        vertical-align: top;\n",
       "    }\n",
       "\n",
       "    .dataframe thead th {\n",
       "        text-align: right;\n",
       "    }\n",
       "</style>\n",
       "<table border=\"1\" class=\"dataframe\">\n",
       "  <thead>\n",
       "    <tr style=\"text-align: right;\">\n",
       "      <th></th>\n",
       "      <th>vin</th>\n",
       "      <th>price</th>\n",
       "      <th>odometer_type</th>\n",
       "      <th>mileage</th>\n",
       "      <th>county</th>\n",
       "      <th>zip</th>\n",
       "      <th>model_year</th>\n",
       "      <th>make</th>\n",
       "      <th>model</th>\n",
       "      <th>vehicle_type</th>\n",
       "      <th>new_used</th>\n",
       "      <th>title_issue_date</th>\n",
       "      <th>purchase_date</th>\n",
       "      <th>lat</th>\n",
       "      <th>long</th>\n",
       "      <th>state</th>\n",
       "      <th>fuel</th>\n",
       "    </tr>\n",
       "  </thead>\n",
       "  <tbody>\n",
       "    <tr>\n",
       "      <th>1013</th>\n",
       "      <td>137ZA8434TE173571</td>\n",
       "      <td>31000.0</td>\n",
       "      <td>1</td>\n",
       "      <td>0.0</td>\n",
       "      <td>Tipton</td>\n",
       "      <td>38053</td>\n",
       "      <td>1996</td>\n",
       "      <td>am-general</td>\n",
       "      <td>hummer</td>\n",
       "      <td>AUTO</td>\n",
       "      <td>U</td>\n",
       "      <td>2019-01-17</td>\n",
       "      <td>2019-01-04</td>\n",
       "      <td>35.347965</td>\n",
       "      <td>-89.90668</td>\n",
       "      <td>tn</td>\n",
       "      <td>gas</td>\n",
       "    </tr>\n",
       "  </tbody>\n",
       "</table>\n",
       "</div>"
      ],
      "text/plain": [
       "                    vin    price  odometer_type  mileage  county    zip  \\\n",
       "1013  137ZA8434TE173571  31000.0              1      0.0  Tipton  38053   \n",
       "\n",
       "      model_year        make   model vehicle_type new_used title_issue_date  \\\n",
       "1013        1996  am-general  hummer         AUTO        U       2019-01-17   \n",
       "\n",
       "     purchase_date        lat      long state fuel  \n",
       "1013    2019-01-04  35.347965 -89.90668    tn  gas  "
      ]
     },
     "execution_count": 97,
     "metadata": {},
     "output_type": "execute_result"
    }
   ],
   "source": [
    "df_ve = pd.read_csv(PATH + \"tn_mvr.csv\", index_col=0)\n",
    "df_ve.head(1)"
   ]
  },
  {
   "cell_type": "code",
   "execution_count": 98,
   "id": "5f0d9174-f11b-48b6-8b53-15f5c40128dc",
   "metadata": {
    "tags": []
   },
   "outputs": [],
   "source": [
    "(car_filters,\n",
    " loc_filters,\n",
    " date_filters,\n",
    " post_filters) = process_table(\n",
    "    df_ve,\n",
    "    \"mileage\",\n",
    "    \"fuel\",\n",
    "    \"title_issue_date\",\n",
    "    \"purchase_date\",\n",
    "    [\"model_year\", \"make\", \"model\", \"mileage\", \"fuel\"],\n",
    "    [\"lat\", \"long\", \"state\"],\n",
    "    [\"purchase_date\", \"fuel\"],\n",
    "    [\"title_issue_date\"]\n",
    ")"
   ]
  },
  {
   "cell_type": "code",
   "execution_count": 99,
   "id": "f514ae5b-a034-4938-92f3-5e3df375520e",
   "metadata": {
    "tags": []
   },
   "outputs": [
    {
     "name": "stderr",
     "output_type": "stream",
     "text": [
      "100%|████████████████████████████████████████████████████████████████████████████████████████████████████████████████████████████| 535786/535786 [22:12<00:00, 402.04it/s]\n"
     ]
    }
   ],
   "source": [
    "vehicle_key = get_car_foreign_keys(\n",
    "    car_filters,\n",
    "    \"model_year\",\n",
    "    \"mileage\",\n",
    "    \"make\",\n",
    "    \"model\",\n",
    "    \"fuel\"\n",
    ")"
   ]
  },
  {
   "cell_type": "code",
   "execution_count": 101,
   "id": "8b979191-df80-49ce-aca8-462a5450af22",
   "metadata": {
    "tags": []
   },
   "outputs": [
    {
     "name": "stderr",
     "output_type": "stream",
     "text": [
      "100%|███████████████████████████████████████████████████████████████████████████████████████████████████████████████████████████| 535786/535786 [06:07<00:00, 1456.30it/s]\n"
     ]
    }
   ],
   "source": [
    "date_key = get_date_foreign_key(\n",
    "    date_filters,\n",
    "    \"purchase_date\"\n",
    ")"
   ]
  },
  {
   "cell_type": "code",
   "execution_count": 102,
   "id": "d641009d-b9c7-4b9b-b0a5-8acf39728594",
   "metadata": {
    "tags": []
   },
   "outputs": [
    {
     "name": "stderr",
     "output_type": "stream",
     "text": [
      "100%|████████████████████████████████████████████████████████████████████████████████████████████████████████████████████████████| 535786/535786 [40:18<00:00, 221.50it/s]\n"
     ]
    }
   ],
   "source": [
    "loc_key = get_loc_foreign_key(\n",
    "    loc_filters,\n",
    "    \"lat\",\n",
    "    \"long\",\n",
    "    \"state\",\n",
    ")"
   ]
  },
  {
   "cell_type": "code",
   "execution_count": 104,
   "id": "fdb67568-2c51-4cbf-a9fe-826d8b7f8099",
   "metadata": {
    "tags": []
   },
   "outputs": [
    {
     "name": "stderr",
     "output_type": "stream",
     "text": [
      "100%|███████████████████████████████████████████████████████████████████████████████████████████████████████████████████████████| 535786/535786 [07:22<00:00, 1210.88it/s]\n"
     ]
    }
   ],
   "source": [
    "prices_of_fuel = get_fuel_prices(\n",
    "    date_filters,\n",
    "    \"purchase_date\",\n",
    "    \"fuel\"\n",
    ")"
   ]
  },
  {
   "cell_type": "code",
   "execution_count": 107,
   "id": "db958bba-0496-4cb7-8843-af60b76ddda9",
   "metadata": {
    "tags": []
   },
   "outputs": [
    {
     "name": "stderr",
     "output_type": "stream",
     "text": [
      "  2%|██▊                                                                                                                         | 12146/535786 [00:06<04:21, 2005.61it/s]\n"
     ]
    },
    {
     "ename": "IndexError",
     "evalue": "index 0 is out of bounds for axis 0 with size 0",
     "output_type": "error",
     "traceback": [
      "\u001b[1;31m---------------------------------------------------------------------------\u001b[0m",
      "\u001b[1;31mIndexError\u001b[0m                                Traceback (most recent call last)",
      "Cell \u001b[1;32mIn [107], line 1\u001b[0m\n\u001b[1;32m----> 1\u001b[0m post_key \u001b[38;5;241m=\u001b[39m get_date_foreign_key(\n\u001b[0;32m      2\u001b[0m     post_filters,\n\u001b[0;32m      3\u001b[0m     \u001b[38;5;124m\"\u001b[39m\u001b[38;5;124mtitle_issue_date\u001b[39m\u001b[38;5;124m\"\u001b[39m\n\u001b[0;32m      4\u001b[0m )\n",
      "Cell \u001b[1;32mIn [8], line 8\u001b[0m, in \u001b[0;36mget_date_foreign_key\u001b[1;34m(df, date_label)\u001b[0m\n\u001b[0;32m      5\u001b[0m keys\u001b[38;5;241m=\u001b[39m[]\n\u001b[0;32m      6\u001b[0m \u001b[38;5;28;01mfor\u001b[39;00m row \u001b[38;5;129;01min\u001b[39;00m tqdm(df\u001b[38;5;241m.\u001b[39mindex):\n\u001b[0;32m      7\u001b[0m     keys\u001b[38;5;241m.\u001b[39mappend(\n\u001b[1;32m----> 8\u001b[0m         \u001b[43mdate_dim\u001b[49m\u001b[43m[\u001b[49m\n\u001b[0;32m      9\u001b[0m \u001b[43m            \u001b[49m\u001b[43m(\u001b[49m\u001b[43mdate_dim\u001b[49m\u001b[38;5;241;43m.\u001b[39;49m\u001b[43mdate_full_description\u001b[49m\u001b[38;5;241;43m==\u001b[39;49m\u001b[43mdf\u001b[49m\u001b[38;5;241;43m.\u001b[39;49m\u001b[43mloc\u001b[49m\u001b[43m[\u001b[49m\u001b[43mrow\u001b[49m\u001b[43m,\u001b[49m\u001b[43m \u001b[49m\u001b[43mdate_label\u001b[49m\u001b[43m]\u001b[49m\u001b[43m)\u001b[49m\n\u001b[0;32m     10\u001b[0m \u001b[43m        \u001b[49m\u001b[43m]\u001b[49m\u001b[38;5;241;43m.\u001b[39;49m\u001b[43mindex\u001b[49m\u001b[43m[\u001b[49m\u001b[38;5;241;43m0\u001b[39;49m\u001b[43m]\u001b[49m\n\u001b[0;32m     11\u001b[0m     )\n\u001b[0;32m     12\u001b[0m \u001b[38;5;28;01mreturn\u001b[39;00m keys\n",
      "File \u001b[1;32m~\\AppData\\Local\\Programs\\Python\\Python39\\lib\\site-packages\\pandas\\core\\indexes\\base.py:5320\u001b[0m, in \u001b[0;36mIndex.__getitem__\u001b[1;34m(self, key)\u001b[0m\n\u001b[0;32m   5317\u001b[0m \u001b[38;5;28;01mif\u001b[39;00m is_integer(key) \u001b[38;5;129;01mor\u001b[39;00m is_float(key):\n\u001b[0;32m   5318\u001b[0m     \u001b[38;5;66;03m# GH#44051 exclude bool, which would return a 2d ndarray\u001b[39;00m\n\u001b[0;32m   5319\u001b[0m     key \u001b[38;5;241m=\u001b[39m com\u001b[38;5;241m.\u001b[39mcast_scalar_indexer(key, warn_float\u001b[38;5;241m=\u001b[39m\u001b[38;5;28;01mTrue\u001b[39;00m)\n\u001b[1;32m-> 5320\u001b[0m     \u001b[38;5;28;01mreturn\u001b[39;00m \u001b[43mgetitem\u001b[49m\u001b[43m(\u001b[49m\u001b[43mkey\u001b[49m\u001b[43m)\u001b[49m\n\u001b[0;32m   5322\u001b[0m \u001b[38;5;28;01mif\u001b[39;00m \u001b[38;5;28misinstance\u001b[39m(key, \u001b[38;5;28mslice\u001b[39m):\n\u001b[0;32m   5323\u001b[0m     \u001b[38;5;66;03m# This case is separated from the conditional above to avoid\u001b[39;00m\n\u001b[0;32m   5324\u001b[0m     \u001b[38;5;66;03m# pessimization com.is_bool_indexer and ndim checks.\u001b[39;00m\n\u001b[0;32m   5325\u001b[0m     result \u001b[38;5;241m=\u001b[39m getitem(key)\n",
      "\u001b[1;31mIndexError\u001b[0m: index 0 is out of bounds for axis 0 with size 0"
     ]
    }
   ],
   "source": [
    "post_key = get_date_foreign_key(\n",
    "    post_filters,\n",
    "    \"title_issue_date\"\n",
    ")"
   ]
  },
  {
   "cell_type": "code",
   "execution_count": 108,
   "id": "ca08cfa5-0182-466c-9593-1ed9bf421aec",
   "metadata": {
    "tags": []
   },
   "outputs": [],
   "source": [
    "sales_facts = pd.concat((sales_facts, get_fact_table(df_ve, \"price\", prices_of_fuel, vehicle_key, date_key, np.nan, loc_key)))"
   ]
  },
  {
   "cell_type": "code",
   "execution_count": null,
   "id": "079f6e9e-96e0-4441-949e-52c588bbbf6f",
   "metadata": {},
   "outputs": [],
   "source": []
  }
 ],
 "metadata": {
  "kernelspec": {
   "display_name": "Python 3 (ipykernel)",
   "language": "python",
   "name": "python3"
  },
  "language_info": {
   "codemirror_mode": {
    "name": "ipython",
    "version": 3
   },
   "file_extension": ".py",
   "mimetype": "text/x-python",
   "name": "python",
   "nbconvert_exporter": "python",
   "pygments_lexer": "ipython3",
   "version": "3.9.7"
  }
 },
 "nbformat": 4,
 "nbformat_minor": 5
}
