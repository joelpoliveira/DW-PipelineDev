{
 "cells": [
  {
   "cell_type": "code",
   "execution_count": 1,
   "id": "4d6010ad-351b-4d53-b248-6192e3a71abd",
   "metadata": {
    "tags": []
   },
   "outputs": [],
   "source": [
    "import numpy as np \n",
    "import pandas as pd\n",
    "import matplotlib.pyplot as plt\n",
    "import time\n",
    "from util.parsers import *"
   ]
  },
  {
   "cell_type": "code",
   "execution_count": 2,
   "id": "d954501c-0379-48a4-a370-71cdef9b1e24",
   "metadata": {
    "tags": []
   },
   "outputs": [],
   "source": [
    "cols = [\n",
    "    #\"vehice_key\",\n",
    "    \"vehicle_year\",\n",
    "    \"vehicle_age\",\n",
    "    \"vehicle_number_cylinders\",\n",
    "    \"vehicle_mileage\",\n",
    "    \"vehicle_make\",\n",
    "    \"vehicle_model\",\n",
    "    #\"vehicle_body_type\",\n",
    "    #\"vehicle_drive_type\",\n",
    "    #\"vehicle_usage\",\n",
    "    #\"vehicle_condition\",\n",
    "    \"vehicle_engine\",\n",
    "    #\"vehicle_paint\",\n",
    "    #\"vehicle_size\",\n",
    "    \"vehicle_fuel_type\",\n",
    "    \"vehicle_transmission\"\n",
    "]"
   ]
  },
  {
   "cell_type": "code",
   "execution_count": 3,
   "id": "82378a2b-ff8b-40f3-af43-b423b9e5878a",
   "metadata": {
    "tags": []
   },
   "outputs": [],
   "source": [
    "vehicle_dim = pd.DataFrame(columns=cols)"
   ]
  },
  {
   "cell_type": "code",
   "execution_count": 4,
   "id": "fd1becba-4161-4bd2-b093-2ee25f536c9f",
   "metadata": {
    "tags": []
   },
   "outputs": [
    {
     "data": {
      "text/plain": [
       "(0, 9)"
      ]
     },
     "execution_count": 4,
     "metadata": {},
     "output_type": "execute_result"
    }
   ],
   "source": [
    "vehicle_dim.shape"
   ]
  },
  {
   "cell_type": "code",
   "execution_count": 5,
   "id": "f455ce6c-b9e4-4e08-a3c9-28d3d27b42cb",
   "metadata": {
    "tags": []
   },
   "outputs": [],
   "source": [
    "PATH = \"../stage_1/data/processedData/\""
   ]
  },
  {
   "cell_type": "code",
   "execution_count": 6,
   "id": "401564da-7233-43a6-96b5-6caaef5cc0bf",
   "metadata": {
    "tags": []
   },
   "outputs": [],
   "source": [
    "def map_columns(\n",
    "    df,\n",
    "    year_label,\n",
    "    mileage_label,\n",
    "    make_label, \n",
    "    model_label,\n",
    "    fuel_label,\n",
    "    cyl_label,\n",
    "    eng_label,\n",
    "    trans_label\n",
    "):\n",
    "    col_map = {\n",
    "        year_label: \"vehicle_year\",\n",
    "        mileage_label: \"vehicle_mileage\",\n",
    "        make_label: \"vehicle_make\", \n",
    "        model_label: \"vehicle_model\",\n",
    "        fuel_label: \"vehicle_fuel_type\",\n",
    "        cyl_label: \"vehicle_number_cylinders\",\n",
    "        #drive_label: \"vehicle_drive_type\",\n",
    "        eng_label: \"vehicle_engine\",\n",
    "        trans_label: \"vehicle_transmission\"\n",
    "    }\n",
    "    df.columns = df.columns.map(col_map)\n",
    "    df = df.loc[:, df.columns.notna()]\n",
    "    return df"
   ]
  },
  {
   "cell_type": "markdown",
   "id": "5e1025b1-a4b9-43df-9800-cf8524dbdd69",
   "metadata": {},
   "source": [
    "- Add *vehicles* dataset to dim"
   ]
  },
  {
   "cell_type": "code",
   "execution_count": 7,
   "id": "6956ec0e-4808-4ba9-b6f9-2b354eb2e903",
   "metadata": {
    "tags": []
   },
   "outputs": [
    {
     "data": {
      "text/html": [
       "<div>\n",
       "<style scoped>\n",
       "    .dataframe tbody tr th:only-of-type {\n",
       "        vertical-align: middle;\n",
       "    }\n",
       "\n",
       "    .dataframe tbody tr th {\n",
       "        vertical-align: top;\n",
       "    }\n",
       "\n",
       "    .dataframe thead th {\n",
       "        text-align: right;\n",
       "    }\n",
       "</style>\n",
       "<table border=\"1\" class=\"dataframe\">\n",
       "  <thead>\n",
       "    <tr style=\"text-align: right;\">\n",
       "      <th></th>\n",
       "      <th>id</th>\n",
       "      <th>region</th>\n",
       "      <th>region_url</th>\n",
       "      <th>price</th>\n",
       "      <th>year</th>\n",
       "      <th>manufacturer</th>\n",
       "      <th>model</th>\n",
       "      <th>cylinders</th>\n",
       "      <th>fuel</th>\n",
       "      <th>odometer</th>\n",
       "      <th>title_status</th>\n",
       "      <th>transmission</th>\n",
       "      <th>VIN</th>\n",
       "      <th>drive</th>\n",
       "      <th>type</th>\n",
       "      <th>description</th>\n",
       "      <th>state</th>\n",
       "      <th>lat</th>\n",
       "      <th>long</th>\n",
       "      <th>posting_date</th>\n",
       "    </tr>\n",
       "  </thead>\n",
       "  <tbody>\n",
       "    <tr>\n",
       "      <th>31</th>\n",
       "      <td>7316356412</td>\n",
       "      <td>auburn</td>\n",
       "      <td>https://auburn.craigslist.org</td>\n",
       "      <td>15000</td>\n",
       "      <td>2013.0</td>\n",
       "      <td>ford</td>\n",
       "      <td>f150</td>\n",
       "      <td>6 cylinders</td>\n",
       "      <td>gas</td>\n",
       "      <td>128000.0</td>\n",
       "      <td>clean</td>\n",
       "      <td>automatic</td>\n",
       "      <td>NaN</td>\n",
       "      <td>rwd</td>\n",
       "      <td>truck</td>\n",
       "      <td>2013 F-150 XLT V6 4 Door. Good condition. Leve...</td>\n",
       "      <td>al</td>\n",
       "      <td>32.592</td>\n",
       "      <td>-85.5189</td>\n",
       "      <td>2021-05-03 14:02:03-05:00</td>\n",
       "    </tr>\n",
       "  </tbody>\n",
       "</table>\n",
       "</div>"
      ],
      "text/plain": [
       "            id  region                     region_url  price    year  \\\n",
       "31  7316356412  auburn  https://auburn.craigslist.org  15000  2013.0   \n",
       "\n",
       "   manufacturer model    cylinders fuel  odometer title_status transmission  \\\n",
       "31         ford  f150  6 cylinders  gas  128000.0        clean    automatic   \n",
       "\n",
       "    VIN drive   type                                        description state  \\\n",
       "31  NaN   rwd  truck  2013 F-150 XLT V6 4 Door. Good condition. Leve...    al   \n",
       "\n",
       "       lat     long               posting_date  \n",
       "31  32.592 -85.5189  2021-05-03 14:02:03-05:00  "
      ]
     },
     "execution_count": 7,
     "metadata": {},
     "output_type": "execute_result"
    }
   ],
   "source": [
    "df = pd.read_csv(f\"{PATH}/vehicles.csv\", index_col=0)\n",
    "df.head(1)"
   ]
  },
  {
   "cell_type": "code",
   "execution_count": 8,
   "id": "e44b4e81-38a7-40ff-a15c-b216466a1176",
   "metadata": {
    "tags": []
   },
   "outputs": [],
   "source": [
    "v_cols = [\n",
    "    \"year\", \n",
    "    \"manufacturer\",\n",
    "    \"model\", \n",
    "    \"cylinders\",\n",
    "    \"fuel\",\n",
    "    \"odometer\",\n",
    "    \"transmission\", \n",
    "    #\"drive\"\n",
    "]\n",
    "df = df[v_cols]"
   ]
  },
  {
   "cell_type": "code",
   "execution_count": 9,
   "id": "b3808d2a-a856-4510-9661-3b7438fe8bb2",
   "metadata": {
    "tags": []
   },
   "outputs": [
    {
     "data": {
      "text/html": [
       "<div>\n",
       "<style scoped>\n",
       "    .dataframe tbody tr th:only-of-type {\n",
       "        vertical-align: middle;\n",
       "    }\n",
       "\n",
       "    .dataframe tbody tr th {\n",
       "        vertical-align: top;\n",
       "    }\n",
       "\n",
       "    .dataframe thead th {\n",
       "        text-align: right;\n",
       "    }\n",
       "</style>\n",
       "<table border=\"1\" class=\"dataframe\">\n",
       "  <thead>\n",
       "    <tr style=\"text-align: right;\">\n",
       "      <th></th>\n",
       "      <th>year</th>\n",
       "      <th>manufacturer</th>\n",
       "      <th>model</th>\n",
       "      <th>cylinders</th>\n",
       "      <th>fuel</th>\n",
       "      <th>odometer</th>\n",
       "      <th>transmission</th>\n",
       "    </tr>\n",
       "  </thead>\n",
       "  <tbody>\n",
       "    <tr>\n",
       "      <th>31</th>\n",
       "      <td>2013.0</td>\n",
       "      <td>ford</td>\n",
       "      <td>f150</td>\n",
       "      <td>6 cylinders</td>\n",
       "      <td>gas</td>\n",
       "      <td>128000.0</td>\n",
       "      <td>automatic</td>\n",
       "    </tr>\n",
       "    <tr>\n",
       "      <th>32</th>\n",
       "      <td>2012.0</td>\n",
       "      <td>gmc</td>\n",
       "      <td>sierra 2500</td>\n",
       "      <td>8 cylinders</td>\n",
       "      <td>gas</td>\n",
       "      <td>68696.0</td>\n",
       "      <td>other</td>\n",
       "    </tr>\n",
       "    <tr>\n",
       "      <th>33</th>\n",
       "      <td>2016.0</td>\n",
       "      <td>chevrolet</td>\n",
       "      <td>c1500</td>\n",
       "      <td>6 cylinders</td>\n",
       "      <td>gas</td>\n",
       "      <td>29499.0</td>\n",
       "      <td>other</td>\n",
       "    </tr>\n",
       "    <tr>\n",
       "      <th>34</th>\n",
       "      <td>2019.0</td>\n",
       "      <td>toyota</td>\n",
       "      <td>tacoma</td>\n",
       "      <td>6 cylinders</td>\n",
       "      <td>gas</td>\n",
       "      <td>43000.0</td>\n",
       "      <td>automatic</td>\n",
       "    </tr>\n",
       "    <tr>\n",
       "      <th>35</th>\n",
       "      <td>2016.0</td>\n",
       "      <td>chevrolet</td>\n",
       "      <td>colorado</td>\n",
       "      <td>6 cylinders</td>\n",
       "      <td>gas</td>\n",
       "      <td>17302.0</td>\n",
       "      <td>other</td>\n",
       "    </tr>\n",
       "  </tbody>\n",
       "</table>\n",
       "</div>"
      ],
      "text/plain": [
       "      year manufacturer        model    cylinders fuel  odometer transmission\n",
       "31  2013.0         ford         f150  6 cylinders  gas  128000.0    automatic\n",
       "32  2012.0          gmc  sierra 2500  8 cylinders  gas   68696.0        other\n",
       "33  2016.0    chevrolet        c1500  6 cylinders  gas   29499.0        other\n",
       "34  2019.0       toyota       tacoma  6 cylinders  gas   43000.0    automatic\n",
       "35  2016.0    chevrolet     colorado  6 cylinders  gas   17302.0        other"
      ]
     },
     "execution_count": 9,
     "metadata": {},
     "output_type": "execute_result"
    }
   ],
   "source": [
    "df.head()"
   ]
  },
  {
   "cell_type": "code",
   "execution_count": 10,
   "id": "b6cdc3ed-593c-4cdb-8449-335462325a1d",
   "metadata": {
    "tags": []
   },
   "outputs": [
    {
     "data": {
      "text/plain": [
       "(157431, 7)"
      ]
     },
     "execution_count": 10,
     "metadata": {},
     "output_type": "execute_result"
    }
   ],
   "source": [
    "df.shape"
   ]
  },
  {
   "cell_type": "code",
   "execution_count": 11,
   "id": "8ef25b93-4add-4b48-a176-e1fd05b82598",
   "metadata": {
    "tags": []
   },
   "outputs": [],
   "source": [
    "df = map_columns(df, \"year\", \"odometer\", \"manufacturer\", \"model\", \"fuel\", \"cylinders\", None, \"transmission\")"
   ]
  },
  {
   "cell_type": "code",
   "execution_count": 12,
   "id": "946ec175-b2a0-4e93-8a1b-bae8d4c5a026",
   "metadata": {
    "tags": []
   },
   "outputs": [],
   "source": [
    "df = df.drop_duplicates()"
   ]
  },
  {
   "cell_type": "code",
   "execution_count": 13,
   "id": "8573c9cd-e40a-4d12-973d-e1a0d82b27d0",
   "metadata": {
    "tags": []
   },
   "outputs": [
    {
     "data": {
      "text/plain": [
       "(100685, 7)"
      ]
     },
     "execution_count": 13,
     "metadata": {},
     "output_type": "execute_result"
    }
   ],
   "source": [
    "df.shape"
   ]
  },
  {
   "cell_type": "code",
   "execution_count": 14,
   "id": "2de3d84e-9864-45f3-8815-e9ca24847205",
   "metadata": {
    "tags": []
   },
   "outputs": [],
   "source": [
    "vehicle_dim = pd.concat((vehicle_dim, df)).reset_index(drop=True)"
   ]
  },
  {
   "cell_type": "code",
   "execution_count": 15,
   "id": "18280c0c-2d17-4f3d-9106-53f17bbbdd6a",
   "metadata": {
    "tags": []
   },
   "outputs": [
    {
     "data": {
      "text/plain": [
       "(100685, 9)"
      ]
     },
     "execution_count": 15,
     "metadata": {},
     "output_type": "execute_result"
    }
   ],
   "source": [
    "vehicle_dim.shape"
   ]
  },
  {
   "cell_type": "markdown",
   "id": "5f6562b8-aa6a-432a-b7fe-abf60f8857f4",
   "metadata": {},
   "source": [
    "- Add *used_cars* dataset"
   ]
  },
  {
   "cell_type": "code",
   "execution_count": 16,
   "id": "01149f20-cbdd-498e-bd49-8f967e1fc7d7",
   "metadata": {
    "tags": []
   },
   "outputs": [
    {
     "data": {
      "text/html": [
       "<div>\n",
       "<style scoped>\n",
       "    .dataframe tbody tr th:only-of-type {\n",
       "        vertical-align: middle;\n",
       "    }\n",
       "\n",
       "    .dataframe tbody tr th {\n",
       "        vertical-align: top;\n",
       "    }\n",
       "\n",
       "    .dataframe thead th {\n",
       "        text-align: right;\n",
       "    }\n",
       "</style>\n",
       "<table border=\"1\" class=\"dataframe\">\n",
       "  <thead>\n",
       "    <tr style=\"text-align: right;\">\n",
       "      <th></th>\n",
       "      <th>ID</th>\n",
       "      <th>pricesold</th>\n",
       "      <th>yearsold</th>\n",
       "      <th>zipcode</th>\n",
       "      <th>Mileage</th>\n",
       "      <th>Make</th>\n",
       "      <th>Model</th>\n",
       "      <th>Year</th>\n",
       "      <th>Engine</th>\n",
       "      <th>BodyType</th>\n",
       "      <th>NumCylinders</th>\n",
       "      <th>DriveType</th>\n",
       "      <th>datesold</th>\n",
       "      <th>lat</th>\n",
       "      <th>long</th>\n",
       "      <th>state</th>\n",
       "      <th>fuel</th>\n",
       "    </tr>\n",
       "  </thead>\n",
       "  <tbody>\n",
       "    <tr>\n",
       "      <th>0</th>\n",
       "      <td>137178</td>\n",
       "      <td>7500</td>\n",
       "      <td>2020</td>\n",
       "      <td>78611</td>\n",
       "      <td>84430</td>\n",
       "      <td>ford</td>\n",
       "      <td>mustang</td>\n",
       "      <td>1988.0</td>\n",
       "      <td>5.0l gas v8</td>\n",
       "      <td>sedan</td>\n",
       "      <td>8</td>\n",
       "      <td>RWD</td>\n",
       "      <td>2020-03-19 00:00:00</td>\n",
       "      <td>30.767327</td>\n",
       "      <td>-98.30109</td>\n",
       "      <td>tx</td>\n",
       "      <td>gas</td>\n",
       "    </tr>\n",
       "  </tbody>\n",
       "</table>\n",
       "</div>"
      ],
      "text/plain": [
       "       ID  pricesold  yearsold  zipcode  Mileage  Make    Model    Year  \\\n",
       "0  137178       7500      2020    78611    84430  ford  mustang  1988.0   \n",
       "\n",
       "        Engine BodyType  NumCylinders DriveType             datesold  \\\n",
       "0  5.0l gas v8    sedan             8       RWD  2020-03-19 00:00:00   \n",
       "\n",
       "         lat      long state fuel  \n",
       "0  30.767327 -98.30109    tx  gas  "
      ]
     },
     "execution_count": 16,
     "metadata": {},
     "output_type": "execute_result"
    }
   ],
   "source": [
    "df = pd.read_csv(f\"{PATH}/used_car_sales.csv\", )\n",
    "df.head(1)"
   ]
  },
  {
   "cell_type": "code",
   "execution_count": 17,
   "id": "c7ca65ce-4914-4732-993e-2b425180e32f",
   "metadata": {
    "tags": []
   },
   "outputs": [],
   "source": [
    "uc_cols = [\n",
    "    \"Mileage\", \n",
    "    \"Make\", \n",
    "    \"Model\", \n",
    "    \"Year\", \n",
    "    \"Engine\", \n",
    "    #\"BodyType\", \n",
    "    \"NumCylinders\", \n",
    "    #\"DriveType\", \n",
    "    \"fuel\"]\n",
    "df = df[uc_cols]"
   ]
  },
  {
   "cell_type": "code",
   "execution_count": 18,
   "id": "411532ac-88cc-486f-aef1-da293b2815cb",
   "metadata": {
    "tags": []
   },
   "outputs": [],
   "source": [
    "df = map_columns(df, \"Year\", \"Mileage\", \"Make\", \"Model\", \"fuel\", \"NumCylinders\", \"Engine\", None)"
   ]
  },
  {
   "cell_type": "code",
   "execution_count": 19,
   "id": "f76637e0-c791-4db8-bcbb-47fce30f2bff",
   "metadata": {
    "tags": []
   },
   "outputs": [
    {
     "data": {
      "text/plain": [
       "(72590, 7)"
      ]
     },
     "execution_count": 19,
     "metadata": {},
     "output_type": "execute_result"
    }
   ],
   "source": [
    "df.shape"
   ]
  },
  {
   "cell_type": "code",
   "execution_count": 20,
   "id": "b5b7587f-ebd9-4ac9-a38d-4bbacec07da4",
   "metadata": {
    "tags": []
   },
   "outputs": [
    {
     "data": {
      "text/html": [
       "<div>\n",
       "<style scoped>\n",
       "    .dataframe tbody tr th:only-of-type {\n",
       "        vertical-align: middle;\n",
       "    }\n",
       "\n",
       "    .dataframe tbody tr th {\n",
       "        vertical-align: top;\n",
       "    }\n",
       "\n",
       "    .dataframe thead th {\n",
       "        text-align: right;\n",
       "    }\n",
       "</style>\n",
       "<table border=\"1\" class=\"dataframe\">\n",
       "  <thead>\n",
       "    <tr style=\"text-align: right;\">\n",
       "      <th></th>\n",
       "      <th>vehicle_mileage</th>\n",
       "      <th>vehicle_make</th>\n",
       "      <th>vehicle_model</th>\n",
       "      <th>vehicle_year</th>\n",
       "      <th>vehicle_engine</th>\n",
       "      <th>vehicle_number_cylinders</th>\n",
       "      <th>vehicle_fuel_type</th>\n",
       "    </tr>\n",
       "  </thead>\n",
       "  <tbody>\n",
       "    <tr>\n",
       "      <th>0</th>\n",
       "      <td>84430</td>\n",
       "      <td>ford</td>\n",
       "      <td>mustang</td>\n",
       "      <td>1988.0</td>\n",
       "      <td>5.0l gas v8</td>\n",
       "      <td>8</td>\n",
       "      <td>gas</td>\n",
       "    </tr>\n",
       "    <tr>\n",
       "      <th>1</th>\n",
       "      <td>40703</td>\n",
       "      <td>porsche</td>\n",
       "      <td>911</td>\n",
       "      <td>2002.0</td>\n",
       "      <td>3.6l</td>\n",
       "      <td>6</td>\n",
       "      <td>gas</td>\n",
       "    </tr>\n",
       "    <tr>\n",
       "      <th>2</th>\n",
       "      <td>71300</td>\n",
       "      <td>mercury</td>\n",
       "      <td>montclair</td>\n",
       "      <td>1965.0</td>\n",
       "      <td>NaN</td>\n",
       "      <td>0</td>\n",
       "      <td>gas</td>\n",
       "    </tr>\n",
       "    <tr>\n",
       "      <th>3</th>\n",
       "      <td>15000</td>\n",
       "      <td>pontiac</td>\n",
       "      <td>gto</td>\n",
       "      <td>1970.0</td>\n",
       "      <td>NaN</td>\n",
       "      <td>0</td>\n",
       "      <td>gas</td>\n",
       "    </tr>\n",
       "    <tr>\n",
       "      <th>4</th>\n",
       "      <td>51674</td>\n",
       "      <td>jeep</td>\n",
       "      <td>wrangler</td>\n",
       "      <td>2015.0</td>\n",
       "      <td>3.6l flexible v6</td>\n",
       "      <td>6</td>\n",
       "      <td>gas</td>\n",
       "    </tr>\n",
       "  </tbody>\n",
       "</table>\n",
       "</div>"
      ],
      "text/plain": [
       "   vehicle_mileage vehicle_make vehicle_model  vehicle_year    vehicle_engine  \\\n",
       "0            84430         ford       mustang        1988.0       5.0l gas v8   \n",
       "1            40703      porsche           911        2002.0              3.6l   \n",
       "2            71300      mercury     montclair        1965.0               NaN   \n",
       "3            15000      pontiac           gto        1970.0               NaN   \n",
       "4            51674         jeep      wrangler        2015.0  3.6l flexible v6   \n",
       "\n",
       "   vehicle_number_cylinders vehicle_fuel_type  \n",
       "0                         8               gas  \n",
       "1                         6               gas  \n",
       "2                         0               gas  \n",
       "3                         0               gas  \n",
       "4                         6               gas  "
      ]
     },
     "execution_count": 20,
     "metadata": {},
     "output_type": "execute_result"
    }
   ],
   "source": [
    "df.head()"
   ]
  },
  {
   "cell_type": "code",
   "execution_count": 21,
   "id": "dbe1130b-33fd-45dd-ad33-a15a5a5b9926",
   "metadata": {
    "tags": []
   },
   "outputs": [],
   "source": [
    "vehicle_dim = pd.concat((vehicle_dim, df)).reset_index(drop=True).drop_duplicates()"
   ]
  },
  {
   "cell_type": "code",
   "execution_count": 22,
   "id": "84d322ff-7b90-4365-bccd-c8481dd65109",
   "metadata": {
    "tags": []
   },
   "outputs": [
    {
     "data": {
      "text/plain": [
       "(172357, 9)"
      ]
     },
     "execution_count": 22,
     "metadata": {},
     "output_type": "execute_result"
    }
   ],
   "source": [
    "vehicle_dim.shape"
   ]
  },
  {
   "cell_type": "markdown",
   "id": "8af147cb-0eb5-4f48-a31c-ea3fb24b5657",
   "metadata": {},
   "source": [
    "- ADD *tn_mvr* dataset"
   ]
  },
  {
   "cell_type": "code",
   "execution_count": 23,
   "id": "0d5f0161-0ced-41e7-ad54-f14edd0668f8",
   "metadata": {
    "tags": []
   },
   "outputs": [
    {
     "data": {
      "text/html": [
       "<div>\n",
       "<style scoped>\n",
       "    .dataframe tbody tr th:only-of-type {\n",
       "        vertical-align: middle;\n",
       "    }\n",
       "\n",
       "    .dataframe tbody tr th {\n",
       "        vertical-align: top;\n",
       "    }\n",
       "\n",
       "    .dataframe thead th {\n",
       "        text-align: right;\n",
       "    }\n",
       "</style>\n",
       "<table border=\"1\" class=\"dataframe\">\n",
       "  <thead>\n",
       "    <tr style=\"text-align: right;\">\n",
       "      <th></th>\n",
       "      <th>vin</th>\n",
       "      <th>price</th>\n",
       "      <th>odometer_type</th>\n",
       "      <th>mileage</th>\n",
       "      <th>county</th>\n",
       "      <th>zip</th>\n",
       "      <th>model_year</th>\n",
       "      <th>make</th>\n",
       "      <th>model</th>\n",
       "      <th>vehicle_type</th>\n",
       "      <th>new_used</th>\n",
       "      <th>title_issue_date</th>\n",
       "      <th>purchase_date</th>\n",
       "      <th>lat</th>\n",
       "      <th>long</th>\n",
       "      <th>state</th>\n",
       "      <th>fuel</th>\n",
       "    </tr>\n",
       "  </thead>\n",
       "  <tbody>\n",
       "    <tr>\n",
       "      <th>1013</th>\n",
       "      <td>137ZA8434TE173571</td>\n",
       "      <td>31000.0</td>\n",
       "      <td>1</td>\n",
       "      <td>0.0</td>\n",
       "      <td>Tipton</td>\n",
       "      <td>38053</td>\n",
       "      <td>1996</td>\n",
       "      <td>am-general</td>\n",
       "      <td>hummer</td>\n",
       "      <td>AUTO</td>\n",
       "      <td>U</td>\n",
       "      <td>2019-01-17</td>\n",
       "      <td>2019-01-04</td>\n",
       "      <td>35.347965</td>\n",
       "      <td>-89.90668</td>\n",
       "      <td>tn</td>\n",
       "      <td>gas</td>\n",
       "    </tr>\n",
       "  </tbody>\n",
       "</table>\n",
       "</div>"
      ],
      "text/plain": [
       "                    vin    price  odometer_type  mileage  county    zip  \\\n",
       "1013  137ZA8434TE173571  31000.0              1      0.0  Tipton  38053   \n",
       "\n",
       "      model_year        make   model vehicle_type new_used title_issue_date  \\\n",
       "1013        1996  am-general  hummer         AUTO        U       2019-01-17   \n",
       "\n",
       "     purchase_date        lat      long state fuel  \n",
       "1013    2019-01-04  35.347965 -89.90668    tn  gas  "
      ]
     },
     "execution_count": 23,
     "metadata": {},
     "output_type": "execute_result"
    }
   ],
   "source": [
    "df = pd.read_csv(f\"{PATH}/tn_mvr.csv\", index_col=0)\n",
    "df.head(1)"
   ]
  },
  {
   "cell_type": "code",
   "execution_count": 24,
   "id": "8322f7a3-da42-48fa-9fd1-f0108b3fe2e2",
   "metadata": {
    "tags": []
   },
   "outputs": [
    {
     "data": {
      "text/plain": [
       "array(['AUTO', 'OTHER', 'TRUCK', 'BUS - COMMERCIAL', 'MOTORCYCLE',\n",
       "       'SCHOOL BUS'], dtype=object)"
      ]
     },
     "execution_count": 24,
     "metadata": {},
     "output_type": "execute_result"
    }
   ],
   "source": [
    "df.vehicle_type.unique()"
   ]
  },
  {
   "cell_type": "code",
   "execution_count": 25,
   "id": "75b2a6b3-6609-41f5-80c3-a00f22f3bd4e",
   "metadata": {
    "tags": []
   },
   "outputs": [],
   "source": [
    "tn_cols = [\n",
    "    \"mileage\", \n",
    "    \"model_year\", \n",
    "    \"make\", \n",
    "    \"model\", \n",
    "    #\"new_used\",\n",
    "    \"fuel\"]\n",
    "df = df[tn_cols]"
   ]
  },
  {
   "cell_type": "code",
   "execution_count": 26,
   "id": "3b2c3522-efac-47f3-985a-19cc2664a93a",
   "metadata": {
    "tags": []
   },
   "outputs": [
    {
     "data": {
      "text/plain": [
       "(535786, 5)"
      ]
     },
     "execution_count": 26,
     "metadata": {},
     "output_type": "execute_result"
    }
   ],
   "source": [
    "df.shape"
   ]
  },
  {
   "cell_type": "code",
   "execution_count": 27,
   "id": "1d132e21-ff5d-40dd-8927-c4c890ea6ad2",
   "metadata": {
    "tags": []
   },
   "outputs": [],
   "source": [
    "df = map_columns(df , \"model_year\", \"mileage\", \"make\", \"model\", \"fuel\", None, None, None)"
   ]
  },
  {
   "cell_type": "code",
   "execution_count": 28,
   "id": "6cd59140-dc20-4efd-94ee-e00e0da8ceac",
   "metadata": {
    "tags": []
   },
   "outputs": [],
   "source": [
    "df = df.drop_duplicates()"
   ]
  },
  {
   "cell_type": "code",
   "execution_count": 29,
   "id": "21ceffbe-b197-4a19-8b09-88ed707d530f",
   "metadata": {
    "tags": []
   },
   "outputs": [],
   "source": [
    "vehicle_dim = pd.concat((vehicle_dim, df), axis=0)"
   ]
  },
  {
   "cell_type": "code",
   "execution_count": 30,
   "id": "3352ea8f-9804-49f5-b09a-2823c0677567",
   "metadata": {
    "tags": []
   },
   "outputs": [
    {
     "data": {
      "text/plain": [
       "(360479, 9)"
      ]
     },
     "execution_count": 30,
     "metadata": {},
     "output_type": "execute_result"
    }
   ],
   "source": [
    "vehicle_dim.shape"
   ]
  },
  {
   "cell_type": "code",
   "execution_count": 31,
   "id": "a3d77525-1a94-48b4-9336-ec246f7881de",
   "metadata": {
    "tags": []
   },
   "outputs": [],
   "source": [
    "vehicle_dim = vehicle_dim.reset_index(drop=True).drop_duplicates()"
   ]
  },
  {
   "cell_type": "markdown",
   "id": "1b9c1e29-b706-411d-8265-294a57e17fc6",
   "metadata": {},
   "source": [
    "- reviews"
   ]
  },
  {
   "cell_type": "code",
   "execution_count": 32,
   "id": "c070bfb9-5988-401d-b0db-3daed1b27a58",
   "metadata": {
    "tags": []
   },
   "outputs": [],
   "source": [
    "df = pd.read_csv(PATH + \"review.csv\", index_col=0)"
   ]
  },
  {
   "cell_type": "code",
   "execution_count": 33,
   "id": "5df4a421-9efc-4039-b6a1-9ecdb1d992e2",
   "metadata": {
    "tags": []
   },
   "outputs": [
    {
     "data": {
      "text/html": [
       "<div>\n",
       "<style scoped>\n",
       "    .dataframe tbody tr th:only-of-type {\n",
       "        vertical-align: middle;\n",
       "    }\n",
       "\n",
       "    .dataframe tbody tr th {\n",
       "        vertical-align: top;\n",
       "    }\n",
       "\n",
       "    .dataframe thead th {\n",
       "        text-align: right;\n",
       "    }\n",
       "</style>\n",
       "<table border=\"1\" class=\"dataframe\">\n",
       "  <thead>\n",
       "    <tr style=\"text-align: right;\">\n",
       "      <th></th>\n",
       "      <th>Company</th>\n",
       "      <th>Model</th>\n",
       "      <th>Year</th>\n",
       "      <th>Reviewer</th>\n",
       "      <th>Date</th>\n",
       "      <th>Title</th>\n",
       "      <th>Rating</th>\n",
       "      <th>Review</th>\n",
       "    </tr>\n",
       "  </thead>\n",
       "  <tbody>\n",
       "    <tr>\n",
       "      <th>0</th>\n",
       "      <td>acura</td>\n",
       "      <td>ilx</td>\n",
       "      <td>2013</td>\n",
       "      <td>mahowald</td>\n",
       "      <td>2012-08-12</td>\n",
       "      <td>Getting 43 Mpg on daily commute</td>\n",
       "      <td>5</td>\n",
       "      <td>I love this car.\\r\\nGas mileage, suspension, a...</td>\n",
       "    </tr>\n",
       "  </tbody>\n",
       "</table>\n",
       "</div>"
      ],
      "text/plain": [
       "  Company Model  Year  Reviewer        Date                            Title  \\\n",
       "0   acura   ilx  2013  mahowald  2012-08-12  Getting 43 Mpg on daily commute   \n",
       "\n",
       "   Rating                                             Review  \n",
       "0       5  I love this car.\\r\\nGas mileage, suspension, a...  "
      ]
     },
     "execution_count": 33,
     "metadata": {},
     "output_type": "execute_result"
    }
   ],
   "source": [
    "df.head(1)"
   ]
  },
  {
   "cell_type": "code",
   "execution_count": 34,
   "id": "c9e9f561-fda6-4024-8608-3b8523b9f162",
   "metadata": {
    "tags": []
   },
   "outputs": [],
   "source": [
    "c = [\n",
    "    \"Year\", \n",
    "    \"Company\", \n",
    "    \"Model\", \n",
    "    #\"new_used\",\n",
    "#    \"fuel\"\n",
    "]\n",
    "df = df[c]"
   ]
  },
  {
   "cell_type": "code",
   "execution_count": 35,
   "id": "62b6bdd9-596e-45a8-b362-c820c48b0450",
   "metadata": {
    "tags": []
   },
   "outputs": [
    {
     "data": {
      "text/plain": [
       "(262923, 3)"
      ]
     },
     "execution_count": 35,
     "metadata": {},
     "output_type": "execute_result"
    }
   ],
   "source": [
    "df.shape"
   ]
  },
  {
   "cell_type": "code",
   "execution_count": 36,
   "id": "3d4bae06-a32a-40de-823b-66b8bfa155a6",
   "metadata": {
    "tags": []
   },
   "outputs": [],
   "source": [
    "df = map_columns(df , \"Year\", None, \"Company\", \"Model\", None, None, None, None)"
   ]
  },
  {
   "cell_type": "code",
   "execution_count": 37,
   "id": "950daba4-6669-40e0-8a50-644d1478c10e",
   "metadata": {
    "tags": []
   },
   "outputs": [
    {
     "data": {
      "text/plain": [
       "(4319, 3)"
      ]
     },
     "execution_count": 37,
     "metadata": {},
     "output_type": "execute_result"
    }
   ],
   "source": [
    "df = df.drop_duplicates()\n",
    "df.shape"
   ]
  },
  {
   "cell_type": "code",
   "execution_count": 38,
   "id": "cec3844e-36b2-4d42-96e9-d98a51f9e336",
   "metadata": {
    "tags": []
   },
   "outputs": [],
   "source": [
    "vehicle_dim = pd.concat((vehicle_dim, df), axis=0)"
   ]
  },
  {
   "cell_type": "code",
   "execution_count": 39,
   "id": "7c70ca03-21d7-46a3-8ca3-ebfb209d3ccc",
   "metadata": {
    "tags": []
   },
   "outputs": [
    {
     "data": {
      "text/plain": [
       "(364798, 9)"
      ]
     },
     "execution_count": 39,
     "metadata": {},
     "output_type": "execute_result"
    }
   ],
   "source": [
    "vehicle_dim.shape"
   ]
  },
  {
   "cell_type": "code",
   "execution_count": 40,
   "id": "af796168-65ca-443b-b783-a1c1d9b1686d",
   "metadata": {
    "tags": []
   },
   "outputs": [
    {
     "data": {
      "text/plain": [
       "(364798, 9)"
      ]
     },
     "execution_count": 40,
     "metadata": {},
     "output_type": "execute_result"
    }
   ],
   "source": [
    "vehicle_dim = vehicle_dim.reset_index(drop=True).drop_duplicates()\n",
    "vehicle_dim.shape"
   ]
  },
  {
   "cell_type": "markdown",
   "id": "b54cda34-d448-4cab-b399-22bb42df8ce6",
   "metadata": {},
   "source": [
    "- calculate age"
   ]
  },
  {
   "cell_type": "code",
   "execution_count": 41,
   "id": "de2f4fc1-2db7-4751-8636-f795dc47b28d",
   "metadata": {
    "tags": []
   },
   "outputs": [],
   "source": [
    "from datetime import datetime"
   ]
  },
  {
   "cell_type": "code",
   "execution_count": 42,
   "id": "49f75d76-cd31-4c92-a977-1601a65c74c4",
   "metadata": {
    "tags": []
   },
   "outputs": [],
   "source": [
    "vehicle_dim[\"vehicle_age\"] = datetime.now().year - vehicle_dim.vehicle_year"
   ]
  },
  {
   "cell_type": "code",
   "execution_count": 43,
   "id": "c95a2898-c8c2-49c2-92d4-05793b845f3a",
   "metadata": {
    "tags": []
   },
   "outputs": [
    {
     "data": {
      "text/html": [
       "<div>\n",
       "<style scoped>\n",
       "    .dataframe tbody tr th:only-of-type {\n",
       "        vertical-align: middle;\n",
       "    }\n",
       "\n",
       "    .dataframe tbody tr th {\n",
       "        vertical-align: top;\n",
       "    }\n",
       "\n",
       "    .dataframe thead th {\n",
       "        text-align: right;\n",
       "    }\n",
       "</style>\n",
       "<table border=\"1\" class=\"dataframe\">\n",
       "  <thead>\n",
       "    <tr style=\"text-align: right;\">\n",
       "      <th></th>\n",
       "      <th>vehicle_year</th>\n",
       "      <th>vehicle_age</th>\n",
       "      <th>vehicle_number_cylinders</th>\n",
       "      <th>vehicle_mileage</th>\n",
       "      <th>vehicle_make</th>\n",
       "      <th>vehicle_model</th>\n",
       "      <th>vehicle_engine</th>\n",
       "      <th>vehicle_fuel_type</th>\n",
       "      <th>vehicle_transmission</th>\n",
       "    </tr>\n",
       "  </thead>\n",
       "  <tbody>\n",
       "    <tr>\n",
       "      <th>0</th>\n",
       "      <td>2013.0</td>\n",
       "      <td>10.0</td>\n",
       "      <td>6 cylinders</td>\n",
       "      <td>128000.0</td>\n",
       "      <td>ford</td>\n",
       "      <td>f150</td>\n",
       "      <td>NaN</td>\n",
       "      <td>gas</td>\n",
       "      <td>automatic</td>\n",
       "    </tr>\n",
       "    <tr>\n",
       "      <th>1</th>\n",
       "      <td>2012.0</td>\n",
       "      <td>11.0</td>\n",
       "      <td>8 cylinders</td>\n",
       "      <td>68696.0</td>\n",
       "      <td>gmc</td>\n",
       "      <td>sierra 2500</td>\n",
       "      <td>NaN</td>\n",
       "      <td>gas</td>\n",
       "      <td>other</td>\n",
       "    </tr>\n",
       "    <tr>\n",
       "      <th>2</th>\n",
       "      <td>2016.0</td>\n",
       "      <td>7.0</td>\n",
       "      <td>6 cylinders</td>\n",
       "      <td>29499.0</td>\n",
       "      <td>chevrolet</td>\n",
       "      <td>c1500</td>\n",
       "      <td>NaN</td>\n",
       "      <td>gas</td>\n",
       "      <td>other</td>\n",
       "    </tr>\n",
       "    <tr>\n",
       "      <th>3</th>\n",
       "      <td>2019.0</td>\n",
       "      <td>4.0</td>\n",
       "      <td>6 cylinders</td>\n",
       "      <td>43000.0</td>\n",
       "      <td>toyota</td>\n",
       "      <td>tacoma</td>\n",
       "      <td>NaN</td>\n",
       "      <td>gas</td>\n",
       "      <td>automatic</td>\n",
       "    </tr>\n",
       "    <tr>\n",
       "      <th>4</th>\n",
       "      <td>2016.0</td>\n",
       "      <td>7.0</td>\n",
       "      <td>6 cylinders</td>\n",
       "      <td>17302.0</td>\n",
       "      <td>chevrolet</td>\n",
       "      <td>colorado</td>\n",
       "      <td>NaN</td>\n",
       "      <td>gas</td>\n",
       "      <td>other</td>\n",
       "    </tr>\n",
       "  </tbody>\n",
       "</table>\n",
       "</div>"
      ],
      "text/plain": [
       "   vehicle_year  vehicle_age vehicle_number_cylinders  vehicle_mileage  \\\n",
       "0        2013.0         10.0              6 cylinders         128000.0   \n",
       "1        2012.0         11.0              8 cylinders          68696.0   \n",
       "2        2016.0          7.0              6 cylinders          29499.0   \n",
       "3        2019.0          4.0              6 cylinders          43000.0   \n",
       "4        2016.0          7.0              6 cylinders          17302.0   \n",
       "\n",
       "  vehicle_make vehicle_model vehicle_engine vehicle_fuel_type  \\\n",
       "0         ford          f150            NaN               gas   \n",
       "1          gmc   sierra 2500            NaN               gas   \n",
       "2    chevrolet         c1500            NaN               gas   \n",
       "3       toyota        tacoma            NaN               gas   \n",
       "4    chevrolet      colorado            NaN               gas   \n",
       "\n",
       "  vehicle_transmission  \n",
       "0            automatic  \n",
       "1                other  \n",
       "2                other  \n",
       "3            automatic  \n",
       "4                other  "
      ]
     },
     "execution_count": 43,
     "metadata": {},
     "output_type": "execute_result"
    }
   ],
   "source": [
    "vehicle_dim.head()"
   ]
  },
  {
   "cell_type": "code",
   "execution_count": 44,
   "id": "b3e60b02-a15e-48fa-8e7f-38179c0ad4a9",
   "metadata": {
    "tags": []
   },
   "outputs": [],
   "source": [
    "vehicle_dim.vehicle_fuel_type = vehicle_dim.vehicle_fuel_type.map(fuel_map)"
   ]
  },
  {
   "cell_type": "code",
   "execution_count": 45,
   "id": "ff74bf81-9490-41f6-a6e2-aaba8373b10a",
   "metadata": {
    "tags": []
   },
   "outputs": [
    {
     "data": {
      "text/plain": [
       "25739.0"
      ]
     },
     "execution_count": 45,
     "metadata": {},
     "output_type": "execute_result"
    }
   ],
   "source": [
    "vehicle_dim.vehicle_mileage.quantile(0.20)"
   ]
  },
  {
   "cell_type": "code",
   "execution_count": 46,
   "id": "8f80d286-65b3-45f1-b48a-f6745e1cb877",
   "metadata": {
    "tags": []
   },
   "outputs": [
    {
     "data": {
      "text/plain": [
       "1319891701.0"
      ]
     },
     "execution_count": 46,
     "metadata": {},
     "output_type": "execute_result"
    }
   ],
   "source": [
    "vehicle_dim.vehicle_mileage.quantile(1)"
   ]
  },
  {
   "cell_type": "code",
   "execution_count": 47,
   "id": "49f5e91f-6784-425b-a793-135bb67bc00a",
   "metadata": {
    "tags": []
   },
   "outputs": [],
   "source": [
    "def mileage_to_miles_band(mile):\n",
    "    if mile!=mile:\n",
    "        return np.nan\n",
    "    if mile < 26000:\n",
    "        return \"[0, 26000)\"\n",
    "    if mile < 60500:\n",
    "        return \"[26000, 60500)\"\n",
    "    if mile < 98500:\n",
    "        return \"[60500, 98500)\"\n",
    "    if mile < 143400:\n",
    "        return \"[98500, 143400)\"\n",
    "    if mile < 209000:\n",
    "        return \"[143400, 209000)\"\n",
    "    return \"[209000, ?)\"\n",
    "    "
   ]
  },
  {
   "cell_type": "code",
   "execution_count": 48,
   "id": "3ab10c2d-343c-4bda-8cc2-b281c5752059",
   "metadata": {
    "tags": []
   },
   "outputs": [],
   "source": [
    "vehicle_dim[\"vehicle_mileage\"] = vehicle_dim.vehicle_mileage.apply(mileage_to_miles_band)"
   ]
  },
  {
   "cell_type": "code",
   "execution_count": 49,
   "id": "77b7e5f7-7080-4773-a489-543f630fd7f0",
   "metadata": {
    "tags": []
   },
   "outputs": [],
   "source": [
    "vehicle_dim = vehicle_dim.drop_duplicates()"
   ]
  },
  {
   "cell_type": "code",
   "execution_count": 50,
   "id": "c045e41d-659b-4960-94f3-061945f06d45",
   "metadata": {
    "tags": []
   },
   "outputs": [
    {
     "data": {
      "text/plain": [
       "(107890, 9)"
      ]
     },
     "execution_count": 50,
     "metadata": {},
     "output_type": "execute_result"
    }
   ],
   "source": [
    "vehicle_dim.shape"
   ]
  },
  {
   "cell_type": "code",
   "execution_count": 51,
   "id": "c63669fc-119c-468c-9619-bc5a3574a314",
   "metadata": {
    "tags": []
   },
   "outputs": [],
   "source": [
    "vehicle_dim.fillna(\"Unknown\", inplace=True)"
   ]
  },
  {
   "cell_type": "code",
   "execution_count": 54,
   "id": "2dd16a0b-c61f-4598-a18b-0031b7a820ad",
   "metadata": {
    "tags": []
   },
   "outputs": [
    {
     "data": {
      "text/html": [
       "<div>\n",
       "<style scoped>\n",
       "    .dataframe tbody tr th:only-of-type {\n",
       "        vertical-align: middle;\n",
       "    }\n",
       "\n",
       "    .dataframe tbody tr th {\n",
       "        vertical-align: top;\n",
       "    }\n",
       "\n",
       "    .dataframe thead th {\n",
       "        text-align: right;\n",
       "    }\n",
       "</style>\n",
       "<table border=\"1\" class=\"dataframe\">\n",
       "  <thead>\n",
       "    <tr style=\"text-align: right;\">\n",
       "      <th></th>\n",
       "      <th>vehicle_year</th>\n",
       "      <th>vehicle_age</th>\n",
       "      <th>vehicle_number_cylinders</th>\n",
       "      <th>vehicle_mileage</th>\n",
       "      <th>vehicle_make</th>\n",
       "      <th>vehicle_model</th>\n",
       "      <th>vehicle_engine</th>\n",
       "      <th>vehicle_fuel_type</th>\n",
       "      <th>vehicle_transmission</th>\n",
       "    </tr>\n",
       "  </thead>\n",
       "  <tbody>\n",
       "    <tr>\n",
       "      <th>360479</th>\n",
       "      <td>2013.0</td>\n",
       "      <td>10.0</td>\n",
       "      <td>Unknown</td>\n",
       "      <td>Unknown</td>\n",
       "      <td>acura</td>\n",
       "      <td>ilx</td>\n",
       "      <td>Unknown</td>\n",
       "      <td>Unknown</td>\n",
       "      <td>Unknown</td>\n",
       "    </tr>\n",
       "    <tr>\n",
       "      <th>360480</th>\n",
       "      <td>2014.0</td>\n",
       "      <td>9.0</td>\n",
       "      <td>Unknown</td>\n",
       "      <td>Unknown</td>\n",
       "      <td>acura</td>\n",
       "      <td>ilx</td>\n",
       "      <td>Unknown</td>\n",
       "      <td>Unknown</td>\n",
       "      <td>Unknown</td>\n",
       "    </tr>\n",
       "    <tr>\n",
       "      <th>360481</th>\n",
       "      <td>2015.0</td>\n",
       "      <td>8.0</td>\n",
       "      <td>Unknown</td>\n",
       "      <td>Unknown</td>\n",
       "      <td>acura</td>\n",
       "      <td>ilx</td>\n",
       "      <td>Unknown</td>\n",
       "      <td>Unknown</td>\n",
       "      <td>Unknown</td>\n",
       "    </tr>\n",
       "    <tr>\n",
       "      <th>360482</th>\n",
       "      <td>2016.0</td>\n",
       "      <td>7.0</td>\n",
       "      <td>Unknown</td>\n",
       "      <td>Unknown</td>\n",
       "      <td>acura</td>\n",
       "      <td>ilx</td>\n",
       "      <td>Unknown</td>\n",
       "      <td>Unknown</td>\n",
       "      <td>Unknown</td>\n",
       "    </tr>\n",
       "    <tr>\n",
       "      <th>360483</th>\n",
       "      <td>2017.0</td>\n",
       "      <td>6.0</td>\n",
       "      <td>Unknown</td>\n",
       "      <td>Unknown</td>\n",
       "      <td>acura</td>\n",
       "      <td>ilx</td>\n",
       "      <td>Unknown</td>\n",
       "      <td>Unknown</td>\n",
       "      <td>Unknown</td>\n",
       "    </tr>\n",
       "    <tr>\n",
       "      <th>...</th>\n",
       "      <td>...</td>\n",
       "      <td>...</td>\n",
       "      <td>...</td>\n",
       "      <td>...</td>\n",
       "      <td>...</td>\n",
       "      <td>...</td>\n",
       "      <td>...</td>\n",
       "      <td>...</td>\n",
       "      <td>...</td>\n",
       "    </tr>\n",
       "    <tr>\n",
       "      <th>364793</th>\n",
       "      <td>2010.0</td>\n",
       "      <td>13.0</td>\n",
       "      <td>Unknown</td>\n",
       "      <td>Unknown</td>\n",
       "      <td>volvo</td>\n",
       "      <td>v70</td>\n",
       "      <td>Unknown</td>\n",
       "      <td>Unknown</td>\n",
       "      <td>Unknown</td>\n",
       "    </tr>\n",
       "    <tr>\n",
       "      <th>364794</th>\n",
       "      <td>2005.0</td>\n",
       "      <td>18.0</td>\n",
       "      <td>Unknown</td>\n",
       "      <td>Unknown</td>\n",
       "      <td>volvo</td>\n",
       "      <td>c70</td>\n",
       "      <td>Unknown</td>\n",
       "      <td>Unknown</td>\n",
       "      <td>Unknown</td>\n",
       "    </tr>\n",
       "    <tr>\n",
       "      <th>364795</th>\n",
       "      <td>2014.0</td>\n",
       "      <td>9.0</td>\n",
       "      <td>Unknown</td>\n",
       "      <td>Unknown</td>\n",
       "      <td>volvo</td>\n",
       "      <td>c70</td>\n",
       "      <td>Unknown</td>\n",
       "      <td>Unknown</td>\n",
       "      <td>Unknown</td>\n",
       "    </tr>\n",
       "    <tr>\n",
       "      <th>364796</th>\n",
       "      <td>2015.0</td>\n",
       "      <td>8.0</td>\n",
       "      <td>Unknown</td>\n",
       "      <td>Unknown</td>\n",
       "      <td>volvo</td>\n",
       "      <td>c70</td>\n",
       "      <td>Unknown</td>\n",
       "      <td>Unknown</td>\n",
       "      <td>Unknown</td>\n",
       "    </tr>\n",
       "    <tr>\n",
       "      <th>364797</th>\n",
       "      <td>2016.0</td>\n",
       "      <td>7.0</td>\n",
       "      <td>Unknown</td>\n",
       "      <td>Unknown</td>\n",
       "      <td>volvo</td>\n",
       "      <td>c70</td>\n",
       "      <td>Unknown</td>\n",
       "      <td>Unknown</td>\n",
       "      <td>Unknown</td>\n",
       "    </tr>\n",
       "  </tbody>\n",
       "</table>\n",
       "<p>4319 rows × 9 columns</p>\n",
       "</div>"
      ],
      "text/plain": [
       "        vehicle_year  vehicle_age vehicle_number_cylinders vehicle_mileage  \\\n",
       "360479        2013.0         10.0                  Unknown         Unknown   \n",
       "360480        2014.0          9.0                  Unknown         Unknown   \n",
       "360481        2015.0          8.0                  Unknown         Unknown   \n",
       "360482        2016.0          7.0                  Unknown         Unknown   \n",
       "360483        2017.0          6.0                  Unknown         Unknown   \n",
       "...              ...          ...                      ...             ...   \n",
       "364793        2010.0         13.0                  Unknown         Unknown   \n",
       "364794        2005.0         18.0                  Unknown         Unknown   \n",
       "364795        2014.0          9.0                  Unknown         Unknown   \n",
       "364796        2015.0          8.0                  Unknown         Unknown   \n",
       "364797        2016.0          7.0                  Unknown         Unknown   \n",
       "\n",
       "       vehicle_make vehicle_model vehicle_engine vehicle_fuel_type  \\\n",
       "360479        acura           ilx        Unknown           Unknown   \n",
       "360480        acura           ilx        Unknown           Unknown   \n",
       "360481        acura           ilx        Unknown           Unknown   \n",
       "360482        acura           ilx        Unknown           Unknown   \n",
       "360483        acura           ilx        Unknown           Unknown   \n",
       "...             ...           ...            ...               ...   \n",
       "364793        volvo           v70        Unknown           Unknown   \n",
       "364794        volvo           c70        Unknown           Unknown   \n",
       "364795        volvo           c70        Unknown           Unknown   \n",
       "364796        volvo           c70        Unknown           Unknown   \n",
       "364797        volvo           c70        Unknown           Unknown   \n",
       "\n",
       "       vehicle_transmission  \n",
       "360479              Unknown  \n",
       "360480              Unknown  \n",
       "360481              Unknown  \n",
       "360482              Unknown  \n",
       "360483              Unknown  \n",
       "...                     ...  \n",
       "364793              Unknown  \n",
       "364794              Unknown  \n",
       "364795              Unknown  \n",
       "364796              Unknown  \n",
       "364797              Unknown  \n",
       "\n",
       "[4319 rows x 9 columns]"
      ]
     },
     "execution_count": 54,
     "metadata": {},
     "output_type": "execute_result"
    }
   ],
   "source": [
    "vehicle_dim[vehicle_dim.vehicle_mileage==\"Unknown\"]"
   ]
  },
  {
   "cell_type": "code",
   "execution_count": 52,
   "id": "75a87984-2f74-4b4b-bd36-6b9bf625cc9e",
   "metadata": {
    "tags": []
   },
   "outputs": [],
   "source": [
    "vehicle_dim.to_csv(\"data/vehicleDim.csv\", index_label=\"vehicle_key\")"
   ]
  },
  {
   "cell_type": "code",
   "execution_count": null,
   "id": "0967bd08-8617-4b60-9b11-4ee2384204ab",
   "metadata": {},
   "outputs": [],
   "source": []
  }
 ],
 "metadata": {
  "kernelspec": {
   "display_name": "Python 3 (ipykernel)",
   "language": "python",
   "name": "python3"
  },
  "language_info": {
   "codemirror_mode": {
    "name": "ipython",
    "version": 3
   },
   "file_extension": ".py",
   "mimetype": "text/x-python",
   "name": "python",
   "nbconvert_exporter": "python",
   "pygments_lexer": "ipython3",
   "version": "3.9.7"
  }
 },
 "nbformat": 4,
 "nbformat_minor": 5
}
